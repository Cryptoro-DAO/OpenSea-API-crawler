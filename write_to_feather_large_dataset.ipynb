{
 "cells": [
  {
   "cell_type": "markdown",
   "id": "4ad62163-2061-4067-af7e-f043a40a25ee",
   "metadata": {},
   "source": [
    "# Split and Read 2.5 GB of XLSX and write to feather file format for faster subsequent read"
   ]
  },
  {
   "cell_type": "markdown",
   "id": "34704823-789d-48d8-a08a-7ce0f104423a",
   "metadata": {
    "tags": []
   },
   "source": [
    "__Motivation:__ Reading 2.5 GB of dataset as separate large Excel files into\n",
    "pandas dataframe in one-go failed after 90 minutes on my Latitude XPS 15 with\n",
    "32GB of RAM.\n",
    "There was not enough memory to buffer and hold the data in memory.\n",
    "The old approach failed before the data could be converted into feather format."
   ]
  },
  {
   "cell_type": "markdown",
   "id": "7c714f21-e7fb-4bd7-9321-9a63cd64c60e",
   "metadata": {},
   "source": [
    "## Read Excel files into pandas.DataFrame "
   ]
  },
  {
   "cell_type": "code",
   "execution_count": 2,
   "id": "7c90efe8-50f2-494d-8381-16e19cfd4470",
   "metadata": {},
   "outputs": [],
   "source": [
    "# Helper functions\n",
    "\n",
    "import os\n",
    "import re\n",
    "import pandas as pd\n",
    "\n",
    "\n",
    "def read_combine(io):\n",
    "    \"\"\"\n",
    "    Read a list of Excel files and combine them into a panadas DataFrame\n",
    "    \n",
    "    Parameters\n",
    "    ----------\n",
    "        io (list): list of fully qualified filenames\n",
    "        \n",
    "    Returns\n",
    "    -------\n",
    "    DataFrame with filenames appended at the last column.\n",
    "    \"\"\"\n",
    "    list_df = []\n",
    "    for each in io:\n",
    "        # print(\"...reading\", os.path.basename(each)) \n",
    "        df = pd.read_excel(each)\n",
    "        df[\"filename\"] = os.path.basename(each)\n",
    "        list_df.append(df)\n",
    "    \n",
    "    return pd.concat(list_df)\n",
    "\n",
    "\n",
    "def get_abspath(path, pattern):\n",
    "    \"\"\"\n",
    "    Search directory non-recursively for filename by name patterns\n",
    "    \n",
    "    Parameters\n",
    "    ----------\n",
    "    path : \n",
    "    pattern : \n",
    "\n",
    "    Returns\n",
    "    -------\n",
    "    a list of absolute path, use os.path.basename to get the filename\n",
    "    \"\"\"\n",
    "    return [os.path.join(path, x) for x in os.listdir(path) if re.search(pattern, x)]\n",
    "\n",
    "\n",
    "def print_filesize(abspath):\n",
    "    df=pd.DataFrame({'filename': [os.path.basename(x) for x in abspath],\n",
    "                     'size': [os.stat(x).st_size for x in abspath]}) \\\n",
    "        .set_index('filename')\n",
    "    print(df)\n",
    "    return df\n",
    "\n",
    "data_dir = os.path.join(os.getcwd(), 'data', 'wallets successful event')"
   ]
  },
  {
   "cell_type": "code",
   "execution_count": 32,
   "id": "a3871e79",
   "metadata": {},
   "outputs": [
    {
     "name": "stdout",
     "output_type": "stream",
     "text": [
      "                                                         size\n",
      "filename                                                     \n",
      "alien-frens-evolution_success1.xlsx                  64074307\n",
      "boredapekennelclub_success1.xlsx                    139048703\n",
      "boredapeyachtclub_success1.xlsx                      61715648\n",
      "clonex_success1.xlsx                                 44406751\n",
      "coolcatsnft_A1.xlsx                                 241609963\n",
      "coolcatsnft_A2.xlsx                                 240563942\n",
      "coolcatsnft_A3.xlsx                                 101283300\n",
      "coolcatsnft_AA1.xlsx                                124645577\n",
      "coolcatsnft_AA11.xlsx                               125791182\n",
      "coolcatsnft_AA2.xlsx                                123305452\n",
      "coolcatsnft_AA22.xlsx                               126019118\n",
      "coolcatsnft_補跑B.xlsx                                   868343\n",
      "coolcatsnft_補跑E.xlsx                                  2109287\n",
      "cryptoadz-by-gremplin_success1.xlsx                  89797994\n",
      "cryptoskulls_success1.xlsx                           59505067\n",
      "cyberkongz-vx_success1.xlsx                          29765080\n",
      "doodlesofficial_success1.xlsx                       170593770\n",
      "hapeprime_success1.xlsx                              84388677\n",
      "kaiju-kingz_success1.xlsx                            74332125\n",
      "karafuru_success1.xlsx                               48403980\n",
      "lazy-lions_success1.xlsx                             85701016\n",
      "mekaverse_success1.xlsx                              78116633\n",
      "mfers_success1.xlsx                                 102475615\n",
      "mutant-ape-yacht-club_success1.xlsx                 138368812\n",
      "phantabear_success1.xlsx                            106364229\n",
      "proof-moonbirds_success1.xlsx                        88007171\n",
      "rektguy_rarelandnft_pieceofshit_ivedoneit_succe...   71075277\n",
      "world-of-women-nft_success1.xlsx                     85847131\n"
     ]
    },
    {
     "data": {
      "text/html": [
       "<div>\n",
       "<style scoped>\n",
       "    .dataframe tbody tr th:only-of-type {\n",
       "        vertical-align: middle;\n",
       "    }\n",
       "\n",
       "    .dataframe tbody tr th {\n",
       "        vertical-align: top;\n",
       "    }\n",
       "\n",
       "    .dataframe thead th {\n",
       "        text-align: right;\n",
       "    }\n",
       "</style>\n",
       "<table border=\"1\" class=\"dataframe\">\n",
       "  <thead>\n",
       "    <tr style=\"text-align: right;\">\n",
       "      <th></th>\n",
       "      <th>size</th>\n",
       "    </tr>\n",
       "    <tr>\n",
       "      <th>filename</th>\n",
       "      <th></th>\n",
       "    </tr>\n",
       "  </thead>\n",
       "  <tbody>\n",
       "    <tr>\n",
       "      <th>alien-frens-evolution_success1.xlsx</th>\n",
       "      <td>64074307</td>\n",
       "    </tr>\n",
       "    <tr>\n",
       "      <th>boredapekennelclub_success1.xlsx</th>\n",
       "      <td>139048703</td>\n",
       "    </tr>\n",
       "    <tr>\n",
       "      <th>boredapeyachtclub_success1.xlsx</th>\n",
       "      <td>61715648</td>\n",
       "    </tr>\n",
       "    <tr>\n",
       "      <th>clonex_success1.xlsx</th>\n",
       "      <td>44406751</td>\n",
       "    </tr>\n",
       "    <tr>\n",
       "      <th>coolcatsnft_A1.xlsx</th>\n",
       "      <td>241609963</td>\n",
       "    </tr>\n",
       "    <tr>\n",
       "      <th>coolcatsnft_A2.xlsx</th>\n",
       "      <td>240563942</td>\n",
       "    </tr>\n",
       "    <tr>\n",
       "      <th>coolcatsnft_A3.xlsx</th>\n",
       "      <td>101283300</td>\n",
       "    </tr>\n",
       "    <tr>\n",
       "      <th>coolcatsnft_AA1.xlsx</th>\n",
       "      <td>124645577</td>\n",
       "    </tr>\n",
       "    <tr>\n",
       "      <th>coolcatsnft_AA11.xlsx</th>\n",
       "      <td>125791182</td>\n",
       "    </tr>\n",
       "    <tr>\n",
       "      <th>coolcatsnft_AA2.xlsx</th>\n",
       "      <td>123305452</td>\n",
       "    </tr>\n",
       "    <tr>\n",
       "      <th>coolcatsnft_AA22.xlsx</th>\n",
       "      <td>126019118</td>\n",
       "    </tr>\n",
       "    <tr>\n",
       "      <th>coolcatsnft_補跑B.xlsx</th>\n",
       "      <td>868343</td>\n",
       "    </tr>\n",
       "    <tr>\n",
       "      <th>coolcatsnft_補跑E.xlsx</th>\n",
       "      <td>2109287</td>\n",
       "    </tr>\n",
       "    <tr>\n",
       "      <th>cryptoadz-by-gremplin_success1.xlsx</th>\n",
       "      <td>89797994</td>\n",
       "    </tr>\n",
       "    <tr>\n",
       "      <th>cryptoskulls_success1.xlsx</th>\n",
       "      <td>59505067</td>\n",
       "    </tr>\n",
       "    <tr>\n",
       "      <th>cyberkongz-vx_success1.xlsx</th>\n",
       "      <td>29765080</td>\n",
       "    </tr>\n",
       "    <tr>\n",
       "      <th>doodlesofficial_success1.xlsx</th>\n",
       "      <td>170593770</td>\n",
       "    </tr>\n",
       "    <tr>\n",
       "      <th>hapeprime_success1.xlsx</th>\n",
       "      <td>84388677</td>\n",
       "    </tr>\n",
       "    <tr>\n",
       "      <th>kaiju-kingz_success1.xlsx</th>\n",
       "      <td>74332125</td>\n",
       "    </tr>\n",
       "    <tr>\n",
       "      <th>karafuru_success1.xlsx</th>\n",
       "      <td>48403980</td>\n",
       "    </tr>\n",
       "    <tr>\n",
       "      <th>lazy-lions_success1.xlsx</th>\n",
       "      <td>85701016</td>\n",
       "    </tr>\n",
       "    <tr>\n",
       "      <th>mekaverse_success1.xlsx</th>\n",
       "      <td>78116633</td>\n",
       "    </tr>\n",
       "    <tr>\n",
       "      <th>mfers_success1.xlsx</th>\n",
       "      <td>102475615</td>\n",
       "    </tr>\n",
       "    <tr>\n",
       "      <th>mutant-ape-yacht-club_success1.xlsx</th>\n",
       "      <td>138368812</td>\n",
       "    </tr>\n",
       "    <tr>\n",
       "      <th>phantabear_success1.xlsx</th>\n",
       "      <td>106364229</td>\n",
       "    </tr>\n",
       "    <tr>\n",
       "      <th>proof-moonbirds_success1.xlsx</th>\n",
       "      <td>88007171</td>\n",
       "    </tr>\n",
       "    <tr>\n",
       "      <th>rektguy_rarelandnft_pieceofshit_ivedoneit_success1.xlsx</th>\n",
       "      <td>71075277</td>\n",
       "    </tr>\n",
       "    <tr>\n",
       "      <th>world-of-women-nft_success1.xlsx</th>\n",
       "      <td>85847131</td>\n",
       "    </tr>\n",
       "  </tbody>\n",
       "</table>\n",
       "</div>"
      ],
      "text/plain": [
       "                                                         size\n",
       "filename                                                     \n",
       "alien-frens-evolution_success1.xlsx                  64074307\n",
       "boredapekennelclub_success1.xlsx                    139048703\n",
       "boredapeyachtclub_success1.xlsx                      61715648\n",
       "clonex_success1.xlsx                                 44406751\n",
       "coolcatsnft_A1.xlsx                                 241609963\n",
       "coolcatsnft_A2.xlsx                                 240563942\n",
       "coolcatsnft_A3.xlsx                                 101283300\n",
       "coolcatsnft_AA1.xlsx                                124645577\n",
       "coolcatsnft_AA11.xlsx                               125791182\n",
       "coolcatsnft_AA2.xlsx                                123305452\n",
       "coolcatsnft_AA22.xlsx                               126019118\n",
       "coolcatsnft_補跑B.xlsx                                   868343\n",
       "coolcatsnft_補跑E.xlsx                                  2109287\n",
       "cryptoadz-by-gremplin_success1.xlsx                  89797994\n",
       "cryptoskulls_success1.xlsx                           59505067\n",
       "cyberkongz-vx_success1.xlsx                          29765080\n",
       "doodlesofficial_success1.xlsx                       170593770\n",
       "hapeprime_success1.xlsx                              84388677\n",
       "kaiju-kingz_success1.xlsx                            74332125\n",
       "karafuru_success1.xlsx                               48403980\n",
       "lazy-lions_success1.xlsx                             85701016\n",
       "mekaverse_success1.xlsx                              78116633\n",
       "mfers_success1.xlsx                                 102475615\n",
       "mutant-ape-yacht-club_success1.xlsx                 138368812\n",
       "phantabear_success1.xlsx                            106364229\n",
       "proof-moonbirds_success1.xlsx                        88007171\n",
       "rektguy_rarelandnft_pieceofshit_ivedoneit_succe...   71075277\n",
       "world-of-women-nft_success1.xlsx                     85847131"
      ]
     },
     "execution_count": 32,
     "metadata": {},
     "output_type": "execute_result"
    }
   ],
   "source": [
    "wallets_fn = get_abspath(data_dir, '\\.xlsx$')\n",
    "print_filesize(wallets_fn)"
   ]
  },
  {
   "cell_type": "markdown",
   "id": "c5130de1",
   "metadata": {},
   "source": [
    "Arbitrarily split the list of files"
   ]
  },
  {
   "cell_type": "code",
   "execution_count": 34,
   "id": "6766354b",
   "metadata": {},
   "outputs": [],
   "source": [
    "split_list = [wallets_fn[0:4], wallets_fn[4:7], wallets_fn[7:13], wallets_fn[13:17], wallets_fn[17:24], wallets_fn[24:28]]"
   ]
  },
  {
   "cell_type": "markdown",
   "id": "2ee0a502",
   "metadata": {},
   "source": [
    "### Split 0"
   ]
  },
  {
   "cell_type": "code",
   "execution_count": 18,
   "id": "480b52e8",
   "metadata": {},
   "outputs": [],
   "source": [
    "df0 = read_combine(split_list[0])"
   ]
  },
  {
   "cell_type": "code",
   "execution_count": 26,
   "id": "9c52ec47",
   "metadata": {},
   "outputs": [
    {
     "name": "stdout",
     "output_type": "stream",
     "text": [
      "<class 'pandas.core.frame.DataFrame'>\n",
      "Int64Index: 1341738 entries, 0 to 187317\n",
      "Data columns (total 33 columns):\n",
      " #   Column                  Non-Null Count    Dtype  \n",
      "---  ------                  --------------    -----  \n",
      " 0   Unnamed: 0              1341738 non-null  int64  \n",
      " 1   event_timestamp         1340709 non-null  object \n",
      " 2   event_type              1340709 non-null  object \n",
      " 3   token_id                1328134 non-null  object \n",
      " 4   num_sales               1328134 non-null  float64\n",
      " 5   listing_time            1190041 non-null  object \n",
      " 6   token_owner_address     1328134 non-null  object \n",
      " 7   token_seller_address    1334049 non-null  object \n",
      " 8   from_account_address    780 non-null      object \n",
      " 9   deal_price              1340701 non-null  float64\n",
      " 10  payment_token_symbol    1339859 non-null  object \n",
      " 11  payment_token_decimals  1339873 non-null  float64\n",
      " 12  payment_token_usdprice  1339571 non-null  float64\n",
      " 13  quantity                1327657 non-null  object \n",
      " 14  starting_price          0 non-null        float64\n",
      " 15  ending_price            0 non-null        float64\n",
      " 16  approved_account        0 non-null        float64\n",
      " 17  asset_bundle            12593 non-null    object \n",
      " 18  auction_type            77378 non-null    object \n",
      " 19  bid_amount              0 non-null        float64\n",
      " 20  transaction_hash        1340709 non-null  object \n",
      " 21  block_hash              1340640 non-null  object \n",
      " 22  block_number            1340634 non-null  float64\n",
      " 23  is_private              1190041 non-null  float64\n",
      " 24  duration                0 non-null        float64\n",
      " 25  created_date            1340709 non-null  object \n",
      " 26  collection_slug         1340182 non-null  object \n",
      " 27  contract_address        1340601 non-null  object \n",
      " 28  wallet_address_input    1341738 non-null  object \n",
      " 29  pages                   1341738 non-null  int64  \n",
      " 30  msg                     1341738 non-null  object \n",
      " 31  next_param              1254498 non-null  object \n",
      " 32  filename                1341738 non-null  object \n",
      "dtypes: float64(11), int64(2), object(20)\n",
      "memory usage: 348.0+ MB\n"
     ]
    }
   ],
   "source": [
    "df0.info()"
   ]
  },
  {
   "cell_type": "code",
   "execution_count": 25,
   "id": "5753d525",
   "metadata": {},
   "outputs": [],
   "source": [
    "# helper function\n",
    "def change_dtype(df):\n",
    "    df.event_timestamp = pd.to_datetime(df.event_timestamp)\n",
    "    df.listing_time = pd.to_datetime(df.listing_time)\n",
    "    df.quantity = pd.to_numeric(df.quantity, errors='coerce')"
   ]
  },
  {
   "cell_type": "code",
   "execution_count": 35,
   "id": "27ef4eab",
   "metadata": {},
   "outputs": [],
   "source": [
    "df0 = df0[df0.msg == \"success\"]\n",
    "df0.drop([\"Unnamed: 0\", \"pages\", \"msg\", \"next_param\"], axis=1, inplace=True)\n",
    "change_dtype(df0)"
   ]
  },
  {
   "cell_type": "code",
   "execution_count": 41,
   "id": "5c231211",
   "metadata": {},
   "outputs": [
    {
     "name": "stdout",
     "output_type": "stream",
     "text": [
      "4.59 s ± 0 ns per loop (mean ± std. dev. of 1 run, 1 loop each)\n"
     ]
    }
   ],
   "source": [
    "%%timeit -r 1 -n 1\n",
    "df0.reset_index(inplace=True)\n",
    "df0.to_feather(os.path.join(data_dir, 'wallets_successful_events_0.feather'))"
   ]
  },
  {
   "cell_type": "code",
   "execution_count": 43,
   "id": "86f3b584",
   "metadata": {},
   "outputs": [
    {
     "name": "stdout",
     "output_type": "stream",
     "text": [
      "7.77 s ± 3.64 s per loop (mean ± std. dev. of 5 runs, 1 loop each)\n"
     ]
    }
   ],
   "source": [
    "%%timeit -r 5 -n 1\n",
    "df0 = pd.read_feather(os.path.join(data_dir, 'wallets_successful_events_0.feather'))"
   ]
  },
  {
   "cell_type": "markdown",
   "id": "ff082735",
   "metadata": {},
   "source": [
    "### Split 1"
   ]
  },
  {
   "cell_type": "code",
   "execution_count": 46,
   "id": "480b52e8",
   "metadata": {},
   "outputs": [],
   "source": [
    "df1 = read_combine(split_list[1])"
   ]
  },
  {
   "cell_type": "code",
   "execution_count": 54,
   "id": "9c52ec47",
   "metadata": {},
   "outputs": [
    {
     "name": "stdout",
     "output_type": "stream",
     "text": [
      "<class 'pandas.core.frame.DataFrame'>\n",
      "Int64Index: 2399422 entries, 0 to 399421\n",
      "Data columns (total 32 columns):\n",
      " #   Column                  Non-Null Count    Dtype  \n",
      "---  ------                  --------------    -----  \n",
      " 0   Unnamed: 0              2399422 non-null  int64  \n",
      " 1   event_timestamp         2398450 non-null  object \n",
      " 2   event_type              2398450 non-null  object \n",
      " 3   token_id                2382796 non-null  object \n",
      " 4   num_sales               2382796 non-null  float64\n",
      " 5   listing_time            2268796 non-null  object \n",
      " 6   token_owner_address     2382796 non-null  object \n",
      " 7   token_seller_address    2395806 non-null  object \n",
      " 8   deal_price              2398450 non-null  float64\n",
      " 9   payment_token_symbol    2398411 non-null  object \n",
      " 10  payment_token_decimals  2398445 non-null  float64\n",
      " 11  payment_token_usdprice  2397937 non-null  float64\n",
      " 12  quantity                2394188 non-null  object \n",
      " 13  starting_price          0 non-null        float64\n",
      " 14  ending_price            0 non-null        float64\n",
      " 15  approved_account        0 non-null        float64\n",
      " 16  asset_bundle            15675 non-null    object \n",
      " 17  auction_type            28121 non-null    object \n",
      " 18  bid_amount              0 non-null        float64\n",
      " 19  transaction_hash        2398450 non-null  object \n",
      " 20  block_hash              2398330 non-null  object \n",
      " 21  block_number            2398330 non-null  float64\n",
      " 22  is_private              2268796 non-null  float64\n",
      " 23  duration                0 non-null        float64\n",
      " 24  created_date            2398450 non-null  object \n",
      " 25  collection_slug         2397913 non-null  object \n",
      " 26  contract_address        2398425 non-null  object \n",
      " 27  wallet_address_input    2399422 non-null  object \n",
      " 28  pages                   2399422 non-null  int64  \n",
      " 29  msg                     2399422 non-null  object \n",
      " 30  FILTER                  0 non-null        float64\n",
      " 31  filename                2399422 non-null  object \n",
      "dtypes: float64(12), int64(2), object(18)\n",
      "memory usage: 604.1+ MB\n"
     ]
    }
   ],
   "source": [
    "df1.info(show_counts=True)"
   ]
  },
  {
   "cell_type": "code",
   "execution_count": 57,
   "id": "27ef4eab",
   "metadata": {},
   "outputs": [],
   "source": [
    "df1 = df1[df1.msg == \"success\"]\n",
    "df1.drop([\"Unnamed: 0\", \"pages\", \"msg\", \"FILTER\"], axis=1, inplace=True)\n",
    "change_dtype(df1)"
   ]
  },
  {
   "cell_type": "code",
   "execution_count": 58,
   "id": "2c1fd450",
   "metadata": {},
   "outputs": [
    {
     "name": "stdout",
     "output_type": "stream",
     "text": [
      "6.78 s ± 0 ns per loop (mean ± std. dev. of 1 run, 1 loop each)\n"
     ]
    }
   ],
   "source": [
    "%%timeit -r 1 -n 1\n",
    "df1.reset_index(inplace=True)\n",
    "df1.to_feather(os.path.join(data_dir, 'wallets_successful_events_1.feather'))"
   ]
  },
  {
   "cell_type": "code",
   "execution_count": 66,
   "id": "f078804f-6644-4d62-8ffe-928c3116cfc8",
   "metadata": {},
   "outputs": [],
   "source": [
    "df = pd.read_feather(os.path.join(data_dir, 'wallets_successful_events_1.feather'))"
   ]
  },
  {
   "cell_type": "code",
   "execution_count": 65,
   "id": "bec3b5c9",
   "metadata": {},
   "outputs": [
    {
     "data": {
      "text/plain": [
       "array(['coolcatsnft_A1.xlsx', 'coolcatsnft_A2.xlsx',\n",
       "       'coolcatsnft_A3.xlsx'], dtype=object)"
      ]
     },
     "execution_count": 65,
     "metadata": {},
     "output_type": "execute_result"
    }
   ],
   "source": [
    "df.filename.unique()"
   ]
  },
  {
   "cell_type": "code",
   "execution_count": 67,
   "id": "477f163e",
   "metadata": {},
   "outputs": [
    {
     "name": "stdout",
     "output_type": "stream",
     "text": [
      "<class 'pandas.core.frame.DataFrame'>\n",
      "RangeIndex: 2398450 entries, 0 to 2398449\n",
      "Data columns (total 29 columns):\n",
      " #   Column                  Dtype         \n",
      "---  ------                  -----         \n",
      " 0   index                   int64         \n",
      " 1   event_timestamp         datetime64[ns]\n",
      " 2   event_type              object        \n",
      " 3   token_id                object        \n",
      " 4   num_sales               float64       \n",
      " 5   listing_time            datetime64[ns]\n",
      " 6   token_owner_address     object        \n",
      " 7   token_seller_address    object        \n",
      " 8   deal_price              float64       \n",
      " 9   payment_token_symbol    object        \n",
      " 10  payment_token_decimals  float64       \n",
      " 11  payment_token_usdprice  float64       \n",
      " 12  quantity                float64       \n",
      " 13  starting_price          float64       \n",
      " 14  ending_price            float64       \n",
      " 15  approved_account        float64       \n",
      " 16  asset_bundle            object        \n",
      " 17  auction_type            object        \n",
      " 18  bid_amount              float64       \n",
      " 19  transaction_hash        object        \n",
      " 20  block_hash              object        \n",
      " 21  block_number            float64       \n",
      " 22  is_private              float64       \n",
      " 23  duration                float64       \n",
      " 24  created_date            object        \n",
      " 25  collection_slug         object        \n",
      " 26  contract_address        object        \n",
      " 27  wallet_address_input    object        \n",
      " 28  filename                object        \n",
      "dtypes: datetime64[ns](2), float64(12), int64(1), object(14)\n",
      "memory usage: 530.7+ MB\n"
     ]
    }
   ],
   "source": [
    "df.info()"
   ]
  },
  {
   "cell_type": "markdown",
   "id": "ff082735",
   "metadata": {},
   "source": [
    "### Split 2"
   ]
  },
  {
   "cell_type": "code",
   "execution_count": null,
   "id": "480b52e8",
   "metadata": {},
   "outputs": [],
   "source": [
    "df2 = read_combine(split_list[2])"
   ]
  },
  {
   "cell_type": "code",
   "execution_count": null,
   "id": "9c52ec47",
   "metadata": {},
   "outputs": [
    {
     "name": "stdout",
     "output_type": "stream",
     "text": [
      "<class 'pandas.core.frame.DataFrame'>\n",
      "RangeIndex: 1341738 entries, 0 to 1341737\n",
      "Data columns (total 30 columns):\n",
      " #   Column                  Non-Null Count    Dtype         \n",
      "---  ------                  --------------    -----         \n",
      " 0   index                   1341738 non-null  int64         \n",
      " 1   event_timestamp         1340709 non-null  datetime64[ns]\n",
      " 2   event_type              1340709 non-null  object        \n",
      " 3   token_id                1328134 non-null  object        \n",
      " 4   num_sales               1328134 non-null  float64       \n",
      " 5   listing_time            1190041 non-null  datetime64[ns]\n",
      " 6   token_owner_address     1328134 non-null  object        \n",
      " 7   token_seller_address    1334049 non-null  object        \n",
      " 8   from_account_address    780 non-null      object        \n",
      " 9   deal_price              1340701 non-null  float64       \n",
      " 10  payment_token_symbol    1339859 non-null  object        \n",
      " 11  payment_token_decimals  1339873 non-null  float64       \n",
      " 12  payment_token_usdprice  1339571 non-null  float64       \n",
      " 13  quantity                1327657 non-null  float64       \n",
      " 14  starting_price          0 non-null        float64       \n",
      " 15  ending_price            0 non-null        float64       \n",
      " 16  approved_account        0 non-null        float64       \n",
      " 17  asset_bundle            12593 non-null    object        \n",
      " 18  auction_type            77378 non-null    object        \n",
      " 19  bid_amount              0 non-null        float64       \n",
      " 20  transaction_hash        1340709 non-null  object        \n",
      " 21  block_hash              1340640 non-null  object        \n",
      " 22  block_number            1340634 non-null  float64       \n",
      " 23  is_private              1190041 non-null  float64       \n",
      " 24  duration                0 non-null        float64       \n",
      " 25  created_date            1340709 non-null  object        \n",
      " 26  collection_slug         1340182 non-null  object        \n",
      " 27  contract_address        1340601 non-null  object        \n",
      " 28  wallet_address_input    1341738 non-null  object        \n",
      " 29  filename                1341738 non-null  object        \n",
      "dtypes: datetime64[ns](2), float64(12), int64(1), object(15)\n",
      "memory usage: 307.1+ MB\n"
     ]
    }
   ],
   "source": [
    "df2.info()"
   ]
  },
  {
   "cell_type": "code",
   "execution_count": null,
   "id": "f078804f-6644-4d62-8ffe-928c3116cfc8",
   "metadata": {},
   "outputs": [],
   "source": [
    "%%timeit -r 5 -n 1\n",
    "df2 = pd.read_feather(os.path.join(data_dir, 'wallets_successful_events_2.feather'))"
   ]
  },
  {
   "cell_type": "code",
   "execution_count": null,
   "id": "477f163e",
   "metadata": {},
   "outputs": [],
   "source": [
    "df2.info()"
   ]
  },
  {
   "cell_type": "markdown",
   "id": "20c15ac0",
   "metadata": {},
   "source": [
    "... get it down while I sleep"
   ]
  },
  {
   "cell_type": "code",
   "execution_count": 76,
   "id": "8a2606df",
   "metadata": {},
   "outputs": [
    {
     "name": "stdout",
     "output_type": "stream",
     "text": [
      "c:\\Users\\lawrence\\GitHub\\OpenSea-API-crawler\\data\\wallets successful event\\coolcatsnft_AA1.xlsx 124645577\n",
      "c:\\Users\\lawrence\\GitHub\\OpenSea-API-crawler\\data\\wallets successful event\\coolcatsnft_AA11.xlsx 125791182\n",
      "c:\\Users\\lawrence\\GitHub\\OpenSea-API-crawler\\data\\wallets successful event\\coolcatsnft_AA2.xlsx 123305452\n",
      "c:\\Users\\lawrence\\GitHub\\OpenSea-API-crawler\\data\\wallets successful event\\coolcatsnft_AA22.xlsx 126019118\n",
      "c:\\Users\\lawrence\\GitHub\\OpenSea-API-crawler\\data\\wallets successful event\\coolcatsnft_補跑B.xlsx 868343\n",
      "c:\\Users\\lawrence\\GitHub\\OpenSea-API-crawler\\data\\wallets successful event\\coolcatsnft_補跑E.xlsx 2109287\n",
      "c:\\Users\\lawrence\\GitHub\\OpenSea-API-crawler\\data\\wallets successful event\\cryptoadz-by-gremplin_success1.xlsx 89797994\n",
      "c:\\Users\\lawrence\\GitHub\\OpenSea-API-crawler\\data\\wallets successful event\\cryptoskulls_success1.xlsx 59505067\n",
      "c:\\Users\\lawrence\\GitHub\\OpenSea-API-crawler\\data\\wallets successful event\\cyberkongz-vx_success1.xlsx 29765080\n",
      "c:\\Users\\lawrence\\GitHub\\OpenSea-API-crawler\\data\\wallets successful event\\doodlesofficial_success1.xlsx 170593770\n",
      "c:\\Users\\lawrence\\GitHub\\OpenSea-API-crawler\\data\\wallets successful event\\hapeprime_success1.xlsx 84388677\n",
      "c:\\Users\\lawrence\\GitHub\\OpenSea-API-crawler\\data\\wallets successful event\\kaiju-kingz_success1.xlsx 74332125\n",
      "c:\\Users\\lawrence\\GitHub\\OpenSea-API-crawler\\data\\wallets successful event\\karafuru_success1.xlsx 48403980\n",
      "c:\\Users\\lawrence\\GitHub\\OpenSea-API-crawler\\data\\wallets successful event\\lazy-lions_success1.xlsx 85701016\n",
      "c:\\Users\\lawrence\\GitHub\\OpenSea-API-crawler\\data\\wallets successful event\\mekaverse_success1.xlsx 78116633\n",
      "c:\\Users\\lawrence\\GitHub\\OpenSea-API-crawler\\data\\wallets successful event\\mfers_success1.xlsx 102475615\n",
      "c:\\Users\\lawrence\\GitHub\\OpenSea-API-crawler\\data\\wallets successful event\\mutant-ape-yacht-club_success1.xlsx 138368812\n"
     ]
    }
   ],
   "source": [
    "for i in range(7, len(wallets_fn)):\n",
    "    fn = wallets_fn[i]\n",
    "    to_fn = os.path.join(data_dir, '0', os.path.basename(fn)[:-4] + 'feather')\n",
    "\n",
    "    print(fn, os.stat(fn).st_size)\n",
    "    df = pd.read_excel(fn)\n",
    "    df[\"filename\"] = os.path.basename(fn)\n",
    "    df.reset_index(inplace=True)\n",
    "    df.to_feather(to_fn)"
   ]
  },
  {
   "cell_type": "markdown",
   "id": "2347290d",
   "metadata": {
    "tags": []
   },
   "source": [
    "## Write `DataFrame` to parquet format and read it (WIP)"
   ]
  },
  {
   "cell_type": "markdown",
   "id": "7609ce79",
   "metadata": {},
   "source": []
  }
 ],
 "metadata": {
  "interpreter": {
   "hash": "a2e2c9c8ba70ba32ce998cd76425027ed4ac02585ab022e2d9b85d1664cda574"
  },
  "kernelspec": {
   "display_name": "Python 3 (ipykernel)",
   "language": "python",
   "name": "python3"
  },
  "language_info": {
   "codemirror_mode": {
    "name": "ipython",
    "version": 3
   },
   "file_extension": ".py",
   "mimetype": "text/x-python",
   "name": "python",
   "nbconvert_exporter": "python",
   "pygments_lexer": "ipython3",
   "version": "3.9.12"
  },
  "toc-autonumbering": false,
  "toc-showcode": false,
  "toc-showmarkdowntxt": false,
  "toc-showtags": false
 },
 "nbformat": 4,
 "nbformat_minor": 5
}
