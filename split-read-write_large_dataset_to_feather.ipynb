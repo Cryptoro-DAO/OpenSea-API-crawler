{
 "cells": [
  {
   "cell_type": "code",
   "execution_count": 2,
   "id": "7c90efe8-50f2-494d-8381-16e19cfd4470",
   "metadata": {
    "tags": []
   },
   "outputs": [],
   "source": [
    "# Helper functions\n",
    "\n",
    "import os\n",
    "import re\n",
    "import pandas as pd\n",
    "\n",
    "\n",
    "def read_combine(io):\n",
    "    \"\"\"\n",
    "    Read a list of Excel files and combine them into a panadas DataFrame\n",
    "    \n",
    "    Parameters\n",
    "    ----------\n",
    "        io (list): list of fully qualified filenames\n",
    "        \n",
    "    Returns\n",
    "    -------\n",
    "    DataFrame with filenames appended at the last column.\n",
    "    \"\"\"\n",
    "    list_df = []\n",
    "    for each in io:\n",
    "        # print(\"...reading\", os.path.basename(each)) \n",
    "        df = pd.read_excel(each)\n",
    "        df[\"filename\"] = os.path.basename(each)\n",
    "        list_df.append(df)\n",
    "    \n",
    "    return pd.concat(list_df)\n",
    "\n",
    "\n",
    "def get_abspath(path, pattern):\n",
    "    \"\"\"\n",
    "    Search directory non-recursively for filename by name patterns\n",
    "    \n",
    "    Parameters\n",
    "    ----------\n",
    "    path : \n",
    "    pattern : \n",
    "\n",
    "    Returns\n",
    "    -------\n",
    "    a list of absolute path, use os.path.basename to get the filename\n",
    "    \"\"\"\n",
    "    return [os.path.join(path, x) for x in os.listdir(path) if re.search(pattern, x)]\n",
    "\n",
    "\n",
    "def print_filesize(abspath):\n",
    "    df=pd.DataFrame({'filename': [os.path.basename(x) for x in abspath],\n",
    "                     'size': [os.stat(x).st_size for x in abspath]}) \\\n",
    "        .set_index('filename')\n",
    "    print(df)\n",
    "    return df\n",
    "\n",
    "data_dir = os.path.join(os.getcwd(), 'data', 'wallets successful event')"
   ]
  },
  {
   "cell_type": "code",
   "execution_count": 3,
   "id": "a3871e79",
   "metadata": {
    "tags": []
   },
   "outputs": [
    {
     "name": "stdout",
     "output_type": "stream",
     "text": [
      "                                                         size\n",
      "filename                                                     \n",
      "alien-frens-evolution_success1.xlsx                  64074307\n",
      "boredapekennelclub_success1.xlsx                    139048703\n",
      "boredapeyachtclub_success1.xlsx                      61715648\n",
      "clonex_success1.xlsx                                 44406751\n",
      "coolcatsnft_A1.xlsx                                 241609963\n",
      "coolcatsnft_A2.xlsx                                 240563942\n",
      "coolcatsnft_A3.xlsx                                 101283300\n",
      "coolcatsnft_AA1.xlsx                                124645577\n",
      "coolcatsnft_AA11.xlsx                               125791182\n",
      "coolcatsnft_AA2.xlsx                                123305452\n",
      "coolcatsnft_AA22.xlsx                               126019118\n",
      "coolcatsnft_補跑B.xlsx                                   868343\n",
      "coolcatsnft_補跑E.xlsx                                  2109287\n",
      "cryptoadz-by-gremplin_success1.xlsx                  89797994\n",
      "cryptoskulls_success1.xlsx                           59505067\n",
      "cyberkongz-vx_success1.xlsx                          29765080\n",
      "doodlesofficial_success1.xlsx                       170593770\n",
      "hapeprime_success1.xlsx                              84388677\n",
      "kaiju-kingz_success1.xlsx                            74332125\n",
      "karafuru_success1.xlsx                               48403980\n",
      "lazy-lions_success1.xlsx                             85701016\n",
      "mekaverse_success1.xlsx                              78116633\n",
      "mfers_success1.xlsx                                 102475615\n",
      "mutant-ape-yacht-club_success1.xlsx                 138368812\n",
      "phantabear_success1.xlsx                            106364229\n",
      "proof-moonbirds_success1.xlsx                        88007171\n",
      "rektguy_rarelandnft_pieceofshit_ivedoneit_succe...   71075277\n",
      "world-of-women-nft_success1.xlsx                     85847131\n",
      "total size: 2.52 gb\n"
     ]
    }
   ],
   "source": [
    "wallets_fn = get_abspath(data_dir, '\\.xlsx$')\n",
    "fsizes = print_filesize(wallets_fn)\n",
    "print(\"total size:\", round(sum(fsizes[\"size\"]) / 1024**3, 2), \"gb\")"
   ]
  },
  {
   "cell_type": "markdown",
   "id": "c5130de1",
   "metadata": {},
   "source": [
    "Arbitrarily split the list of files"
   ]
  },
  {
   "cell_type": "code",
   "execution_count": 3,
   "id": "6766354b",
   "metadata": {
    "tags": []
   },
   "outputs": [],
   "source": [
    "split_list = [wallets_fn[0:4], wallets_fn[4:7], wallets_fn[7:13], wallets_fn[13:17], wallets_fn[17:24], wallets_fn[24:28]]"
   ]
  },
  {
   "cell_type": "markdown",
   "id": "e575433e",
   "metadata": {},
   "source": [
    "... or read each Excel and save as feather individually before any post read processing"
   ]
  },
  {
   "cell_type": "code",
   "execution_count": null,
   "id": "9e363998-a73e-4d3f-b7e4-7b9a89214d58",
   "metadata": {
    "tags": []
   },
   "outputs": [],
   "source": [
    "for fn in wallets_fn:\n",
    "    to_fn = os.path.join(data_dir, '0', os.path.basename(fn)[:-4] + 'feather')\n",
    "\n",
    "    print(\"... reading\", os.path.basename(fn), os.stat(fn).st_size)\n",
    "    df = pd.read_excel(fn)\n",
    "    df[\"filename\"] = os.path.basename(fn)\n",
    "    df.reset_index(inplace=True)\n",
    "    print(\"... saving\", os.path.basename(fn), os.stat(fn).st_size)\n",
    "    df.to_feather(to_fn)"
   ]
  },
  {
   "cell_type": "markdown",
   "id": "89e34d3d",
   "metadata": {},
   "source": [
    "# Post Processing"
   ]
  },
  {
   "cell_type": "code",
   "execution_count": 12,
   "id": "984a74e5-3226-4002-bb43-b5720e0c9302",
   "metadata": {},
   "outputs": [],
   "source": [
    "fs = get_abspath(os.path.join(data_dir, 'feather'), '\\.feather$')\n",
    "lst = (pd.read_feather(each) for each in fs)"
   ]
  },
  {
   "cell_type": "code",
   "execution_count": 13,
   "id": "22c90098-ed23-4856-9023-55a8f4b00889",
   "metadata": {},
   "outputs": [],
   "source": [
    "df = pd.concat(lst)"
   ]
  },
  {
   "cell_type": "code",
   "execution_count": 14,
   "id": "a0405f41-d82e-4e74-bb2e-6952844a7b51",
   "metadata": {},
   "outputs": [
    {
     "name": "stdout",
     "output_type": "stream",
     "text": [
      "<class 'pandas.core.frame.DataFrame'>\n",
      "Int64Index: 11322150 entries, 0 to 333345\n",
      "Data columns (total 35 columns):\n",
      " #   Column                  Dtype  \n",
      "---  ------                  -----  \n",
      " 0   index                   int64  \n",
      " 1   Unnamed: 0              int64  \n",
      " 2   event_timestamp         object \n",
      " 3   event_type              object \n",
      " 4   token_id                object \n",
      " 5   num_sales               float64\n",
      " 6   listing_time            object \n",
      " 7   token_owner_address     object \n",
      " 8   token_seller_address    object \n",
      " 9   from_account_address    object \n",
      " 10  deal_price              float64\n",
      " 11  payment_token_symbol    object \n",
      " 12  payment_token_decimals  float64\n",
      " 13  payment_token_usdprice  float64\n",
      " 14  quantity                object \n",
      " 15  starting_price          float64\n",
      " 16  ending_price            float64\n",
      " 17  approved_account        float64\n",
      " 18  asset_bundle            object \n",
      " 19  auction_type            object \n",
      " 20  bid_amount              float64\n",
      " 21  transaction_hash        object \n",
      " 22  block_hash              object \n",
      " 23  block_number            float64\n",
      " 24  is_private              float64\n",
      " 25  duration                float64\n",
      " 26  created_date            object \n",
      " 27  collection_slug         object \n",
      " 28  contract_address        object \n",
      " 29  wallet_address_input    object \n",
      " 30  pages                   int64  \n",
      " 31  msg                     object \n",
      " 32  next_param              object \n",
      " 33  filename                object \n",
      " 34  FILTER                  float64\n",
      "dtypes: float64(12), int64(3), object(20)\n",
      "memory usage: 3.0+ GB\n"
     ]
    }
   ],
   "source": [
    "df.info()"
   ]
  },
  {
   "cell_type": "code",
   "execution_count": 15,
   "id": "45e91d00",
   "metadata": {},
   "outputs": [
    {
     "data": {
      "text/plain": [
       "array(['alien-frens-evolution_success1.xlsx',\n",
       "       'boredapekennelclub_success1.xlsx',\n",
       "       'boredapeyachtclub_success1.xlsx', 'clonex_success1.xlsx',\n",
       "       'coolcatsnft_A1.xlsx', 'coolcatsnft_A2.xlsx',\n",
       "       'coolcatsnft_A3.xlsx', 'coolcatsnft_AA1.xlsx',\n",
       "       'coolcatsnft_AA11.xlsx', 'coolcatsnft_AA2.xlsx',\n",
       "       'coolcatsnft_AA22.xlsx', 'coolcatsnft_補跑B.xlsx',\n",
       "       'coolcatsnft_補跑E.xlsx', 'cryptoadz-by-gremplin_success1.xlsx',\n",
       "       'cryptoskulls_success1.xlsx', 'cyberkongz-vx_success1.xlsx',\n",
       "       'doodlesofficial_success1.xlsx', 'hapeprime_success1.xlsx',\n",
       "       'kaiju-kingz_success1.xlsx', 'karafuru_success1.xlsx',\n",
       "       'lazy-lions_success1.xlsx', 'mekaverse_success1.xlsx',\n",
       "       'mfers_success1.xlsx', 'mutant-ape-yacht-club_success1.xlsx',\n",
       "       'phantabear_success1.xlsx', 'proof-moonbirds_success1.xlsx',\n",
       "       'rektguy_rarelandnft_pieceofshit_ivedoneit_success1.xlsx',\n",
       "       'world-of-women-nft_success1.xlsx'], dtype=object)"
      ]
     },
     "execution_count": 15,
     "metadata": {},
     "output_type": "execute_result"
    }
   ],
   "source": [
    "df.filename.unique()"
   ]
  },
  {
   "cell_type": "code",
   "execution_count": 16,
   "id": "ce855398-96c8-4761-af17-c86160106672",
   "metadata": {},
   "outputs": [],
   "source": [
    "df = df[df.msg == \"success\"]\n",
    "df.drop([\"index\", \"Unnamed: 0\", \"pages\", \"msg\", \"FILTER\", \"next_param\"], axis=1, inplace=True)"
   ]
  },
  {
   "cell_type": "code",
   "execution_count": 17,
   "id": "628c9325-e5d9-4829-befb-b3f5dda9a0b9",
   "metadata": {},
   "outputs": [
    {
     "name": "stdout",
     "output_type": "stream",
     "text": [
      "<class 'pandas.core.frame.DataFrame'>\n",
      "Int64Index: 11312039 entries, 0 to 333345\n",
      "Data columns (total 29 columns):\n",
      " #   Column                  Non-Null Count     Dtype  \n",
      "---  ------                  --------------     -----  \n",
      " 0   event_timestamp         11312039 non-null  object \n",
      " 1   event_type              11312039 non-null  object \n",
      " 2   token_id                11217880 non-null  object \n",
      " 3   num_sales               11217880 non-null  float64\n",
      " 4   listing_time            10612413 non-null  object \n",
      " 5   token_owner_address     11217880 non-null  object \n",
      " 6   token_seller_address    11293040 non-null  object \n",
      " 7   from_account_address    3871 non-null      object \n",
      " 8   deal_price              11312025 non-null  float64\n",
      " 9   payment_token_symbol    11307893 non-null  object \n",
      " 10  payment_token_decimals  11307998 non-null  float64\n",
      " 11  payment_token_usdprice  11305808 non-null  float64\n",
      " 12  quantity                11272470 non-null  object \n",
      " 13  starting_price          0 non-null         float64\n",
      " 14  ending_price            0 non-null         float64\n",
      " 15  approved_account        0 non-null         float64\n",
      " 16  asset_bundle            88117 non-null     object \n",
      " 17  auction_type            245706 non-null    object \n",
      " 18  bid_amount              0 non-null         float64\n",
      " 19  transaction_hash        11312039 non-null  object \n",
      " 20  block_hash              11311424 non-null  object \n",
      " 21  block_number            11311415 non-null  float64\n",
      " 22  is_private              10612413 non-null  float64\n",
      " 23  duration                0 non-null         float64\n",
      " 24  created_date            11312039 non-null  object \n",
      " 25  collection_slug         11309447 non-null  object \n",
      " 26  contract_address        11311823 non-null  object \n",
      " 27  wallet_address_input    11312039 non-null  object \n",
      " 28  filename                11312039 non-null  object \n",
      "dtypes: float64(11), object(18)\n",
      "memory usage: 2.5+ GB\n"
     ]
    }
   ],
   "source": [
    "df.info(show_counts=True)"
   ]
  },
  {
   "cell_type": "code",
   "execution_count": 18,
   "id": "e02f1199-9723-4b02-ac43-9f506520802a",
   "metadata": {},
   "outputs": [
    {
     "data": {
      "text/plain": [
       "array(['alien-frens-evolution_success1.xlsx',\n",
       "       'boredapekennelclub_success1.xlsx',\n",
       "       'boredapeyachtclub_success1.xlsx', 'clonex_success1.xlsx',\n",
       "       'coolcatsnft_A1.xlsx', 'coolcatsnft_A2.xlsx',\n",
       "       'coolcatsnft_A3.xlsx', 'coolcatsnft_AA1.xlsx',\n",
       "       'coolcatsnft_AA11.xlsx', 'coolcatsnft_AA2.xlsx',\n",
       "       'coolcatsnft_AA22.xlsx', 'coolcatsnft_補跑B.xlsx',\n",
       "       'coolcatsnft_補跑E.xlsx', 'cryptoadz-by-gremplin_success1.xlsx',\n",
       "       'cryptoskulls_success1.xlsx', 'cyberkongz-vx_success1.xlsx',\n",
       "       'doodlesofficial_success1.xlsx', 'hapeprime_success1.xlsx',\n",
       "       'kaiju-kingz_success1.xlsx', 'karafuru_success1.xlsx',\n",
       "       'lazy-lions_success1.xlsx', 'mekaverse_success1.xlsx',\n",
       "       'mfers_success1.xlsx', 'mutant-ape-yacht-club_success1.xlsx',\n",
       "       'phantabear_success1.xlsx', 'proof-moonbirds_success1.xlsx',\n",
       "       'rektguy_rarelandnft_pieceofshit_ivedoneit_success1.xlsx',\n",
       "       'world-of-women-nft_success1.xlsx'], dtype=object)"
      ]
     },
     "execution_count": 18,
     "metadata": {},
     "output_type": "execute_result"
    }
   ],
   "source": [
    "df.filename.unique()"
   ]
  },
  {
   "cell_type": "code",
   "execution_count": 19,
   "id": "ebb612dd-58a2-44cf-a879-bce0e6ab1cc2",
   "metadata": {},
   "outputs": [],
   "source": [
    "del(df)"
   ]
  }
 ],
 "metadata": {
  "interpreter": {
   "hash": "a2e2c9c8ba70ba32ce998cd76425027ed4ac02585ab022e2d9b85d1664cda574"
  },
  "kernelspec": {
   "display_name": "Python 3 (ipykernel)",
   "language": "python",
   "name": "python3"
  },
  "language_info": {
   "codemirror_mode": {
    "name": "ipython",
    "version": 3
   },
   "file_extension": ".py",
   "mimetype": "text/x-python",
   "name": "python",
   "nbconvert_exporter": "python",
   "pygments_lexer": "ipython3",
   "version": "3.9.12"
  },
  "toc-autonumbering": false,
  "toc-showcode": false,
  "toc-showmarkdowntxt": false,
  "toc-showtags": false
 },
 "nbformat": 4,
 "nbformat_minor": 5
}
