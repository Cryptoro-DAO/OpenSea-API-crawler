{
 "cells": [
  {
   "cell_type": "markdown",
   "id": "2c2908f0-a8b1-4a85-af47-4f540be6b33a",
   "metadata": {},
   "source": [
    "# Split and Read 2.5 GB of XLSX and write to feather file format for faster subsequent read"
   ]
  },
  {
   "cell_type": "markdown",
   "id": "50230098-5eff-409d-a8fc-78ee10a585e3",
   "metadata": {
    "tags": []
   },
   "source": [
    "__Motivation:__ Reading 2.5 GB of dataset as separate large Excel files into\n",
    "pandas dataframe in one-go failed after 90 minutes on my Latitude XPS 15 with\n",
    "32GB of RAM.\n",
    "There was not enough memory to buffer and hold the data in memory.\n",
    "The old approach failed before the data could be converted into feather format.\n",
    "\n",
    "## Helper functions"
   ]
  },
  {
   "cell_type": "code",
   "execution_count": 1,
   "id": "7c90efe8-50f2-494d-8381-16e19cfd4470",
   "metadata": {
    "tags": []
   },
   "outputs": [],
   "source": [
    "import os\n",
    "import re\n",
    "import pandas as pd\n",
    "\n",
    "\n",
    "def read_combine(io):\n",
    "    \"\"\"\n",
    "    Read a list of Excel files and combine them into a panadas DataFrame\n",
    "    \n",
    "    Parameters\n",
    "    ----------\n",
    "        io (list): list of fully qualified filenames\n",
    "        \n",
    "    Returns\n",
    "    -------\n",
    "    DataFrame with filenames appended at the last column.\n",
    "    \"\"\"\n",
    "    list_df = []\n",
    "    for each in io:\n",
    "        # print(\"...reading\", os.path.basename(each)) \n",
    "        df = pd.read_excel(each)\n",
    "        df[\"filename\"] = os.path.basename(each)\n",
    "        list_df.append(df)\n",
    "    \n",
    "    return pd.concat(list_df)\n",
    "\n",
    "\n",
    "def get_abspath(path, pattern):\n",
    "    \"\"\"\n",
    "    Search directory non-recursively for filename by name patterns\n",
    "    \n",
    "    Parameters\n",
    "    ----------\n",
    "    path : \n",
    "    pattern : \n",
    "\n",
    "    Returns\n",
    "    -------\n",
    "    a list of absolute path, use os.path.basename to get the filename\n",
    "    \"\"\"\n",
    "    return [os.path.join(path, x) for x in os.listdir(path) if re.search(pattern, x)]\n",
    "\n",
    "\n",
    "def print_filesize(abspath):\n",
    "    df=pd.DataFrame({'filename': [os.path.basename(x) for x in abspath],\n",
    "                     'size': [os.stat(x).st_size for x in abspath]}) \\\n",
    "        .set_index('filename')\n",
    "    print(df)\n",
    "    print(\"total size:\", round(sum(df[\"size\"]) / 1024**3, 2), \"gb\")\n",
    "    return df"
   ]
  },
  {
   "cell_type": "markdown",
   "id": "670505e9-f15c-46ff-b2be-78d3927cb0e3",
   "metadata": {},
   "source": [
    "## Excel files"
   ]
  },
  {
   "cell_type": "code",
   "execution_count": 2,
   "id": "a3871e79",
   "metadata": {
    "tags": []
   },
   "outputs": [
    {
     "name": "stdout",
     "output_type": "stream",
     "text": [
      "                                                         size\n",
      "filename                                                     \n",
      "alien-frens-evolution_success1.xlsx                  64074307\n",
      "boredapekennelclub_success1.xlsx                    139048703\n",
      "boredapeyachtclub_success1.xlsx                      61715648\n",
      "clonex_success1.xlsx                                 44406751\n",
      "coolcatsnft_A1.xlsx                                 241609963\n",
      "coolcatsnft_A2.xlsx                                 240563942\n",
      "coolcatsnft_A3.xlsx                                 101283300\n",
      "coolcatsnft_AA1.xlsx                                124645577\n",
      "coolcatsnft_AA11.xlsx                               125791182\n",
      "coolcatsnft_AA2.xlsx                                123305452\n",
      "coolcatsnft_AA22.xlsx                               126019118\n",
      "coolcatsnft_補跑B.xlsx                                   868343\n",
      "coolcatsnft_補跑E.xlsx                                  2109287\n",
      "cryptoadz-by-gremplin_success1.xlsx                  89797994\n",
      "cryptoskulls_success1.xlsx                           59505067\n",
      "cyberkongz-vx_success1.xlsx                          29765080\n",
      "doodlesofficial_success1.xlsx                       170593770\n",
      "hapeprime_success1.xlsx                              84388677\n",
      "kaiju-kingz_success1.xlsx                            74332125\n",
      "karafuru_success1.xlsx                               48403980\n",
      "lazy-lions_success1.xlsx                             85701016\n",
      "mekaverse_success1.xlsx                              78116633\n",
      "mfers_success1.xlsx                                 102475615\n",
      "mutant-ape-yacht-club_success1.xlsx                 138368812\n",
      "phantabear_success1.xlsx                            106364229\n",
      "proof-moonbirds_success1.xlsx                        88007171\n",
      "rektguy_rarelandnft_pieceofshit_ivedoneit_succe...   71075277\n",
      "world-of-women-nft_success1.xlsx                     85847131\n",
      "total size: 2.52 gb\n"
     ]
    }
   ],
   "source": [
    "data_dir = os.path.join(os.getcwd(), 'data', 'wallets successful event')\n",
    "wallets_fn = get_abspath(data_dir, '\\.xlsx$')\n",
    "fsizes = print_filesize(wallets_fn)"
   ]
  },
  {
   "cell_type": "markdown",
   "id": "65df6491-b8de-42a4-a3f7-c9d5715f3c5a",
   "metadata": {
    "tags": []
   },
   "source": [
    "# Read Excel files into pandas.DataFrame and save as feather\n",
    "\n",
    "...read each Excel and save as feather individually before any post read processing"
   ]
  },
  {
   "cell_type": "code",
   "execution_count": null,
   "id": "9e363998-a73e-4d3f-b7e4-7b9a89214d58",
   "metadata": {
    "tags": []
   },
   "outputs": [],
   "source": [
    "for fn in wallets_fn:\n",
    "    to_fn = os.path.join(data_dir, os.path.basename(fn)[:-4] + 'feather')\n",
    "\n",
    "    print(\"... reading\", os.path.basename(fn), os.stat(fn).st_size)\n",
    "    df = pd.read_excel(fn)\n",
    "    df[\"filename\"] = os.path.basename(fn)\n",
    "    df.reset_index(inplace=True)\n",
    "    df.to_feather(to_fn)\n",
    "    print(\"... saving\", os.path.basename(to_fn), os.stat(to_fn).st_size)\n",
    "    "
   ]
  },
  {
   "cell_type": "markdown",
   "id": "89e34d3d",
   "metadata": {},
   "source": [
    "# Post Processing"
   ]
  },
  {
   "cell_type": "code",
   "execution_count": 3,
   "id": "984a74e5-3226-4002-bb43-b5720e0c9302",
   "metadata": {},
   "outputs": [],
   "source": [
    "fs = get_abspath(data_dir, '\\.feather$')\n",
    "lst = (pd.read_feather(each) for each in fs)"
   ]
  },
  {
   "cell_type": "code",
   "execution_count": 4,
   "id": "22c90098-ed23-4856-9023-55a8f4b00889",
   "metadata": {},
   "outputs": [],
   "source": [
    "df = pd.concat(lst)"
   ]
  },
  {
   "cell_type": "code",
   "execution_count": 5,
   "id": "a0405f41-d82e-4e74-bb2e-6952844a7b51",
   "metadata": {},
   "outputs": [
    {
     "name": "stdout",
     "output_type": "stream",
     "text": [
      "<class 'pandas.core.frame.DataFrame'>\n",
      "Int64Index: 11322150 entries, 0 to 333345\n",
      "Data columns (total 35 columns):\n",
      " #   Column                  Non-Null Count     Dtype  \n",
      "---  ------                  --------------     -----  \n",
      " 0   index                   11322150 non-null  int64  \n",
      " 1   Unnamed: 0              11322150 non-null  int64  \n",
      " 2   event_timestamp         11312039 non-null  object \n",
      " 3   event_type              11312039 non-null  object \n",
      " 4   token_id                11217880 non-null  object \n",
      " 5   num_sales               11217880 non-null  float64\n",
      " 6   listing_time            10612413 non-null  object \n",
      " 7   token_owner_address     11217880 non-null  object \n",
      " 8   token_seller_address    11293040 non-null  object \n",
      " 9   from_account_address    3871 non-null      object \n",
      " 10  deal_price              11312025 non-null  float64\n",
      " 11  payment_token_symbol    11307893 non-null  object \n",
      " 12  payment_token_decimals  11307998 non-null  float64\n",
      " 13  payment_token_usdprice  11305808 non-null  float64\n",
      " 14  quantity                11275936 non-null  object \n",
      " 15  starting_price          0 non-null         float64\n",
      " 16  ending_price            0 non-null         float64\n",
      " 17  approved_account        0 non-null         float64\n",
      " 18  asset_bundle            88117 non-null     object \n",
      " 19  auction_type            245706 non-null    object \n",
      " 20  bid_amount              0 non-null         float64\n",
      " 21  transaction_hash        11312039 non-null  object \n",
      " 22  block_hash              11311424 non-null  object \n",
      " 23  block_number            11311415 non-null  float64\n",
      " 24  is_private              10612413 non-null  float64\n",
      " 25  duration                0 non-null         float64\n",
      " 26  created_date            11312039 non-null  object \n",
      " 27  collection_slug         11309447 non-null  object \n",
      " 28  contract_address        11311823 non-null  object \n",
      " 29  wallet_address_input    11322150 non-null  object \n",
      " 30  pages                   11322150 non-null  int64  \n",
      " 31  msg                     11322150 non-null  object \n",
      " 32  next_param              6303468 non-null   object \n",
      " 33  filename                11322150 non-null  object \n",
      " 34  FILTER                  0 non-null         float64\n",
      "dtypes: float64(12), int64(3), object(20)\n",
      "memory usage: 3.0+ GB\n"
     ]
    }
   ],
   "source": [
    "df.info(show_counts=True)"
   ]
  },
  {
   "cell_type": "code",
   "execution_count": 6,
   "id": "ce855398-96c8-4761-af17-c86160106672",
   "metadata": {},
   "outputs": [],
   "source": [
    "df = df[df.msg == \"success\"]\n",
    "df.drop([\"index\", \"Unnamed: 0\", \"pages\", \"msg\", \"FILTER\", \"next_param\"], axis=1, inplace=True)"
   ]
  },
  {
   "cell_type": "code",
   "execution_count": 7,
   "id": "98c87854-d78a-4e1f-b967-3f5869718aac",
   "metadata": {},
   "outputs": [],
   "source": [
    "df.event_timestamp = pd.to_datetime(df.event_timestamp)\n",
    "df.listing_time = pd.to_datetime(df.listing_time)\n",
    "df.quantity = pd.to_numeric(df.quantity, errors='coerce')"
   ]
  },
  {
   "cell_type": "code",
   "execution_count": 8,
   "id": "628c9325-e5d9-4829-befb-b3f5dda9a0b9",
   "metadata": {},
   "outputs": [
    {
     "name": "stdout",
     "output_type": "stream",
     "text": [
      "<class 'pandas.core.frame.DataFrame'>\n",
      "Int64Index: 11312039 entries, 0 to 333345\n",
      "Data columns (total 29 columns):\n",
      " #   Column                  Non-Null Count     Dtype         \n",
      "---  ------                  --------------     -----         \n",
      " 0   event_timestamp         11312039 non-null  datetime64[ns]\n",
      " 1   event_type              11312039 non-null  object        \n",
      " 2   token_id                11217880 non-null  object        \n",
      " 3   num_sales               11217880 non-null  float64       \n",
      " 4   listing_time            10612413 non-null  datetime64[ns]\n",
      " 5   token_owner_address     11217880 non-null  object        \n",
      " 6   token_seller_address    11293040 non-null  object        \n",
      " 7   from_account_address    3871 non-null      object        \n",
      " 8   deal_price              11312025 non-null  float64       \n",
      " 9   payment_token_symbol    11307893 non-null  object        \n",
      " 10  payment_token_decimals  11307998 non-null  float64       \n",
      " 11  payment_token_usdprice  11305808 non-null  float64       \n",
      " 12  quantity                11268058 non-null  float64       \n",
      " 13  starting_price          0 non-null         float64       \n",
      " 14  ending_price            0 non-null         float64       \n",
      " 15  approved_account        0 non-null         float64       \n",
      " 16  asset_bundle            88117 non-null     object        \n",
      " 17  auction_type            245706 non-null    object        \n",
      " 18  bid_amount              0 non-null         float64       \n",
      " 19  transaction_hash        11312039 non-null  object        \n",
      " 20  block_hash              11311424 non-null  object        \n",
      " 21  block_number            11311415 non-null  float64       \n",
      " 22  is_private              10612413 non-null  float64       \n",
      " 23  duration                0 non-null         float64       \n",
      " 24  created_date            11312039 non-null  object        \n",
      " 25  collection_slug         11309447 non-null  object        \n",
      " 26  contract_address        11311823 non-null  object        \n",
      " 27  wallet_address_input    11312039 non-null  object        \n",
      " 28  filename                11312039 non-null  object        \n",
      "dtypes: datetime64[ns](2), float64(12), object(15)\n",
      "memory usage: 2.5+ GB\n"
     ]
    }
   ],
   "source": [
    "df.info(show_counts=True)"
   ]
  },
  {
   "cell_type": "markdown",
   "id": "02fefb7c-f2ea-42d9-8b01-3e720c941f5f",
   "metadata": {},
   "source": [
    "# Split and write to feather"
   ]
  },
  {
   "cell_type": "code",
   "execution_count": 9,
   "id": "324ba8af-2b2b-402a-b823-8f9153dcc83f",
   "metadata": {},
   "outputs": [
    {
     "name": "stdout",
     "output_type": "stream",
     "text": [
      "alien-frens-evolution_success1.xlsx\n",
      "boredapekennelclub_success1.xlsx\n",
      "boredapeyachtclub_success1.xlsx\n",
      "clonex_success1.xlsx\n",
      "coolcatsnft_A1.xlsx\n",
      "coolcatsnft_A2.xlsx\n",
      "coolcatsnft_A3.xlsx\n",
      "coolcatsnft_AA1.xlsx\n",
      "coolcatsnft_AA11.xlsx\n",
      "coolcatsnft_AA2.xlsx\n",
      "coolcatsnft_AA22.xlsx\n",
      "coolcatsnft_補跑B.xlsx\n",
      "coolcatsnft_補跑E.xlsx\n",
      "cryptoadz-by-gremplin_success1.xlsx\n",
      "cryptoskulls_success1.xlsx\n",
      "cyberkongz-vx_success1.xlsx\n",
      "doodlesofficial_success1.xlsx\n",
      "hapeprime_success1.xlsx\n",
      "kaiju-kingz_success1.xlsx\n",
      "karafuru_success1.xlsx\n",
      "lazy-lions_success1.xlsx\n",
      "mekaverse_success1.xlsx\n",
      "mfers_success1.xlsx\n",
      "mutant-ape-yacht-club_success1.xlsx\n",
      "phantabear_success1.xlsx\n",
      "proof-moonbirds_success1.xlsx\n",
      "rektguy_rarelandnft_pieceofshit_ivedoneit_success1.xlsx\n",
      "world-of-women-nft_success1.xlsx\n"
     ]
    }
   ],
   "source": [
    "grp = df.groupby(\"filename\")\n",
    "\n",
    "for name, group in grp:\n",
    "    print(name)\n",
    "    g=group.reset_index().drop(\"filename\", axis=1)\n",
    "    g.to_feather(os.path.join(data_dir, 'feather', os.path.basename(name)[:-4] + 'feather'), compression='lz4')"
   ]
  },
  {
   "cell_type": "markdown",
   "id": "3beb58f1-3b4a-4e4d-88fe-97cc473934d3",
   "metadata": {},
   "source": [
    "# Checking out the data"
   ]
  },
  {
   "cell_type": "code",
   "execution_count": 10,
   "id": "8d687d2a",
   "metadata": {},
   "outputs": [
    {
     "data": {
      "text/html": [
       "<div>\n",
       "<style scoped>\n",
       "    .dataframe tbody tr th:only-of-type {\n",
       "        vertical-align: middle;\n",
       "    }\n",
       "\n",
       "    .dataframe tbody tr th {\n",
       "        vertical-align: top;\n",
       "    }\n",
       "\n",
       "    .dataframe thead th {\n",
       "        text-align: right;\n",
       "    }\n",
       "</style>\n",
       "<table border=\"1\" class=\"dataframe\">\n",
       "  <thead>\n",
       "    <tr style=\"text-align: right;\">\n",
       "      <th></th>\n",
       "      <th>collection_slug</th>\n",
       "      <th>size</th>\n",
       "    </tr>\n",
       "  </thead>\n",
       "  <tbody>\n",
       "    <tr>\n",
       "      <th>10438</th>\n",
       "      <td>cryptokitties</td>\n",
       "      <td>87113</td>\n",
       "    </tr>\n",
       "    <tr>\n",
       "      <th>8749</th>\n",
       "      <td>cool-cats-nft</td>\n",
       "      <td>75452</td>\n",
       "    </tr>\n",
       "    <tr>\n",
       "      <th>31304</th>\n",
       "      <td>parallelalpha</td>\n",
       "      <td>72462</td>\n",
       "    </tr>\n",
       "    <tr>\n",
       "      <th>34418</th>\n",
       "      <td>rarible</td>\n",
       "      <td>65798</td>\n",
       "    </tr>\n",
       "    <tr>\n",
       "      <th>6191</th>\n",
       "      <td>boredapeyachtclub</td>\n",
       "      <td>50417</td>\n",
       "    </tr>\n",
       "    <tr>\n",
       "      <th>27935</th>\n",
       "      <td>mutant-ape-yacht-club</td>\n",
       "      <td>50392</td>\n",
       "    </tr>\n",
       "    <tr>\n",
       "      <th>23502</th>\n",
       "      <td>lazy-lions</td>\n",
       "      <td>45897</td>\n",
       "    </tr>\n",
       "    <tr>\n",
       "      <th>33610</th>\n",
       "      <td>pudgypenguins</td>\n",
       "      <td>44149</td>\n",
       "    </tr>\n",
       "    <tr>\n",
       "      <th>45791</th>\n",
       "      <td>world-of-women-nft</td>\n",
       "      <td>41750</td>\n",
       "    </tr>\n",
       "    <tr>\n",
       "      <th>9891</th>\n",
       "      <td>cryptoadz-by-gremplin</td>\n",
       "      <td>38680</td>\n",
       "    </tr>\n",
       "    <tr>\n",
       "      <th>11968</th>\n",
       "      <td>deadfellaz</td>\n",
       "      <td>35854</td>\n",
       "    </tr>\n",
       "    <tr>\n",
       "      <th>9210</th>\n",
       "      <td>creatureworld</td>\n",
       "      <td>35487</td>\n",
       "    </tr>\n",
       "    <tr>\n",
       "      <th>35138</th>\n",
       "      <td>robotos-official</td>\n",
       "      <td>35063</td>\n",
       "    </tr>\n",
       "    <tr>\n",
       "      <th>1458</th>\n",
       "      <td>adam-bomb-squad</td>\n",
       "      <td>34632</td>\n",
       "    </tr>\n",
       "    <tr>\n",
       "      <th>6037</th>\n",
       "      <td>bored-ape-kennel-club</td>\n",
       "      <td>34503</td>\n",
       "    </tr>\n",
       "    <tr>\n",
       "      <th>31808</th>\n",
       "      <td>phantabear</td>\n",
       "      <td>32451</td>\n",
       "    </tr>\n",
       "    <tr>\n",
       "      <th>42103</th>\n",
       "      <td>thewickedcraniums</td>\n",
       "      <td>32349</td>\n",
       "    </tr>\n",
       "    <tr>\n",
       "      <th>2808</th>\n",
       "      <td>ape-gang-old</td>\n",
       "      <td>31988</td>\n",
       "    </tr>\n",
       "    <tr>\n",
       "      <th>3928</th>\n",
       "      <td>axie</td>\n",
       "      <td>31580</td>\n",
       "    </tr>\n",
       "    <tr>\n",
       "      <th>11357</th>\n",
       "      <td>cyberkongz-vx</td>\n",
       "      <td>30596</td>\n",
       "    </tr>\n",
       "  </tbody>\n",
       "</table>\n",
       "</div>"
      ],
      "text/plain": [
       "             collection_slug   size\n",
       "10438          cryptokitties  87113\n",
       "8749           cool-cats-nft  75452\n",
       "31304          parallelalpha  72462\n",
       "34418                rarible  65798\n",
       "6191       boredapeyachtclub  50417\n",
       "27935  mutant-ape-yacht-club  50392\n",
       "23502             lazy-lions  45897\n",
       "33610          pudgypenguins  44149\n",
       "45791     world-of-women-nft  41750\n",
       "9891   cryptoadz-by-gremplin  38680\n",
       "11968             deadfellaz  35854\n",
       "9210           creatureworld  35487\n",
       "35138       robotos-official  35063\n",
       "1458         adam-bomb-squad  34632\n",
       "6037   bored-ape-kennel-club  34503\n",
       "31808             phantabear  32451\n",
       "42103      thewickedcraniums  32349\n",
       "2808            ape-gang-old  31988\n",
       "3928                    axie  31580\n",
       "11357          cyberkongz-vx  30596"
      ]
     },
     "execution_count": 10,
     "metadata": {},
     "output_type": "execute_result"
    }
   ],
   "source": [
    "df.groupby(by=\"collection_slug\", as_index=False).size().sort_values(by=\"size\", ascending=False).head(20)"
   ]
  },
  {
   "cell_type": "code",
   "execution_count": 11,
   "id": "456f5134",
   "metadata": {},
   "outputs": [
    {
     "data": {
      "text/plain": [
       "Index(['cryptokitties', 'cool-cats-nft', 'parallelalpha', 'rarible',\n",
       "       'boredapeyachtclub', 'mutant-ape-yacht-club', 'lazy-lions',\n",
       "       'pudgypenguins', 'world-of-women-nft', 'cryptoadz-by-gremplin',\n",
       "       'deadfellaz', 'creatureworld', 'robotos-official', 'adam-bomb-squad',\n",
       "       'bored-ape-kennel-club', 'phantabear', 'thewickedcraniums',\n",
       "       'ape-gang-old', 'axie', 'cyberkongz-vx'],\n",
       "      dtype='object', name='collection_slug')"
      ]
     },
     "execution_count": 11,
     "metadata": {},
     "output_type": "execute_result"
    }
   ],
   "source": [
    "top20_nft = df.groupby(by=\"collection_slug\").size().sort_values(ascending=False).iloc[:20].index\n",
    "top20_nft"
   ]
  },
  {
   "cell_type": "raw",
   "id": "a8ce2086",
   "metadata": {},
   "source": [
    "# compared to the cool-cats-nft.feather dataset\n",
    "\n",
    "Index(['cool-cats-nft', 'parallelalpha', 'pudgypenguins', 'deadfellaz',\n",
    "       'robotos-official', 'boredapeyachtclub', 'rarible',\n",
    "       'mutant-ape-yacht-club', 'thewickedcraniums', 'cryptoadz-by-gremplin',\n",
    "       'ape-gang-old', 'creatureworld', 'coolpetsnft', 'bored-ape-kennel-club',\n",
    "       'supducks', 'doodles-official', 'animetas', 'adam-bomb-squad',\n",
    "       'world-of-women-nft', 'cyberkongz-vx'],\n",
    "      dtype='object', name='collection_slug')"
   ]
  }
 ],
 "metadata": {
  "interpreter": {
   "hash": "a2e2c9c8ba70ba32ce998cd76425027ed4ac02585ab022e2d9b85d1664cda574"
  },
  "kernelspec": {
   "display_name": "Python 3 (ipykernel)",
   "language": "python",
   "name": "python3"
  },
  "language_info": {
   "codemirror_mode": {
    "name": "ipython",
    "version": 3
   },
   "file_extension": ".py",
   "mimetype": "text/x-python",
   "name": "python",
   "nbconvert_exporter": "python",
   "pygments_lexer": "ipython3",
   "version": "3.9.12"
  },
  "toc-autonumbering": false,
  "toc-showcode": false,
  "toc-showmarkdowntxt": false,
  "toc-showtags": false
 },
 "nbformat": 4,
 "nbformat_minor": 5
}
