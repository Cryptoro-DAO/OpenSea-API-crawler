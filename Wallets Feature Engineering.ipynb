{
 "cells": [
  {
   "cell_type": "markdown",
   "id": "c09977d9-3c4f-47a6-8f87-bdb49deee26f",
   "metadata": {
    "tags": []
   },
   "source": [
    "# Wallet Feature Engineering"
   ]
  },
  {
   "cell_type": "markdown",
   "id": "979b6e62-5a76-496d-9e31-5fdc6854560a",
   "metadata": {},
   "source": [
    "The purpose of this notebook is to create features from OpenSea `Asset Events` time series\n",
    "in order to:\n",
    "- model and predict NFT fear of missing out (FOMO) behavior\n",
    "- classify types of people participating in NFT exchanges"
   ]
  },
  {
   "cell_type": "markdown",
   "id": "c921f660-068d-427d-95b8-3bd3fb9f615a",
   "metadata": {},
   "source": [
    "# Read Data"
   ]
  },
  {
   "cell_type": "markdown",
   "id": "eb2921fe-d0d2-44e4-a879-1d4861863114",
   "metadata": {},
   "source": [
    "__Description of the dataset:__ Asset events (\"events\") were extracted by\n",
    " [莊惟翔](https://github.com/Fred-Zhuang)\n",
    "via https://api.opensea.io/api/v1/assets endpoint.\n",
    "This dateset contains only __successful__ events having occurred on the NFTs\n",
    "and been tracked by OpenSea.\n",
    "\n",
    "1. a list of `token_seller_address` and `token_owner_address` having event\n",
    "    timestamp between 2022-05-03 and 2022-05-18 was used as the primer to\n",
    "    extract all events involving these addresses\n",
    "    (see `os_successful_events.feather`)\n",
    "1. only events involved one of the 21 selected NFT collections were considered\n",
    "    for this study\n",
    "1. the final list of events was then used for feature engineering\n",
    "1. this list spans 406 days, between 2021-04-30 and 2022-06-11\n",
    "\n",
    "*The `event_type` indicates the types of events (transfer, successful auction, etc)\n",
    "and the results are sorted by `event_timestamp`\n",
    "(see [OpenSea API documentation](https://docs.opensea.io/reference/getting-assets))."
   ]
  },
  {
   "cell_type": "code",
   "execution_count": null,
   "id": "0bab5861",
   "metadata": {},
   "outputs": [],
   "source": [
    "import os\n",
    "import time\n",
    "import numpy as np\n",
    "import numpy_financial as npf\n",
    "import pandas as pd\n",
    "import seaborn as sns\n",
    "\n",
    "data_dir = os.path.join(os.getcwd(), 'data')\n",
    "\n",
    "start_time = time.time()\n",
    "wallets = pd.read_feather(os.path.join(data_dir, 'NFT20_successful_events_new_有winneraddress.feather'))\n",
    "total_time = time.time() - start_time\n",
    "print(\"Total seconds to load:\", total_time)\n",
    "wallets.info(show_counts=True)"
   ]
  },
  {
   "cell_type": "code",
   "execution_count": null,
   "id": "526e8783-6c30-4f5f-bc3f-146dba065f00",
   "metadata": {
    "tags": []
   },
   "outputs": [],
   "source": [
    "wallets.rename({'wallet_address_input': 'collection_contract_address'}, axis=1, inplace=True)"
   ]
  },
  {
   "cell_type": "markdown",
   "id": "083d173c-a850-450f-9fd1-da7abc94dd7e",
   "metadata": {},
   "source": [
    "_\\* renaming the column to match API parameter_"
   ]
  },
  {
   "cell_type": "code",
   "execution_count": null,
   "id": "6b7ec414-d655-4c2b-9834-dcc4f44a1e50",
   "metadata": {
    "tags": []
   },
   "outputs": [],
   "source": [
    "wallets.drop(['starting_price', 'ending_price',\n",
    "              'approved_account', 'bid_amount', 'custom_event_name'],\n",
    "             axis=1, inplace=True)\n",
    "print(\"Memory usage:\", wallets.memory_usage().sum() / 1024**2, \"MB\")"
   ]
  },
  {
   "cell_type": "code",
   "execution_count": null,
   "id": "e20de59a-068d-4ec8-a889-bb7fefb9a72b",
   "metadata": {
    "tags": []
   },
   "outputs": [],
   "source": [
    "print(\"Most recent event:\", max(wallets.event_timestamp))"
   ]
  },
  {
   "cell_type": "code",
   "execution_count": null,
   "id": "a58b3db0-26e8-458f-b20c-86b4cfed0411",
   "metadata": {},
   "outputs": [],
   "source": [
    "print(\"Earliest event:\", min(wallets.event_timestamp))"
   ]
  },
  {
   "cell_type": "code",
   "execution_count": null,
   "id": "aa8efcc1-4eee-45de-b02d-1a93a02778ba",
   "metadata": {
    "tags": []
   },
   "outputs": [],
   "source": [
    "print(\"Length of this time series dataset:\", max(wallets.event_timestamp) - min(wallets.event_timestamp))"
   ]
  },
  {
   "cell_type": "markdown",
   "id": "b1e6c875-010a-4e26-b010-fedf76c11677",
   "metadata": {},
   "source": [
    "## Reshape the dataframe"
   ]
  },
  {
   "cell_type": "code",
   "execution_count": null,
   "id": "d3a186c2-82ed-46bf-86a3-dda261a33ef1",
   "metadata": {},
   "outputs": [],
   "source": [
    "buy = wallets.set_index('winner_account_address').rename_axis('user_account_address')\n",
    "buy['event_type'] = 'buy'\n",
    "sell = wallets.set_index('token_seller_address').rename_axis('user_account_address')\n",
    "sell['event_type'] = 'sell'"
   ]
  },
  {
   "cell_type": "code",
   "execution_count": null,
   "id": "223563bb-40c4-45e3-8d19-1c81f1cbab28",
   "metadata": {},
   "outputs": [],
   "source": [
    "wallets = pd.concat([buy, sell]).reset_index().drop(['winner_account_address', 'token_seller_address'], axis=1)"
   ]
  },
  {
   "cell_type": "code",
   "execution_count": null,
   "id": "e8f0d10e-a5ab-4d1d-9bd9-cdebf5cef5e4",
   "metadata": {
    "tags": []
   },
   "outputs": [],
   "source": [
    "print(\"Total number of wallet addresses used to retrieve data from OpenSea:\", f'{wallets.user_account_address.nunique(): ,}')"
   ]
  },
  {
   "cell_type": "markdown",
   "id": "f64e6a46-6e86-47ca-a077-5ee23a064b53",
   "metadata": {},
   "source": [
    "## NFT collections in this dataset"
   ]
  },
  {
   "cell_type": "code",
   "execution_count": null,
   "id": "ccc76803-2003-415a-bc3d-56e0a7ff72d8",
   "metadata": {},
   "outputs": [],
   "source": [
    "wallets.groupby(by='collection_slug') \\\n",
    "    .agg({'event_timestamp': ['min', 'max', lambda x: (max(x) - min(x)).days],\n",
    "          'event_type': 'size',\n",
    "          'user_account_address': 'nunique'}) \n",
    "    #.sort_values(by='event_timestamp', ascending=False)"
   ]
  },
  {
   "cell_type": "markdown",
   "id": "f578c3aa",
   "metadata": {},
   "source": [
    "_\\* lambda_0 represents the length of collection history, size of `event_type` the number of successful sales, nunique `user_account address` the number of unique wallets._"
   ]
  },
  {
   "cell_type": "markdown",
   "id": "864c94da",
   "metadata": {},
   "source": [
    "Do we left, right or both censor the time series?"
   ]
  },
  {
   "cell_type": "markdown",
   "id": "6835549b-e2f4-4061-a54c-6c020103114f",
   "metadata": {
    "tags": []
   },
   "source": [
    "## Data distribution (WIP)\n",
    "\n",
    "... this project selects only transaction involving top-20 nft collections "
   ]
  },
  {
   "cell_type": "markdown",
   "id": "a421d54a-730d-4f3d-905e-481f5c552d03",
   "metadata": {},
   "source": [
    "## Questions\n",
    "\n",
    "- What is asset_event `created_date`, and how does it differ from `event_timestamp`?\n",
    "  Would asset_contract created_date be more useful than asset_event created_date?\n",
    "- Why are `starting_price` and `ending_price` always _null_?\n",
    "- What can we do with `token_owner_address`?\n",
    "- What can we do with `num_sales`? \n",
    "- `contract_address` appears to be the address of the smart contract used to execute the sales, i.e. exchange. How can we use this?"
   ]
  },
  {
   "cell_type": "markdown",
   "id": "072bb468-4d49-4b00-b32c-e70912f8bdca",
   "metadata": {},
   "source": [
    "# Impute data"
   ]
  },
  {
   "cell_type": "markdown",
   "id": "4c97032c-d6ba-4469-a1ca-16115ae5e700",
   "metadata": {
    "tags": []
   },
   "source": [
    "## `buy` vs. `sell` event_type"
   ]
  },
  {
   "cell_type": "code",
   "execution_count": null,
   "id": "06c280c2",
   "metadata": {},
   "outputs": [],
   "source": [
    "wallets.groupby(by=['collection_slug', 'event_type']) \\\n",
    "    .agg({'event_type': 'size', 'user_account_address': 'nunique'})"
   ]
  },
  {
   "cell_type": "markdown",
   "id": "747e7d1c-350c-4279-94a3-3133d249d5fb",
   "metadata": {},
   "source": [
    "## `duration`\n",
    "the time between the token listed and the completion of the the sale\n",
    "\n",
    "_What to do when listing_time is `NaT`_? << We will fill duration NA with `pd.Timedelta(0)`, i.e. 0"
   ]
  },
  {
   "cell_type": "code",
   "execution_count": null,
   "id": "881fcadc-a869-43a6-8dd7-14591221e068",
   "metadata": {},
   "outputs": [],
   "source": [
    "wallets.query('duration.isna()').loc[:,[\"event_timestamp\", \"event_type\", \"listing_time\", \"payment_token_symbol\", \"deal_price\"]].sort_values('listing_time')"
   ]
  },
  {
   "cell_type": "code",
   "execution_count": null,
   "id": "a4d9a87d-69eb-4e49-a3e2-89c36624605d",
   "metadata": {
    "tags": []
   },
   "outputs": [],
   "source": [
    "wallets.duration = wallets.event_timestamp - wallets.listing_time\n",
    "wallets.duration.fillna(pd.Timedelta(0), inplace=True)\n",
    "wallets.groupby([\"user_account_address\", \"event_type\"])[\"duration\"].mean().tail(10)"
   ]
  },
  {
   "cell_type": "markdown",
   "id": "83ed7344-9c8c-41f6-b2fa-1c7d257a8264",
   "metadata": {},
   "source": [
    "## `deal_price`, `deal_price_usd` and payment token attributes\n",
    "\n",
    "payment token attributes: {symbol, decimals, and usdprice}"
   ]
  },
  {
   "cell_type": "code",
   "execution_count": null,
   "id": "c616050f-ee84-408d-a7a4-ff885e080f64",
   "metadata": {
    "tags": []
   },
   "outputs": [],
   "source": [
    "print(\"Number of observations missing token symbol, decimals or usdprice:\",\n",
    "      sum(wallets.payment_token_symbol.isna()), \n",
    "      sum(wallets.payment_token_decimals.isna()),\n",
    "      sum(wallets.payment_token_usdprice.isna()))"
   ]
  },
  {
   "cell_type": "code",
   "execution_count": null,
   "id": "b6971f0f-5a0d-4daa-b66f-89de682e95a3",
   "metadata": {
    "tags": []
   },
   "outputs": [],
   "source": [
    "wallets[wallets.payment_token_symbol.isna() |\n",
    "        wallets.payment_token_decimals.isna() |\n",
    "        wallets.payment_token_usdprice.isna()].shape[0]"
   ]
  },
  {
   "cell_type": "markdown",
   "id": "af0ded10-a264-4cc2-88c8-2f6a02c18641",
   "metadata": {},
   "source": [
    "Is the total number of records missing either payment token symbol, token decimals, i.e. the deal price multiplication factor,\n",
    "or the token to USD exchange rate? **We will ignore these record for now.**"
   ]
  },
  {
   "cell_type": "code",
   "execution_count": null,
   "id": "3c1d85b1",
   "metadata": {},
   "outputs": [],
   "source": [
    "wallets[\"deal_price\"] = wallets.deal_price / 10 ** wallets.payment_token_decimals\n",
    "wallets.drop(\"payment_token_decimals\", axis=1, inplace=True)\n",
    "wallets.deal_price.agg({max, np.mean, min})"
   ]
  },
  {
   "cell_type": "code",
   "execution_count": null,
   "id": "4cddb2ad-1fd3-4f9d-9d7c-447b9fcdd463",
   "metadata": {},
   "outputs": [],
   "source": [
    "wallets[\"deal_price_usd\"] = wallets.deal_price * wallets.payment_token_usdprice\n",
    "wallets.deal_price_usd.agg({max, np.mean, min})"
   ]
  },
  {
   "cell_type": "markdown",
   "id": "3792b27c-cd38-4f08-b4bb-94bc0052769d",
   "metadata": {
    "tags": []
   },
   "source": [
    "## `is_private` sales\n",
    "\n",
    "_Do we assume Nan is __not__ private, i.e. 0?_"
   ]
  },
  {
   "cell_type": "code",
   "execution_count": null,
   "id": "7d66622e-f824-469b-95fc-6a64dbcd0395",
   "metadata": {},
   "outputs": [],
   "source": [
    "wallets.is_private.value_counts(dropna=False)"
   ]
  },
  {
   "cell_type": "markdown",
   "id": "04073a92-e9ad-43f0-9b00-5817e2349846",
   "metadata": {
    "tags": []
   },
   "source": [
    "## `deal_price` is 0 or NaN\n",
    "\n",
    "Do we keep these rows?"
   ]
  },
  {
   "cell_type": "code",
   "execution_count": null,
   "id": "b376bcbe-6a62-446c-afa6-940d6ebe885a",
   "metadata": {
    "tags": []
   },
   "outputs": [],
   "source": [
    "wallets[wallets.deal_price == 0]"
   ]
  },
  {
   "cell_type": "code",
   "execution_count": null,
   "id": "3edf67aa-e59e-428c-90a0-e683fd48fdb0",
   "metadata": {
    "tags": []
   },
   "outputs": [],
   "source": [
    "wallets[wallets.deal_price.isna()]"
   ]
  },
  {
   "cell_type": "markdown",
   "id": "b7547b10-2779-4004-9b7e-2da70681e5bc",
   "metadata": {},
   "source": [
    "## Payment tokens metadata are missing"
   ]
  },
  {
   "cell_type": "code",
   "execution_count": null,
   "id": "338884e6-71d7-4fb1-96ed-5712b2edddd7",
   "metadata": {
    "tags": []
   },
   "outputs": [],
   "source": [
    "print(\"number of rows missing payment token data:\",\n",
    "      sum(wallets.payment_token_symbol.isna()))"
   ]
  },
  {
   "cell_type": "markdown",
   "id": "26832e33-8c8c-44c1-8bd8-f4214e3aa319",
   "metadata": {},
   "source": [
    "## `quantity`\n",
    "\n",
    "Let purchased quantity be negative and sold be positive."
   ]
  },
  {
   "cell_type": "code",
   "execution_count": null,
   "id": "94adbdf1",
   "metadata": {},
   "outputs": [],
   "source": [
    "wallets.loc[:,'quantity'] = np.where(wallets.event_type == 'buy', -wallets.quantity, wallets.quantity)"
   ]
  },
  {
   "cell_type": "code",
   "execution_count": null,
   "id": "d1af0e1e",
   "metadata": {},
   "outputs": [],
   "source": [
    "wallets.quantity.apply([min, np.median, np.mean, max])"
   ]
  },
  {
   "cell_type": "code",
   "execution_count": null,
   "id": "cbee3ac7-43c3-4543-a6ea-ac7a60208a3c",
   "metadata": {
    "tags": []
   },
   "outputs": [],
   "source": [
    "abs(wallets.quantity).quantile(q=[x / 10000 for x in range(0, 10000)]).tail(20)"
   ]
  },
  {
   "cell_type": "markdown",
   "id": "1a2cdfca",
   "metadata": {},
   "source": [
    "99.9% of trades are single NFT"
   ]
  },
  {
   "cell_type": "markdown",
   "id": "00636e23",
   "metadata": {
    "tags": []
   },
   "source": [
    "## WIP quantity and deal_price\n",
    "\n",
    "Both `quantity` and `deal_price` however are heavily right skewed, i.e. mean > median."
   ]
  },
  {
   "cell_type": "code",
   "execution_count": null,
   "id": "2d601a65-ac87-4fd8-a4a4-e90c01c5fec5",
   "metadata": {},
   "outputs": [],
   "source": [
    "collection_stats = wallets.loc[~wallets.quantity.isna()] \\\n",
    "    .groupby('collection_slug')[['quantity', 'deal_price_usd']].agg(['min', 'median', 'mean', \"max\", \"sum\"])\n",
    "#collection_stats.loc['cool-cats-nft']\n",
    "collection_stats"
   ]
  },
  {
   "cell_type": "markdown",
   "id": "9cf3a0b5-a527-4bff-a3ff-9980bf1fea68",
   "metadata": {
    "tags": []
   },
   "source": [
    "## `num_sales`\n",
    "\n",
    "_How does this field differ from `quantity`?_ Number of token minted, or number of times this token has exchanged hands?\n",
    "\n",
    "Assuming this is either the number of times a particular NFT has been sold (between two parties)"
   ]
  },
  {
   "cell_type": "code",
   "execution_count": null,
   "id": "306c985c-61da-4cff-b2e4-58682fd519cd",
   "metadata": {},
   "outputs": [],
   "source": [
    "_ = wallets.num_sales.hist()"
   ]
  },
  {
   "cell_type": "code",
   "execution_count": null,
   "id": "1c9e791c-314e-4d39-999e-1217c23adddd",
   "metadata": {},
   "outputs": [],
   "source": [
    "wallets.num_sales.agg([\"min\", \"mean\", \"median\", \"max\"]) "
   ]
  },
  {
   "cell_type": "code",
   "execution_count": null,
   "id": "cb4d991e-b8a4-496e-89c2-da5e8069047e",
   "metadata": {
    "tags": []
   },
   "outputs": [],
   "source": [
    "sum(wallets.num_sales.isna())"
   ]
  },
  {
   "cell_type": "code",
   "execution_count": null,
   "id": "0efe2cac",
   "metadata": {},
   "outputs": [],
   "source": [
    "wallets.num_sales.fillna(2, inplace=True)"
   ]
  },
  {
   "cell_type": "markdown",
   "id": "86c50c09-9799-4d0b-a399-ac7b6c82d9ed",
   "metadata": {
    "toc-hr-collapsed": true
   },
   "source": [
    "## `cashflow` and `cashflow_usd` as a simple method to calculate profit"
   ]
  },
  {
   "cell_type": "code",
   "execution_count": null,
   "id": "75b9b331-078d-4c3a-a319-8db29efae95a",
   "metadata": {
    "tags": []
   },
   "outputs": [],
   "source": [
    "wallets[\"cashflow\"] = np.where(wallets.event_type == \"buy\",\n",
    "                                -wallets.deal_price,\n",
    "                                 wallets.deal_price)\n",
    "wallets[\"cashflow_usd\"] = np.where(wallets.event_type == \"buy\",\n",
    "                                -wallets.deal_price_usd,\n",
    "                                 wallets.deal_price_usd)\n",
    "wallets.loc[:, [\"event_type\", \"cashflow\", \"cashflow_usd\"]]"
   ]
  },
  {
   "cell_type": "markdown",
   "id": "c673e8b7-98bd-4837-b816-b1efa160b67f",
   "metadata": {},
   "source": [
    "Example: January 2020 cash flow"
   ]
  },
  {
   "cell_type": "code",
   "execution_count": null,
   "id": "a721a475-b1ba-4612-868e-96c9e9b60242",
   "metadata": {},
   "outputs": [],
   "source": [
    "wallets.set_index('event_timestamp') \\\n",
    "    .loc['2022-01'] \\\n",
    "    .groupby(['user_account_address', 'payment_token_symbol']) \\\n",
    "    [['cashflow', 'cashflow_usd']].sum() \\\n",
    "    .sort_values(by=['cashflow_usd', 'cashflow'], ascending=False)"
   ]
  },
  {
   "cell_type": "markdown",
   "id": "61d7b74c",
   "metadata": {},
   "source": [
    "To calculate cash flow by collection: `groupby(['user_account_address', 'payment_token_symbol', 'collection_slug'])`"
   ]
  },
  {
   "cell_type": "markdown",
   "id": "467219c5-0d29-4845-9011-49ff9ef22983",
   "metadata": {},
   "source": [
    "Big Trader?"
   ]
  },
  {
   "cell_type": "code",
   "execution_count": null,
   "id": "109cdc19-59c0-494d-89b4-65e4aeaebb94",
   "metadata": {
    "tags": []
   },
   "outputs": [],
   "source": [
    "wallets.loc[wallets.user_account_address == \"0x17082a8fbae3c10d73a361f218ae77bafb62bf4d\"]"
   ]
  },
  {
   "cell_type": "markdown",
   "id": "f723eb05-1dfe-471d-b81a-f91d0d30cdf7",
   "metadata": {},
   "source": [
    "# Create features\n",
    "\n",
    "Let `wallets_attr` be a collection of pandas Series, each consisting `user_account_address` as index and its attributes, and\n",
    "\n",
    "`wallets_slug_attr` be aa collection of pandas Series, each consisting `user_account_address` and `collection_slug` as index and its attributes."
   ]
  },
  {
   "cell_type": "code",
   "execution_count": null,
   "id": "3fa87d1b",
   "metadata": {},
   "outputs": [],
   "source": [
    "grp_wallets = wallets.groupby('user_account_address')\n",
    "grp_wallets_slug = wallets.groupby(['user_account_address', 'collection_slug'])"
   ]
  },
  {
   "cell_type": "markdown",
   "id": "d8b93bb9-d773-473f-96a5-cd0379da74b5",
   "metadata": {
    "tags": []
   },
   "source": [
    "## wallet `age` in days\n",
    "\n",
    "This is not the actual age of the wallet. It is the length of trading history in days inferred by subtracting the timestamp of the most recent event from the oldest event."
   ]
  },
  {
   "cell_type": "code",
   "execution_count": null,
   "id": "812a8689-ebc4-417c-82a6-137129958f07",
   "metadata": {
    "tags": []
   },
   "outputs": [],
   "source": [
    "X = grp_wallets['event_timestamp'].agg([lambda x: (max(x) - min(x)).days])\n",
    "X.columns = ['age']\n",
    "wallets_attr = [X]"
   ]
  },
  {
   "cell_type": "code",
   "execution_count": null,
   "id": "c8caf24f",
   "metadata": {},
   "outputs": [],
   "source": [
    "X[X.age <= 0].sort_values('age')"
   ]
  },
  {
   "cell_type": "markdown",
   "id": "403744e2-9880-4d98-b81a-b26f5ec10338",
   "metadata": {},
   "source": [
    "_Do we ignore wallet age is 0 or over x months old (inactive wallet)?_"
   ]
  },
  {
   "cell_type": "markdown",
   "id": "7078f40b",
   "metadata": {
    "tags": []
   },
   "source": [
    "## wallet `age` in days by `collection_slug`"
   ]
  },
  {
   "cell_type": "code",
   "execution_count": null,
   "id": "be247a46",
   "metadata": {},
   "outputs": [],
   "source": [
    "X = grp_wallets_slug['event_timestamp'].agg([lambda x: (max(x) - min(x)).days])\n",
    "X.columns = ['age']\n",
    "wallets_slug_attr = [X]"
   ]
  },
  {
   "cell_type": "code",
   "execution_count": null,
   "id": "2a6a51a4",
   "metadata": {},
   "outputs": [],
   "source": [
    "X[X.age <= 0].sort_values('age')"
   ]
  },
  {
   "cell_type": "markdown",
   "id": "44d52836",
   "metadata": {},
   "source": [
    "_Do we ignore wallet age is 0 or over x months old (inactive wallet)?_"
   ]
  },
  {
   "cell_type": "markdown",
   "id": "ff03bc34-c442-4235-b90a-d0235d40e35c",
   "metadata": {
    "tags": []
   },
   "source": [
    "## `mean_duration` average number of days to complete sales (or purchase)\n",
    "\n",
    "This is defined as the average difference in days between the time a token is listed and the time the sales is completed."
   ]
  },
  {
   "cell_type": "code",
   "execution_count": null,
   "id": "b0064d94-ba03-4db6-942a-ac93119905ca",
   "metadata": {},
   "outputs": [],
   "source": [
    "X = grp_wallets['duration'].mean().dt.days\n",
    "X.name = 'mean_duration'\n",
    "wallets_attr.append(X)"
   ]
  },
  {
   "cell_type": "markdown",
   "id": "8e0ea0ee-6dca-40b5-8e27-673c97fbc4a0",
   "metadata": {
    "tags": []
   },
   "source": [
    "## `mean_duration` by collection\n",
    "\n",
    "This is defined as average days to complete a sales (or purchase) by collection"
   ]
  },
  {
   "cell_type": "code",
   "execution_count": null,
   "id": "5ac221e5-9387-49bd-a952-0073112c79c9",
   "metadata": {},
   "outputs": [],
   "source": [
    "X = grp_wallets_slug['duration'].mean().dt.days\n",
    "X.name = 'mean_duration'\n",
    "wallets_slug_attr.append(X)"
   ]
  },
  {
   "cell_type": "markdown",
   "id": "626ac6e3",
   "metadata": {},
   "source": [
    "## `num_nft` the number of NFT having owned since the beginning"
   ]
  },
  {
   "cell_type": "code",
   "execution_count": null,
   "id": "7f7d20ce",
   "metadata": {},
   "outputs": [],
   "source": [
    "X = grp_wallets['quantity'].agg(lambda x : sum(abs(x)))\n",
    "X.name = 'num_nft'\n",
    "wallets_attr.append(X)"
   ]
  },
  {
   "cell_type": "markdown",
   "id": "aedfcf52",
   "metadata": {},
   "source": [
    "## `num_collection` number of collections having owned since the beginning"
   ]
  },
  {
   "cell_type": "code",
   "execution_count": null,
   "id": "f76504ab",
   "metadata": {},
   "outputs": [],
   "source": [
    "X = grp_wallets['collection_slug'].nunique()\n",
    "X.name = 'num_collection'\n",
    "wallets_attr.append(X)"
   ]
  },
  {
   "cell_type": "markdown",
   "id": "6b349f5f",
   "metadata": {
    "toc-hr-collapsed": true
   },
   "source": [
    "## `num_nft_onhand` the number of NFT currently on-hand"
   ]
  },
  {
   "cell_type": "markdown",
   "id": "1e6c8600",
   "metadata": {},
   "source": [
    "per wallet\n"
   ]
  },
  {
   "cell_type": "code",
   "execution_count": null,
   "id": "98fe13f4",
   "metadata": {},
   "outputs": [],
   "source": [
    "X = grp_wallets['quantity'].sum()\n",
    "X.name = 'num_nft_onhand'\n",
    "wallets_attr.append(X)"
   ]
  },
  {
   "cell_type": "code",
   "execution_count": null,
   "id": "bd92f42b",
   "metadata": {},
   "outputs": [],
   "source": [
    "pd.concat(wallets_attr, axis=1).query('num_nft_onhand < 0')"
   ]
  },
  {
   "cell_type": "markdown",
   "id": "77c18c5a",
   "metadata": {},
   "source": [
    "per wallet by collection"
   ]
  },
  {
   "cell_type": "code",
   "execution_count": null,
   "id": "8c21c275",
   "metadata": {},
   "outputs": [],
   "source": [
    "X = grp_wallets_slug['quantity'].sum()\n",
    "X.name = 'num_nft_onhand'\n",
    "wallets_slug_attr.append(X)"
   ]
  },
  {
   "cell_type": "code",
   "execution_count": null,
   "id": "68336f02",
   "metadata": {},
   "outputs": [],
   "source": [
    "pd.concat(wallets_slug_attr, axis=1).query('num_nft_onhand < 0')"
   ]
  },
  {
   "cell_type": "markdown",
   "id": "ce5b86d8-daa1-40e4-9b28-df03c09a5082",
   "metadata": {},
   "source": [
    "_How do we adjust for data anomaly where `num_nft_onhand < 0`? Should we drop the anomaly, or should we make impute them to `0`?_"
   ]
  },
  {
   "cell_type": "markdown",
   "id": "db67b2d2-d0e5-4b56-8846-d532019e72f5",
   "metadata": {},
   "source": [
    "## `num_collect_onhand` the number of collections on-hand\n",
    "\n",
    "The number of NFT on-hand the collection must be greater than 0."
   ]
  },
  {
   "cell_type": "code",
   "execution_count": null,
   "id": "c3edd6bf",
   "metadata": {},
   "outputs": [],
   "source": [
    "X = grp_wallets_slug['quantity'].sum()\n",
    "X = X[X > 0].reset_index().groupby('user_account_address').size()\n",
    "X.name = 'num_collect_onhand'\n",
    "wallets_attr.append(X)\n",
    "X.shape"
   ]
  },
  {
   "cell_type": "code",
   "execution_count": null,
   "id": "1d50d296",
   "metadata": {},
   "outputs": [],
   "source": [
    "pd.concat(wallets_attr, axis=1).query('num_collect_onhand.isna()')"
   ]
  },
  {
   "cell_type": "markdown",
   "id": "34ccf526",
   "metadata": {},
   "source": [
    "_How do we adjust for `num_collect_onhand` is None?_"
   ]
  },
  {
   "cell_type": "markdown",
   "id": "d960ed67-2ba1-4296-8629-44912602448f",
   "metadata": {
    "tags": []
   },
   "source": [
    "## `num_event_contracts`\n",
    "\n",
    "How do we make use of this feature?"
   ]
  },
  {
   "cell_type": "code",
   "execution_count": null,
   "id": "046a632c-a975-435a-b1e5-4f9760816831",
   "metadata": {},
   "outputs": [],
   "source": [
    "grp_wallets[['contract_address', 'collection_slug']].nunique().sort_values('contract_address')"
   ]
  },
  {
   "cell_type": "markdown",
   "id": "59772ce6",
   "metadata": {},
   "source": [
    "## `cumnum_nft_month` pd.DataFrame.cumsum by Month (TODO)\n",
    "\n",
    "How would this feature be useful?"
   ]
  },
  {
   "cell_type": "code",
   "execution_count": null,
   "id": "6eeee73a",
   "metadata": {},
   "outputs": [],
   "source": []
  },
  {
   "cell_type": "markdown",
   "id": "1fc3290e",
   "metadata": {},
   "source": [
    "## `duration_held`\n",
    "\n",
    "This duration or hold period is calculated at the individual NFT level. By including both the `collection_slug` and `token_id` as index, it is not necessary to calculate a separate column to hold a compound-key like:\n",
    "```\n",
    "X['nft_id'] = X.collection_slug + '-' + X.token_id\n",
    "```\n",
    "\n",
    "`min` and `max` of `event_timestamp` are used to account for the same token being bought and sold more than once by the same wallet."
   ]
  },
  {
   "cell_type": "code",
   "execution_count": null,
   "id": "d78b1b0a",
   "metadata": {},
   "outputs": [],
   "source": [
    "X = wallets.pivot_table(index=['user_account_address', 'collection_slug', 'token_id'],\n",
    "                  columns='event_type', values='event_timestamp',\n",
    "                  aggfunc=['min', 'max']) \\\n",
    "    .assign(duration_held=lambda x: (x[('max', 'sell')] - x[('min', 'buy')])) \\\n",
    "    .dropna()\n",
    "duration_held = X.duration_held\n",
    "duration_held"
   ]
  },
  {
   "cell_type": "markdown",
   "id": "89992b5b-36a8-4e67-a4a2-d9892d4dd247",
   "metadata": {},
   "source": [
    "## `mean_duration_held` average time NFT held before selling\n",
    "\n",
    "The average time between buy and sell."
   ]
  },
  {
   "cell_type": "code",
   "execution_count": null,
   "id": "5a99c3e4-6183-4a23-87d0-378f852cde73",
   "metadata": {},
   "outputs": [],
   "source": [
    "X = duration_held.groupby('user_account_address').mean()\n",
    "X.name = 'mean_duration_held'\n",
    "wallets_attr.append(X)\n",
    "X"
   ]
  },
  {
   "cell_type": "markdown",
   "id": "66ebbd18-6833-42d3-ba78-9368b39414ca",
   "metadata": {},
   "source": [
    "## `endurance_rank`\n",
    "\n",
    "The percentage rank of the average hold period at the wallet level measured using the entire population included in this analysis."
   ]
  },
  {
   "cell_type": "code",
   "execution_count": null,
   "id": "721a32d1",
   "metadata": {},
   "outputs": [],
   "source": [
    "X = duration_held.groupby('user_account_address') \\\n",
    "    .agg(['size', 'mean'])\n",
    "X.sort_values(by='mean')"
   ]
  },
  {
   "cell_type": "markdown",
   "id": "ee052788",
   "metadata": {},
   "source": [
    "Data anomaly - excluding these wallets"
   ]
  },
  {
   "cell_type": "code",
   "execution_count": null,
   "id": "4939dbe5",
   "metadata": {},
   "outputs": [],
   "source": [
    "X[X['mean'] < pd.Timedelta(0)]"
   ]
  },
  {
   "cell_type": "code",
   "execution_count": null,
   "id": "943190f0-23a3-4127-9b5b-da2c93afb815",
   "metadata": {},
   "outputs": [],
   "source": [
    "X = X[X['mean'] > pd.Timedelta(0)] \\\n",
    "    .assign(endurance_rank=lambda x: x['mean'].rank(pct=True)) \\\n",
    "    .sort_values('endurance_rank', ascending=False)\n",
    "X"
   ]
  },
  {
   "cell_type": "markdown",
   "id": "66b6e31c-cadc-4450-9e22-a56733285f26",
   "metadata": {},
   "source": [
    "\\* _How do we account for wallets that had made few trade but long hold time?_"
   ]
  },
  {
   "cell_type": "code",
   "execution_count": null,
   "id": "934b0a5a-8e0a-4ebb-882d-c5775c08cfab",
   "metadata": {},
   "outputs": [],
   "source": [
    "wallets_attr.append(X.endurance_rank)"
   ]
  },
  {
   "cell_type": "markdown",
   "id": "15a17d18-c66a-49d3-b435-9760cea5922b",
   "metadata": {},
   "source": [
    "## _buy_ vs _sell_ to date\n",
    "\n",
    "- The total number aka __count__ of transactions and the quantity aka __sum__ of NFT\n",
    "- The median and the total amount of transactions in USD"
   ]
  },
  {
   "cell_type": "code",
   "execution_count": null,
   "id": "3cf8f608-07e0-485e-b4f0-5e21ecefcc6b",
   "metadata": {
    "tags": []
   },
   "outputs": [],
   "source": [
    "X = wallets.rename(columns={\"user_account_address\": \"user_account_address\"}) \\\n",
    "    .loc[:, [\"user_account_address\", \"event_type\", \"quantity\", \"deal_price_usd\"]] \\\n",
    "    .pivot_table(index=\"user_account_address\",\n",
    "                 columns=\"event_type\",\n",
    "                 values=[\"quantity\", \"deal_price_usd\"],\n",
    "                 aggfunc={\"quantity\": [\"count\", \"sum\"], \"deal_price_usd\": [\"median\", \"sum\"]},\n",
    "                 fill_value=0)\n",
    "X"
   ]
  },
  {
   "cell_type": "code",
   "execution_count": null,
   "id": "2cf1aa1a-dc8c-44c0-ba74-e05421dc9fee",
   "metadata": {
    "tags": []
   },
   "outputs": [],
   "source": [
    "X[ X[(\"quantity\", \"sum\", \"sell\")] > X[(\"quantity\", \"count\", \"sell\")] ].loc[:, \"quantity\"]"
   ]
  },
  {
   "cell_type": "markdown",
   "id": "56a93c59-d341-4067-bae0-2d54ed6f0c8e",
   "metadata": {},
   "source": [
    "Examples which users had _bundled_ multiple NFTs in past transactions, i.e. total quantity sold (count, sell) is greater than the number the transactions (sum, sell)."
   ]
  },
  {
   "cell_type": "code",
   "execution_count": null,
   "id": "0c15127b-f1a8-4f9d-bb7c-e06cbee12dc2",
   "metadata": {},
   "outputs": [],
   "source": [
    "idx = X.sort_values(('quantity', 'count', 'sell')).iloc[-10].name"
   ]
  },
  {
   "cell_type": "code",
   "execution_count": null,
   "id": "3109aeb3-e866-41f5-85ae-eb03077f3ddb",
   "metadata": {},
   "outputs": [],
   "source": [
    "wallets.set_index(\"user_account_address\") \\\n",
    "    .loc[idx,\n",
    "         [\"event_timestamp\", \"event_type\", \"quantity\"]].sort_values(\"event_timestamp\")"
   ]
  },
  {
   "cell_type": "markdown",
   "id": "558fef67-56d1-431a-92a1-e2af8740bec1",
   "metadata": {},
   "source": [
    "An example showing the transaction history from an user."
   ]
  },
  {
   "cell_type": "code",
   "execution_count": null,
   "id": "8a1845e8-cba9-4599-826e-b38df6e32eee",
   "metadata": {
    "tags": []
   },
   "outputs": [],
   "source": [
    "X.columns = ['median_buy_usd', 'median_sell_usd', 'total_buy_usd', 'total_sell_usd', 'buy_xact', 'sell_xact', 'quantity_buy', 'quantity_sell']\n",
    "X.quantity_buy = X.quantity_buy.abs()\n",
    "wallets_attr.append(X)"
   ]
  },
  {
   "cell_type": "markdown",
   "id": "5229a07f-2914-4188-967a-9cd0aadb50fa",
   "metadata": {},
   "source": [
    "## `irr` internal rate of return (WIP)"
   ]
  },
  {
   "cell_type": "code",
   "execution_count": null,
   "id": "4df4f78a-54e3-477b-88b2-0bf8b1f06ea7",
   "metadata": {
    "tags": []
   },
   "outputs": [],
   "source": [
    "_ = wallets.groupby(['user_account_address', pd.Grouper(key='event_timestamp', freq='1M')])['cashflow_usd'].sum()\n",
    "_"
   ]
  },
  {
   "cell_type": "code",
   "execution_count": null,
   "id": "97cadf6b-6c5d-4c12-8fea-e89377c5736b",
   "metadata": {},
   "outputs": [],
   "source": [
    "_.groupby('user_account_address').agg(npf.irr)"
   ]
  },
  {
   "cell_type": "code",
   "execution_count": null,
   "id": "74f154db-5d7a-4913-a555-1e6d3d3febbe",
   "metadata": {},
   "outputs": [],
   "source": [
    "_['0x000000000004d7463d0f9c77383600bc82d612f5']"
   ]
  },
  {
   "cell_type": "code",
   "execution_count": null,
   "id": "c38b10dc-26d2-442e-ba94-7ecbd350793f",
   "metadata": {},
   "outputs": [],
   "source": [
    "_['0x000000000ad266ec3db44bbe580e87f9baa358e6']"
   ]
  },
  {
   "cell_type": "code",
   "execution_count": null,
   "id": "1c8c9e03-6a4e-49e2-a891-f44ad3bff2d6",
   "metadata": {},
   "outputs": [],
   "source": [
    "_['0x000000070f91b6c56fa08d4f3a26c7fc992b38f4']"
   ]
  },
  {
   "cell_type": "code",
   "execution_count": null,
   "id": "9d58c386-6637-4b3d-b98c-d058683fa0f2",
   "metadata": {},
   "outputs": [],
   "source": [
    "_['0x0004ff7e7217dc672874fece2c7588581e97b1a7']"
   ]
  },
  {
   "cell_type": "code",
   "execution_count": null,
   "id": "27320df7-86ee-4c97-878b-40c63975ffe9",
   "metadata": {},
   "outputs": [],
   "source": [
    "_['0x000cd27f10dffac73201258eaa3925c0452051a0']"
   ]
  },
  {
   "cell_type": "code",
   "execution_count": null,
   "id": "84d62106-f0b8-4156-962a-9fb819de2b2e",
   "metadata": {},
   "outputs": [],
   "source": [
    "_['0xffffc32855b2620c86f413065af8c58ec68d474d']"
   ]
  },
  {
   "cell_type": "markdown",
   "id": "11b64d3b-737e-4d21-91a3-8bca3c6afd67",
   "metadata": {
    "tags": []
   },
   "source": [
    "## `profit_usd` to date\n",
    "\n",
    "Profit or lost is defined as the difference in purchasing an NFT preceding\n",
    "the selling of the same token by the same wallet. Proceeds from repeated\n",
    "purchasing and selling of the same token are added together."
   ]
  },
  {
   "cell_type": "code",
   "execution_count": null,
   "id": "ffcb4608-fdcd-4a46-8c82-cbe552257a7f",
   "metadata": {},
   "outputs": [],
   "source": [
    "X = wallets.groupby(['user_account_address', 'collection_slug', 'token_id', 'event_type']) \\\n",
    "    ['cashflow_usd'].sum() \\\n",
    "    .reset_index(level=3) \\\n",
    "    .pivot(columns='event_type') \\\n",
    "    .dropna() \\\n",
    "    .reset_index(col_level=1).droplevel(0, axis=1) \\\n",
    "    .melt(id_vars=['user_account_address', 'collection_slug', 'token_id'],\n",
    "          value_vars=['buy', 'sell'],\n",
    "          value_name='profit_usd')\n",
    "X"
   ]
  },
  {
   "cell_type": "markdown",
   "id": "4f31417c-2958-49df-8187-d4c7bb46d7dd",
   "metadata": {},
   "source": [
    "**_TODO:_ Redo the above code chunk. It's a bit convoluted**"
   ]
  },
  {
   "cell_type": "code",
   "execution_count": null,
   "id": "f0833d7d-5338-49a2-9276-c70cef0cda9f",
   "metadata": {},
   "outputs": [],
   "source": [
    "wallets_attr.append(X.groupby('user_account_address')['profit_usd'].sum())"
   ]
  },
  {
   "cell_type": "markdown",
   "id": "7f7c07af-82aa-4112-b682-22bbfb91d1e1",
   "metadata": {},
   "source": [
    "## `cost_usd` to date\n",
    "\n",
    "Cost or cost basis is defined as the price paid for the NFT sold."
   ]
  },
  {
   "cell_type": "code",
   "execution_count": null,
   "id": "1ef903d4-cbc1-49ea-9b65-860eb8eeaeb0",
   "metadata": {},
   "outputs": [],
   "source": [
    "cost = X[X.event_type == 'buy'].groupby('user_account_address')['profit_usd'].sum().abs()\n",
    "cost.name = 'cost_usd'\n",
    "wallets_attr.append(cost)"
   ]
  },
  {
   "cell_type": "markdown",
   "id": "337d2167-bf11-40e3-820f-7d1af5467524",
   "metadata": {},
   "source": [
    "## `win`, `lose`, and `draw` counts to date"
   ]
  },
  {
   "cell_type": "code",
   "execution_count": null,
   "id": "7b1c5129-71c4-4801-8eff-50ed4fb4a4ef",
   "metadata": {},
   "outputs": [],
   "source": [
    "# WIP: unsure if we need this at event_timestamp level\n",
    "X = wallets.groupby(['user_account_address', 'collection_slug', 'token_id', 'event_type', 'event_timestamp']) \\\n",
    "    ['deal_price_usd'].sum() \\\n",
    "    .reset_index(level=['event_type', 'event_timestamp']) \n",
    "X"
   ]
  },
  {
   "cell_type": "code",
   "execution_count": null,
   "id": "855894b1-4bc9-4d32-b421-b9426a6f9cc8",
   "metadata": {
    "tags": []
   },
   "outputs": [],
   "source": [
    "X = wallets.groupby(['user_account_address', 'collection_slug', 'token_id', 'event_type']) \\\n",
    "    ['cashflow_usd'].sum() \\\n",
    "    .reset_index(level='event_type') \\\n",
    "    .pivot(columns='event_type') \\\n",
    "    .reset_index(col_level=1).droplevel(0, axis=1).assign(profit_usd=lambda x: x['sell'] + x['buy']) \\\n",
    "    .dropna()\n",
    "X['win_lose'] = X['profit_usd'].apply(lambda x: 'win' if x > 0 else ('lose' if x < 0 else 'draw'))\n",
    "X[X.profit_usd == 0]"
   ]
  },
  {
   "cell_type": "markdown",
   "id": "11563f07-ffd3-48be-8802-0e0b35e38473",
   "metadata": {},
   "source": [
    "Examine below one of the wallets with `draw`. The pattern seems like normal trading behavior."
   ]
  },
  {
   "cell_type": "code",
   "execution_count": null,
   "id": "f80a506c-79fb-49e0-9c30-73834ac96a02",
   "metadata": {
    "tags": []
   },
   "outputs": [],
   "source": [
    "wallets.loc[wallets.user_account_address == '0x001588cab7a0b727c388174b1ef20b2e3d20d39b',\n",
    "           ['event_timestamp', 'event_type', 'collection_slug', 'token_id', 'deal_price']] \\\n",
    "    .pivot(index=['collection_slug', 'token_id'], columns='event_type')"
   ]
  },
  {
   "cell_type": "code",
   "execution_count": null,
   "id": "0c4cc8d3-49be-43dd-8b97-2c825a55fe57",
   "metadata": {
    "tags": []
   },
   "outputs": [],
   "source": [
    "win_lose = X.groupby(['user_account_address', 'win_lose']).size() \\\n",
    "    .reset_index('win_lose').pivot(columns='win_lose').droplevel(0, axis=1)\n",
    "wallets_attr.append(win_lose)"
   ]
  },
  {
   "cell_type": "markdown",
   "id": "d2e36610-2e83-4bfe-8023-23c19e4daeb0",
   "metadata": {},
   "source": [
    "## `win_ratio` and `lose_ratio` Win-Lose ratios to date"
   ]
  },
  {
   "cell_type": "code",
   "execution_count": null,
   "id": "9f1ed2d6-5cd8-4a44-a855-6edb6615627a",
   "metadata": {},
   "outputs": [],
   "source": [
    "X = win_lose.fillna(0) \\\n",
    "    .assign(total=lambda x: x.sum(axis=1)) \\\n",
    "    .assign(win_ratio=lambda x: x.win / x.total) \\\n",
    "    .assign(lose_ratio=lambda x: x.lose / x.total)\n",
    "X.sort_values('lose')"
   ]
  },
  {
   "cell_type": "code",
   "execution_count": null,
   "id": "f41bd5b1-0411-41ec-8c61-e8d18a432837",
   "metadata": {},
   "outputs": [],
   "source": [
    "wallets_attr.append(X.loc[:, ['win_ratio', 'lose_ratio']])"
   ]
  },
  {
   "cell_type": "markdown",
   "id": "9148bb28-5d42-4cff-8266-0071b802cd5a",
   "metadata": {
    "tags": []
   },
   "source": [
    "## Convert to DataFrame"
   ]
  },
  {
   "cell_type": "code",
   "execution_count": null,
   "id": "a8ca29ed-8b02-446a-ab85-cd3218c88a43",
   "metadata": {
    "tags": []
   },
   "outputs": [],
   "source": [
    "wallets_attr = pd.concat(wallets_attr, axis=1)\n",
    "wallets_attr.shape"
   ]
  },
  {
   "cell_type": "code",
   "execution_count": null,
   "id": "363b0cae-8075-4552-bdc6-f3b0e8bf3f37",
   "metadata": {},
   "outputs": [],
   "source": [
    "wallets_attr"
   ]
  },
  {
   "cell_type": "markdown",
   "id": "acbde6d6-bd14-42c8-b7a0-a46201206611",
   "metadata": {
    "tags": []
   },
   "source": [
    "# Explore Data"
   ]
  },
  {
   "cell_type": "markdown",
   "id": "0730de6c-7572-4e18-9c95-5a79d4604771",
   "metadata": {},
   "source": [
    "## `profit_ratio`"
   ]
  },
  {
   "cell_type": "code",
   "execution_count": null,
   "id": "7787ff9f-9637-4f01-a465-ea2beb805178",
   "metadata": {},
   "outputs": [],
   "source": [
    "wallets_attr.assign(profit_ratio=lambda x: x.profit_usd / x.cost_usd).query('~profit_ratio.isna()').sort_values('profit_ratio')"
   ]
  },
  {
   "cell_type": "markdown",
   "id": "ebc425d6-2700-46bb-8f0c-12d7efd0b769",
   "metadata": {},
   "source": [
    "## Daily Price and Volume (WIP)\n",
    "\n",
    "We define\n",
    "* Price as the minimum `deal price`\n",
    "* Volume as either the total `deal_price` or total number of asset events, i.e. exchange frequency \n",
    "\n",
    "Todo: define the ceilings and floors for each FOMO wave, i.e. period"
   ]
  },
  {
   "cell_type": "code",
   "execution_count": null,
   "id": "c38c8853-978e-489c-b266-ddf324c3fb9b",
   "metadata": {},
   "outputs": [],
   "source": [
    "grp_cool_cats_nft=wallets.query('collection_slug == \"cool-cats-nft\" & deal_price > 0') \\\n",
    "    .groupby(pd.Grouper(key='event_timestamp', freq='1D'))"
   ]
  },
  {
   "cell_type": "code",
   "execution_count": null,
   "id": "9bb34a90",
   "metadata": {},
   "outputs": [],
   "source": [
    "grp=wallets.query('deal_price > 0') \\\n",
    "    .groupby(pd.Grouper(key='event_timestamp', freq='1D'))"
   ]
  },
  {
   "cell_type": "code",
   "execution_count": null,
   "id": "a94a0aa0-eb5d-45b5-a39a-7dfb733fdc48",
   "metadata": {},
   "outputs": [],
   "source": [
    "df = grp_cool_cats_nft.agg({\"deal_price\": [\"sum\", \"mean\", \"median\", \"min\"], \"event_type\": \"count\"}) \\\n",
    "        .assign(event_type_cnt_median=lambda x: x[('event_type', 'count')].median(),\n",
    "                sum_pct_chg=lambda x: x[(\"deal_price\", \"sum\")].pct_change(),\n",
    "                min_pct_chg=lambda x: x[(\"deal_price\", \"min\")].pct_change(),\n",
    "                cnt_pct_chg=lambda x: x[(\"event_type\", \"count\")].pct_change()) \\\n",
    "        .assign(sum_pp_diff=lambda x: x['sum_pct_chg'].diff(),\n",
    "                min_pp_diff=lambda x: x['min_pct_chg'].diff(),\n",
    "                cnt_pp_diff=lambda x: x['cnt_pct_chg'].diff())\n",
    "df"
   ]
  },
  {
   "cell_type": "code",
   "execution_count": null,
   "id": "a198f7c4",
   "metadata": {},
   "outputs": [],
   "source": [
    "df.sort_values(('event_type', 'count'))"
   ]
  },
  {
   "cell_type": "code",
   "execution_count": null,
   "id": "63ab6bde",
   "metadata": {},
   "outputs": [],
   "source": [
    "_ = sns.lineplot(data=df, x='event_timestamp', y=('deal_price', 'sum'))"
   ]
  },
  {
   "cell_type": "code",
   "execution_count": null,
   "id": "4c25c28b",
   "metadata": {},
   "outputs": [],
   "source": [
    "_ = sns.lineplot(data=df, x='event_timestamp', y=('event_type', 'count'))"
   ]
  },
  {
   "cell_type": "code",
   "execution_count": null,
   "id": "fd3f19dd",
   "metadata": {},
   "outputs": [],
   "source": [
    "_ = sns.lineplot(data=df, x='event_timestamp', y=('deal_price', 'min'))"
   ]
  },
  {
   "cell_type": "markdown",
   "id": "9fa3577a-ed8a-4c0d-90ed-056c57487b0e",
   "metadata": {},
   "source": [
    "Subsetting the event by date"
   ]
  },
  {
   "cell_type": "code",
   "execution_count": null,
   "id": "68cf2b19-dce8-4865-81a0-234e28731893",
   "metadata": {},
   "outputs": [],
   "source": [
    "wallets.set_index(\"event_timestamp\").loc['2021-10-10']"
   ]
  },
  {
   "cell_type": "code",
   "execution_count": null,
   "id": "d33aa7e4",
   "metadata": {},
   "outputs": [],
   "source": [
    "wallets.groupby([\"event_timestamp\", \"event_type\"]).sum()"
   ]
  },
  {
   "cell_type": "code",
   "execution_count": null,
   "id": "3e1feb65-dd90-4827-8737-59694f21f45b",
   "metadata": {
    "tags": []
   },
   "outputs": [],
   "source": [
    "wallets.groupby(pd.Grouper(key=\"event_timestamp\", freq=\"1D\")).sum()"
   ]
  },
  {
   "cell_type": "markdown",
   "id": "1095964f-b026-4ca6-b933-02bb6b0f019a",
   "metadata": {},
   "source": [
    "## Which user has bought and sold NFT during the specified period?"
   ]
  },
  {
   "cell_type": "code",
   "execution_count": null,
   "id": "78445651-438c-41b8-a29c-32d6311ddb6e",
   "metadata": {},
   "outputs": [],
   "source": [
    "x = wallets.groupby(\"user_account_address\")[\"event_type\"].nunique().reset_index()\n",
    "x = x[x.event_type > 1]"
   ]
  },
  {
   "cell_type": "code",
   "execution_count": null,
   "id": "2708e220-809d-439f-9501-56312b3600ee",
   "metadata": {},
   "outputs": [],
   "source": [
    "y = wallets.merge(x, on=\"user_account_address\")\n",
    "y.set_index(\"event_timestamp\", inplace=True)"
   ]
  },
  {
   "cell_type": "code",
   "execution_count": null,
   "id": "58193852-d398-481d-a809-25606d228b42",
   "metadata": {
    "jp-MarkdownHeadingCollapsed": true,
    "tags": []
   },
   "outputs": [],
   "source": [
    "y.loc[\"2022-04\"][\"user_account_address\"].nunique()\n",
    "#query('user_account_address == \"0xfffa6fc6acc3dbe04b175862376f1c5ff88cf9c1\"')"
   ]
  },
  {
   "cell_type": "code",
   "execution_count": null,
   "id": "3c928cc5-c07a-41f4-88b6-15d0ccd64eb9",
   "metadata": {},
   "outputs": [],
   "source": [
    "hide_columns = ['token_owner_address', 'payment_token_decimals',\n",
    "                'payment_token_usdprice',\n",
    "                'transaction_hash', 'block_hash', 'block_number']\n",
    "wallets.loc[:,~wallets.columns.isin(hide_columns)]"
   ]
  },
  {
   "cell_type": "markdown",
   "id": "46ca1ab0-559a-4c48-ab65-a9fa64d90ea3",
   "metadata": {
    "tags": []
   },
   "source": [
    "## Collections"
   ]
  },
  {
   "cell_type": "markdown",
   "id": "9a35fab4-3b53-4561-9980-d216720e6761",
   "metadata": {},
   "source": [
    "Checking out the size, i.e. the number of **successful** asset events (buy or sell) by collection"
   ]
  },
  {
   "cell_type": "code",
   "execution_count": null,
   "id": "df0d423b-34b1-4161-a2fa-161272ea0a5c",
   "metadata": {
    "tags": []
   },
   "outputs": [],
   "source": [
    "wallets.groupby(\"collection_slug\", as_index=False).size() \\\n",
    "    .sort_values(\"size\", ascending=False).reset_index(drop=True)"
   ]
  },
  {
   "cell_type": "markdown",
   "id": "81640971-b3cd-4d9a-b4f6-0fae83ca5243",
   "metadata": {},
   "source": [
    "_Are these popular collections on OpenSea or is it bias from data collection process?_"
   ]
  },
  {
   "cell_type": "code",
   "execution_count": null,
   "id": "7036fb90-6330-4e1f-a129-3aef9dd5ab1e",
   "metadata": {
    "tags": []
   },
   "outputs": [],
   "source": [
    "wallets.groupby([\"collection_slug\", \"event_type\"], as_index=False).size() \\\n",
    "    .pivot(index=\"collection_slug\", columns=\"event_type\", values=\"size\") \\\n",
    "    .assign(diff=lambda x: x.buy - x.sell) \\\n",
    "    .sort_values(by=[\"buy\", \"sell\"], ascending=False)"
   ]
  },
  {
   "cell_type": "markdown",
   "id": "fdf83a55-3798-4afe-a323-f708851a2acc",
   "metadata": {},
   "source": [
    "_Is it is reasonable to expect there are more buy events for a given collection?_\n",
    "\n",
    "_How do we explain more selling than buy events? Could it be mint > transfer > sell_"
   ]
  },
  {
   "cell_type": "markdown",
   "id": "1b27ee39-1b74-420a-89ce-c34b106f4e06",
   "metadata": {},
   "source": [
    "## NFT_ID\n",
    "\n",
    "a complex key created from `collection_slug` and `token_id` equals NFT unique ID"
   ]
  },
  {
   "cell_type": "code",
   "execution_count": null,
   "id": "86536779-5f71-4cad-91f7-e15c03987511",
   "metadata": {},
   "outputs": [],
   "source": [
    "wallets[\"nft_id\"] = wallets.collection_slug + '-' + wallets.token_id.astype('string')"
   ]
  },
  {
   "cell_type": "code",
   "execution_count": null,
   "id": "0236c8c6-45ec-4e11-91f9-11d7e837a4ba",
   "metadata": {},
   "outputs": [],
   "source": [
    "wallets.groupby([\"collection_slug\", \"nft_id\", \"event_type\"], as_index=False).size() \\\n",
    "    .pivot(index=[\"collection_slug\", \"nft_id\"], columns=\"event_type\", values=\"size\") \\\n",
    "    .sort_values(by=[\"buy\", \"sell\"], ascending=False).head(20)"
   ]
  },
  {
   "cell_type": "markdown",
   "id": "51c5cf59-082c-42c6-9b1c-5e14baf7821a",
   "metadata": {},
   "source": [
    "_*Tokens that have been exchanged mulitple times._"
   ]
  },
  {
   "cell_type": "markdown",
   "id": "4d40683b-1f75-4ce2-b49a-8b445f284696",
   "metadata": {
    "tags": []
   },
   "source": [
    "# Note\n",
    "Feature engineering in ML\n",
    "1. Feature Creation\n",
    "1. Transformations\n",
    "1. Feature Extraction, and\n",
    "1. Feature Selection"
   ]
  },
  {
   "cell_type": "markdown",
   "id": "cf2ad181",
   "metadata": {},
   "source": [
    "# Appendix\n",
    "\n",
    "## Wallet Dataset Profile using Created Attributes\n",
    "\n",
    "https://pandas-profiling.ydata.ai/docs/master/index.html"
   ]
  },
  {
   "cell_type": "code",
   "execution_count": null,
   "id": "8c986a4a-6f33-4523-835f-71622e7acbbc",
   "metadata": {},
   "outputs": [],
   "source": [
    "wallets_attr[wallets_attr.age > 1]"
   ]
  },
  {
   "cell_type": "code",
   "execution_count": null,
   "id": "9f2ca919-0a91-420a-8854-b52be6fa2b54",
   "metadata": {
    "tags": []
   },
   "outputs": [],
   "source": [
    "from pandas_profiling import ProfileReport\n",
    "\n",
    "profile = ProfileReport(wallets_attr[wallets_attr.age > 1])\n",
    "profile.to_widgets()"
   ]
  },
  {
   "cell_type": "markdown",
   "id": "4e7c62bb-9362-463d-86fb-9a2bd495763d",
   "metadata": {
    "tags": []
   },
   "source": [
    "## Exporting Data for Other Experiments"
   ]
  },
  {
   "cell_type": "code",
   "execution_count": null,
   "id": "88a5a91e-cda5-44f3-9bfd-35f4910a6177",
   "metadata": {},
   "outputs": [],
   "source": [
    "wallets.drop([\"transaction_hash\", \"block_hash\", \"block_number\", \"token_seller_address\"], axis=1) \\\n",
    "    .to_csv(os.path.join(data_dir, \"nft20_success_with_winner_address.csv\"), index=False)\n",
    "\n",
    "wallets_attr.to_csv(os.path.join(data_dir, \"nft20_success_with_winner_address_wallets_attrib.csv\"))"
   ]
  }
 ],
 "metadata": {
  "extensions": {
   "jupyter_dashboards": {
    "activeView": "default_view",
    "version": 1,
    "views": {
     "default_view": {
      "cellMargin": 10,
      "defaultCellHeight": 40,
      "maxColumns": 12,
      "name": "active_view",
      "type": "grid"
     }
    }
   }
  },
  "kernelspec": {
   "display_name": "Python 3 (ipykernel)",
   "language": "python",
   "name": "python3"
  },
  "language_info": {
   "codemirror_mode": {
    "name": "ipython",
    "version": 3
   },
   "file_extension": ".py",
   "mimetype": "text/x-python",
   "name": "python",
   "nbconvert_exporter": "python",
   "pygments_lexer": "ipython3",
   "version": "3.9.12"
  },
  "toc-autonumbering": true,
  "toc-showcode": false,
  "toc-showmarkdowntxt": false,
  "toc-showtags": false,
  "vscode": {
   "interpreter": {
    "hash": "a2e2c9c8ba70ba32ce998cd76425027ed4ac02585ab022e2d9b85d1664cda574"
   }
  }
 },
 "nbformat": 4,
 "nbformat_minor": 5
}
