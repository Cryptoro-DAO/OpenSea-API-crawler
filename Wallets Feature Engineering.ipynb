{
 "cells": [
  {
   "cell_type": "markdown",
   "id": "c09977d9-3c4f-47a6-8f87-bdb49deee26f",
   "metadata": {
    "tags": []
   },
   "source": [
    "# Wallet Feature Engineering"
   ]
  },
  {
   "cell_type": "markdown",
   "id": "979b6e62-5a76-496d-9e31-5fdc6854560a",
   "metadata": {},
   "source": [
    "The purpose of this notebook is to create features from OpenSea `Asset Events` time series"
   ]
  },
  {
   "cell_type": "markdown",
   "id": "c921f660-068d-427d-95b8-3bd3fb9f615a",
   "metadata": {},
   "source": [
    "# Read Data"
   ]
  },
  {
   "cell_type": "markdown",
   "id": "eb2921fe-d0d2-44e4-a879-1d4861863114",
   "metadata": {},
   "source": [
    "Description of the dataset ...\n",
    "Event dataset extracted and provided by [莊惟翔](https://github.com/Fred-Zhuang)\n",
    "\n",
    "a list of events that occur on the NFTs that are tracked by OpenSea. The event_type field indicates the type of event (transfer, successful auction, etc) and the results are sorted by event timestamp.\n"
   ]
  },
  {
   "cell_type": "code",
   "execution_count": 1,
   "id": "fe0a1d40",
   "metadata": {
    "extensions": {
     "jupyter_dashboards": {
      "version": 1,
      "views": {
       "default_view": {
        "hidden": true
       }
      }
     }
    },
    "tags": []
   },
   "outputs": [
    {
     "name": "stdout",
     "output_type": "stream",
     "text": [
      "Total seconds to load: 8.813568830490112\n"
     ]
    }
   ],
   "source": [
    "import os\n",
    "import re\n",
    "import time\n",
    "import datetime\n",
    "import pandas as pd\n",
    "\n",
    "data_dir = os.path.join(os.getcwd(), 'data')\n",
    "cool_cats_nft = os.path.join(data_dir, 'cool-cats-nft.feather')\n",
    "\n",
    "start_time = time.time()\n",
    "wallets = pd.read_feather(cool_cats_nft)\n",
    "total_time = time.time() - start_time\n",
    "print(\"Total seconds to load:\", total_time)"
   ]
  },
  {
   "cell_type": "code",
   "execution_count": 2,
   "id": "28730554-a143-4774-8e57-89e333b244ff",
   "metadata": {},
   "outputs": [
    {
     "name": "stdout",
     "output_type": "stream",
     "text": [
      "<class 'pandas.core.frame.DataFrame'>\n",
      "RangeIndex: 2398450 entries, 0 to 2398449\n",
      "Data columns (total 29 columns):\n",
      " #   Column                  Non-Null Count    Dtype  \n",
      "---  ------                  --------------    -----  \n",
      " 0   index                   2398450 non-null  int64  \n",
      " 1   event_timestamp         2398450 non-null  object \n",
      " 2   event_type              2398450 non-null  object \n",
      " 3   token_id                2382796 non-null  object \n",
      " 4   num_sales               2382796 non-null  float64\n",
      " 5   listing_time            2268796 non-null  object \n",
      " 6   token_owner_address     2382796 non-null  object \n",
      " 7   token_seller_address    2395806 non-null  object \n",
      " 8   deal_price              2398450 non-null  float64\n",
      " 9   payment_token_symbol    2398411 non-null  object \n",
      " 10  payment_token_decimals  2398445 non-null  float64\n",
      " 11  payment_token_usdprice  2397937 non-null  float64\n",
      " 12  quantity                2394188 non-null  float64\n",
      " 13  starting_price          0 non-null        float64\n",
      " 14  ending_price            0 non-null        float64\n",
      " 15  approved_account        0 non-null        float64\n",
      " 16  asset_bundle            15675 non-null    object \n",
      " 17  auction_type            28121 non-null    object \n",
      " 18  bid_amount              0 non-null        float64\n",
      " 19  transaction_hash        2398450 non-null  object \n",
      " 20  block_hash              2398330 non-null  object \n",
      " 21  block_number            2398330 non-null  float64\n",
      " 22  is_private              2268796 non-null  float64\n",
      " 23  duration                0 non-null        float64\n",
      " 24  created_date            2398450 non-null  object \n",
      " 25  collection_slug         2397913 non-null  object \n",
      " 26  contract_address        2398425 non-null  object \n",
      " 27  wallet_address_input    2398450 non-null  object \n",
      " 28  pages                   2398450 non-null  int64  \n",
      "dtypes: float64(12), int64(2), object(15)\n",
      "memory usage: 530.7+ MB\n"
     ]
    }
   ],
   "source": [
    "wallets.info(show_counts=True)"
   ]
  },
  {
   "cell_type": "code",
   "execution_count": 3,
   "id": "6b7ec414-d655-4c2b-9834-dcc4f44a1e50",
   "metadata": {
    "tags": []
   },
   "outputs": [],
   "source": [
    "wallets.drop([\"index\", \"starting_price\", \"ending_price\",\n",
    "              \"approved_account\", \"bid_amount\",\n",
    "              \"pages\"], axis=1, inplace=True)"
   ]
  },
  {
   "cell_type": "code",
   "execution_count": 4,
   "id": "c527403d-89ef-4eaf-bf70-c524187004da",
   "metadata": {
    "tags": []
   },
   "outputs": [],
   "source": [
    "wallets.event_timestamp = pd.to_datetime(wallets.event_timestamp)\n",
    "wallets.listing_time = pd.to_datetime(wallets.listing_time)"
   ]
  },
  {
   "cell_type": "code",
   "execution_count": 5,
   "id": "e20de59a-068d-4ec8-a889-bb7fefb9a72b",
   "metadata": {
    "tags": []
   },
   "outputs": [
    {
     "name": "stdout",
     "output_type": "stream",
     "text": [
      "Most recent event: 2022-05-10 23:35:55\n"
     ]
    }
   ],
   "source": [
    "print(\"Most recent event:\", max(wallets.event_timestamp))"
   ]
  },
  {
   "cell_type": "code",
   "execution_count": 6,
   "id": "a58b3db0-26e8-458f-b20c-86b4cfed0411",
   "metadata": {},
   "outputs": [
    {
     "name": "stdout",
     "output_type": "stream",
     "text": [
      "Earliest event: 2017-07-04 04:33:49\n"
     ]
    }
   ],
   "source": [
    "print(\"Earliest event:\", min(wallets.event_timestamp))"
   ]
  },
  {
   "cell_type": "code",
   "execution_count": 7,
   "id": "aa8efcc1-4eee-45de-b02d-1a93a02778ba",
   "metadata": {
    "tags": []
   },
   "outputs": [
    {
     "name": "stdout",
     "output_type": "stream",
     "text": [
      "Length of this time series dataset: 1771 days 19:02:06\n"
     ]
    }
   ],
   "source": [
    "print(\"Length of this time series dataset:\", max(wallets.event_timestamp) - min(wallets.event_timestamp))"
   ]
  },
  {
   "cell_type": "code",
   "execution_count": 8,
   "id": "e8f0d10e-a5ab-4d1d-9bd9-cdebf5cef5e4",
   "metadata": {
    "tags": []
   },
   "outputs": [
    {
     "name": "stdout",
     "output_type": "stream",
     "text": [
      "Total number of wallet addresses used to retieve data from OpenSea: 9766\n"
     ]
    }
   ],
   "source": [
    "print(\"Total number of wallet addresses used to retieve data from OpenSea:\", wallets.wallet_address_input.nunique())"
   ]
  },
  {
   "cell_type": "markdown",
   "id": "6835549b-e2f4-4061-a54c-6c020103114f",
   "metadata": {
    "tags": []
   },
   "source": [
    "### WIP\n",
    "\n",
    "... data distribution"
   ]
  },
  {
   "cell_type": "raw",
   "id": "1ca6c9bb-5cf9-4c02-b261-c182b8815e4c",
   "metadata": {},
   "source": [
    "import pandas_profiling as pp\n",
    "sample = wallets.resample(rule=\"1D\", on=\"event_timestamp\")\n",
    "# wallets.profile_report()"
   ]
  },
  {
   "cell_type": "raw",
   "id": "0a918a14-a9a9-4d8b-970f-d592bd760174",
   "metadata": {
    "tags": []
   },
   "source": [
    "sample.count().drop(\"event_timestamp\", axis=1).reset_index().profile_report()"
   ]
  },
  {
   "cell_type": "markdown",
   "id": "a421d54a-730d-4f3d-905e-481f5c552d03",
   "metadata": {},
   "source": [
    "## Questions\n",
    "\n",
    "- What is asset_event `created_date`, and how it dffers from `event_timestamp`?\n",
    "  Would asset_contract created_date be more useful than asset_event created_date?\n",
    "- Why are `starting_price` and `ending_price` always _null_?"
   ]
  },
  {
   "cell_type": "markdown",
   "id": "335aab79-fa3d-4da9-b265-a965813f6512",
   "metadata": {
    "tags": []
   },
   "source": [
    "# Generate Features"
   ]
  },
  {
   "cell_type": "markdown",
   "id": "072bb468-4d49-4b00-b32c-e70912f8bdca",
   "metadata": {},
   "source": [
    "## Impute data"
   ]
  },
  {
   "cell_type": "markdown",
   "id": "4c97032c-d6ba-4469-a1ca-16115ae5e700",
   "metadata": {
    "tags": []
   },
   "source": [
    "### `buy` vs. `sell` event_type"
   ]
  },
  {
   "cell_type": "markdown",
   "id": "233bc098-e908-49eb-bbe3-da3445297ee8",
   "metadata": {},
   "source": [
    "_N.b._ The dataset is missing `winner_account_address` attribute to confirmed the buyer is indeed\n",
    "the wallet owner, i.e. `wallet_address_input`. We therefore infer whether the wallet owner\n",
    "is either the buyer or the seller as such:"
   ]
  },
  {
   "cell_type": "code",
   "execution_count": 9,
   "id": "4c14c7f0-c776-4cf4-9384-95eb79f1626a",
   "metadata": {},
   "outputs": [],
   "source": [
    "import numpy as np\n",
    "\n",
    "wallets.event_type = np.where(wallets.wallet_address_input == wallets.token_seller_address, \"sell\", \"buy\")"
   ]
  },
  {
   "cell_type": "markdown",
   "id": "747e7d1c-350c-4279-94a3-3133d249d5fb",
   "metadata": {},
   "source": [
    "### `duration`\n",
    "the time between the token listed and the completion of the the sale.\n",
    "\n",
    "_What to do when listing_time is `NaN`_?"
   ]
  },
  {
   "cell_type": "code",
   "execution_count": 10,
   "id": "a4d9a87d-69eb-4e49-a3e2-89c36624605d",
   "metadata": {
    "tags": []
   },
   "outputs": [
    {
     "data": {
      "text/html": [
       "<div>\n",
       "<style scoped>\n",
       "    .dataframe tbody tr th:only-of-type {\n",
       "        vertical-align: middle;\n",
       "    }\n",
       "\n",
       "    .dataframe tbody tr th {\n",
       "        vertical-align: top;\n",
       "    }\n",
       "\n",
       "    .dataframe thead th {\n",
       "        text-align: right;\n",
       "    }\n",
       "</style>\n",
       "<table border=\"1\" class=\"dataframe\">\n",
       "  <thead>\n",
       "    <tr style=\"text-align: right;\">\n",
       "      <th></th>\n",
       "      <th>token_seller_address</th>\n",
       "      <th>event_type</th>\n",
       "      <th>duration</th>\n",
       "    </tr>\n",
       "  </thead>\n",
       "  <tbody>\n",
       "    <tr>\n",
       "      <th>0</th>\n",
       "      <td>0x82dc39052703cb51718b92fd62a6da6d1e749a0c</td>\n",
       "      <td>sell</td>\n",
       "      <td>0 days 09:45:26</td>\n",
       "    </tr>\n",
       "    <tr>\n",
       "      <th>1</th>\n",
       "      <td>0xd44a7b02e9692f491fb360d6a509e37c06bcd579</td>\n",
       "      <td>buy</td>\n",
       "      <td>0 days 00:56:41</td>\n",
       "    </tr>\n",
       "    <tr>\n",
       "      <th>2</th>\n",
       "      <td>0x56a7a519cb9d369334a24c98b44164d18a9b8385</td>\n",
       "      <td>buy</td>\n",
       "      <td>0 days 00:10:33</td>\n",
       "    </tr>\n",
       "    <tr>\n",
       "      <th>3</th>\n",
       "      <td>0x278d9db7032ffe25c5fcec6fb517f4e2041805d3</td>\n",
       "      <td>buy</td>\n",
       "      <td>0 days 10:08:26</td>\n",
       "    </tr>\n",
       "    <tr>\n",
       "      <th>4</th>\n",
       "      <td>0xef9fdc930d645299d01440d82b6c417cbd8f7162</td>\n",
       "      <td>buy</td>\n",
       "      <td>0 days 00:23:56</td>\n",
       "    </tr>\n",
       "    <tr>\n",
       "      <th>5</th>\n",
       "      <td>0xef9fdc930d645299d01440d82b6c417cbd8f7162</td>\n",
       "      <td>buy</td>\n",
       "      <td>0 days 00:07:53</td>\n",
       "    </tr>\n",
       "    <tr>\n",
       "      <th>6</th>\n",
       "      <td>0xd0d20158daa57b04c1094b7c0fa31efbdd675b52</td>\n",
       "      <td>buy</td>\n",
       "      <td>0 days 00:18:01</td>\n",
       "    </tr>\n",
       "    <tr>\n",
       "      <th>7</th>\n",
       "      <td>0x721b1b99af3ccbc2d42c1934f0aabc006ea36e31</td>\n",
       "      <td>buy</td>\n",
       "      <td>0 days 00:12:30</td>\n",
       "    </tr>\n",
       "    <tr>\n",
       "      <th>8</th>\n",
       "      <td>0x82dc39052703cb51718b92fd62a6da6d1e749a0c</td>\n",
       "      <td>sell</td>\n",
       "      <td>0 days 01:44:32</td>\n",
       "    </tr>\n",
       "    <tr>\n",
       "      <th>9</th>\n",
       "      <td>0x165dedca327cebac0a8222b71dc76a62b4727b83</td>\n",
       "      <td>buy</td>\n",
       "      <td>NaT</td>\n",
       "    </tr>\n",
       "  </tbody>\n",
       "</table>\n",
       "</div>"
      ],
      "text/plain": [
       "                         token_seller_address event_type        duration\n",
       "0  0x82dc39052703cb51718b92fd62a6da6d1e749a0c       sell 0 days 09:45:26\n",
       "1  0xd44a7b02e9692f491fb360d6a509e37c06bcd579        buy 0 days 00:56:41\n",
       "2  0x56a7a519cb9d369334a24c98b44164d18a9b8385        buy 0 days 00:10:33\n",
       "3  0x278d9db7032ffe25c5fcec6fb517f4e2041805d3        buy 0 days 10:08:26\n",
       "4  0xef9fdc930d645299d01440d82b6c417cbd8f7162        buy 0 days 00:23:56\n",
       "5  0xef9fdc930d645299d01440d82b6c417cbd8f7162        buy 0 days 00:07:53\n",
       "6  0xd0d20158daa57b04c1094b7c0fa31efbdd675b52        buy 0 days 00:18:01\n",
       "7  0x721b1b99af3ccbc2d42c1934f0aabc006ea36e31        buy 0 days 00:12:30\n",
       "8  0x82dc39052703cb51718b92fd62a6da6d1e749a0c       sell 0 days 01:44:32\n",
       "9  0x165dedca327cebac0a8222b71dc76a62b4727b83        buy             NaT"
      ]
     },
     "execution_count": 10,
     "metadata": {},
     "output_type": "execute_result"
    }
   ],
   "source": [
    "wallets.rename(columns={\"user_account_address\": \"token_seller_address\"}, inplace=True)\n",
    "wallets.duration = wallets.event_timestamp - wallets.listing_time\n",
    "wallets.loc[:, [\"token_seller_address\", \"event_type\", \"duration\"]].head(10)"
   ]
  },
  {
   "cell_type": "markdown",
   "id": "83ed7344-9c8c-41f6-b2fa-1c7d257a8264",
   "metadata": {},
   "source": [
    "### `deal_price_usd` and payment token attributes"
   ]
  },
  {
   "cell_type": "code",
   "execution_count": 11,
   "id": "c616050f-ee84-408d-a7a4-ff885e080f64",
   "metadata": {
    "tags": []
   },
   "outputs": [
    {
     "name": "stdout",
     "output_type": "stream",
     "text": [
      "39 5 513\n"
     ]
    }
   ],
   "source": [
    "print(sum(wallets.payment_token_symbol.isna()), \n",
    "      sum(wallets.payment_token_decimals.isna()),\n",
    "      sum(wallets.payment_token_usdprice.isna()))"
   ]
  },
  {
   "cell_type": "code",
   "execution_count": 12,
   "id": "b6971f0f-5a0d-4daa-b66f-89de682e95a3",
   "metadata": {
    "tags": []
   },
   "outputs": [
    {
     "data": {
      "text/plain": [
       "513"
      ]
     },
     "execution_count": 12,
     "metadata": {},
     "output_type": "execute_result"
    }
   ],
   "source": [
    "wallets[wallets.payment_token_symbol.isna() |\n",
    "        wallets.payment_token_decimals.isna() |\n",
    "        wallets.payment_token_usdprice.isna()].shape[0]"
   ]
  },
  {
   "cell_type": "markdown",
   "id": "af0ded10-a264-4cc2-88c8-2f6a02c18641",
   "metadata": {},
   "source": [
    "is the total number of records missing either payment token symbol, token decimals, i.e. the deal price multiplication factor,\n",
    "or the token to USD exchange rate. **We will ignore these record for now.**"
   ]
  },
  {
   "cell_type": "code",
   "execution_count": 13,
   "id": "4cddb2ad-1fd3-4f9d-9d7c-447b9fcdd463",
   "metadata": {},
   "outputs": [
    {
     "data": {
      "text/plain": [
       "max     6.925186e+06\n",
       "min     0.000000e+00\n",
       "mean    2.557588e+03\n",
       "Name: deal_price_usd, dtype: float64"
      ]
     },
     "execution_count": 13,
     "metadata": {},
     "output_type": "execute_result"
    }
   ],
   "source": [
    "wallets[\"deal_price_usd\"] = wallets.deal_price / 10 ** wallets.payment_token_decimals * wallets.payment_token_usdprice\n",
    "wallets.deal_price_usd.agg({max, np.mean, min})"
   ]
  },
  {
   "cell_type": "code",
   "execution_count": 14,
   "id": "3d636f27-95d1-4ba0-add3-3d5e34368618",
   "metadata": {},
   "outputs": [
    {
     "data": {
      "text/plain": [
       "0.0       0.000000\n",
       "0.1      11.217255\n",
       "0.2      19.093200\n",
       "0.3      32.133298\n",
       "0.4      47.733000\n",
       "0.5      72.282328\n",
       "0.6     115.448000\n",
       "0.7     188.907200\n",
       "0.8     377.833480\n",
       "0.9    1158.180000\n",
       "Name: deal_price_usd, dtype: float64"
      ]
     },
     "execution_count": 14,
     "metadata": {},
     "output_type": "execute_result"
    }
   ],
   "source": [
    "wallets[wallets.quantity.isna()][\"deal_price_usd\"].quantile(q=[x / 10 for x in range(0, 10)])"
   ]
  },
  {
   "cell_type": "markdown",
   "id": "205ba6fd-a368-4180-a7e2-71fc47b0a7e4",
   "metadata": {
    "tags": []
   },
   "source": [
    "### `quantity`\n",
    "\n",
    "_How does this field differ from `num_sales`?_"
   ]
  },
  {
   "cell_type": "code",
   "execution_count": 15,
   "id": "8cb058e0-f003-4696-ba91-35a6ae300896",
   "metadata": {
    "tags": []
   },
   "outputs": [
    {
     "data": {
      "text/plain": [
       "array([1.00000000e+00, 2.00000000e+00, 4.00000000e+00, 7.00000000e+01,\n",
       "       3.00000000e+00, 9.00000000e+00, 1.00000000e+01, 2.00000000e+01,\n",
       "       5.00000000e+00, 1.50000000e+01, 6.00000000e+00, 2.50000000e+01,\n",
       "       5.00000000e+01, 7.00000000e+00, 8.00000000e+00, 1.10000000e+01,\n",
       "       1.20000000e+01, 6.50000000e+02, 1.40000000e+01, 1.30000000e+01,\n",
       "       1.90000000e+01, 1.60000000e+01,            nan, 1.28000000e+02,\n",
       "       1.00000000e+11, 1.80000000e+01, 2.40000000e+01, 2.20000000e+01,\n",
       "       2.10000000e+01, 1.70000000e+01, 2.90000000e+01, 3.50000000e+01,\n",
       "       4.00000000e+01, 2.80000000e+01, 3.00000000e+01, 1.00000000e+02,\n",
       "       6.40000000e+01, 3.20000000e+01, 1.92000000e+02, 4.20000000e+02,\n",
       "       2.50000000e+02, 5.10000000e+01, 2.00000000e+02, 6.90000000e+01,\n",
       "       1.00000000e+03, 8.00000000e+01, 1.72000000e+02, 1.88000000e+02,\n",
       "       5.50000000e+01, 1.00000000e+22, 4.00000000e+18, 2.70000000e+01,\n",
       "       1.00000000e+09, 1.00000000e+04, 2.50000000e+03, 2.30000000e+01,\n",
       "       4.90000000e+01, 2.60000000e+01, 2.47000000e+02, 6.00000000e+03,\n",
       "       1.00000000e+18, 1.26180000e+04, 8.88800000e+03, 8.70000000e+01,\n",
       "       8.90000000e+01, 1.00000000e+10, 1.00000000e+19, 5.00000000e+18,\n",
       "       3.10000000e+01, 1.25000000e+02, 4.30000000e+10, 6.16500000e+10,\n",
       "       2.50000000e+10, 6.12000000e+20, 9.21000000e+02, 3.00000000e+02,\n",
       "       3.70000000e+01, 3.40000000e+01, 4.40000000e+01, 3.30000000e+01,\n",
       "       3.57900000e+03, 3.00000000e+18, 6.00000000e+01, 1.21000000e+02,\n",
       "       3.90000000e+02, 6.50000000e+01, 4.00000000e+02, 1.00000000e+15,\n",
       "       3.00000000e+15, 1.60000000e+08, 1.00000000e+17, 1.00000000e+08,\n",
       "       1.00000000e+20, 5.00000000e+20, 2.40000000e+02, 2.55000000e+02,\n",
       "       5.00000000e+15, 8.62153858e+09, 1.27704614e+10, 1.59500000e+10,\n",
       "       1.21403607e+10, 8.97963927e+09, 1.62900000e+03, 3.35000000e+03,\n",
       "       3.20000000e+02])"
      ]
     },
     "execution_count": 15,
     "metadata": {},
     "output_type": "execute_result"
    }
   ],
   "source": [
    "wallets.quantity.unique()"
   ]
  },
  {
   "cell_type": "code",
   "execution_count": 16,
   "id": "d230c0c9-0e47-4111-b91b-ff252715727d",
   "metadata": {},
   "outputs": [
    {
     "data": {
      "text/plain": [
       "4262"
      ]
     },
     "execution_count": 16,
     "metadata": {},
     "output_type": "execute_result"
    }
   ],
   "source": [
    "sum(wallets.quantity.isna())"
   ]
  },
  {
   "cell_type": "code",
   "execution_count": 17,
   "id": "a50d6a8b-f0de-4a86-bbfc-1ccbb987eec4",
   "metadata": {},
   "outputs": [
    {
     "data": {
      "text/html": [
       "<div>\n",
       "<style scoped>\n",
       "    .dataframe tbody tr th:only-of-type {\n",
       "        vertical-align: middle;\n",
       "    }\n",
       "\n",
       "    .dataframe tbody tr th {\n",
       "        vertical-align: top;\n",
       "    }\n",
       "\n",
       "    .dataframe thead th {\n",
       "        text-align: right;\n",
       "    }\n",
       "</style>\n",
       "<table border=\"1\" class=\"dataframe\">\n",
       "  <thead>\n",
       "    <tr style=\"text-align: right;\">\n",
       "      <th></th>\n",
       "      <th>num_sales</th>\n",
       "      <th>deal_price</th>\n",
       "      <th>payment_token_decimals</th>\n",
       "      <th>payment_token_usdprice</th>\n",
       "      <th>quantity</th>\n",
       "      <th>block_number</th>\n",
       "      <th>is_private</th>\n",
       "      <th>deal_price_usd</th>\n",
       "    </tr>\n",
       "  </thead>\n",
       "  <tbody>\n",
       "    <tr>\n",
       "      <th>0.00</th>\n",
       "      <td>0.0</td>\n",
       "      <td>0.000000e+00</td>\n",
       "      <td>0.0</td>\n",
       "      <td>5.011600e-11</td>\n",
       "      <td>1.0</td>\n",
       "      <td>3971224.00</td>\n",
       "      <td>0.0</td>\n",
       "      <td>0.000000</td>\n",
       "    </tr>\n",
       "    <tr>\n",
       "      <th>0.01</th>\n",
       "      <td>1.0</td>\n",
       "      <td>3.212983e+08</td>\n",
       "      <td>18.0</td>\n",
       "      <td>2.218410e+03</td>\n",
       "      <td>1.0</td>\n",
       "      <td>11817809.29</td>\n",
       "      <td>0.0</td>\n",
       "      <td>0.022499</td>\n",
       "    </tr>\n",
       "    <tr>\n",
       "      <th>0.02</th>\n",
       "      <td>1.0</td>\n",
       "      <td>5.000000e+15</td>\n",
       "      <td>18.0</td>\n",
       "      <td>2.249890e+03</td>\n",
       "      <td>1.0</td>\n",
       "      <td>12120872.98</td>\n",
       "      <td>0.0</td>\n",
       "      <td>12.005050</td>\n",
       "    </tr>\n",
       "    <tr>\n",
       "      <th>0.03</th>\n",
       "      <td>1.0</td>\n",
       "      <td>9.500000e+15</td>\n",
       "      <td>18.0</td>\n",
       "      <td>2.254960e+03</td>\n",
       "      <td>1.0</td>\n",
       "      <td>12434482.70</td>\n",
       "      <td>0.0</td>\n",
       "      <td>22.313492</td>\n",
       "    </tr>\n",
       "    <tr>\n",
       "      <th>0.04</th>\n",
       "      <td>1.0</td>\n",
       "      <td>1.000000e+16</td>\n",
       "      <td>18.0</td>\n",
       "      <td>2.254960e+03</td>\n",
       "      <td>1.0</td>\n",
       "      <td>12612300.28</td>\n",
       "      <td>0.0</td>\n",
       "      <td>23.825900</td>\n",
       "    </tr>\n",
       "    <tr>\n",
       "      <th>...</th>\n",
       "      <td>...</td>\n",
       "      <td>...</td>\n",
       "      <td>...</td>\n",
       "      <td>...</td>\n",
       "      <td>...</td>\n",
       "      <td>...</td>\n",
       "      <td>...</td>\n",
       "      <td>...</td>\n",
       "    </tr>\n",
       "    <tr>\n",
       "      <th>0.95</th>\n",
       "      <td>191.0</td>\n",
       "      <td>4.200000e+18</td>\n",
       "      <td>18.0</td>\n",
       "      <td>2.422550e+03</td>\n",
       "      <td>1.0</td>\n",
       "      <td>14597862.00</td>\n",
       "      <td>0.0</td>\n",
       "      <td>9659.160000</td>\n",
       "    </tr>\n",
       "    <tr>\n",
       "      <th>0.96</th>\n",
       "      <td>459.0</td>\n",
       "      <td>5.200000e+18</td>\n",
       "      <td>18.0</td>\n",
       "      <td>2.436340e+03</td>\n",
       "      <td>1.0</td>\n",
       "      <td>14621963.52</td>\n",
       "      <td>0.0</td>\n",
       "      <td>12005.050000</td>\n",
       "    </tr>\n",
       "    <tr>\n",
       "      <th>0.97</th>\n",
       "      <td>1124.0</td>\n",
       "      <td>6.890000e+18</td>\n",
       "      <td>18.0</td>\n",
       "      <td>2.436340e+03</td>\n",
       "      <td>1.0</td>\n",
       "      <td>14649170.13</td>\n",
       "      <td>0.0</td>\n",
       "      <td>15725.714117</td>\n",
       "    </tr>\n",
       "    <tr>\n",
       "      <th>0.98</th>\n",
       "      <td>2823.0</td>\n",
       "      <td>9.000000e+18</td>\n",
       "      <td>18.0</td>\n",
       "      <td>2.442540e+03</td>\n",
       "      <td>1.0</td>\n",
       "      <td>14681174.26</td>\n",
       "      <td>0.0</td>\n",
       "      <td>20799.630000</td>\n",
       "    </tr>\n",
       "    <tr>\n",
       "      <th>0.99</th>\n",
       "      <td>7400.0</td>\n",
       "      <td>1.500000e+19</td>\n",
       "      <td>18.0</td>\n",
       "      <td>2.442540e+03</td>\n",
       "      <td>2.0</td>\n",
       "      <td>14708454.00</td>\n",
       "      <td>1.0</td>\n",
       "      <td>34268.788900</td>\n",
       "    </tr>\n",
       "  </tbody>\n",
       "</table>\n",
       "<p>100 rows × 8 columns</p>\n",
       "</div>"
      ],
      "text/plain": [
       "      num_sales    deal_price  payment_token_decimals  payment_token_usdprice  \\\n",
       "0.00        0.0  0.000000e+00                     0.0            5.011600e-11   \n",
       "0.01        1.0  3.212983e+08                    18.0            2.218410e+03   \n",
       "0.02        1.0  5.000000e+15                    18.0            2.249890e+03   \n",
       "0.03        1.0  9.500000e+15                    18.0            2.254960e+03   \n",
       "0.04        1.0  1.000000e+16                    18.0            2.254960e+03   \n",
       "...         ...           ...                     ...                     ...   \n",
       "0.95      191.0  4.200000e+18                    18.0            2.422550e+03   \n",
       "0.96      459.0  5.200000e+18                    18.0            2.436340e+03   \n",
       "0.97     1124.0  6.890000e+18                    18.0            2.436340e+03   \n",
       "0.98     2823.0  9.000000e+18                    18.0            2.442540e+03   \n",
       "0.99     7400.0  1.500000e+19                    18.0            2.442540e+03   \n",
       "\n",
       "      quantity  block_number  is_private  deal_price_usd  \n",
       "0.00       1.0    3971224.00         0.0        0.000000  \n",
       "0.01       1.0   11817809.29         0.0        0.022499  \n",
       "0.02       1.0   12120872.98         0.0       12.005050  \n",
       "0.03       1.0   12434482.70         0.0       22.313492  \n",
       "0.04       1.0   12612300.28         0.0       23.825900  \n",
       "...        ...           ...         ...             ...  \n",
       "0.95       1.0   14597862.00         0.0     9659.160000  \n",
       "0.96       1.0   14621963.52         0.0    12005.050000  \n",
       "0.97       1.0   14649170.13         0.0    15725.714117  \n",
       "0.98       1.0   14681174.26         0.0    20799.630000  \n",
       "0.99       2.0   14708454.00         1.0    34268.788900  \n",
       "\n",
       "[100 rows x 8 columns]"
      ]
     },
     "execution_count": 17,
     "metadata": {},
     "output_type": "execute_result"
    }
   ],
   "source": [
    "wallets.quantile(q=[x / 1000 for x in range(0,1000, 10)])"
   ]
  },
  {
   "cell_type": "code",
   "execution_count": 18,
   "id": "145b0c34-6946-46c9-a0cf-e1369bb424d1",
   "metadata": {
    "tags": []
   },
   "outputs": [
    {
     "data": {
      "text/plain": [
       "1e+22"
      ]
     },
     "execution_count": 18,
     "metadata": {},
     "output_type": "execute_result"
    }
   ],
   "source": [
    "max(wallets.quantity)"
   ]
  },
  {
   "cell_type": "markdown",
   "id": "3792b27c-cd38-4f08-b4bb-94bc0052769d",
   "metadata": {
    "tags": []
   },
   "source": [
    "### `is_private` sales\n",
    "\n",
    "_Do we assume Nan is __not__ private?_"
   ]
  },
  {
   "cell_type": "code",
   "execution_count": 19,
   "id": "7d66622e-f824-469b-95fc-6a64dbcd0395",
   "metadata": {},
   "outputs": [
    {
     "data": {
      "text/plain": [
       "0.0    2230703\n",
       "NaN     129654\n",
       "1.0      38093\n",
       "Name: is_private, dtype: int64"
      ]
     },
     "execution_count": 19,
     "metadata": {},
     "output_type": "execute_result"
    }
   ],
   "source": [
    "wallets.is_private.value_counts(dropna=False)"
   ]
  },
  {
   "cell_type": "markdown",
   "id": "f356b044-6cc1-422b-bf34-413454bc990a",
   "metadata": {
    "tags": []
   },
   "source": [
    "## WIP\n",
    "\n",
    "將錢包地址分組\n",
    "\n",
    "暫時給定任一個錢包地址來進行以下特徵計算 (最後再用迴圈串起來)"
   ]
  },
  {
   "cell_type": "code",
   "execution_count": 20,
   "id": "a78f5b3b",
   "metadata": {
    "tags": []
   },
   "outputs": [],
   "source": [
    "sectors = wallets.groupby(\"wallet_address_input\")\n",
    "\n",
    "df_temp3 = sectors.get_group(\"0x5338035c008ea8c4b850052bc8dad6a33dc2206c\")\n",
    "df_temp3 = df_temp3.reset_index(drop=True)  # Is this necessary?"
   ]
  },
  {
   "cell_type": "code",
   "execution_count": 21,
   "id": "906173e2-b2e5-4e71-9eeb-805cfa587cc0",
   "metadata": {
    "tags": []
   },
   "outputs": [
    {
     "name": "stdout",
     "output_type": "stream",
     "text": [
      "<class 'pandas.core.frame.DataFrame'>\n",
      "RangeIndex: 5521 entries, 0 to 5520\n",
      "Data columns (total 24 columns):\n",
      " #   Column                  Non-Null Count  Dtype          \n",
      "---  ------                  --------------  -----          \n",
      " 0   event_timestamp         5521 non-null   datetime64[ns] \n",
      " 1   event_type              5521 non-null   object         \n",
      " 2   token_id                5503 non-null   object         \n",
      " 3   num_sales               5503 non-null   float64        \n",
      " 4   listing_time            5472 non-null   datetime64[ns] \n",
      " 5   token_owner_address     5503 non-null   object         \n",
      " 6   token_seller_address    5521 non-null   object         \n",
      " 7   deal_price              5521 non-null   float64        \n",
      " 8   payment_token_symbol    5521 non-null   object         \n",
      " 9   payment_token_decimals  5521 non-null   float64        \n",
      " 10  payment_token_usdprice  5521 non-null   float64        \n",
      " 11  quantity                5521 non-null   float64        \n",
      " 12  asset_bundle            18 non-null     object         \n",
      " 13  auction_type            0 non-null      object         \n",
      " 14  transaction_hash        5521 non-null   object         \n",
      " 15  block_hash              5520 non-null   object         \n",
      " 16  block_number            5520 non-null   float64        \n",
      " 17  is_private              5472 non-null   float64        \n",
      " 18  duration                5472 non-null   timedelta64[ns]\n",
      " 19  created_date            5521 non-null   object         \n",
      " 20  collection_slug         5521 non-null   object         \n",
      " 21  contract_address        5521 non-null   object         \n",
      " 22  wallet_address_input    5521 non-null   object         \n",
      " 23  deal_price_usd          5521 non-null   float64        \n",
      "dtypes: datetime64[ns](2), float64(8), object(13), timedelta64[ns](1)\n",
      "memory usage: 1.0+ MB\n"
     ]
    }
   ],
   "source": [
    "df_temp3.info()"
   ]
  },
  {
   "cell_type": "code",
   "execution_count": 22,
   "id": "64872b88-5aea-4cbf-9d03-beb1f9c708a8",
   "metadata": {
    "tags": []
   },
   "outputs": [
    {
     "data": {
      "text/html": [
       "<div>\n",
       "<style scoped>\n",
       "    .dataframe tbody tr th:only-of-type {\n",
       "        vertical-align: middle;\n",
       "    }\n",
       "\n",
       "    .dataframe tbody tr th {\n",
       "        vertical-align: top;\n",
       "    }\n",
       "\n",
       "    .dataframe thead th {\n",
       "        text-align: right;\n",
       "    }\n",
       "</style>\n",
       "<table border=\"1\" class=\"dataframe\">\n",
       "  <thead>\n",
       "    <tr style=\"text-align: right;\">\n",
       "      <th></th>\n",
       "      <th>event_timestamp</th>\n",
       "      <th>event_type</th>\n",
       "      <th>token_id</th>\n",
       "      <th>num_sales</th>\n",
       "      <th>listing_time</th>\n",
       "      <th>token_owner_address</th>\n",
       "      <th>token_seller_address</th>\n",
       "      <th>deal_price</th>\n",
       "      <th>payment_token_symbol</th>\n",
       "      <th>payment_token_decimals</th>\n",
       "      <th>...</th>\n",
       "      <th>transaction_hash</th>\n",
       "      <th>block_hash</th>\n",
       "      <th>block_number</th>\n",
       "      <th>is_private</th>\n",
       "      <th>duration</th>\n",
       "      <th>created_date</th>\n",
       "      <th>collection_slug</th>\n",
       "      <th>contract_address</th>\n",
       "      <th>wallet_address_input</th>\n",
       "      <th>deal_price_usd</th>\n",
       "    </tr>\n",
       "  </thead>\n",
       "  <tbody>\n",
       "    <tr>\n",
       "      <th>0</th>\n",
       "      <td>2022-05-04 03:29:18</td>\n",
       "      <td>buy</td>\n",
       "      <td>2977</td>\n",
       "      <td>1.0</td>\n",
       "      <td>2022-05-04 03:19:37</td>\n",
       "      <td>0x5338035c008ea8c4b850052bc8dad6a33dc2206c</td>\n",
       "      <td>0x4984fc170325e8fe57e9de1c2b74ce5eabb6f9da</td>\n",
       "      <td>8.450000e+17</td>\n",
       "      <td>ETH</td>\n",
       "      <td>18.0</td>\n",
       "      <td>...</td>\n",
       "      <td>0x5b7266357899fc13841a02456c8128b56e8852bc55ae...</td>\n",
       "      <td>0xe0e7e1a0a2516ec3ec8764e1f29773b9a77da8355ff3...</td>\n",
       "      <td>14708585.0</td>\n",
       "      <td>0.0</td>\n",
       "      <td>0 days 00:09:41</td>\n",
       "      <td>2022-05-04T03:29:50.900288</td>\n",
       "      <td>fragments-by-james-jean</td>\n",
       "      <td>0x7f268357a8c2552623316e2562d90e642bb538e5</td>\n",
       "      <td>0x5338035c008ea8c4b850052bc8dad6a33dc2206c</td>\n",
       "      <td>2020.38655</td>\n",
       "    </tr>\n",
       "    <tr>\n",
       "      <th>1</th>\n",
       "      <td>2022-05-04 03:29:18</td>\n",
       "      <td>buy</td>\n",
       "      <td>3016</td>\n",
       "      <td>1.0</td>\n",
       "      <td>2022-05-04 00:14:49</td>\n",
       "      <td>0x5338035c008ea8c4b850052bc8dad6a33dc2206c</td>\n",
       "      <td>0xc293bc1602efeba837cb240c49476e1d3fe0fd98</td>\n",
       "      <td>8.450000e+17</td>\n",
       "      <td>ETH</td>\n",
       "      <td>18.0</td>\n",
       "      <td>...</td>\n",
       "      <td>0x5b7266357899fc13841a02456c8128b56e8852bc55ae...</td>\n",
       "      <td>0xe0e7e1a0a2516ec3ec8764e1f29773b9a77da8355ff3...</td>\n",
       "      <td>14708585.0</td>\n",
       "      <td>0.0</td>\n",
       "      <td>0 days 03:14:29</td>\n",
       "      <td>2022-05-04T03:29:50.461508</td>\n",
       "      <td>fragments-by-james-jean</td>\n",
       "      <td>0x7f268357a8c2552623316e2562d90e642bb538e5</td>\n",
       "      <td>0x5338035c008ea8c4b850052bc8dad6a33dc2206c</td>\n",
       "      <td>2020.38655</td>\n",
       "    </tr>\n",
       "    <tr>\n",
       "      <th>2</th>\n",
       "      <td>2022-05-04 03:29:18</td>\n",
       "      <td>buy</td>\n",
       "      <td>4956</td>\n",
       "      <td>1.0</td>\n",
       "      <td>2022-05-03 19:39:05</td>\n",
       "      <td>0x5338035c008ea8c4b850052bc8dad6a33dc2206c</td>\n",
       "      <td>0xe2fb909159dea75b1520c382ca102989cdd1a276</td>\n",
       "      <td>8.400000e+17</td>\n",
       "      <td>ETH</td>\n",
       "      <td>18.0</td>\n",
       "      <td>...</td>\n",
       "      <td>0x5b7266357899fc13841a02456c8128b56e8852bc55ae...</td>\n",
       "      <td>0xe0e7e1a0a2516ec3ec8764e1f29773b9a77da8355ff3...</td>\n",
       "      <td>14708585.0</td>\n",
       "      <td>0.0</td>\n",
       "      <td>0 days 07:50:13</td>\n",
       "      <td>2022-05-04T03:29:50.009580</td>\n",
       "      <td>fragments-by-james-jean</td>\n",
       "      <td>0x7f268357a8c2552623316e2562d90e642bb538e5</td>\n",
       "      <td>0x5338035c008ea8c4b850052bc8dad6a33dc2206c</td>\n",
       "      <td>2008.43160</td>\n",
       "    </tr>\n",
       "    <tr>\n",
       "      <th>3</th>\n",
       "      <td>2022-05-04 03:29:18</td>\n",
       "      <td>buy</td>\n",
       "      <td>5078</td>\n",
       "      <td>1.0</td>\n",
       "      <td>2022-05-04 01:40:56</td>\n",
       "      <td>0x5338035c008ea8c4b850052bc8dad6a33dc2206c</td>\n",
       "      <td>0x8a45d09b2dbbf1657fb8c14561b6525443631d22</td>\n",
       "      <td>8.500000e+17</td>\n",
       "      <td>ETH</td>\n",
       "      <td>18.0</td>\n",
       "      <td>...</td>\n",
       "      <td>0x5b7266357899fc13841a02456c8128b56e8852bc55ae...</td>\n",
       "      <td>0xe0e7e1a0a2516ec3ec8764e1f29773b9a77da8355ff3...</td>\n",
       "      <td>14708585.0</td>\n",
       "      <td>0.0</td>\n",
       "      <td>0 days 01:48:22</td>\n",
       "      <td>2022-05-04T03:29:49.627993</td>\n",
       "      <td>fragments-by-james-jean</td>\n",
       "      <td>0x7f268357a8c2552623316e2562d90e642bb538e5</td>\n",
       "      <td>0x5338035c008ea8c4b850052bc8dad6a33dc2206c</td>\n",
       "      <td>2032.34150</td>\n",
       "    </tr>\n",
       "    <tr>\n",
       "      <th>4</th>\n",
       "      <td>2022-05-04 03:29:18</td>\n",
       "      <td>buy</td>\n",
       "      <td>5800</td>\n",
       "      <td>1.0</td>\n",
       "      <td>2022-05-04 02:52:43</td>\n",
       "      <td>0x5338035c008ea8c4b850052bc8dad6a33dc2206c</td>\n",
       "      <td>0xcc60f720388551bc9159cfed814a15de2f49d1e9</td>\n",
       "      <td>8.490000e+17</td>\n",
       "      <td>ETH</td>\n",
       "      <td>18.0</td>\n",
       "      <td>...</td>\n",
       "      <td>0x5b7266357899fc13841a02456c8128b56e8852bc55ae...</td>\n",
       "      <td>0xe0e7e1a0a2516ec3ec8764e1f29773b9a77da8355ff3...</td>\n",
       "      <td>14708585.0</td>\n",
       "      <td>0.0</td>\n",
       "      <td>0 days 00:36:35</td>\n",
       "      <td>2022-05-04T03:29:49.240455</td>\n",
       "      <td>fragments-by-james-jean</td>\n",
       "      <td>0x7f268357a8c2552623316e2562d90e642bb538e5</td>\n",
       "      <td>0x5338035c008ea8c4b850052bc8dad6a33dc2206c</td>\n",
       "      <td>2029.95051</td>\n",
       "    </tr>\n",
       "  </tbody>\n",
       "</table>\n",
       "<p>5 rows × 24 columns</p>\n",
       "</div>"
      ],
      "text/plain": [
       "      event_timestamp event_type token_id  num_sales        listing_time  \\\n",
       "0 2022-05-04 03:29:18        buy     2977        1.0 2022-05-04 03:19:37   \n",
       "1 2022-05-04 03:29:18        buy     3016        1.0 2022-05-04 00:14:49   \n",
       "2 2022-05-04 03:29:18        buy     4956        1.0 2022-05-03 19:39:05   \n",
       "3 2022-05-04 03:29:18        buy     5078        1.0 2022-05-04 01:40:56   \n",
       "4 2022-05-04 03:29:18        buy     5800        1.0 2022-05-04 02:52:43   \n",
       "\n",
       "                          token_owner_address  \\\n",
       "0  0x5338035c008ea8c4b850052bc8dad6a33dc2206c   \n",
       "1  0x5338035c008ea8c4b850052bc8dad6a33dc2206c   \n",
       "2  0x5338035c008ea8c4b850052bc8dad6a33dc2206c   \n",
       "3  0x5338035c008ea8c4b850052bc8dad6a33dc2206c   \n",
       "4  0x5338035c008ea8c4b850052bc8dad6a33dc2206c   \n",
       "\n",
       "                         token_seller_address    deal_price  \\\n",
       "0  0x4984fc170325e8fe57e9de1c2b74ce5eabb6f9da  8.450000e+17   \n",
       "1  0xc293bc1602efeba837cb240c49476e1d3fe0fd98  8.450000e+17   \n",
       "2  0xe2fb909159dea75b1520c382ca102989cdd1a276  8.400000e+17   \n",
       "3  0x8a45d09b2dbbf1657fb8c14561b6525443631d22  8.500000e+17   \n",
       "4  0xcc60f720388551bc9159cfed814a15de2f49d1e9  8.490000e+17   \n",
       "\n",
       "  payment_token_symbol  payment_token_decimals  ...  \\\n",
       "0                  ETH                    18.0  ...   \n",
       "1                  ETH                    18.0  ...   \n",
       "2                  ETH                    18.0  ...   \n",
       "3                  ETH                    18.0  ...   \n",
       "4                  ETH                    18.0  ...   \n",
       "\n",
       "                                    transaction_hash  \\\n",
       "0  0x5b7266357899fc13841a02456c8128b56e8852bc55ae...   \n",
       "1  0x5b7266357899fc13841a02456c8128b56e8852bc55ae...   \n",
       "2  0x5b7266357899fc13841a02456c8128b56e8852bc55ae...   \n",
       "3  0x5b7266357899fc13841a02456c8128b56e8852bc55ae...   \n",
       "4  0x5b7266357899fc13841a02456c8128b56e8852bc55ae...   \n",
       "\n",
       "                                          block_hash block_number is_private  \\\n",
       "0  0xe0e7e1a0a2516ec3ec8764e1f29773b9a77da8355ff3...   14708585.0        0.0   \n",
       "1  0xe0e7e1a0a2516ec3ec8764e1f29773b9a77da8355ff3...   14708585.0        0.0   \n",
       "2  0xe0e7e1a0a2516ec3ec8764e1f29773b9a77da8355ff3...   14708585.0        0.0   \n",
       "3  0xe0e7e1a0a2516ec3ec8764e1f29773b9a77da8355ff3...   14708585.0        0.0   \n",
       "4  0xe0e7e1a0a2516ec3ec8764e1f29773b9a77da8355ff3...   14708585.0        0.0   \n",
       "\n",
       "         duration                created_date          collection_slug  \\\n",
       "0 0 days 00:09:41  2022-05-04T03:29:50.900288  fragments-by-james-jean   \n",
       "1 0 days 03:14:29  2022-05-04T03:29:50.461508  fragments-by-james-jean   \n",
       "2 0 days 07:50:13  2022-05-04T03:29:50.009580  fragments-by-james-jean   \n",
       "3 0 days 01:48:22  2022-05-04T03:29:49.627993  fragments-by-james-jean   \n",
       "4 0 days 00:36:35  2022-05-04T03:29:49.240455  fragments-by-james-jean   \n",
       "\n",
       "                             contract_address  \\\n",
       "0  0x7f268357a8c2552623316e2562d90e642bb538e5   \n",
       "1  0x7f268357a8c2552623316e2562d90e642bb538e5   \n",
       "2  0x7f268357a8c2552623316e2562d90e642bb538e5   \n",
       "3  0x7f268357a8c2552623316e2562d90e642bb538e5   \n",
       "4  0x7f268357a8c2552623316e2562d90e642bb538e5   \n",
       "\n",
       "                         wallet_address_input deal_price_usd  \n",
       "0  0x5338035c008ea8c4b850052bc8dad6a33dc2206c     2020.38655  \n",
       "1  0x5338035c008ea8c4b850052bc8dad6a33dc2206c     2020.38655  \n",
       "2  0x5338035c008ea8c4b850052bc8dad6a33dc2206c     2008.43160  \n",
       "3  0x5338035c008ea8c4b850052bc8dad6a33dc2206c     2032.34150  \n",
       "4  0x5338035c008ea8c4b850052bc8dad6a33dc2206c     2029.95051  \n",
       "\n",
       "[5 rows x 24 columns]"
      ]
     },
     "execution_count": 22,
     "metadata": {},
     "output_type": "execute_result"
    }
   ],
   "source": [
    "df_temp3.head()"
   ]
  },
  {
   "cell_type": "code",
   "execution_count": 23,
   "id": "b2dda3bd",
   "metadata": {
    "tags": []
   },
   "outputs": [],
   "source": [
    "import numpy as np\n",
    "\n",
    "#買入價格，給定以太鏈。Eth = deal_price/(10**18)\n",
    "df_temp3[\"cost\"] = np.where(df_temp3[\"wallet_address_input\"][0]==df_temp3[\"token_seller_address\"], 0,df_temp3[\"deal_price\"]/10**18)\n",
    "#賣出價格\n",
    "df_temp3[\"sellprice\"] = np.where(df_temp3[\"wallet_address_input\"][0]==df_temp3[\"token_seller_address\"], df_temp3[\"deal_price\"]/10**18, 0)\n",
    "\n",
    "## cost and sellprice probably aren't necessary since there is the 'Buy_Sell' created below\n",
    "## a deal_price_usd is recommended\n",
    "\n",
    "#日期轉換\n",
    "df_temp3[\"Datetime\"] = pd.to_datetime(df_temp3[\"event_timestamp\"]) # this can be store in event_timestamp instead of a new column\n",
    "#買賣戳記\n",
    "# Consider overwriting event_type column\n",
    "df_temp3[\"Buy_Sell\"] = np.where(df_temp3[\"wallet_address_input\"][0]==df_temp3[\"token_seller_address\"], \"S\", 'B')\n",
    "#投資組合(庫存) << what do we plan to store here?\n",
    "df_temp3[\"Profolio\"] = np.NaN\n",
    "#損益 << Profit? How do we plan to calcuate this for each row of event?\n",
    "df_temp3[\"PL\"] = 0\n",
    "#token持有數量 << \n",
    "df_temp3[\"NFT_total_num\"] = 0\n",
    "#用collection_slug和tokenid組一個獨立欄位，用以紀錄錢包所持有的token\n",
    "df_temp3[\"collection_slug_tokenid\"] = df_temp3[\"collection_slug\"] + df_temp3[\"token_id\"]\n",
    "#token從二級買進到賣出所持有的時間\n",
    "df_temp3[\"HoldPeriod\"] = np.NaN\n",
    "df_temp3[\"Position\"] = 0\n",
    "df_temp3[\"Sell\"] = 0"
   ]
  },
  {
   "cell_type": "code",
   "execution_count": 24,
   "id": "d4e5a434-6478-40a1-a634-ce43837c3f45",
   "metadata": {},
   "outputs": [
    {
     "data": {
      "text/html": [
       "<div>\n",
       "<style scoped>\n",
       "    .dataframe tbody tr th:only-of-type {\n",
       "        vertical-align: middle;\n",
       "    }\n",
       "\n",
       "    .dataframe tbody tr th {\n",
       "        vertical-align: top;\n",
       "    }\n",
       "\n",
       "    .dataframe thead th {\n",
       "        text-align: right;\n",
       "    }\n",
       "</style>\n",
       "<table border=\"1\" class=\"dataframe\">\n",
       "  <thead>\n",
       "    <tr style=\"text-align: right;\">\n",
       "      <th></th>\n",
       "      <th>event_timestamp</th>\n",
       "      <th>event_type</th>\n",
       "      <th>token_id</th>\n",
       "      <th>num_sales</th>\n",
       "      <th>listing_time</th>\n",
       "      <th>token_owner_address</th>\n",
       "      <th>token_seller_address</th>\n",
       "      <th>deal_price</th>\n",
       "      <th>payment_token_symbol</th>\n",
       "      <th>payment_token_decimals</th>\n",
       "      <th>...</th>\n",
       "      <th>sellprice</th>\n",
       "      <th>Datetime</th>\n",
       "      <th>Buy_Sell</th>\n",
       "      <th>Profolio</th>\n",
       "      <th>PL</th>\n",
       "      <th>NFT_total_num</th>\n",
       "      <th>collection_slug_tokenid</th>\n",
       "      <th>HoldPeriod</th>\n",
       "      <th>Position</th>\n",
       "      <th>Sell</th>\n",
       "    </tr>\n",
       "  </thead>\n",
       "  <tbody>\n",
       "    <tr>\n",
       "      <th>0</th>\n",
       "      <td>2022-05-04 03:29:18</td>\n",
       "      <td>buy</td>\n",
       "      <td>2977</td>\n",
       "      <td>1.0</td>\n",
       "      <td>2022-05-04 03:19:37</td>\n",
       "      <td>0x5338035c008ea8c4b850052bc8dad6a33dc2206c</td>\n",
       "      <td>0x4984fc170325e8fe57e9de1c2b74ce5eabb6f9da</td>\n",
       "      <td>8.450000e+17</td>\n",
       "      <td>ETH</td>\n",
       "      <td>18.0</td>\n",
       "      <td>...</td>\n",
       "      <td>0.0</td>\n",
       "      <td>2022-05-04 03:29:18</td>\n",
       "      <td>B</td>\n",
       "      <td>NaN</td>\n",
       "      <td>0</td>\n",
       "      <td>0</td>\n",
       "      <td>fragments-by-james-jean2977</td>\n",
       "      <td>NaN</td>\n",
       "      <td>0</td>\n",
       "      <td>0</td>\n",
       "    </tr>\n",
       "    <tr>\n",
       "      <th>1</th>\n",
       "      <td>2022-05-04 03:29:18</td>\n",
       "      <td>buy</td>\n",
       "      <td>3016</td>\n",
       "      <td>1.0</td>\n",
       "      <td>2022-05-04 00:14:49</td>\n",
       "      <td>0x5338035c008ea8c4b850052bc8dad6a33dc2206c</td>\n",
       "      <td>0xc293bc1602efeba837cb240c49476e1d3fe0fd98</td>\n",
       "      <td>8.450000e+17</td>\n",
       "      <td>ETH</td>\n",
       "      <td>18.0</td>\n",
       "      <td>...</td>\n",
       "      <td>0.0</td>\n",
       "      <td>2022-05-04 03:29:18</td>\n",
       "      <td>B</td>\n",
       "      <td>NaN</td>\n",
       "      <td>0</td>\n",
       "      <td>0</td>\n",
       "      <td>fragments-by-james-jean3016</td>\n",
       "      <td>NaN</td>\n",
       "      <td>0</td>\n",
       "      <td>0</td>\n",
       "    </tr>\n",
       "    <tr>\n",
       "      <th>2</th>\n",
       "      <td>2022-05-04 03:29:18</td>\n",
       "      <td>buy</td>\n",
       "      <td>4956</td>\n",
       "      <td>1.0</td>\n",
       "      <td>2022-05-03 19:39:05</td>\n",
       "      <td>0x5338035c008ea8c4b850052bc8dad6a33dc2206c</td>\n",
       "      <td>0xe2fb909159dea75b1520c382ca102989cdd1a276</td>\n",
       "      <td>8.400000e+17</td>\n",
       "      <td>ETH</td>\n",
       "      <td>18.0</td>\n",
       "      <td>...</td>\n",
       "      <td>0.0</td>\n",
       "      <td>2022-05-04 03:29:18</td>\n",
       "      <td>B</td>\n",
       "      <td>NaN</td>\n",
       "      <td>0</td>\n",
       "      <td>0</td>\n",
       "      <td>fragments-by-james-jean4956</td>\n",
       "      <td>NaN</td>\n",
       "      <td>0</td>\n",
       "      <td>0</td>\n",
       "    </tr>\n",
       "    <tr>\n",
       "      <th>3</th>\n",
       "      <td>2022-05-04 03:29:18</td>\n",
       "      <td>buy</td>\n",
       "      <td>5078</td>\n",
       "      <td>1.0</td>\n",
       "      <td>2022-05-04 01:40:56</td>\n",
       "      <td>0x5338035c008ea8c4b850052bc8dad6a33dc2206c</td>\n",
       "      <td>0x8a45d09b2dbbf1657fb8c14561b6525443631d22</td>\n",
       "      <td>8.500000e+17</td>\n",
       "      <td>ETH</td>\n",
       "      <td>18.0</td>\n",
       "      <td>...</td>\n",
       "      <td>0.0</td>\n",
       "      <td>2022-05-04 03:29:18</td>\n",
       "      <td>B</td>\n",
       "      <td>NaN</td>\n",
       "      <td>0</td>\n",
       "      <td>0</td>\n",
       "      <td>fragments-by-james-jean5078</td>\n",
       "      <td>NaN</td>\n",
       "      <td>0</td>\n",
       "      <td>0</td>\n",
       "    </tr>\n",
       "    <tr>\n",
       "      <th>4</th>\n",
       "      <td>2022-05-04 03:29:18</td>\n",
       "      <td>buy</td>\n",
       "      <td>5800</td>\n",
       "      <td>1.0</td>\n",
       "      <td>2022-05-04 02:52:43</td>\n",
       "      <td>0x5338035c008ea8c4b850052bc8dad6a33dc2206c</td>\n",
       "      <td>0xcc60f720388551bc9159cfed814a15de2f49d1e9</td>\n",
       "      <td>8.490000e+17</td>\n",
       "      <td>ETH</td>\n",
       "      <td>18.0</td>\n",
       "      <td>...</td>\n",
       "      <td>0.0</td>\n",
       "      <td>2022-05-04 03:29:18</td>\n",
       "      <td>B</td>\n",
       "      <td>NaN</td>\n",
       "      <td>0</td>\n",
       "      <td>0</td>\n",
       "      <td>fragments-by-james-jean5800</td>\n",
       "      <td>NaN</td>\n",
       "      <td>0</td>\n",
       "      <td>0</td>\n",
       "    </tr>\n",
       "  </tbody>\n",
       "</table>\n",
       "<p>5 rows × 35 columns</p>\n",
       "</div>"
      ],
      "text/plain": [
       "      event_timestamp event_type token_id  num_sales        listing_time  \\\n",
       "0 2022-05-04 03:29:18        buy     2977        1.0 2022-05-04 03:19:37   \n",
       "1 2022-05-04 03:29:18        buy     3016        1.0 2022-05-04 00:14:49   \n",
       "2 2022-05-04 03:29:18        buy     4956        1.0 2022-05-03 19:39:05   \n",
       "3 2022-05-04 03:29:18        buy     5078        1.0 2022-05-04 01:40:56   \n",
       "4 2022-05-04 03:29:18        buy     5800        1.0 2022-05-04 02:52:43   \n",
       "\n",
       "                          token_owner_address  \\\n",
       "0  0x5338035c008ea8c4b850052bc8dad6a33dc2206c   \n",
       "1  0x5338035c008ea8c4b850052bc8dad6a33dc2206c   \n",
       "2  0x5338035c008ea8c4b850052bc8dad6a33dc2206c   \n",
       "3  0x5338035c008ea8c4b850052bc8dad6a33dc2206c   \n",
       "4  0x5338035c008ea8c4b850052bc8dad6a33dc2206c   \n",
       "\n",
       "                         token_seller_address    deal_price  \\\n",
       "0  0x4984fc170325e8fe57e9de1c2b74ce5eabb6f9da  8.450000e+17   \n",
       "1  0xc293bc1602efeba837cb240c49476e1d3fe0fd98  8.450000e+17   \n",
       "2  0xe2fb909159dea75b1520c382ca102989cdd1a276  8.400000e+17   \n",
       "3  0x8a45d09b2dbbf1657fb8c14561b6525443631d22  8.500000e+17   \n",
       "4  0xcc60f720388551bc9159cfed814a15de2f49d1e9  8.490000e+17   \n",
       "\n",
       "  payment_token_symbol  payment_token_decimals  ...  sellprice  \\\n",
       "0                  ETH                    18.0  ...        0.0   \n",
       "1                  ETH                    18.0  ...        0.0   \n",
       "2                  ETH                    18.0  ...        0.0   \n",
       "3                  ETH                    18.0  ...        0.0   \n",
       "4                  ETH                    18.0  ...        0.0   \n",
       "\n",
       "             Datetime Buy_Sell Profolio PL NFT_total_num  \\\n",
       "0 2022-05-04 03:29:18        B      NaN  0             0   \n",
       "1 2022-05-04 03:29:18        B      NaN  0             0   \n",
       "2 2022-05-04 03:29:18        B      NaN  0             0   \n",
       "3 2022-05-04 03:29:18        B      NaN  0             0   \n",
       "4 2022-05-04 03:29:18        B      NaN  0             0   \n",
       "\n",
       "       collection_slug_tokenid  HoldPeriod Position Sell  \n",
       "0  fragments-by-james-jean2977         NaN        0    0  \n",
       "1  fragments-by-james-jean3016         NaN        0    0  \n",
       "2  fragments-by-james-jean4956         NaN        0    0  \n",
       "3  fragments-by-james-jean5078         NaN        0    0  \n",
       "4  fragments-by-james-jean5800         NaN        0    0  \n",
       "\n",
       "[5 rows x 35 columns]"
      ]
     },
     "execution_count": 24,
     "metadata": {},
     "output_type": "execute_result"
    }
   ],
   "source": [
    "df_temp3.head()"
   ]
  },
  {
   "cell_type": "markdown",
   "id": "885459e1-dd71-4e3c-ada8-3f25ec13d883",
   "metadata": {
    "tags": []
   },
   "source": [
    "### Is the code block below attempting to calcuate the _current cumulative stat_ of each wallet?"
   ]
  },
  {
   "cell_type": "code",
   "execution_count": 25,
   "id": "eaf2f781",
   "metadata": {
    "tags": []
   },
   "outputs": [],
   "source": [
    "porfolio_dict = {}#紀錄持有的NFT集合\n",
    "porfolio_costdict = {}#紀錄買入成本\n",
    "porfolio_datedict = {}#紀錄買入時間\n",
    "count = 0\n",
    "error = []\n",
    "#資料時間是從新到舊，計算時要倒序，從舊到新去累計上來。\n",
    "for i in range(len(df_temp3)-1,-1,-1):\n",
    "    #初次買進NFT項目\n",
    "    if df_temp3[\"collection_slug\"][i] not in porfolio_dict.keys():\n",
    "        if df_temp3[\"Buy_Sell\"][i]==\"B\":\n",
    "            #庫存加一\n",
    "            count = count+1\n",
    "            porfolio_dict[df_temp3[\"collection_slug\"][i]] = [df_temp3[\"token_id\"][i]]\n",
    "            df_temp3.loc[i, \"Profolio\"] = [porfolio_dict]\n",
    "            df_temp3.loc[i, \"NFT_total_num\"] = count\n",
    "            #NFT成本\n",
    "            porfolio_costdict[df_temp3[\"collection_slug_tokenid\"][i]] = df_temp3[\"cost\"][i]\n",
    "            #NFT買進時間\n",
    "            porfolio_datedict[df_temp3[\"collection_slug_tokenid\"][i]] = df_temp3[\"Datetime\"][i]\n",
    "            #position\n",
    "            df_temp3.loc[i, \"Position\"] = sum(porfolio_costdict.values())\n",
    "            \n",
    "        else:\n",
    "            #賣出代表過去有可能發生來自於其他錢包轉移，但無法計算到先前持有的成本。\n",
    "            df_temp3.loc[i, \"NFT_total_num\"] = count\n",
    "            df_temp3.loc[i, \"Position\"] = sum(porfolio_costdict.values())\n",
    "    else:\n",
    "        #手上持有此項目的NFT\n",
    "        if df_temp3[\"token_id\"][i] not in porfolio_dict[df_temp3[\"collection_slug\"][i]]:\n",
    "            if df_temp3[\"Buy_Sell\"][i]==\"B\":\n",
    "                #買進加碼\n",
    "                porfolio_dict[df_temp3[\"collection_slug\"][i]].append(df_temp3[\"token_id\"][i])\n",
    "                df_temp3.loc[i, \"Profolio\"] = [porfolio_dict]\n",
    "                #庫存加一\n",
    "                count = count+1\n",
    "                df_temp3.loc[i, \"NFT_total_num\"] = count\n",
    "                #NFT成本\n",
    "                porfolio_costdict[df_temp3[\"collection_slug_tokenid\"][i]] = df_temp3[\"cost\"][i]\n",
    "                #NFT買進時間\n",
    "                porfolio_datedict[df_temp3[\"collection_slug_tokenid\"][i]] = df_temp3[\"Datetime\"][i]\n",
    "                #position\n",
    "                df_temp3.loc[i, \"Position\"] = sum(porfolio_costdict.values())\n",
    "                \n",
    "            else:\n",
    "                #賣出。有可能發生來自於其他錢包轉移，但無法計算到先前持有的成本。\n",
    "                df_temp3.loc[i, \"NFT_total_num\"] = count\n",
    "                df_temp3.loc[i, \"Profolio\"] = [porfolio_dict]\n",
    "                df_temp3.loc[i, \"Position\"] = sum(porfolio_costdict.values())\n",
    "        else:\n",
    "            if df_temp3[\"Buy_Sell\"][i]==\"B\":\n",
    "                #不可能發生，因為tokenid是唯一的?\n",
    "                df_temp3.loc[i, \"NFT_total_num\"] = count\n",
    "                df_temp3.loc[i, \"Profolio\"] = [porfolio_dict]\n",
    "                df_temp3.loc[i, \"Position\"] = sum(porfolio_costdict.values())\n",
    "            else:\n",
    "                #損益發生點，完成一次買入跟賣出\n",
    "                #庫存減一\n",
    "                count = count-1\n",
    "                df_temp3.loc[i, \"NFT_total_num\"] = count\n",
    "                #將token從porfolio移除\n",
    "                porfolio_dict[df_temp3[\"collection_slug\"][i]].remove(df_temp3[\"token_id\"][i])\n",
    "                df_temp3.loc[i, \"Profolio\"] = [porfolio_dict]\n",
    "                if df_temp3[\"collection_slug_tokenid\"][i] in porfolio_costdict.keys():\n",
    "                    profit = df_temp3[\"sellprice\"][i] - porfolio_costdict[df_temp3[\"collection_slug_tokenid\"][i]]\n",
    "                    df_temp3.loc[i, \"PL\"] =  profit        \n",
    "                    #丟棄key and value因為賣出了\n",
    "                    porfolio_costdict.pop(df_temp3[\"collection_slug_tokenid\"][i])\n",
    "                    df_temp3.loc[i, \"Position\"] = sum(porfolio_costdict.values())\n",
    "                    #TOKEN從買入到賣出持有間隔時間\n",
    "                    date_substrate = df_temp3[\"Datetime\"][i] - porfolio_datedict[df_temp3[\"collection_slug_tokenid\"][i]]\n",
    "                    df_temp3.loc[i, \"HoldPeriod\"] =  date_substrate\n",
    "                    #賣出戳記\n",
    "                    df_temp3.loc[i, \"Sell\"] =  1\n",
    "                    \n",
    "                else:\n",
    "                    #通常不會到這裡\n",
    "                    error.append([df_temp3[\"wallet_address_input\"][0],df_temp3[\"collection_slug_tokenid\"][i]])\n",
    "                    df_temp3.loc[i, \"Profolio\"] = [porfolio_dict]\n",
    "                    df_temp3.loc[i, \"Position\"] = sum(porfolio_costdict.values())"
   ]
  },
  {
   "cell_type": "code",
   "execution_count": 26,
   "id": "3c9f667d",
   "metadata": {
    "tags": []
   },
   "outputs": [],
   "source": [
    "#損益為正\n",
    "def positive_SIGN(row):\n",
    "    if row['PL_sign'] == 1:\n",
    "        return 1\n",
    "    return 0\n",
    "\n",
    "#損益為負\n",
    "def negative_SIGN(row):\n",
    "    if row['PL_sign'] == -1 :\n",
    "        return 1\n",
    "    return 0"
   ]
  },
  {
   "cell_type": "code",
   "execution_count": 27,
   "id": "9803a1e5",
   "metadata": {
    "tags": []
   },
   "outputs": [],
   "source": [
    "#累計損益是在一個錢包裡完成完整的買進賣出動作所累計的。\n",
    "df_temp3['cum_PL'] = df_temp3.loc[::-1, 'PL'].cumsum()[::-1]\n",
    "#總利潤\n",
    "df_temp3['TotalRevenue'] = df_temp3['cum_PL'] - df_temp3[\"Position\"]\n",
    "#損益正負符號\n",
    "df_temp3[\"PL_sign\"] = np.sign(list(df_temp3[\"PL\"].values))\n",
    "#累計賣出數量\n",
    "df_temp3[\"cum_Sell\"] = df_temp3.loc[::-1, 'Sell'].cumsum()[::-1]\n",
    "#損益為正做記號\n",
    "df_temp3[\"positive_sign\"] = df_temp3.apply(lambda row: positive_SIGN(row), axis=1)\n",
    "#損益為負做記號\n",
    "df_temp3[\"negative_sign\"] = df_temp3.apply(lambda row: negative_SIGN(row), axis=1)\n",
    "#累積正損益數\n",
    "df_temp3[\"cum_positive_sign\"] = df_temp3.loc[::-1, 'positive_sign'].cumsum()[::-1]\n",
    "#累積負損益數\n",
    "df_temp3[\"cum_negative_sign\"] = df_temp3.loc[::-1, 'negative_sign'].cumsum()[::-1]\n",
    "#勝率\n",
    "df_temp3[\"winrate\"] = df_temp3[\"cum_positive_sign\"] / df_temp3['cum_Sell']\n",
    "#輸錢率\n",
    "df_temp3[\"lossrate\"] = df_temp3[\"cum_negative_sign\"] / df_temp3['cum_Sell']\n",
    "#用0填補缺值\n",
    "df_temp3[\"winrate\"] = df_temp3[\"winrate\"].fillna(0)\n",
    "df_temp3[\"lossrate\"] = df_temp3[\"lossrate\"].fillna(0)\n",
    "#接受問價而賣出做紀號\n",
    "df_temp3[\"Bid_sell\"] = np.where((df_temp3[\"payment_token_symbol\"]==\"WETH\")&(df_temp3[\"Buy_Sell\"]==\"S\"), 1,0)\n",
    "#透過問價而買入做紀號\n",
    "df_temp3[\"Bid_buy\"] = np.where((df_temp3[\"payment_token_symbol\"]==\"WETH\")&(df_temp3[\"Buy_Sell\"]==\"B\"), 1,0)\n",
    "#累計問價買入數\n",
    "df_temp3[\"cum_Bid_buy\"] = df_temp3.loc[::-1, 'Bid_buy'].cumsum()[::-1]\n",
    "#累計接受問價賣出數\n",
    "df_temp3[\"cum_Bid_sell\"] = df_temp3.loc[::-1, 'Bid_sell'].cumsum()[::-1]\n",
    "\n",
    "#勝率(透過問價而買入&接受問價而賣出)前者代表很會釣魚，後者代表失去信心或是無法抵抗高價誘惑\n",
    "df_temp3[\"Bid_sell_rate\"] = df_temp3[\"cum_Bid_sell\"] / df_temp3[\"cum_Sell\"]\n",
    "df_temp3[\"Bid_sell_rate\"] = df_temp3[\"Bid_sell_rate\"].fillna(0)\n",
    "df_temp3[\"Bid_buy_rate\"] = df_temp3[\"cum_Bid_buy\"] / df_temp3[\"NFT_total_num\"]\n",
    "#TOKEN賣出數/手上TOKEN持有數\n",
    "df_temp3[\"sellposition_rate\"] = df_temp3[\"cum_Sell\"]/df_temp3[\"NFT_total_num\"]"
   ]
  },
  {
   "cell_type": "code",
   "execution_count": 28,
   "id": "7fe0f2ed-cb73-4e9c-9d45-a19f805ac3d5",
   "metadata": {
    "tags": []
   },
   "outputs": [
    {
     "name": "stdout",
     "output_type": "stream",
     "text": [
      "<class 'pandas.core.frame.DataFrame'>\n",
      "RangeIndex: 5521 entries, 0 to 5520\n",
      "Data columns (total 52 columns):\n",
      " #   Column                   Non-Null Count  Dtype          \n",
      "---  ------                   --------------  -----          \n",
      " 0   event_timestamp          5521 non-null   datetime64[ns] \n",
      " 1   event_type               5521 non-null   object         \n",
      " 2   token_id                 5503 non-null   object         \n",
      " 3   num_sales                5503 non-null   float64        \n",
      " 4   listing_time             5472 non-null   datetime64[ns] \n",
      " 5   token_owner_address      5503 non-null   object         \n",
      " 6   token_seller_address     5521 non-null   object         \n",
      " 7   deal_price               5521 non-null   float64        \n",
      " 8   payment_token_symbol     5521 non-null   object         \n",
      " 9   payment_token_decimals   5521 non-null   float64        \n",
      " 10  payment_token_usdprice   5521 non-null   float64        \n",
      " 11  quantity                 5521 non-null   float64        \n",
      " 12  asset_bundle             18 non-null     object         \n",
      " 13  auction_type             0 non-null      object         \n",
      " 14  transaction_hash         5521 non-null   object         \n",
      " 15  block_hash               5520 non-null   object         \n",
      " 16  block_number             5520 non-null   float64        \n",
      " 17  is_private               5472 non-null   float64        \n",
      " 18  duration                 5472 non-null   timedelta64[ns]\n",
      " 19  created_date             5521 non-null   object         \n",
      " 20  collection_slug          5521 non-null   object         \n",
      " 21  contract_address         5521 non-null   object         \n",
      " 22  wallet_address_input     5521 non-null   object         \n",
      " 23  deal_price_usd           5521 non-null   float64        \n",
      " 24  cost                     5521 non-null   float64        \n",
      " 25  sellprice                5521 non-null   float64        \n",
      " 26  Datetime                 5521 non-null   datetime64[ns] \n",
      " 27  Buy_Sell                 5521 non-null   object         \n",
      " 28  Profolio                 3594 non-null   object         \n",
      " 29  PL                       5521 non-null   float64        \n",
      " 30  NFT_total_num            5521 non-null   int64          \n",
      " 31  collection_slug_tokenid  5503 non-null   object         \n",
      " 32  HoldPeriod               545 non-null    object         \n",
      " 33  Position                 5521 non-null   float64        \n",
      " 34  Sell                     5521 non-null   int64          \n",
      " 35  cum_PL                   5521 non-null   float64        \n",
      " 36  TotalRevenue             5521 non-null   float64        \n",
      " 37  PL_sign                  5521 non-null   float64        \n",
      " 38  cum_Sell                 5521 non-null   int64          \n",
      " 39  positive_sign            5521 non-null   int64          \n",
      " 40  negative_sign            5521 non-null   int64          \n",
      " 41  cum_positive_sign        5521 non-null   int64          \n",
      " 42  cum_negative_sign        5521 non-null   int64          \n",
      " 43  winrate                  5521 non-null   float64        \n",
      " 44  lossrate                 5521 non-null   float64        \n",
      " 45  Bid_sell                 5521 non-null   int32          \n",
      " 46  Bid_buy                  5521 non-null   int32          \n",
      " 47  cum_Bid_buy              5521 non-null   int32          \n",
      " 48  cum_Bid_sell             5521 non-null   int32          \n",
      " 49  Bid_sell_rate            5521 non-null   float64        \n",
      " 50  Bid_buy_rate             5520 non-null   float64        \n",
      " 51  sellposition_rate        5521 non-null   float64        \n",
      "dtypes: datetime64[ns](3), float64(20), int32(4), int64(7), object(17), timedelta64[ns](1)\n",
      "memory usage: 2.1+ MB\n"
     ]
    }
   ],
   "source": [
    "df_temp3.info()"
   ]
  },
  {
   "cell_type": "code",
   "execution_count": 29,
   "id": "3815ed16-eb45-4d36-93cb-2c0fea3c6dbe",
   "metadata": {
    "tags": []
   },
   "outputs": [
    {
     "data": {
      "text/plain": [
       "num_sales                                101.757587\n",
       "deal_price                     597986835388445568.0\n",
       "payment_token_decimals                         18.0\n",
       "payment_token_usdprice                  2390.965238\n",
       "quantity                                   1.049085\n",
       "block_number                        13350087.601812\n",
       "is_private                                 0.001279\n",
       "duration                  3 days 12:03:26.675250534\n",
       "deal_price_usd                          1429.741645\n",
       "cost                                       0.169379\n",
       "sellprice                                  0.428607\n",
       "PL                                        -0.007802\n",
       "NFT_total_num                            543.792972\n",
       "Position                                 179.554514\n",
       "Sell                                       0.098714\n",
       "cum_PL                                    42.495312\n",
       "TotalRevenue                            -137.059203\n",
       "PL_sign                                    0.018475\n",
       "cum_Sell                                 225.092556\n",
       "positive_sign                              0.058504\n",
       "negative_sign                              0.040029\n",
       "cum_positive_sign                        161.435972\n",
       "cum_negative_sign                         63.589205\n",
       "winrate                                    0.756096\n",
       "lossrate                                   0.243596\n",
       "Bid_sell                                   0.008694\n",
       "Bid_buy                                    0.000181\n",
       "cum_Bid_buy                                0.280746\n",
       "cum_Bid_sell                              21.622532\n",
       "Bid_sell_rate                              0.132707\n",
       "Bid_buy_rate                               0.000257\n",
       "sellposition_rate                               inf\n",
       "Name: mean, dtype: object"
      ]
     },
     "execution_count": 29,
     "metadata": {},
     "output_type": "execute_result"
    }
   ],
   "source": [
    "df_temp3.describe().loc[\"mean\"]"
   ]
  },
  {
   "cell_type": "markdown",
   "id": "d50ce2c5-5cee-47fb-b3ae-6f2d22468e26",
   "metadata": {},
   "source": [
    "## WIP"
   ]
  },
  {
   "cell_type": "code",
   "execution_count": 30,
   "id": "7d0fb4db-0c19-4ef0-b34e-4a97be3b1bc4",
   "metadata": {
    "tags": []
   },
   "outputs": [
    {
     "data": {
      "text/plain": [
       "215099"
      ]
     },
     "execution_count": 30,
     "metadata": {},
     "output_type": "execute_result"
    }
   ],
   "source": [
    "wallets.token_seller_address.nunique()"
   ]
  },
  {
   "cell_type": "code",
   "execution_count": 31,
   "id": "338884e6-71d7-4fb1-96ed-5712b2edddd7",
   "metadata": {
    "tags": []
   },
   "outputs": [
    {
     "data": {
      "text/plain": [
       "39"
      ]
     },
     "execution_count": 31,
     "metadata": {},
     "output_type": "execute_result"
    }
   ],
   "source": [
    "sum(wallets.payment_token_symbol.isna())"
   ]
  },
  {
   "cell_type": "code",
   "execution_count": 32,
   "id": "88132215-f9e9-49c6-9522-171813d74f5c",
   "metadata": {
    "tags": []
   },
   "outputs": [
    {
     "data": {
      "text/plain": [
       "array([1.00000000e+00, 2.00000000e+00, 4.00000000e+00, 7.00000000e+01,\n",
       "       3.00000000e+00, 9.00000000e+00, 1.00000000e+01, 2.00000000e+01,\n",
       "       5.00000000e+00, 1.50000000e+01, 6.00000000e+00, 2.50000000e+01,\n",
       "       5.00000000e+01, 7.00000000e+00, 8.00000000e+00, 1.10000000e+01,\n",
       "       1.20000000e+01, 6.50000000e+02, 1.40000000e+01, 1.30000000e+01,\n",
       "       1.90000000e+01, 1.60000000e+01,            nan, 1.28000000e+02,\n",
       "       1.00000000e+11, 1.80000000e+01, 2.40000000e+01, 2.20000000e+01,\n",
       "       2.10000000e+01, 1.70000000e+01, 2.90000000e+01, 3.50000000e+01,\n",
       "       4.00000000e+01, 2.80000000e+01, 3.00000000e+01, 1.00000000e+02,\n",
       "       6.40000000e+01, 3.20000000e+01, 1.92000000e+02, 4.20000000e+02,\n",
       "       2.50000000e+02, 5.10000000e+01, 2.00000000e+02, 6.90000000e+01,\n",
       "       1.00000000e+03, 8.00000000e+01, 1.72000000e+02, 1.88000000e+02,\n",
       "       5.50000000e+01, 1.00000000e+22, 4.00000000e+18, 2.70000000e+01,\n",
       "       1.00000000e+09, 1.00000000e+04, 2.50000000e+03, 2.30000000e+01,\n",
       "       4.90000000e+01, 2.60000000e+01, 2.47000000e+02, 6.00000000e+03,\n",
       "       1.00000000e+18, 1.26180000e+04, 8.88800000e+03, 8.70000000e+01,\n",
       "       8.90000000e+01, 1.00000000e+10, 1.00000000e+19, 5.00000000e+18,\n",
       "       3.10000000e+01, 1.25000000e+02, 4.30000000e+10, 6.16500000e+10,\n",
       "       2.50000000e+10, 6.12000000e+20, 9.21000000e+02, 3.00000000e+02,\n",
       "       3.70000000e+01, 3.40000000e+01, 4.40000000e+01, 3.30000000e+01,\n",
       "       3.57900000e+03, 3.00000000e+18, 6.00000000e+01, 1.21000000e+02,\n",
       "       3.90000000e+02, 6.50000000e+01, 4.00000000e+02, 1.00000000e+15,\n",
       "       3.00000000e+15, 1.60000000e+08, 1.00000000e+17, 1.00000000e+08,\n",
       "       1.00000000e+20, 5.00000000e+20, 2.40000000e+02, 2.55000000e+02,\n",
       "       5.00000000e+15, 8.62153858e+09, 1.27704614e+10, 1.59500000e+10,\n",
       "       1.21403607e+10, 8.97963927e+09, 1.62900000e+03, 3.35000000e+03,\n",
       "       3.20000000e+02])"
      ]
     },
     "execution_count": 32,
     "metadata": {},
     "output_type": "execute_result"
    }
   ],
   "source": [
    "wallets.quantity.unique()"
   ]
  },
  {
   "cell_type": "code",
   "execution_count": 33,
   "id": "cbee3ac7-43c3-4543-a6ea-ac7a60208a3c",
   "metadata": {
    "tags": []
   },
   "outputs": [
    {
     "data": {
      "text/plain": [
       "0.000     1.0\n",
       "0.001     1.0\n",
       "0.002     1.0\n",
       "0.003     1.0\n",
       "0.004     1.0\n",
       "         ... \n",
       "0.995     3.0\n",
       "0.996     5.0\n",
       "0.997     5.0\n",
       "0.998     7.0\n",
       "0.999    10.0\n",
       "Name: quantity, Length: 1000, dtype: float64"
      ]
     },
     "execution_count": 33,
     "metadata": {},
     "output_type": "execute_result"
    }
   ],
   "source": [
    "wallets[~wallets.payment_token_symbol.isna()].quantity.quantile(q=[x / 1000 for x in range(0, 1000)])"
   ]
  },
  {
   "cell_type": "code",
   "execution_count": 34,
   "id": "2d601a65-ac87-4fd8-a4a4-e90c01c5fec5",
   "metadata": {},
   "outputs": [
    {
     "data": {
      "text/html": [
       "<div>\n",
       "<style scoped>\n",
       "    .dataframe tbody tr th:only-of-type {\n",
       "        vertical-align: middle;\n",
       "    }\n",
       "\n",
       "    .dataframe tbody tr th {\n",
       "        vertical-align: top;\n",
       "    }\n",
       "\n",
       "    .dataframe thead th {\n",
       "        text-align: right;\n",
       "    }\n",
       "</style>\n",
       "<table border=\"1\" class=\"dataframe\">\n",
       "  <thead>\n",
       "    <tr style=\"text-align: right;\">\n",
       "      <th></th>\n",
       "      <th>event_timestamp</th>\n",
       "      <th>event_type</th>\n",
       "      <th>token_id</th>\n",
       "      <th>num_sales</th>\n",
       "      <th>listing_time</th>\n",
       "      <th>token_owner_address</th>\n",
       "      <th>token_seller_address</th>\n",
       "      <th>deal_price</th>\n",
       "      <th>payment_token_symbol</th>\n",
       "      <th>payment_token_decimals</th>\n",
       "      <th>...</th>\n",
       "      <th>transaction_hash</th>\n",
       "      <th>block_hash</th>\n",
       "      <th>block_number</th>\n",
       "      <th>is_private</th>\n",
       "      <th>duration</th>\n",
       "      <th>created_date</th>\n",
       "      <th>collection_slug</th>\n",
       "      <th>contract_address</th>\n",
       "      <th>wallet_address_input</th>\n",
       "      <th>deal_price_usd</th>\n",
       "    </tr>\n",
       "  </thead>\n",
       "  <tbody>\n",
       "    <tr>\n",
       "      <th>97775</th>\n",
       "      <td>2020-06-27 19:12:07</td>\n",
       "      <td>buy</td>\n",
       "      <td>147226</td>\n",
       "      <td>1.0</td>\n",
       "      <td>NaT</td>\n",
       "      <td>0x3bd77b00f02c8bcff586c565e2c5e6b6c5878ec3</td>\n",
       "      <td>0x42a60d2f2ffa2150c568010a8d425f0aad284fd2</td>\n",
       "      <td>3.249210e+16</td>\n",
       "      <td>ETH</td>\n",
       "      <td>18.0</td>\n",
       "      <td>...</td>\n",
       "      <td>0x2ff432a6205be89a625a7016815b5a81991541d94173...</td>\n",
       "      <td>0x0c2cd5d23b6676863b2278e225ed650f4c0884860c4b...</td>\n",
       "      <td>10349619.0</td>\n",
       "      <td>NaN</td>\n",
       "      <td>NaT</td>\n",
       "      <td>2020-06-27T19:12:48.763876</td>\n",
       "      <td>axie</td>\n",
       "      <td>0xf4985070ce32b6b1994329df787d1acc9a2dd9e2</td>\n",
       "      <td>0x3bd77b00f02c8bcff586c565e2c5e6b6c5878ec3</td>\n",
       "      <td>75.729669</td>\n",
       "    </tr>\n",
       "    <tr>\n",
       "      <th>97776</th>\n",
       "      <td>2020-06-20 16:16:52</td>\n",
       "      <td>buy</td>\n",
       "      <td>44584</td>\n",
       "      <td>2.0</td>\n",
       "      <td>NaT</td>\n",
       "      <td>0x6d1f5fac38edca69b9d02637a173c1e62d331896</td>\n",
       "      <td>0x8b3ad493c077e894a034db7eb53e8285560298fd</td>\n",
       "      <td>2.450000e+16</td>\n",
       "      <td>ETH</td>\n",
       "      <td>18.0</td>\n",
       "      <td>...</td>\n",
       "      <td>0x21746dd417132bb6e3b6ca77c809ba62322302ff16ea...</td>\n",
       "      <td>0x7124a292f83004a5f888acd3d808a4e6544c94568534...</td>\n",
       "      <td>10303653.0</td>\n",
       "      <td>NaN</td>\n",
       "      <td>NaT</td>\n",
       "      <td>2020-06-20T16:17:15.773754</td>\n",
       "      <td>axie</td>\n",
       "      <td>0xf4985070ce32b6b1994329df787d1acc9a2dd9e2</td>\n",
       "      <td>0x3bd77b00f02c8bcff586c565e2c5e6b6c5878ec3</td>\n",
       "      <td>57.102395</td>\n",
       "    </tr>\n",
       "    <tr>\n",
       "      <th>97777</th>\n",
       "      <td>2020-06-19 17:01:06</td>\n",
       "      <td>buy</td>\n",
       "      <td>140164</td>\n",
       "      <td>4.0</td>\n",
       "      <td>NaT</td>\n",
       "      <td>0xc301878610b1952e94a57d9958fba4ec043537e4</td>\n",
       "      <td>0x9b7061023cd42263448d48c48572507f19f39b78</td>\n",
       "      <td>7.500000e+16</td>\n",
       "      <td>ETH</td>\n",
       "      <td>18.0</td>\n",
       "      <td>...</td>\n",
       "      <td>0xb0993b84033070e3b6e11c10e55ffcc78386f287188c...</td>\n",
       "      <td>0xc08102bade64f5976a023213267cc09b06dc714a5df4...</td>\n",
       "      <td>10297405.0</td>\n",
       "      <td>NaN</td>\n",
       "      <td>NaT</td>\n",
       "      <td>2020-06-19T17:01:53.569908</td>\n",
       "      <td>axie</td>\n",
       "      <td>0xf4985070ce32b6b1994329df787d1acc9a2dd9e2</td>\n",
       "      <td>0x3bd77b00f02c8bcff586c565e2c5e6b6c5878ec3</td>\n",
       "      <td>174.803250</td>\n",
       "    </tr>\n",
       "    <tr>\n",
       "      <th>97778</th>\n",
       "      <td>2020-06-19 16:56:36</td>\n",
       "      <td>buy</td>\n",
       "      <td>71500</td>\n",
       "      <td>3.0</td>\n",
       "      <td>NaT</td>\n",
       "      <td>0x3bd77b00f02c8bcff586c565e2c5e6b6c5878ec3</td>\n",
       "      <td>0x937b9093cd9d8798930e394d188f9b5596d49f54</td>\n",
       "      <td>5.000000e+16</td>\n",
       "      <td>ETH</td>\n",
       "      <td>18.0</td>\n",
       "      <td>...</td>\n",
       "      <td>0x97ce92af142c265957c66c5db4909a66d282b39e2df6...</td>\n",
       "      <td>0xe42efeaef744ded41ffd2d35a40eccef40a87c89a98b...</td>\n",
       "      <td>10297384.0</td>\n",
       "      <td>NaN</td>\n",
       "      <td>NaT</td>\n",
       "      <td>2020-06-19T16:57:06.608060</td>\n",
       "      <td>axie</td>\n",
       "      <td>0xf4985070ce32b6b1994329df787d1acc9a2dd9e2</td>\n",
       "      <td>0x3bd77b00f02c8bcff586c565e2c5e6b6c5878ec3</td>\n",
       "      <td>116.535500</td>\n",
       "    </tr>\n",
       "    <tr>\n",
       "      <th>97779</th>\n",
       "      <td>2020-06-19 16:52:38</td>\n",
       "      <td>buy</td>\n",
       "      <td>121128</td>\n",
       "      <td>2.0</td>\n",
       "      <td>NaT</td>\n",
       "      <td>0x7a9112792211461205db4191381866b0508fa4a8</td>\n",
       "      <td>0xb4d055d63cc6a7bfb51a588ddaeb245ce5e3fc48</td>\n",
       "      <td>1.890000e+16</td>\n",
       "      <td>ETH</td>\n",
       "      <td>18.0</td>\n",
       "      <td>...</td>\n",
       "      <td>0xeb9f95b93ee31757b257ba06a30d35a56bb0de35a511...</td>\n",
       "      <td>0xf0237c4fada0f5fb6fdde8c1ba8702bac7cf1598ea44...</td>\n",
       "      <td>10297361.0</td>\n",
       "      <td>NaN</td>\n",
       "      <td>NaT</td>\n",
       "      <td>2020-06-19T16:52:55.760877</td>\n",
       "      <td>axie</td>\n",
       "      <td>0xf4985070ce32b6b1994329df787d1acc9a2dd9e2</td>\n",
       "      <td>0x3bd77b00f02c8bcff586c565e2c5e6b6c5878ec3</td>\n",
       "      <td>44.050419</td>\n",
       "    </tr>\n",
       "    <tr>\n",
       "      <th>...</th>\n",
       "      <td>...</td>\n",
       "      <td>...</td>\n",
       "      <td>...</td>\n",
       "      <td>...</td>\n",
       "      <td>...</td>\n",
       "      <td>...</td>\n",
       "      <td>...</td>\n",
       "      <td>...</td>\n",
       "      <td>...</td>\n",
       "      <td>...</td>\n",
       "      <td>...</td>\n",
       "      <td>...</td>\n",
       "      <td>...</td>\n",
       "      <td>...</td>\n",
       "      <td>...</td>\n",
       "      <td>...</td>\n",
       "      <td>...</td>\n",
       "      <td>...</td>\n",
       "      <td>...</td>\n",
       "      <td>...</td>\n",
       "      <td>...</td>\n",
       "    </tr>\n",
       "    <tr>\n",
       "      <th>2168131</th>\n",
       "      <td>2019-05-20 01:12:22</td>\n",
       "      <td>buy</td>\n",
       "      <td>23300</td>\n",
       "      <td>1.0</td>\n",
       "      <td>2019-05-20 00:09:28</td>\n",
       "      <td>0xa5a0b7c3dd5dddbfbd51e56b9170bb6d1253788b</td>\n",
       "      <td>0x05f9bbbd6af1699cb3ca8c14bd38b2b47bd6b2ec</td>\n",
       "      <td>1.000000e+15</td>\n",
       "      <td>ETH</td>\n",
       "      <td>18.0</td>\n",
       "      <td>...</td>\n",
       "      <td>0x37e0c7d0b3b606c2dd9ec83fdf3c1c6aff70e02b60d8...</td>\n",
       "      <td>b\"t`\\x91E\\x9d\\x96;\\x9e\\xe3\\xd6y'\\xfaO\\xca\\xbe\\...</td>\n",
       "      <td>7793907.0</td>\n",
       "      <td>0.0</td>\n",
       "      <td>0 days 01:02:54</td>\n",
       "      <td>2019-05-20T01:12:56.975962</td>\n",
       "      <td>neon-district</td>\n",
       "      <td>0x7be8076f4ea4a4ad08075c2508e481d6c946d12b</td>\n",
       "      <td>0xa5a0b7c3dd5dddbfbd51e56b9170bb6d1253788b</td>\n",
       "      <td>2.382100</td>\n",
       "    </tr>\n",
       "    <tr>\n",
       "      <th>2168132</th>\n",
       "      <td>2019-05-20 01:12:07</td>\n",
       "      <td>buy</td>\n",
       "      <td>32194</td>\n",
       "      <td>1.0</td>\n",
       "      <td>2019-05-20 00:11:56</td>\n",
       "      <td>0xa5a0b7c3dd5dddbfbd51e56b9170bb6d1253788b</td>\n",
       "      <td>0x05f9bbbd6af1699cb3ca8c14bd38b2b47bd6b2ec</td>\n",
       "      <td>1.000000e+15</td>\n",
       "      <td>ETH</td>\n",
       "      <td>18.0</td>\n",
       "      <td>...</td>\n",
       "      <td>0x0362ec6a23c7cc9aff6ca78587ffaa09bf8708ad51cd...</td>\n",
       "      <td>b\"w\\xb2\\xa2\\xecN\\xe2\\xf4\\x10N\\xd8\\xfc\\xa5\\x8d'...</td>\n",
       "      <td>7793905.0</td>\n",
       "      <td>0.0</td>\n",
       "      <td>0 days 01:00:11</td>\n",
       "      <td>2019-05-20T01:12:31.755591</td>\n",
       "      <td>neon-district</td>\n",
       "      <td>0x7be8076f4ea4a4ad08075c2508e481d6c946d12b</td>\n",
       "      <td>0xa5a0b7c3dd5dddbfbd51e56b9170bb6d1253788b</td>\n",
       "      <td>2.382100</td>\n",
       "    </tr>\n",
       "    <tr>\n",
       "      <th>2168133</th>\n",
       "      <td>2019-05-20 01:10:19</td>\n",
       "      <td>buy</td>\n",
       "      <td>23301</td>\n",
       "      <td>1.0</td>\n",
       "      <td>2019-05-20 00:09:59</td>\n",
       "      <td>0xa5a0b7c3dd5dddbfbd51e56b9170bb6d1253788b</td>\n",
       "      <td>0x05f9bbbd6af1699cb3ca8c14bd38b2b47bd6b2ec</td>\n",
       "      <td>1.000000e+15</td>\n",
       "      <td>ETH</td>\n",
       "      <td>18.0</td>\n",
       "      <td>...</td>\n",
       "      <td>0x55145bccaeed167e32804c9b2af89a859993ddba6598...</td>\n",
       "      <td>b'\\x06B\\x1c7D\\xcd\\x89\\xd1\\xbe\\xcb\\xf1\\xd5~?v\\x...</td>\n",
       "      <td>7793900.0</td>\n",
       "      <td>0.0</td>\n",
       "      <td>0 days 01:00:20</td>\n",
       "      <td>2019-05-20T01:10:57.798340</td>\n",
       "      <td>neon-district</td>\n",
       "      <td>0x7be8076f4ea4a4ad08075c2508e481d6c946d12b</td>\n",
       "      <td>0xa5a0b7c3dd5dddbfbd51e56b9170bb6d1253788b</td>\n",
       "      <td>2.382100</td>\n",
       "    </tr>\n",
       "    <tr>\n",
       "      <th>2168134</th>\n",
       "      <td>2019-05-20 01:09:42</td>\n",
       "      <td>buy</td>\n",
       "      <td>33912</td>\n",
       "      <td>1.0</td>\n",
       "      <td>2019-05-20 00:16:54</td>\n",
       "      <td>0xa5a0b7c3dd5dddbfbd51e56b9170bb6d1253788b</td>\n",
       "      <td>0x05f9bbbd6af1699cb3ca8c14bd38b2b47bd6b2ec</td>\n",
       "      <td>1.000000e+15</td>\n",
       "      <td>ETH</td>\n",
       "      <td>18.0</td>\n",
       "      <td>...</td>\n",
       "      <td>0x613a7d28e158d5db005e808dbd4d152cbf0ed8968b68...</td>\n",
       "      <td>b'4&gt;S\\xda\\xff\\x15\\x02\\xe5\\x1dP=\\xaa\\xfb{]\\xc7\\...</td>\n",
       "      <td>7793896.0</td>\n",
       "      <td>0.0</td>\n",
       "      <td>0 days 00:52:48</td>\n",
       "      <td>2019-05-20T01:10:15.673318</td>\n",
       "      <td>neon-district</td>\n",
       "      <td>0x7be8076f4ea4a4ad08075c2508e481d6c946d12b</td>\n",
       "      <td>0xa5a0b7c3dd5dddbfbd51e56b9170bb6d1253788b</td>\n",
       "      <td>2.382100</td>\n",
       "    </tr>\n",
       "    <tr>\n",
       "      <th>2168135</th>\n",
       "      <td>2019-05-14 15:01:10</td>\n",
       "      <td>sell</td>\n",
       "      <td>8863</td>\n",
       "      <td>1.0</td>\n",
       "      <td>2019-05-14 10:45:49</td>\n",
       "      <td>0x7c7d093b4fb96c89fcc29cd4c24c15db0ed669df</td>\n",
       "      <td>0xa5a0b7c3dd5dddbfbd51e56b9170bb6d1253788b</td>\n",
       "      <td>2.000000e+18</td>\n",
       "      <td>ETH</td>\n",
       "      <td>18.0</td>\n",
       "      <td>...</td>\n",
       "      <td>0xab26e053548686db40dac00f501efa06bc9a9aba22cf...</td>\n",
       "      <td>b'\\x8bO\\x97S\\xed\\xae\\x1c\\xe5\\xfc\\xab\\x1a\\x0c\\x...</td>\n",
       "      <td>7759137.0</td>\n",
       "      <td>0.0</td>\n",
       "      <td>0 days 04:15:21</td>\n",
       "      <td>2019-05-14T15:01:46.632413</td>\n",
       "      <td>neon-district</td>\n",
       "      <td>0x7be8076f4ea4a4ad08075c2508e481d6c946d12b</td>\n",
       "      <td>0xa5a0b7c3dd5dddbfbd51e56b9170bb6d1253788b</td>\n",
       "      <td>4764.200000</td>\n",
       "    </tr>\n",
       "  </tbody>\n",
       "</table>\n",
       "<p>4262 rows × 24 columns</p>\n",
       "</div>"
      ],
      "text/plain": [
       "            event_timestamp event_type token_id  num_sales  \\\n",
       "97775   2020-06-27 19:12:07        buy   147226        1.0   \n",
       "97776   2020-06-20 16:16:52        buy    44584        2.0   \n",
       "97777   2020-06-19 17:01:06        buy   140164        4.0   \n",
       "97778   2020-06-19 16:56:36        buy    71500        3.0   \n",
       "97779   2020-06-19 16:52:38        buy   121128        2.0   \n",
       "...                     ...        ...      ...        ...   \n",
       "2168131 2019-05-20 01:12:22        buy    23300        1.0   \n",
       "2168132 2019-05-20 01:12:07        buy    32194        1.0   \n",
       "2168133 2019-05-20 01:10:19        buy    23301        1.0   \n",
       "2168134 2019-05-20 01:09:42        buy    33912        1.0   \n",
       "2168135 2019-05-14 15:01:10       sell     8863        1.0   \n",
       "\n",
       "               listing_time                         token_owner_address  \\\n",
       "97775                   NaT  0x3bd77b00f02c8bcff586c565e2c5e6b6c5878ec3   \n",
       "97776                   NaT  0x6d1f5fac38edca69b9d02637a173c1e62d331896   \n",
       "97777                   NaT  0xc301878610b1952e94a57d9958fba4ec043537e4   \n",
       "97778                   NaT  0x3bd77b00f02c8bcff586c565e2c5e6b6c5878ec3   \n",
       "97779                   NaT  0x7a9112792211461205db4191381866b0508fa4a8   \n",
       "...                     ...                                         ...   \n",
       "2168131 2019-05-20 00:09:28  0xa5a0b7c3dd5dddbfbd51e56b9170bb6d1253788b   \n",
       "2168132 2019-05-20 00:11:56  0xa5a0b7c3dd5dddbfbd51e56b9170bb6d1253788b   \n",
       "2168133 2019-05-20 00:09:59  0xa5a0b7c3dd5dddbfbd51e56b9170bb6d1253788b   \n",
       "2168134 2019-05-20 00:16:54  0xa5a0b7c3dd5dddbfbd51e56b9170bb6d1253788b   \n",
       "2168135 2019-05-14 10:45:49  0x7c7d093b4fb96c89fcc29cd4c24c15db0ed669df   \n",
       "\n",
       "                               token_seller_address    deal_price  \\\n",
       "97775    0x42a60d2f2ffa2150c568010a8d425f0aad284fd2  3.249210e+16   \n",
       "97776    0x8b3ad493c077e894a034db7eb53e8285560298fd  2.450000e+16   \n",
       "97777    0x9b7061023cd42263448d48c48572507f19f39b78  7.500000e+16   \n",
       "97778    0x937b9093cd9d8798930e394d188f9b5596d49f54  5.000000e+16   \n",
       "97779    0xb4d055d63cc6a7bfb51a588ddaeb245ce5e3fc48  1.890000e+16   \n",
       "...                                             ...           ...   \n",
       "2168131  0x05f9bbbd6af1699cb3ca8c14bd38b2b47bd6b2ec  1.000000e+15   \n",
       "2168132  0x05f9bbbd6af1699cb3ca8c14bd38b2b47bd6b2ec  1.000000e+15   \n",
       "2168133  0x05f9bbbd6af1699cb3ca8c14bd38b2b47bd6b2ec  1.000000e+15   \n",
       "2168134  0x05f9bbbd6af1699cb3ca8c14bd38b2b47bd6b2ec  1.000000e+15   \n",
       "2168135  0xa5a0b7c3dd5dddbfbd51e56b9170bb6d1253788b  2.000000e+18   \n",
       "\n",
       "        payment_token_symbol  payment_token_decimals  ...  \\\n",
       "97775                    ETH                    18.0  ...   \n",
       "97776                    ETH                    18.0  ...   \n",
       "97777                    ETH                    18.0  ...   \n",
       "97778                    ETH                    18.0  ...   \n",
       "97779                    ETH                    18.0  ...   \n",
       "...                      ...                     ...  ...   \n",
       "2168131                  ETH                    18.0  ...   \n",
       "2168132                  ETH                    18.0  ...   \n",
       "2168133                  ETH                    18.0  ...   \n",
       "2168134                  ETH                    18.0  ...   \n",
       "2168135                  ETH                    18.0  ...   \n",
       "\n",
       "                                          transaction_hash  \\\n",
       "97775    0x2ff432a6205be89a625a7016815b5a81991541d94173...   \n",
       "97776    0x21746dd417132bb6e3b6ca77c809ba62322302ff16ea...   \n",
       "97777    0xb0993b84033070e3b6e11c10e55ffcc78386f287188c...   \n",
       "97778    0x97ce92af142c265957c66c5db4909a66d282b39e2df6...   \n",
       "97779    0xeb9f95b93ee31757b257ba06a30d35a56bb0de35a511...   \n",
       "...                                                    ...   \n",
       "2168131  0x37e0c7d0b3b606c2dd9ec83fdf3c1c6aff70e02b60d8...   \n",
       "2168132  0x0362ec6a23c7cc9aff6ca78587ffaa09bf8708ad51cd...   \n",
       "2168133  0x55145bccaeed167e32804c9b2af89a859993ddba6598...   \n",
       "2168134  0x613a7d28e158d5db005e808dbd4d152cbf0ed8968b68...   \n",
       "2168135  0xab26e053548686db40dac00f501efa06bc9a9aba22cf...   \n",
       "\n",
       "                                                block_hash block_number  \\\n",
       "97775    0x0c2cd5d23b6676863b2278e225ed650f4c0884860c4b...   10349619.0   \n",
       "97776    0x7124a292f83004a5f888acd3d808a4e6544c94568534...   10303653.0   \n",
       "97777    0xc08102bade64f5976a023213267cc09b06dc714a5df4...   10297405.0   \n",
       "97778    0xe42efeaef744ded41ffd2d35a40eccef40a87c89a98b...   10297384.0   \n",
       "97779    0xf0237c4fada0f5fb6fdde8c1ba8702bac7cf1598ea44...   10297361.0   \n",
       "...                                                    ...          ...   \n",
       "2168131  b\"t`\\x91E\\x9d\\x96;\\x9e\\xe3\\xd6y'\\xfaO\\xca\\xbe\\...    7793907.0   \n",
       "2168132  b\"w\\xb2\\xa2\\xecN\\xe2\\xf4\\x10N\\xd8\\xfc\\xa5\\x8d'...    7793905.0   \n",
       "2168133  b'\\x06B\\x1c7D\\xcd\\x89\\xd1\\xbe\\xcb\\xf1\\xd5~?v\\x...    7793900.0   \n",
       "2168134  b'4>S\\xda\\xff\\x15\\x02\\xe5\\x1dP=\\xaa\\xfb{]\\xc7\\...    7793896.0   \n",
       "2168135  b'\\x8bO\\x97S\\xed\\xae\\x1c\\xe5\\xfc\\xab\\x1a\\x0c\\x...    7759137.0   \n",
       "\n",
       "        is_private        duration                created_date  \\\n",
       "97775          NaN             NaT  2020-06-27T19:12:48.763876   \n",
       "97776          NaN             NaT  2020-06-20T16:17:15.773754   \n",
       "97777          NaN             NaT  2020-06-19T17:01:53.569908   \n",
       "97778          NaN             NaT  2020-06-19T16:57:06.608060   \n",
       "97779          NaN             NaT  2020-06-19T16:52:55.760877   \n",
       "...            ...             ...                         ...   \n",
       "2168131        0.0 0 days 01:02:54  2019-05-20T01:12:56.975962   \n",
       "2168132        0.0 0 days 01:00:11  2019-05-20T01:12:31.755591   \n",
       "2168133        0.0 0 days 01:00:20  2019-05-20T01:10:57.798340   \n",
       "2168134        0.0 0 days 00:52:48  2019-05-20T01:10:15.673318   \n",
       "2168135        0.0 0 days 04:15:21  2019-05-14T15:01:46.632413   \n",
       "\n",
       "         collection_slug                            contract_address  \\\n",
       "97775               axie  0xf4985070ce32b6b1994329df787d1acc9a2dd9e2   \n",
       "97776               axie  0xf4985070ce32b6b1994329df787d1acc9a2dd9e2   \n",
       "97777               axie  0xf4985070ce32b6b1994329df787d1acc9a2dd9e2   \n",
       "97778               axie  0xf4985070ce32b6b1994329df787d1acc9a2dd9e2   \n",
       "97779               axie  0xf4985070ce32b6b1994329df787d1acc9a2dd9e2   \n",
       "...                  ...                                         ...   \n",
       "2168131    neon-district  0x7be8076f4ea4a4ad08075c2508e481d6c946d12b   \n",
       "2168132    neon-district  0x7be8076f4ea4a4ad08075c2508e481d6c946d12b   \n",
       "2168133    neon-district  0x7be8076f4ea4a4ad08075c2508e481d6c946d12b   \n",
       "2168134    neon-district  0x7be8076f4ea4a4ad08075c2508e481d6c946d12b   \n",
       "2168135    neon-district  0x7be8076f4ea4a4ad08075c2508e481d6c946d12b   \n",
       "\n",
       "                               wallet_address_input deal_price_usd  \n",
       "97775    0x3bd77b00f02c8bcff586c565e2c5e6b6c5878ec3      75.729669  \n",
       "97776    0x3bd77b00f02c8bcff586c565e2c5e6b6c5878ec3      57.102395  \n",
       "97777    0x3bd77b00f02c8bcff586c565e2c5e6b6c5878ec3     174.803250  \n",
       "97778    0x3bd77b00f02c8bcff586c565e2c5e6b6c5878ec3     116.535500  \n",
       "97779    0x3bd77b00f02c8bcff586c565e2c5e6b6c5878ec3      44.050419  \n",
       "...                                             ...            ...  \n",
       "2168131  0xa5a0b7c3dd5dddbfbd51e56b9170bb6d1253788b       2.382100  \n",
       "2168132  0xa5a0b7c3dd5dddbfbd51e56b9170bb6d1253788b       2.382100  \n",
       "2168133  0xa5a0b7c3dd5dddbfbd51e56b9170bb6d1253788b       2.382100  \n",
       "2168134  0xa5a0b7c3dd5dddbfbd51e56b9170bb6d1253788b       2.382100  \n",
       "2168135  0xa5a0b7c3dd5dddbfbd51e56b9170bb6d1253788b    4764.200000  \n",
       "\n",
       "[4262 rows x 24 columns]"
      ]
     },
     "execution_count": 34,
     "metadata": {},
     "output_type": "execute_result"
    }
   ],
   "source": [
    "wallets[wallets.quantity.isna()]"
   ]
  },
  {
   "cell_type": "markdown",
   "id": "f723eb05-1dfe-471d-b81a-f91d0d30cdf7",
   "metadata": {},
   "source": [
    "## Create features"
   ]
  },
  {
   "cell_type": "code",
   "execution_count": 35,
   "id": "db7d27bf-664d-4d05-9a53-77d1d78a8777",
   "metadata": {},
   "outputs": [
    {
     "name": "stdout",
     "output_type": "stream",
     "text": [
      "<class 'pandas.core.frame.DataFrame'>\n",
      "RangeIndex: 2398450 entries, 0 to 2398449\n",
      "Data columns (total 24 columns):\n",
      " #   Column                  Non-Null Count    Dtype          \n",
      "---  ------                  --------------    -----          \n",
      " 0   event_timestamp         2398450 non-null  datetime64[ns] \n",
      " 1   event_type              2398450 non-null  object         \n",
      " 2   token_id                2382796 non-null  object         \n",
      " 3   num_sales               2382796 non-null  float64        \n",
      " 4   listing_time            2268796 non-null  datetime64[ns] \n",
      " 5   token_owner_address     2382796 non-null  object         \n",
      " 6   token_seller_address    2395806 non-null  object         \n",
      " 7   deal_price              2398450 non-null  float64        \n",
      " 8   payment_token_symbol    2398411 non-null  object         \n",
      " 9   payment_token_decimals  2398445 non-null  float64        \n",
      " 10  payment_token_usdprice  2397937 non-null  float64        \n",
      " 11  quantity                2394188 non-null  float64        \n",
      " 12  asset_bundle            15675 non-null    object         \n",
      " 13  auction_type            28121 non-null    object         \n",
      " 14  transaction_hash        2398450 non-null  object         \n",
      " 15  block_hash              2398330 non-null  object         \n",
      " 16  block_number            2398330 non-null  float64        \n",
      " 17  is_private              2268796 non-null  float64        \n",
      " 18  duration                2268796 non-null  timedelta64[ns]\n",
      " 19  created_date            2398450 non-null  object         \n",
      " 20  collection_slug         2397913 non-null  object         \n",
      " 21  contract_address        2398425 non-null  object         \n",
      " 22  wallet_address_input    2398450 non-null  object         \n",
      " 23  deal_price_usd          2397937 non-null  float64        \n",
      "dtypes: datetime64[ns](2), float64(8), object(13), timedelta64[ns](1)\n",
      "memory usage: 439.2+ MB\n"
     ]
    }
   ],
   "source": [
    "wallets.info(show_counts=True)"
   ]
  },
  {
   "cell_type": "markdown",
   "id": "d8b93bb9-d773-473f-96a5-cd0379da74b5",
   "metadata": {
    "tags": []
   },
   "source": [
    "### Wallet age"
   ]
  },
  {
   "cell_type": "code",
   "execution_count": null,
   "id": "812a8689-ebc4-417c-82a6-137129958f07",
   "metadata": {
    "tags": []
   },
   "outputs": [],
   "source": [
    "grp=wallets.rename(columns={\"token_seller_address\": \"user_account_address\"}) \\\n",
    "    .groupby(\"user_account_address\")\n",
    "grp.agg({\"event_timestamp\": [max, min]}) \\\n",
    "    .assign(wallet_age=lambda x : x.loc[:, (\"event_timestamp\", \"max\")] - x.loc[:, (\"event_timestamp\", \"min\")]) \\\n",
    "    .sort_values(by=[\"wallet_age\", (\"event_timestamp\", \"min\")])"
   ]
  },
  {
   "cell_type": "markdown",
   "id": "15a17d18-c66a-49d3-b435-9760cea5922b",
   "metadata": {},
   "source": [
    "### _buy_ vs _sell_ to date\n",
    "\n",
    "- The total number aka __count__ of transactions and the quantity aka __sum__ of NFT\n",
    "- The median and the total amount of transactions in USD"
   ]
  },
  {
   "cell_type": "code",
   "execution_count": null,
   "id": "3cf8f608-07e0-485e-b4f0-5e21ecefcc6b",
   "metadata": {
    "tags": []
   },
   "outputs": [],
   "source": [
    "df=wallets.rename(columns={\"token_seller_address\": \"user_account_address\"}) \\\n",
    "    .loc[:, [\"user_account_address\", \"event_type\", \"quantity\", \"deal_price_usd\"]] \\\n",
    "    .pivot_table(index=\"user_account_address\",\n",
    "                 columns=\"event_type\",\n",
    "                 values=[\"quantity\", \"deal_price_usd\"],\n",
    "                 aggfunc={\"quantity\": [\"count\", \"sum\"], \"deal_price_usd\": [\"median\", \"sum\"]},\n",
    "                 fill_value=0)\n",
    "df"
   ]
  },
  {
   "cell_type": "markdown",
   "id": "56a93c59-d341-4067-bae0-2d54ed6f0c8e",
   "metadata": {},
   "source": [
    "Examples which user had _bundled_ multitple NFTs in a transaction"
   ]
  },
  {
   "cell_type": "code",
   "execution_count": null,
   "id": "2cf1aa1a-dc8c-44c0-ba74-e05421dc9fee",
   "metadata": {
    "tags": []
   },
   "outputs": [],
   "source": [
    "df[ df[(\"quantity\", \"sum\", \"sell\")] > df[(\"quantity\", \"count\", \"sell\")] ].loc[:, \"quantity\"]"
   ]
  },
  {
   "cell_type": "markdown",
   "id": "558fef67-56d1-431a-92a1-e2af8740bec1",
   "metadata": {},
   "source": [
    "Another example showing the transaction history"
   ]
  },
  {
   "cell_type": "code",
   "execution_count": null,
   "id": "3109aeb3-e866-41f5-85ae-eb03077f3ddb",
   "metadata": {},
   "outputs": [],
   "source": [
    "wallets.set_index(\"token_seller_address\") \\\n",
    "    .loc[\"0x0004ff7e7217dc672874fece2c7588581e97b1a7\",\n",
    "    [\"event_timestamp\", \"event_type\", \"quantity\"]].sort_values(\"event_timestamp\")"
   ]
  },
  {
   "cell_type": "markdown",
   "id": "f007f5da-920d-41a4-92d3-a41dee1b26cb",
   "metadata": {
    "tags": []
   },
   "source": [
    "## Transform dataset (WIP)"
   ]
  },
  {
   "cell_type": "code",
   "execution_count": null,
   "id": "d0bac69a-835b-4328-a517-31428e9de552",
   "metadata": {},
   "outputs": [],
   "source": [
    "wallets.columns"
   ]
  },
  {
   "cell_type": "code",
   "execution_count": null,
   "id": "c192062d-8f4f-4bb3-837e-e2ecf1d2105d",
   "metadata": {
    "tags": []
   },
   "outputs": [],
   "source": [
    "wallets[wallets.token_seller_address == \"0x000000000000123ca35c69ba3f852a46b2a27c94\"]"
   ]
  },
  {
   "cell_type": "code",
   "execution_count": null,
   "id": "dc657cb6-ad0b-4d0d-80ae-d14e1e0dd6ce",
   "metadata": {},
   "outputs": [],
   "source": [
    "wallets.groupby(\"token_seller_address\")[\"event_type\"].nunique().sort_values()"
   ]
  },
  {
   "cell_type": "markdown",
   "id": "acbde6d6-bd14-42c8-b7a0-a46201206611",
   "metadata": {
    "tags": []
   },
   "source": [
    "# Explore Data"
   ]
  },
  {
   "cell_type": "code",
   "execution_count": null,
   "id": "3e1feb65-dd90-4827-8737-59694f21f45b",
   "metadata": {
    "tags": []
   },
   "outputs": [],
   "source": [
    "wallets.groupby([\"token_seller_address\", \"event_type\"]).sum()"
   ]
  },
  {
   "cell_type": "markdown",
   "id": "1095964f-b026-4ca6-b933-02bb6b0f019a",
   "metadata": {},
   "source": [
    "## Which user has bought and sold NFT during the specified period?"
   ]
  },
  {
   "cell_type": "code",
   "execution_count": null,
   "id": "78445651-438c-41b8-a29c-32d6311ddb6e",
   "metadata": {},
   "outputs": [],
   "source": [
    "x = wallets.groupby(\"user_account_address\")[\"event_type\"].nunique().reset_index()\n",
    "x = x[x.event_type > 1].user_account_address.reset_index()"
   ]
  },
  {
   "cell_type": "code",
   "execution_count": null,
   "id": "c54f87b8-fe4d-48ab-8e14-5f41e3bc25c7",
   "metadata": {},
   "outputs": [],
   "source": [
    "z = x.merge(y, on=\"user_account_address\")\n",
    "z.groupby([\"user_account_address\", \"event_type\"]).sum().reset_index().sort_values(\"user_account_address\")"
   ]
  },
  {
   "cell_type": "code",
   "execution_count": null,
   "id": "58193852-d398-481d-a809-25606d228b42",
   "metadata": {
    "jp-MarkdownHeadingCollapsed": true,
    "tags": []
   },
   "outputs": [],
   "source": [
    "wallets[wallets.user_account_address == \"0xfffa6fc6acc3dbe04b175862376f1c5ff88cf9c1\"]"
   ]
  },
  {
   "cell_type": "markdown",
   "id": "4d40683b-1f75-4ce2-b49a-8b445f284696",
   "metadata": {},
   "source": [
    "# Note\n",
    "Feature engineering in ML\n",
    "1. Feature Creation\n",
    "1. Transformations\n",
    "1. Feature Extraction\n",
    "1. and Feature Selection."
   ]
  }
 ],
 "metadata": {
  "extensions": {
   "jupyter_dashboards": {
    "activeView": "default_view",
    "version": 1,
    "views": {
     "default_view": {
      "cellMargin": 10,
      "defaultCellHeight": 40,
      "maxColumns": 12,
      "name": "active_view",
      "type": "grid"
     }
    }
   }
  },
  "kernelspec": {
   "display_name": "Python 3 (ipykernel)",
   "language": "python",
   "name": "python3"
  },
  "language_info": {
   "codemirror_mode": {
    "name": "ipython",
    "version": 3
   },
   "file_extension": ".py",
   "mimetype": "text/x-python",
   "name": "python",
   "nbconvert_exporter": "python",
   "pygments_lexer": "ipython3",
   "version": "3.9.12"
  },
  "toc-autonumbering": false,
  "toc-showcode": false,
  "toc-showmarkdowntxt": false,
  "toc-showtags": false
 },
 "nbformat": 4,
 "nbformat_minor": 5
}
