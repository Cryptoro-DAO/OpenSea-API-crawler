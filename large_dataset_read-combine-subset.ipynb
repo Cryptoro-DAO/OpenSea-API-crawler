{
 "cells": [
  {
   "cell_type": "markdown",
   "id": "4ad62163-2061-4067-af7e-f043a40a25ee",
   "metadata": {},
   "source": [
    "# Read and combine feather files into a dataframe"
   ]
  },
  {
   "cell_type": "markdown",
   "id": "34704823-789d-48d8-a08a-7ce0f104423a",
   "metadata": {
    "tags": []
   },
   "source": [
    "__Motivation:__ Subset only the asset events involved the 21 selected NFT collections\n",
    "needed for the FOMO study,\n",
    "thus reducing the memory and calculation overhead of subsequent steps in machine\n",
    "learning.\n",
    "\n",
    "Of the 17,357 thousand asset events sourced, the FOMO study requires only\n",
    "approximately 600 thousand events involved the selected NFT.\n",
    "The subset requires only 268 MB of memory.\n",
    "Loading the full dataset would unnecessarily consumes 4.8 GB of memory.\n",
    "\n",
    "The source dataset contains many duplicated records. Duplicates within the subset\n",
    "are removed and the final set is saved as a parquet file."
   ]
  },
  {
   "cell_type": "markdown",
   "id": "7c714f21-e7fb-4bd7-9321-9a63cd64c60e",
   "metadata": {},
   "source": [
    "## Helper functions"
   ]
  },
  {
   "cell_type": "code",
   "execution_count": 1,
   "id": "7c90efe8-50f2-494d-8381-16e19cfd4470",
   "metadata": {},
   "outputs": [],
   "source": [
    "import os\n",
    "import re\n",
    "import pandas as pd\n",
    "\n",
    "\n",
    "def get_abspath(path, pattern):\n",
    "    \"\"\"\n",
    "    Search directory non-recursively for filename by name patterns\n",
    "    \n",
    "    Parameters\n",
    "    ----------\n",
    "    path : \n",
    "    pattern : \n",
    "\n",
    "    Returns\n",
    "    -------\n",
    "    a list of absolute path, use os.path.basename to get the filename\n",
    "    \"\"\"\n",
    "    return [os.path.join(path, x) for x in os.listdir(path) if re.search(pattern, x)]\n",
    "\n",
    "\n",
    "def print_filesize(abspath):\n",
    "    df=pd.DataFrame({'filename': [os.path.basename(x) for x in abspath],\n",
    "                     'size': [os.stat(x).st_size for x in abspath]}) \\\n",
    "        .set_index('filename')\n",
    "    print(df)\n",
    "    print(\"total size:\", round(sum(df[\"size\"]) / 1024**3, 2), \"gb\")\n",
    "    return df"
   ]
  },
  {
   "cell_type": "code",
   "execution_count": 2,
   "id": "a3871e79",
   "metadata": {},
   "outputs": [
    {
     "name": "stdout",
     "output_type": "stream",
     "text": [
      "                                                         size\n",
      "filename                                                     \n",
      "alien-frens-evolution_success1.feather               46287690\n",
      "boredapekennelclub_success1.feather                 102316282\n",
      "boredapeyachtclub_success1.feather                   43145602\n",
      "clonex_success1.feather                              31176802\n",
      "coolcatsnft_A1.feather                              162405530\n",
      "coolcatsnft_A2.feather                              161271826\n",
      "coolcatsnft_A3.feather                               65333498\n",
      "coolcatsnft_AA1.feather                              81152522\n",
      "coolcatsnft_AA11.feather                             81240850\n",
      "coolcatsnft_AA2.feather                              80436530\n",
      "coolcatsnft_AA22.feather                             80853482\n",
      "coolcatsnft_補跑B.feather                                506650\n",
      "coolcatsnft_補跑E.feather                               1263210\n",
      "cryptoadz-by-gremplin_success1.feather               64466754\n",
      "cryptoskulls_success1.feather                        42334994\n",
      "cyberkongz-vx_success1.feather                       20655922\n",
      "doodlesofficial_success1.feather                    125894730\n",
      "hapeprime_success1.feather                           61072090\n",
      "kaiju-kingz_success1.feather                         53237586\n",
      "karafuru_success1.feather                            34163354\n",
      "lazy-lions_success1.feather                          62001762\n",
      "mekaverse_success1.feather                           49724250\n",
      "mfers_success1.feather                               74029434\n",
      "mutant-ape-yacht-club_success1.feather              101037154\n",
      "NFT20_success12錢包補跑10.feather                        98841826\n",
      "NFT20_success12錢包補跑11.feather                        37047362\n",
      "NFT20_success12錢包補跑12.feather                       183005874\n",
      "NFT20_success12錢包補跑13.feather                        41678906\n",
      "NFT20_success12錢包補跑14.feather                        13934570\n",
      "NFT20_success12錢包補跑15.feather                        15888090\n",
      "NFT20_success12錢包補跑16.feather                        35477058\n",
      "NFT20_success12錢包補跑17.feather                       113949610\n",
      "NFT20_success12錢包補跑18.feather                       111077962\n",
      "NFT20_success12錢包補跑19.feather                       161178226\n",
      "NFT20_success12錢包補跑20.feather                        45454434\n",
      "NFT20_success12錢包補跑3.feather                         67141434\n",
      "NFT20_success12錢包補跑4.feather                        160289322\n",
      "NFT20_success12錢包補跑5.feather                         79152090\n",
      "NFT20_success12錢包補跑6.feather                        155299970\n",
      "NFT20_success12錢包補跑7.feather                        147096602\n",
      "NFT20_success12錢包補跑8.feather                         81306034\n",
      "NFT20_success12錢包補跑9.feather                         40315906\n",
      "phantabear_success1.feather                          77904050\n",
      "proof-moonbirds_success1.feather                     55596786\n",
      "rektguy_rarelandnft_pieceofshit_ivedoneit_succe...   50513818\n",
      "world-of-women-nft_success1.feather                  54929618\n",
      "total size: 3.22 gb\n"
     ]
    }
   ],
   "source": [
    "data_dir = os.path.join(os.getcwd(), 'data', 'wallets successful event')\n",
    "wallets_fn = get_abspath(os.path.join(data_dir, 'feather'), '\\.feather$')\n",
    "fsize = print_filesize(wallets_fn)"
   ]
  },
  {
   "cell_type": "markdown",
   "id": "63960987",
   "metadata": {},
   "source": [
    "## Read feather files into pandas.DataFrame "
   ]
  },
  {
   "cell_type": "code",
   "execution_count": 3,
   "id": "66446038-f64e-46af-b500-74641abaa85f",
   "metadata": {},
   "outputs": [],
   "source": [
    "lst = (pd.read_feather(each).assign(filename=os.path.basename(each)) for each in wallets_fn)\n",
    "df = pd.concat(lst)"
   ]
  },
  {
   "cell_type": "code",
   "execution_count": 4,
   "id": "44bb62ed-51e2-4ebc-bcdb-71a3f08d72be",
   "metadata": {},
   "outputs": [
    {
     "data": {
      "text/plain": [
       "(17357359, 36)"
      ]
     },
     "execution_count": 4,
     "metadata": {},
     "output_type": "execute_result"
    }
   ],
   "source": [
    "df.shape"
   ]
  },
  {
   "cell_type": "code",
   "execution_count": 5,
   "id": "325639b6-6ea9-4d7d-853c-ad49cbed2769",
   "metadata": {},
   "outputs": [
    {
     "name": "stdout",
     "output_type": "stream",
     "text": [
      "Memeory used in GB: 4.784928880631924\n"
     ]
    }
   ],
   "source": [
    "print('Memeory used in GB:', df.memory_usage().sum() / 1024**3)"
   ]
  },
  {
   "cell_type": "markdown",
   "id": "7c6e91db-986f-4a6f-8608-ccb37871c7dc",
   "metadata": {},
   "source": [
    "Top collections in the dataset by the number of _successful_ asset events"
   ]
  },
  {
   "cell_type": "code",
   "execution_count": 6,
   "id": "1b6bf3b0-e26f-444c-95bc-d3093b1e8af8",
   "metadata": {},
   "outputs": [
    {
     "data": {
      "text/html": [
       "<div>\n",
       "<style scoped>\n",
       "    .dataframe tbody tr th:only-of-type {\n",
       "        vertical-align: middle;\n",
       "    }\n",
       "\n",
       "    .dataframe tbody tr th {\n",
       "        vertical-align: top;\n",
       "    }\n",
       "\n",
       "    .dataframe thead th {\n",
       "        text-align: right;\n",
       "    }\n",
       "</style>\n",
       "<table border=\"1\" class=\"dataframe\">\n",
       "  <thead>\n",
       "    <tr style=\"text-align: right;\">\n",
       "      <th></th>\n",
       "      <th>event_timestamp</th>\n",
       "      <th>wallet_address_input</th>\n",
       "    </tr>\n",
       "    <tr>\n",
       "      <th>collection_slug</th>\n",
       "      <th></th>\n",
       "      <th></th>\n",
       "    </tr>\n",
       "  </thead>\n",
       "  <tbody>\n",
       "    <tr>\n",
       "      <th>cryptokitties</th>\n",
       "      <td>158632</td>\n",
       "      <td>3527</td>\n",
       "    </tr>\n",
       "    <tr>\n",
       "      <th>parallelalpha</th>\n",
       "      <td>109435</td>\n",
       "      <td>6209</td>\n",
       "    </tr>\n",
       "    <tr>\n",
       "      <th>rarible</th>\n",
       "      <td>106216</td>\n",
       "      <td>7344</td>\n",
       "    </tr>\n",
       "    <tr>\n",
       "      <th>cool-cats-nft</th>\n",
       "      <td>102621</td>\n",
       "      <td>12197</td>\n",
       "    </tr>\n",
       "    <tr>\n",
       "      <th>lazy-lions</th>\n",
       "      <td>87793</td>\n",
       "      <td>12510</td>\n",
       "    </tr>\n",
       "    <tr>\n",
       "      <th>boredapeyachtclub</th>\n",
       "      <td>78261</td>\n",
       "      <td>11311</td>\n",
       "    </tr>\n",
       "    <tr>\n",
       "      <th>world-of-women-nft</th>\n",
       "      <td>71285</td>\n",
       "      <td>10822</td>\n",
       "    </tr>\n",
       "    <tr>\n",
       "      <th>mutant-ape-yacht-club</th>\n",
       "      <td>68643</td>\n",
       "      <td>19147</td>\n",
       "    </tr>\n",
       "    <tr>\n",
       "      <th>pudgypenguins</th>\n",
       "      <td>68488</td>\n",
       "      <td>7350</td>\n",
       "    </tr>\n",
       "    <tr>\n",
       "      <th>phantabear</th>\n",
       "      <td>63970</td>\n",
       "      <td>10341</td>\n",
       "    </tr>\n",
       "    <tr>\n",
       "      <th>axie</th>\n",
       "      <td>60612</td>\n",
       "      <td>1120</td>\n",
       "    </tr>\n",
       "    <tr>\n",
       "      <th>bored-ape-kennel-club</th>\n",
       "      <td>59773</td>\n",
       "      <td>10661</td>\n",
       "    </tr>\n",
       "    <tr>\n",
       "      <th>cryptoadz-by-gremplin</th>\n",
       "      <td>53066</td>\n",
       "      <td>9270</td>\n",
       "    </tr>\n",
       "    <tr>\n",
       "      <th>adam-bomb-squad</th>\n",
       "      <td>51441</td>\n",
       "      <td>6799</td>\n",
       "    </tr>\n",
       "    <tr>\n",
       "      <th>deadfellaz</th>\n",
       "      <td>51336</td>\n",
       "      <td>7893</td>\n",
       "    </tr>\n",
       "    <tr>\n",
       "      <th>robotos-official</th>\n",
       "      <td>51056</td>\n",
       "      <td>7238</td>\n",
       "    </tr>\n",
       "    <tr>\n",
       "      <th>thewickedcraniums</th>\n",
       "      <td>50947</td>\n",
       "      <td>5083</td>\n",
       "    </tr>\n",
       "    <tr>\n",
       "      <th>ape-gang-old</th>\n",
       "      <td>50477</td>\n",
       "      <td>4153</td>\n",
       "    </tr>\n",
       "    <tr>\n",
       "      <th>creatureworld</th>\n",
       "      <td>50375</td>\n",
       "      <td>8135</td>\n",
       "    </tr>\n",
       "    <tr>\n",
       "      <th>meebits</th>\n",
       "      <td>44634</td>\n",
       "      <td>9544</td>\n",
       "    </tr>\n",
       "    <tr>\n",
       "      <th>cyberkongz-vx</th>\n",
       "      <td>41851</td>\n",
       "      <td>6843</td>\n",
       "    </tr>\n",
       "  </tbody>\n",
       "</table>\n",
       "</div>"
      ],
      "text/plain": [
       "                       event_timestamp  wallet_address_input\n",
       "collection_slug                                             \n",
       "cryptokitties                   158632                  3527\n",
       "parallelalpha                   109435                  6209\n",
       "rarible                         106216                  7344\n",
       "cool-cats-nft                   102621                 12197\n",
       "lazy-lions                       87793                 12510\n",
       "boredapeyachtclub                78261                 11311\n",
       "world-of-women-nft               71285                 10822\n",
       "mutant-ape-yacht-club            68643                 19147\n",
       "pudgypenguins                    68488                  7350\n",
       "phantabear                       63970                 10341\n",
       "axie                             60612                  1120\n",
       "bored-ape-kennel-club            59773                 10661\n",
       "cryptoadz-by-gremplin            53066                  9270\n",
       "adam-bomb-squad                  51441                  6799\n",
       "deadfellaz                       51336                  7893\n",
       "robotos-official                 51056                  7238\n",
       "thewickedcraniums                50947                  5083\n",
       "ape-gang-old                     50477                  4153\n",
       "creatureworld                    50375                  8135\n",
       "meebits                          44634                  9544\n",
       "cyberkongz-vx                    41851                  6843"
      ]
     },
     "execution_count": 6,
     "metadata": {},
     "output_type": "execute_result"
    }
   ],
   "source": [
    "df.groupby(\"collection_slug\") \\\n",
    "    .agg({'event_timestamp': 'size', 'wallet_address_input': 'nunique'}) \\\n",
    "    .sort_values('event_timestamp', ascending=False) \\\n",
    "    .head(21)"
   ]
  },
  {
   "cell_type": "markdown",
   "id": "5f26eddc-8597-4f7d-a566-aa70c5a6f350",
   "metadata": {
    "tags": []
   },
   "source": [
    "## Subset only selected collections"
   ]
  },
  {
   "cell_type": "markdown",
   "id": "4eda8bfc-c276-4b0f-8f0f-f949067c09b9",
   "metadata": {},
   "source": [
    "\\* _N.b._ The NFT_20 list contains 21 manually selected collections.\n",
    "\n",
    "Let `nft20_wallets` be the subset containing only events involving the selected collections."
   ]
  },
  {
   "cell_type": "code",
   "execution_count": 7,
   "id": "422dd2e8-771c-4f86-88ea-41ae86139478",
   "metadata": {},
   "outputs": [
    {
     "data": {
      "text/plain": [
       "['boredapeyachtclub',\n",
       " 'mutant-ape-yacht-club',\n",
       " 'azuki',\n",
       " 'clonex',\n",
       " 'proof-moonbirds',\n",
       " 'doodles-official',\n",
       " 'meebits',\n",
       " 'cool-cats-nft',\n",
       " 'bored-ape-kennel-club',\n",
       " 'cryptoadz-by-gremplin',\n",
       " 'world-of-women-nft',\n",
       " 'hapeprime',\n",
       " 'mekaverse',\n",
       " 'karafuru',\n",
       " 'invisiblefriends',\n",
       " 'mfers',\n",
       " 'phantabear',\n",
       " 'cyberkongz-vx',\n",
       " 'coolpetsnft',\n",
       " 'lazy-lions',\n",
       " 'kaiju-kingz']"
      ]
     },
     "execution_count": 7,
     "metadata": {},
     "output_type": "execute_result"
    }
   ],
   "source": [
    "nft20 = pd.read_csv(os.path.join(os.getcwd(), 'NFT_20_list.csv'))\n",
    "nft20_collection_slug = [os.path.basename(url) for url in nft20.collection_url]\n",
    "nft20_collection_slug"
   ]
  },
  {
   "cell_type": "code",
   "execution_count": 8,
   "id": "a14c9545-fa29-434a-963f-5fac2ed9c6a5",
   "metadata": {},
   "outputs": [
    {
     "data": {
      "text/plain": [
       "21"
      ]
     },
     "execution_count": 8,
     "metadata": {},
     "output_type": "execute_result"
    }
   ],
   "source": [
    "len(nft20_collection_slug)"
   ]
  },
  {
   "cell_type": "code",
   "execution_count": 9,
   "id": "3b05393e-b2d9-47f2-8443-5dccacf9eaf3",
   "metadata": {},
   "outputs": [
    {
     "name": "stdout",
     "output_type": "stream",
     "text": [
      "<class 'pandas.core.frame.DataFrame'>\n",
      "Int64Index: 944951 entries, 214 to 332710\n",
      "Data columns (total 36 columns):\n",
      " #   Column                            Non-Null Count   Dtype         \n",
      "---  ------                            --------------   -----         \n",
      " 0   index                             944951 non-null  int64         \n",
      " 1   event_timestamp                   944951 non-null  datetime64[ns]\n",
      " 2   event_type                        944951 non-null  object        \n",
      " 3   token_id                          944000 non-null  object        \n",
      " 4   num_sales                         944000 non-null  float64       \n",
      " 5   listing_time                      873217 non-null  datetime64[ns]\n",
      " 6   token_owner_address               944000 non-null  object        \n",
      " 7   token_seller_address              944951 non-null  object        \n",
      " 8   from_account_address              305 non-null     object        \n",
      " 9   deal_price                        944951 non-null  float64       \n",
      " 10  payment_token_symbol              944757 non-null  object        \n",
      " 11  payment_token_decimals            944798 non-null  float64       \n",
      " 12  payment_token_usdprice            944757 non-null  float64       \n",
      " 13  quantity                          944951 non-null  float64       \n",
      " 14  starting_price                    0 non-null       float64       \n",
      " 15  ending_price                      0 non-null       float64       \n",
      " 16  approved_account                  0 non-null       float64       \n",
      " 17  asset_bundle                      951 non-null     object        \n",
      " 18  auction_type                      183 non-null     object        \n",
      " 19  bid_amount                        0 non-null       float64       \n",
      " 20  transaction_hash                  944951 non-null  object        \n",
      " 21  block_hash                        944906 non-null  object        \n",
      " 22  block_number                      944906 non-null  float64       \n",
      " 23  is_private                        873217 non-null  float64       \n",
      " 24  duration                          0 non-null       float64       \n",
      " 25  created_date                      944951 non-null  object        \n",
      " 26  collection_slug                   944951 non-null  object        \n",
      " 27  contract_address                  944951 non-null  object        \n",
      " 28  wallet_address_input              944951 non-null  object        \n",
      " 29  filename                          944951 non-null  object        \n",
      " 30  custom_event_name                 0 non-null       object        \n",
      " 31  dev_fee_payment_event             282452 non-null  object        \n",
      " 32  dev_seller_fee_basis_points       307091 non-null  float64       \n",
      " 33  transaction_from_account_address  307146 non-null  object        \n",
      " 34  transaction_to_account_address    307146 non-null  object        \n",
      " 35  winner_account_address            307146 non-null  object        \n",
      "dtypes: datetime64[ns](2), float64(13), int64(1), object(20)\n",
      "memory usage: 266.7+ MB\n"
     ]
    }
   ],
   "source": [
    "nft20_wallets = df[df.collection_slug.isin(nft20_collection_slug)]\n",
    "nft20_wallets.info(show_counts=True)"
   ]
  },
  {
   "cell_type": "markdown",
   "id": "ce417d95-1dc5-4217-871a-b93ee50de584",
   "metadata": {},
   "source": [
    "_\\* tip:_ another way to query dataframe memory usage"
   ]
  },
  {
   "cell_type": "code",
   "execution_count": 10,
   "id": "57c379cd-ab32-46e6-bece-ec3d397caaa3",
   "metadata": {
    "tags": []
   },
   "outputs": [
    {
     "data": {
      "text/plain": [
       "266.7479476928711"
      ]
     },
     "execution_count": 10,
     "metadata": {},
     "output_type": "execute_result"
    }
   ],
   "source": [
    "nft20_wallets.memory_usage(index=True).sum() / 1024**2"
   ]
  },
  {
   "cell_type": "code",
   "execution_count": 11,
   "id": "c0b5286e-cf7a-42a7-ba1a-edfc5339cc6f",
   "metadata": {},
   "outputs": [
    {
     "data": {
      "text/plain": [
       "120178"
      ]
     },
     "execution_count": 11,
     "metadata": {},
     "output_type": "execute_result"
    }
   ],
   "source": [
    "nft20_wallets.wallet_address_input.nunique()"
   ]
  },
  {
   "cell_type": "markdown",
   "id": "38dc7a45-dfdb-43d7-b1c3-618995e7a96e",
   "metadata": {},
   "source": [
    "### Size of each collection group\n",
    "by number of successful events, i.e. transaction or trades, and unique wallet_address_input, wallets"
   ]
  },
  {
   "cell_type": "code",
   "execution_count": 12,
   "id": "335881bf-22b6-443c-b8fe-19a4ad6b977b",
   "metadata": {
    "tags": []
   },
   "outputs": [
    {
     "data": {
      "text/html": [
       "<div>\n",
       "<style scoped>\n",
       "    .dataframe tbody tr th:only-of-type {\n",
       "        vertical-align: middle;\n",
       "    }\n",
       "\n",
       "    .dataframe tbody tr th {\n",
       "        vertical-align: top;\n",
       "    }\n",
       "\n",
       "    .dataframe thead th {\n",
       "        text-align: right;\n",
       "    }\n",
       "</style>\n",
       "<table border=\"1\" class=\"dataframe\">\n",
       "  <thead>\n",
       "    <tr style=\"text-align: right;\">\n",
       "      <th></th>\n",
       "      <th>event_type</th>\n",
       "      <th>wallet_address_input</th>\n",
       "    </tr>\n",
       "    <tr>\n",
       "      <th>collection_slug</th>\n",
       "      <th></th>\n",
       "      <th></th>\n",
       "    </tr>\n",
       "  </thead>\n",
       "  <tbody>\n",
       "    <tr>\n",
       "      <th>cool-cats-nft</th>\n",
       "      <td>102621</td>\n",
       "      <td>12197</td>\n",
       "    </tr>\n",
       "    <tr>\n",
       "      <th>lazy-lions</th>\n",
       "      <td>87793</td>\n",
       "      <td>12510</td>\n",
       "    </tr>\n",
       "    <tr>\n",
       "      <th>boredapeyachtclub</th>\n",
       "      <td>78261</td>\n",
       "      <td>11311</td>\n",
       "    </tr>\n",
       "    <tr>\n",
       "      <th>world-of-women-nft</th>\n",
       "      <td>71285</td>\n",
       "      <td>10822</td>\n",
       "    </tr>\n",
       "    <tr>\n",
       "      <th>mutant-ape-yacht-club</th>\n",
       "      <td>68643</td>\n",
       "      <td>19147</td>\n",
       "    </tr>\n",
       "    <tr>\n",
       "      <th>phantabear</th>\n",
       "      <td>63970</td>\n",
       "      <td>10341</td>\n",
       "    </tr>\n",
       "    <tr>\n",
       "      <th>bored-ape-kennel-club</th>\n",
       "      <td>59773</td>\n",
       "      <td>10661</td>\n",
       "    </tr>\n",
       "    <tr>\n",
       "      <th>cryptoadz-by-gremplin</th>\n",
       "      <td>53066</td>\n",
       "      <td>9270</td>\n",
       "    </tr>\n",
       "    <tr>\n",
       "      <th>meebits</th>\n",
       "      <td>44634</td>\n",
       "      <td>9544</td>\n",
       "    </tr>\n",
       "    <tr>\n",
       "      <th>cyberkongz-vx</th>\n",
       "      <td>41851</td>\n",
       "      <td>6843</td>\n",
       "    </tr>\n",
       "    <tr>\n",
       "      <th>doodles-official</th>\n",
       "      <td>39599</td>\n",
       "      <td>10216</td>\n",
       "    </tr>\n",
       "    <tr>\n",
       "      <th>azuki</th>\n",
       "      <td>38052</td>\n",
       "      <td>9983</td>\n",
       "    </tr>\n",
       "    <tr>\n",
       "      <th>mekaverse</th>\n",
       "      <td>30776</td>\n",
       "      <td>9568</td>\n",
       "    </tr>\n",
       "    <tr>\n",
       "      <th>coolpetsnft</th>\n",
       "      <td>29572</td>\n",
       "      <td>8771</td>\n",
       "    </tr>\n",
       "    <tr>\n",
       "      <th>clonex</th>\n",
       "      <td>29206</td>\n",
       "      <td>8621</td>\n",
       "    </tr>\n",
       "    <tr>\n",
       "      <th>mfers</th>\n",
       "      <td>28004</td>\n",
       "      <td>7739</td>\n",
       "    </tr>\n",
       "    <tr>\n",
       "      <th>hapeprime</th>\n",
       "      <td>25176</td>\n",
       "      <td>9088</td>\n",
       "    </tr>\n",
       "    <tr>\n",
       "      <th>kaiju-kingz</th>\n",
       "      <td>19653</td>\n",
       "      <td>6016</td>\n",
       "    </tr>\n",
       "    <tr>\n",
       "      <th>karafuru</th>\n",
       "      <td>15888</td>\n",
       "      <td>6255</td>\n",
       "    </tr>\n",
       "    <tr>\n",
       "      <th>proof-moonbirds</th>\n",
       "      <td>11252</td>\n",
       "      <td>5057</td>\n",
       "    </tr>\n",
       "    <tr>\n",
       "      <th>invisiblefriends</th>\n",
       "      <td>5876</td>\n",
       "      <td>3381</td>\n",
       "    </tr>\n",
       "  </tbody>\n",
       "</table>\n",
       "</div>"
      ],
      "text/plain": [
       "                       event_type  wallet_address_input\n",
       "collection_slug                                        \n",
       "cool-cats-nft              102621                 12197\n",
       "lazy-lions                  87793                 12510\n",
       "boredapeyachtclub           78261                 11311\n",
       "world-of-women-nft          71285                 10822\n",
       "mutant-ape-yacht-club       68643                 19147\n",
       "phantabear                  63970                 10341\n",
       "bored-ape-kennel-club       59773                 10661\n",
       "cryptoadz-by-gremplin       53066                  9270\n",
       "meebits                     44634                  9544\n",
       "cyberkongz-vx               41851                  6843\n",
       "doodles-official            39599                 10216\n",
       "azuki                       38052                  9983\n",
       "mekaverse                   30776                  9568\n",
       "coolpetsnft                 29572                  8771\n",
       "clonex                      29206                  8621\n",
       "mfers                       28004                  7739\n",
       "hapeprime                   25176                  9088\n",
       "kaiju-kingz                 19653                  6016\n",
       "karafuru                    15888                  6255\n",
       "proof-moonbirds             11252                  5057\n",
       "invisiblefriends             5876                  3381"
      ]
     },
     "execution_count": 12,
     "metadata": {},
     "output_type": "execute_result"
    }
   ],
   "source": [
    "nft20_wallets.groupby(\"collection_slug\").agg({'event_type': 'count', 'wallet_address_input': 'nunique'}).sort_values(by='event_type', ascending=False)"
   ]
  },
  {
   "cell_type": "markdown",
   "id": "729cd91b-37a8-423a-bb20-cd76353b3797",
   "metadata": {
    "tags": []
   },
   "source": [
    "### Check for duplicates"
   ]
  },
  {
   "cell_type": "code",
   "execution_count": 13,
   "id": "2ebcf1c5-eb02-46a3-a884-d364dfc36204",
   "metadata": {},
   "outputs": [
    {
     "data": {
      "text/plain": [
       "620277"
      ]
     },
     "execution_count": 13,
     "metadata": {},
     "output_type": "execute_result"
    }
   ],
   "source": [
    "bad = nft20_wallets.duplicated(['event_timestamp', 'collection_slug', 'token_id', 'wallet_address_input'], keep=False)\n",
    "sum(bad)"
   ]
  },
  {
   "cell_type": "code",
   "execution_count": 14,
   "id": "c6a7f5eb-e7c3-44c2-86ee-c86a1b55c70b",
   "metadata": {
    "tags": []
   },
   "outputs": [
    {
     "data": {
      "text/html": [
       "<div>\n",
       "<style scoped>\n",
       "    .dataframe tbody tr th:only-of-type {\n",
       "        vertical-align: middle;\n",
       "    }\n",
       "\n",
       "    .dataframe tbody tr th {\n",
       "        vertical-align: top;\n",
       "    }\n",
       "\n",
       "    .dataframe thead th {\n",
       "        text-align: right;\n",
       "    }\n",
       "</style>\n",
       "<table border=\"1\" class=\"dataframe\">\n",
       "  <thead>\n",
       "    <tr style=\"text-align: right;\">\n",
       "      <th></th>\n",
       "      <th>index</th>\n",
       "      <th>event_timestamp</th>\n",
       "      <th>event_type</th>\n",
       "      <th>token_id</th>\n",
       "      <th>num_sales</th>\n",
       "      <th>listing_time</th>\n",
       "      <th>token_owner_address</th>\n",
       "      <th>token_seller_address</th>\n",
       "      <th>from_account_address</th>\n",
       "      <th>deal_price</th>\n",
       "      <th>...</th>\n",
       "      <th>created_date</th>\n",
       "      <th>collection_slug</th>\n",
       "      <th>contract_address</th>\n",
       "      <th>wallet_address_input</th>\n",
       "      <th>custom_event_name</th>\n",
       "      <th>dev_fee_payment_event</th>\n",
       "      <th>dev_seller_fee_basis_points</th>\n",
       "      <th>transaction_from_account_address</th>\n",
       "      <th>transaction_to_account_address</th>\n",
       "      <th>winner_account_address</th>\n",
       "    </tr>\n",
       "    <tr>\n",
       "      <th>filename</th>\n",
       "      <th></th>\n",
       "      <th></th>\n",
       "      <th></th>\n",
       "      <th></th>\n",
       "      <th></th>\n",
       "      <th></th>\n",
       "      <th></th>\n",
       "      <th></th>\n",
       "      <th></th>\n",
       "      <th></th>\n",
       "      <th></th>\n",
       "      <th></th>\n",
       "      <th></th>\n",
       "      <th></th>\n",
       "      <th></th>\n",
       "      <th></th>\n",
       "      <th></th>\n",
       "      <th></th>\n",
       "      <th></th>\n",
       "      <th></th>\n",
       "      <th></th>\n",
       "    </tr>\n",
       "  </thead>\n",
       "  <tbody>\n",
       "    <tr>\n",
       "      <th>NFT20_success12錢包補跑12.feather</th>\n",
       "      <td>572182</td>\n",
       "      <td>2021-04-30 12:38:59</td>\n",
       "      <td>successful</td>\n",
       "      <td>33</td>\n",
       "      <td>2.0</td>\n",
       "      <td>NaT</td>\n",
       "      <td>0xed2ab4948ba6a909a7751dec4f34f303eb8c7236</td>\n",
       "      <td>0x8e05bd9fa3059ec69c15bc1a6f4d94f0ac26ce00</td>\n",
       "      <td>None</td>\n",
       "      <td>1.600000e+17</td>\n",
       "      <td>...</td>\n",
       "      <td>2021-04-30T12:39:43.636056</td>\n",
       "      <td>boredapeyachtclub</td>\n",
       "      <td>0x7be8076f4ea4a4ad08075c2508e481d6c946d12b</td>\n",
       "      <td>0x8e05bd9fa3059ec69c15bc1a6f4d94f0ac26ce00</td>\n",
       "      <td>None</td>\n",
       "      <td>{'asset': None, 'asset_bundle': None, 'event_t...</td>\n",
       "      <td>0.0</td>\n",
       "      <td>0x8e05bd9fa3059ec69c15bc1a6f4d94f0ac26ce00</td>\n",
       "      <td>0x7be8076f4ea4a4ad08075c2508e481d6c946d12b</td>\n",
       "      <td>0x0b742783bfac8d4b6d332e5d1b63f433fcd8c0a0</td>\n",
       "    </tr>\n",
       "    <tr>\n",
       "      <th>coolcatsnft_A2.feather</th>\n",
       "      <td>652355</td>\n",
       "      <td>2021-04-30 12:38:59</td>\n",
       "      <td>successful</td>\n",
       "      <td>33</td>\n",
       "      <td>2.0</td>\n",
       "      <td>NaT</td>\n",
       "      <td>0xed2ab4948ba6a909a7751dec4f34f303eb8c7236</td>\n",
       "      <td>0x8e05bd9fa3059ec69c15bc1a6f4d94f0ac26ce00</td>\n",
       "      <td>None</td>\n",
       "      <td>1.600000e+17</td>\n",
       "      <td>...</td>\n",
       "      <td>2021-04-30T12:39:43.636056</td>\n",
       "      <td>boredapeyachtclub</td>\n",
       "      <td>0x7be8076f4ea4a4ad08075c2508e481d6c946d12b</td>\n",
       "      <td>0x8e05bd9fa3059ec69c15bc1a6f4d94f0ac26ce00</td>\n",
       "      <td>NaN</td>\n",
       "      <td>NaN</td>\n",
       "      <td>NaN</td>\n",
       "      <td>NaN</td>\n",
       "      <td>NaN</td>\n",
       "      <td>NaN</td>\n",
       "    </tr>\n",
       "    <tr>\n",
       "      <th>coolcatsnft_AA22.feather</th>\n",
       "      <td>152356</td>\n",
       "      <td>2021-04-30 12:38:59</td>\n",
       "      <td>successful</td>\n",
       "      <td>33</td>\n",
       "      <td>2.0</td>\n",
       "      <td>NaT</td>\n",
       "      <td>0xed2ab4948ba6a909a7751dec4f34f303eb8c7236</td>\n",
       "      <td>0x8e05bd9fa3059ec69c15bc1a6f4d94f0ac26ce00</td>\n",
       "      <td>None</td>\n",
       "      <td>1.600000e+17</td>\n",
       "      <td>...</td>\n",
       "      <td>2021-04-30T12:39:43.636056</td>\n",
       "      <td>boredapeyachtclub</td>\n",
       "      <td>0x7be8076f4ea4a4ad08075c2508e481d6c946d12b</td>\n",
       "      <td>0x8e05bd9fa3059ec69c15bc1a6f4d94f0ac26ce00</td>\n",
       "      <td>NaN</td>\n",
       "      <td>NaN</td>\n",
       "      <td>NaN</td>\n",
       "      <td>NaN</td>\n",
       "      <td>NaN</td>\n",
       "      <td>NaN</td>\n",
       "    </tr>\n",
       "    <tr>\n",
       "      <th>NFT20_success12錢包補跑12.feather</th>\n",
       "      <td>167032</td>\n",
       "      <td>2021-05-01 00:15:48</td>\n",
       "      <td>successful</td>\n",
       "      <td>586</td>\n",
       "      <td>5.0</td>\n",
       "      <td>2021-04-30 23:36:58.000000</td>\n",
       "      <td>0xf896527c49b44aab3cf22ae356fa3af8e331f280</td>\n",
       "      <td>0x88be3fa60ede9f532af10aba5690dfc254db929b</td>\n",
       "      <td>None</td>\n",
       "      <td>1.000000e+17</td>\n",
       "      <td>...</td>\n",
       "      <td>2021-05-01T00:16:17.700252</td>\n",
       "      <td>boredapeyachtclub</td>\n",
       "      <td>0x7be8076f4ea4a4ad08075c2508e481d6c946d12b</td>\n",
       "      <td>0x88be3fa60ede9f532af10aba5690dfc254db929b</td>\n",
       "      <td>None</td>\n",
       "      <td>{'asset': None, 'asset_bundle': None, 'event_t...</td>\n",
       "      <td>0.0</td>\n",
       "      <td>0x0b742783bfac8d4b6d332e5d1b63f433fcd8c0a0</td>\n",
       "      <td>0x7be8076f4ea4a4ad08075c2508e481d6c946d12b</td>\n",
       "      <td>0x0b742783bfac8d4b6d332e5d1b63f433fcd8c0a0</td>\n",
       "    </tr>\n",
       "    <tr>\n",
       "      <th>boredapeyachtclub_success1.feather</th>\n",
       "      <td>266633</td>\n",
       "      <td>2021-05-01 00:15:48</td>\n",
       "      <td>successful</td>\n",
       "      <td>586</td>\n",
       "      <td>5.0</td>\n",
       "      <td>2021-04-30 23:36:58.000000</td>\n",
       "      <td>0xf896527c49b44aab3cf22ae356fa3af8e331f280</td>\n",
       "      <td>0x88be3fa60ede9f532af10aba5690dfc254db929b</td>\n",
       "      <td>None</td>\n",
       "      <td>1.000000e+17</td>\n",
       "      <td>...</td>\n",
       "      <td>2021-05-01T00:16:17.700252</td>\n",
       "      <td>boredapeyachtclub</td>\n",
       "      <td>0x7be8076f4ea4a4ad08075c2508e481d6c946d12b</td>\n",
       "      <td>0x88be3fa60ede9f532af10aba5690dfc254db929b</td>\n",
       "      <td>NaN</td>\n",
       "      <td>NaN</td>\n",
       "      <td>NaN</td>\n",
       "      <td>NaN</td>\n",
       "      <td>NaN</td>\n",
       "      <td>NaN</td>\n",
       "    </tr>\n",
       "    <tr>\n",
       "      <th>...</th>\n",
       "      <td>...</td>\n",
       "      <td>...</td>\n",
       "      <td>...</td>\n",
       "      <td>...</td>\n",
       "      <td>...</td>\n",
       "      <td>...</td>\n",
       "      <td>...</td>\n",
       "      <td>...</td>\n",
       "      <td>...</td>\n",
       "      <td>...</td>\n",
       "      <td>...</td>\n",
       "      <td>...</td>\n",
       "      <td>...</td>\n",
       "      <td>...</td>\n",
       "      <td>...</td>\n",
       "      <td>...</td>\n",
       "      <td>...</td>\n",
       "      <td>...</td>\n",
       "      <td>...</td>\n",
       "      <td>...</td>\n",
       "      <td>...</td>\n",
       "    </tr>\n",
       "    <tr>\n",
       "      <th>NFT20_success12錢包補跑4.feather</th>\n",
       "      <td>240751</td>\n",
       "      <td>2022-06-02 01:34:58</td>\n",
       "      <td>successful</td>\n",
       "      <td>9443</td>\n",
       "      <td>2.0</td>\n",
       "      <td>2022-06-01 22:31:32.794843</td>\n",
       "      <td>0x8f46d017455920ecbf72d04d95505208aaf03581</td>\n",
       "      <td>0xe3f663418251186888935dc1c4979fa3a3da1bac</td>\n",
       "      <td>None</td>\n",
       "      <td>2.160000e+19</td>\n",
       "      <td>...</td>\n",
       "      <td>2022-06-02T01:35:54.717142</td>\n",
       "      <td>proof-moonbirds</td>\n",
       "      <td>0x7f268357a8c2552623316e2562d90e642bb538e5</td>\n",
       "      <td>0x8f46d017455920ecbf72d04d95505208aaf03581</td>\n",
       "      <td>None</td>\n",
       "      <td>None</td>\n",
       "      <td>500.0</td>\n",
       "      <td>0x8f46d017455920ecbf72d04d95505208aaf03581</td>\n",
       "      <td>0x7f268357a8c2552623316e2562d90e642bb538e5</td>\n",
       "      <td>0x8f46d017455920ecbf72d04d95505208aaf03581</td>\n",
       "    </tr>\n",
       "    <tr>\n",
       "      <th>NFT20_success12錢包補跑10.feather</th>\n",
       "      <td>179059</td>\n",
       "      <td>2022-06-05 15:37:39</td>\n",
       "      <td>successful</td>\n",
       "      <td>7167</td>\n",
       "      <td>5.0</td>\n",
       "      <td>2022-06-05 07:16:44.000000</td>\n",
       "      <td>0x0cc901998f14e88b7669e7a01863acc8f64905f7</td>\n",
       "      <td>0x4fa94ca44d1c403c7a864a4e6fb885cc3f6e92bb</td>\n",
       "      <td>None</td>\n",
       "      <td>4.190000e+18</td>\n",
       "      <td>...</td>\n",
       "      <td>2022-06-05T15:37:46.798515</td>\n",
       "      <td>world-of-women-nft</td>\n",
       "      <td>0x7f268357a8c2552623316e2562d90e642bb538e5</td>\n",
       "      <td>0x4fa94ca44d1c403c7a864a4e6fb885cc3f6e92bb</td>\n",
       "      <td>None</td>\n",
       "      <td>None</td>\n",
       "      <td>400.0</td>\n",
       "      <td>0x0cc901998f14e88b7669e7a01863acc8f64905f7</td>\n",
       "      <td>0x7f268357a8c2552623316e2562d90e642bb538e5</td>\n",
       "      <td>0x0cc901998f14e88b7669e7a01863acc8f64905f7</td>\n",
       "    </tr>\n",
       "    <tr>\n",
       "      <th>NFT20_success12錢包補跑8.feather</th>\n",
       "      <td>82749</td>\n",
       "      <td>2022-06-05 15:37:39</td>\n",
       "      <td>successful</td>\n",
       "      <td>7167</td>\n",
       "      <td>5.0</td>\n",
       "      <td>2022-06-05 07:16:44.000000</td>\n",
       "      <td>0x0cc901998f14e88b7669e7a01863acc8f64905f7</td>\n",
       "      <td>0x4fa94ca44d1c403c7a864a4e6fb885cc3f6e92bb</td>\n",
       "      <td>None</td>\n",
       "      <td>4.190000e+18</td>\n",
       "      <td>...</td>\n",
       "      <td>2022-06-05T15:37:46.798515</td>\n",
       "      <td>world-of-women-nft</td>\n",
       "      <td>0x7f268357a8c2552623316e2562d90e642bb538e5</td>\n",
       "      <td>0x4fa94ca44d1c403c7a864a4e6fb885cc3f6e92bb</td>\n",
       "      <td>None</td>\n",
       "      <td>None</td>\n",
       "      <td>400.0</td>\n",
       "      <td>0x0cc901998f14e88b7669e7a01863acc8f64905f7</td>\n",
       "      <td>0x7f268357a8c2552623316e2562d90e642bb538e5</td>\n",
       "      <td>0x0cc901998f14e88b7669e7a01863acc8f64905f7</td>\n",
       "    </tr>\n",
       "    <tr>\n",
       "      <th>NFT20_success12錢包補跑14.feather</th>\n",
       "      <td>14354</td>\n",
       "      <td>2022-06-07 09:08:06</td>\n",
       "      <td>successful</td>\n",
       "      <td>7694</td>\n",
       "      <td>4.0</td>\n",
       "      <td>2022-06-07 08:40:07.000000</td>\n",
       "      <td>0xbb0baa3ca39863a2a48c7d10fde5d166a60e363d</td>\n",
       "      <td>0xf02aaa8e504daa449d4636a22c9be2b572f6b796</td>\n",
       "      <td>None</td>\n",
       "      <td>2.660000e+18</td>\n",
       "      <td>...</td>\n",
       "      <td>2022-06-07T09:08:30.638440</td>\n",
       "      <td>mfers</td>\n",
       "      <td>0x7f268357a8c2552623316e2562d90e642bb538e5</td>\n",
       "      <td>0xf02aaa8e504daa449d4636a22c9be2b572f6b796</td>\n",
       "      <td>None</td>\n",
       "      <td>None</td>\n",
       "      <td>250.0</td>\n",
       "      <td>0xbb0baa3ca39863a2a48c7d10fde5d166a60e363d</td>\n",
       "      <td>0x7f268357a8c2552623316e2562d90e642bb538e5</td>\n",
       "      <td>0xbb0baa3ca39863a2a48c7d10fde5d166a60e363d</td>\n",
       "    </tr>\n",
       "    <tr>\n",
       "      <th>NFT20_success12錢包補跑16.feather</th>\n",
       "      <td>77515</td>\n",
       "      <td>2022-06-07 09:08:06</td>\n",
       "      <td>successful</td>\n",
       "      <td>7694</td>\n",
       "      <td>4.0</td>\n",
       "      <td>2022-06-07 08:40:07.000000</td>\n",
       "      <td>0xbb0baa3ca39863a2a48c7d10fde5d166a60e363d</td>\n",
       "      <td>0xf02aaa8e504daa449d4636a22c9be2b572f6b796</td>\n",
       "      <td>None</td>\n",
       "      <td>2.660000e+18</td>\n",
       "      <td>...</td>\n",
       "      <td>2022-06-07T09:08:30.638440</td>\n",
       "      <td>mfers</td>\n",
       "      <td>0x7f268357a8c2552623316e2562d90e642bb538e5</td>\n",
       "      <td>0xf02aaa8e504daa449d4636a22c9be2b572f6b796</td>\n",
       "      <td>None</td>\n",
       "      <td>None</td>\n",
       "      <td>250.0</td>\n",
       "      <td>0xbb0baa3ca39863a2a48c7d10fde5d166a60e363d</td>\n",
       "      <td>0x7f268357a8c2552623316e2562d90e642bb538e5</td>\n",
       "      <td>0xbb0baa3ca39863a2a48c7d10fde5d166a60e363d</td>\n",
       "    </tr>\n",
       "  </tbody>\n",
       "</table>\n",
       "<p>620277 rows × 35 columns</p>\n",
       "</div>"
      ],
      "text/plain": [
       "                                     index     event_timestamp  event_type  \\\n",
       "filename                                                                     \n",
       "NFT20_success12錢包補跑12.feather       572182 2021-04-30 12:38:59  successful   \n",
       "coolcatsnft_A2.feather              652355 2021-04-30 12:38:59  successful   \n",
       "coolcatsnft_AA22.feather            152356 2021-04-30 12:38:59  successful   \n",
       "NFT20_success12錢包補跑12.feather       167032 2021-05-01 00:15:48  successful   \n",
       "boredapeyachtclub_success1.feather  266633 2021-05-01 00:15:48  successful   \n",
       "...                                    ...                 ...         ...   \n",
       "NFT20_success12錢包補跑4.feather        240751 2022-06-02 01:34:58  successful   \n",
       "NFT20_success12錢包補跑10.feather       179059 2022-06-05 15:37:39  successful   \n",
       "NFT20_success12錢包補跑8.feather         82749 2022-06-05 15:37:39  successful   \n",
       "NFT20_success12錢包補跑14.feather        14354 2022-06-07 09:08:06  successful   \n",
       "NFT20_success12錢包補跑16.feather        77515 2022-06-07 09:08:06  successful   \n",
       "\n",
       "                                   token_id  num_sales  \\\n",
       "filename                                                 \n",
       "NFT20_success12錢包補跑12.feather            33        2.0   \n",
       "coolcatsnft_A2.feather                   33        2.0   \n",
       "coolcatsnft_AA22.feather                 33        2.0   \n",
       "NFT20_success12錢包補跑12.feather           586        5.0   \n",
       "boredapeyachtclub_success1.feather      586        5.0   \n",
       "...                                     ...        ...   \n",
       "NFT20_success12錢包補跑4.feather           9443        2.0   \n",
       "NFT20_success12錢包補跑10.feather          7167        5.0   \n",
       "NFT20_success12錢包補跑8.feather           7167        5.0   \n",
       "NFT20_success12錢包補跑14.feather          7694        4.0   \n",
       "NFT20_success12錢包補跑16.feather          7694        4.0   \n",
       "\n",
       "                                                 listing_time  \\\n",
       "filename                                                        \n",
       "NFT20_success12錢包補跑12.feather                             NaT   \n",
       "coolcatsnft_A2.feather                                    NaT   \n",
       "coolcatsnft_AA22.feather                                  NaT   \n",
       "NFT20_success12錢包補跑12.feather      2021-04-30 23:36:58.000000   \n",
       "boredapeyachtclub_success1.feather 2021-04-30 23:36:58.000000   \n",
       "...                                                       ...   \n",
       "NFT20_success12錢包補跑4.feather       2022-06-01 22:31:32.794843   \n",
       "NFT20_success12錢包補跑10.feather      2022-06-05 07:16:44.000000   \n",
       "NFT20_success12錢包補跑8.feather       2022-06-05 07:16:44.000000   \n",
       "NFT20_success12錢包補跑14.feather      2022-06-07 08:40:07.000000   \n",
       "NFT20_success12錢包補跑16.feather      2022-06-07 08:40:07.000000   \n",
       "\n",
       "                                                           token_owner_address  \\\n",
       "filename                                                                         \n",
       "NFT20_success12錢包補跑12.feather       0xed2ab4948ba6a909a7751dec4f34f303eb8c7236   \n",
       "coolcatsnft_A2.feather              0xed2ab4948ba6a909a7751dec4f34f303eb8c7236   \n",
       "coolcatsnft_AA22.feather            0xed2ab4948ba6a909a7751dec4f34f303eb8c7236   \n",
       "NFT20_success12錢包補跑12.feather       0xf896527c49b44aab3cf22ae356fa3af8e331f280   \n",
       "boredapeyachtclub_success1.feather  0xf896527c49b44aab3cf22ae356fa3af8e331f280   \n",
       "...                                                                        ...   \n",
       "NFT20_success12錢包補跑4.feather        0x8f46d017455920ecbf72d04d95505208aaf03581   \n",
       "NFT20_success12錢包補跑10.feather       0x0cc901998f14e88b7669e7a01863acc8f64905f7   \n",
       "NFT20_success12錢包補跑8.feather        0x0cc901998f14e88b7669e7a01863acc8f64905f7   \n",
       "NFT20_success12錢包補跑14.feather       0xbb0baa3ca39863a2a48c7d10fde5d166a60e363d   \n",
       "NFT20_success12錢包補跑16.feather       0xbb0baa3ca39863a2a48c7d10fde5d166a60e363d   \n",
       "\n",
       "                                                          token_seller_address  \\\n",
       "filename                                                                         \n",
       "NFT20_success12錢包補跑12.feather       0x8e05bd9fa3059ec69c15bc1a6f4d94f0ac26ce00   \n",
       "coolcatsnft_A2.feather              0x8e05bd9fa3059ec69c15bc1a6f4d94f0ac26ce00   \n",
       "coolcatsnft_AA22.feather            0x8e05bd9fa3059ec69c15bc1a6f4d94f0ac26ce00   \n",
       "NFT20_success12錢包補跑12.feather       0x88be3fa60ede9f532af10aba5690dfc254db929b   \n",
       "boredapeyachtclub_success1.feather  0x88be3fa60ede9f532af10aba5690dfc254db929b   \n",
       "...                                                                        ...   \n",
       "NFT20_success12錢包補跑4.feather        0xe3f663418251186888935dc1c4979fa3a3da1bac   \n",
       "NFT20_success12錢包補跑10.feather       0x4fa94ca44d1c403c7a864a4e6fb885cc3f6e92bb   \n",
       "NFT20_success12錢包補跑8.feather        0x4fa94ca44d1c403c7a864a4e6fb885cc3f6e92bb   \n",
       "NFT20_success12錢包補跑14.feather       0xf02aaa8e504daa449d4636a22c9be2b572f6b796   \n",
       "NFT20_success12錢包補跑16.feather       0xf02aaa8e504daa449d4636a22c9be2b572f6b796   \n",
       "\n",
       "                                   from_account_address    deal_price  ...  \\\n",
       "filename                                                               ...   \n",
       "NFT20_success12錢包補跑12.feather                      None  1.600000e+17  ...   \n",
       "coolcatsnft_A2.feather                             None  1.600000e+17  ...   \n",
       "coolcatsnft_AA22.feather                           None  1.600000e+17  ...   \n",
       "NFT20_success12錢包補跑12.feather                      None  1.000000e+17  ...   \n",
       "boredapeyachtclub_success1.feather                 None  1.000000e+17  ...   \n",
       "...                                                 ...           ...  ...   \n",
       "NFT20_success12錢包補跑4.feather                       None  2.160000e+19  ...   \n",
       "NFT20_success12錢包補跑10.feather                      None  4.190000e+18  ...   \n",
       "NFT20_success12錢包補跑8.feather                       None  4.190000e+18  ...   \n",
       "NFT20_success12錢包補跑14.feather                      None  2.660000e+18  ...   \n",
       "NFT20_success12錢包補跑16.feather                      None  2.660000e+18  ...   \n",
       "\n",
       "                                                  created_date  \\\n",
       "filename                                                         \n",
       "NFT20_success12錢包補跑12.feather       2021-04-30T12:39:43.636056   \n",
       "coolcatsnft_A2.feather              2021-04-30T12:39:43.636056   \n",
       "coolcatsnft_AA22.feather            2021-04-30T12:39:43.636056   \n",
       "NFT20_success12錢包補跑12.feather       2021-05-01T00:16:17.700252   \n",
       "boredapeyachtclub_success1.feather  2021-05-01T00:16:17.700252   \n",
       "...                                                        ...   \n",
       "NFT20_success12錢包補跑4.feather        2022-06-02T01:35:54.717142   \n",
       "NFT20_success12錢包補跑10.feather       2022-06-05T15:37:46.798515   \n",
       "NFT20_success12錢包補跑8.feather        2022-06-05T15:37:46.798515   \n",
       "NFT20_success12錢包補跑14.feather       2022-06-07T09:08:30.638440   \n",
       "NFT20_success12錢包補跑16.feather       2022-06-07T09:08:30.638440   \n",
       "\n",
       "                                       collection_slug  \\\n",
       "filename                                                 \n",
       "NFT20_success12錢包補跑12.feather        boredapeyachtclub   \n",
       "coolcatsnft_A2.feather               boredapeyachtclub   \n",
       "coolcatsnft_AA22.feather             boredapeyachtclub   \n",
       "NFT20_success12錢包補跑12.feather        boredapeyachtclub   \n",
       "boredapeyachtclub_success1.feather   boredapeyachtclub   \n",
       "...                                                ...   \n",
       "NFT20_success12錢包補跑4.feather           proof-moonbirds   \n",
       "NFT20_success12錢包補跑10.feather       world-of-women-nft   \n",
       "NFT20_success12錢包補跑8.feather        world-of-women-nft   \n",
       "NFT20_success12錢包補跑14.feather                    mfers   \n",
       "NFT20_success12錢包補跑16.feather                    mfers   \n",
       "\n",
       "                                                              contract_address  \\\n",
       "filename                                                                         \n",
       "NFT20_success12錢包補跑12.feather       0x7be8076f4ea4a4ad08075c2508e481d6c946d12b   \n",
       "coolcatsnft_A2.feather              0x7be8076f4ea4a4ad08075c2508e481d6c946d12b   \n",
       "coolcatsnft_AA22.feather            0x7be8076f4ea4a4ad08075c2508e481d6c946d12b   \n",
       "NFT20_success12錢包補跑12.feather       0x7be8076f4ea4a4ad08075c2508e481d6c946d12b   \n",
       "boredapeyachtclub_success1.feather  0x7be8076f4ea4a4ad08075c2508e481d6c946d12b   \n",
       "...                                                                        ...   \n",
       "NFT20_success12錢包補跑4.feather        0x7f268357a8c2552623316e2562d90e642bb538e5   \n",
       "NFT20_success12錢包補跑10.feather       0x7f268357a8c2552623316e2562d90e642bb538e5   \n",
       "NFT20_success12錢包補跑8.feather        0x7f268357a8c2552623316e2562d90e642bb538e5   \n",
       "NFT20_success12錢包補跑14.feather       0x7f268357a8c2552623316e2562d90e642bb538e5   \n",
       "NFT20_success12錢包補跑16.feather       0x7f268357a8c2552623316e2562d90e642bb538e5   \n",
       "\n",
       "                                                          wallet_address_input  \\\n",
       "filename                                                                         \n",
       "NFT20_success12錢包補跑12.feather       0x8e05bd9fa3059ec69c15bc1a6f4d94f0ac26ce00   \n",
       "coolcatsnft_A2.feather              0x8e05bd9fa3059ec69c15bc1a6f4d94f0ac26ce00   \n",
       "coolcatsnft_AA22.feather            0x8e05bd9fa3059ec69c15bc1a6f4d94f0ac26ce00   \n",
       "NFT20_success12錢包補跑12.feather       0x88be3fa60ede9f532af10aba5690dfc254db929b   \n",
       "boredapeyachtclub_success1.feather  0x88be3fa60ede9f532af10aba5690dfc254db929b   \n",
       "...                                                                        ...   \n",
       "NFT20_success12錢包補跑4.feather        0x8f46d017455920ecbf72d04d95505208aaf03581   \n",
       "NFT20_success12錢包補跑10.feather       0x4fa94ca44d1c403c7a864a4e6fb885cc3f6e92bb   \n",
       "NFT20_success12錢包補跑8.feather        0x4fa94ca44d1c403c7a864a4e6fb885cc3f6e92bb   \n",
       "NFT20_success12錢包補跑14.feather       0xf02aaa8e504daa449d4636a22c9be2b572f6b796   \n",
       "NFT20_success12錢包補跑16.feather       0xf02aaa8e504daa449d4636a22c9be2b572f6b796   \n",
       "\n",
       "                                    custom_event_name  \\\n",
       "filename                                                \n",
       "NFT20_success12錢包補跑12.feather                    None   \n",
       "coolcatsnft_A2.feather                            NaN   \n",
       "coolcatsnft_AA22.feather                          NaN   \n",
       "NFT20_success12錢包補跑12.feather                    None   \n",
       "boredapeyachtclub_success1.feather                NaN   \n",
       "...                                               ...   \n",
       "NFT20_success12錢包補跑4.feather                     None   \n",
       "NFT20_success12錢包補跑10.feather                    None   \n",
       "NFT20_success12錢包補跑8.feather                     None   \n",
       "NFT20_success12錢包補跑14.feather                    None   \n",
       "NFT20_success12錢包補跑16.feather                    None   \n",
       "\n",
       "                                                                dev_fee_payment_event  \\\n",
       "filename                                                                                \n",
       "NFT20_success12錢包補跑12.feather       {'asset': None, 'asset_bundle': None, 'event_t...   \n",
       "coolcatsnft_A2.feather                                                            NaN   \n",
       "coolcatsnft_AA22.feather                                                          NaN   \n",
       "NFT20_success12錢包補跑12.feather       {'asset': None, 'asset_bundle': None, 'event_t...   \n",
       "boredapeyachtclub_success1.feather                                                NaN   \n",
       "...                                                                               ...   \n",
       "NFT20_success12錢包補跑4.feather                                                     None   \n",
       "NFT20_success12錢包補跑10.feather                                                    None   \n",
       "NFT20_success12錢包補跑8.feather                                                     None   \n",
       "NFT20_success12錢包補跑14.feather                                                    None   \n",
       "NFT20_success12錢包補跑16.feather                                                    None   \n",
       "\n",
       "                                    dev_seller_fee_basis_points  \\\n",
       "filename                                                          \n",
       "NFT20_success12錢包補跑12.feather                               0.0   \n",
       "coolcatsnft_A2.feather                                      NaN   \n",
       "coolcatsnft_AA22.feather                                    NaN   \n",
       "NFT20_success12錢包補跑12.feather                               0.0   \n",
       "boredapeyachtclub_success1.feather                          NaN   \n",
       "...                                                         ...   \n",
       "NFT20_success12錢包補跑4.feather                              500.0   \n",
       "NFT20_success12錢包補跑10.feather                             400.0   \n",
       "NFT20_success12錢包補跑8.feather                              400.0   \n",
       "NFT20_success12錢包補跑14.feather                             250.0   \n",
       "NFT20_success12錢包補跑16.feather                             250.0   \n",
       "\n",
       "                                              transaction_from_account_address  \\\n",
       "filename                                                                         \n",
       "NFT20_success12錢包補跑12.feather       0x8e05bd9fa3059ec69c15bc1a6f4d94f0ac26ce00   \n",
       "coolcatsnft_A2.feather                                                     NaN   \n",
       "coolcatsnft_AA22.feather                                                   NaN   \n",
       "NFT20_success12錢包補跑12.feather       0x0b742783bfac8d4b6d332e5d1b63f433fcd8c0a0   \n",
       "boredapeyachtclub_success1.feather                                         NaN   \n",
       "...                                                                        ...   \n",
       "NFT20_success12錢包補跑4.feather        0x8f46d017455920ecbf72d04d95505208aaf03581   \n",
       "NFT20_success12錢包補跑10.feather       0x0cc901998f14e88b7669e7a01863acc8f64905f7   \n",
       "NFT20_success12錢包補跑8.feather        0x0cc901998f14e88b7669e7a01863acc8f64905f7   \n",
       "NFT20_success12錢包補跑14.feather       0xbb0baa3ca39863a2a48c7d10fde5d166a60e363d   \n",
       "NFT20_success12錢包補跑16.feather       0xbb0baa3ca39863a2a48c7d10fde5d166a60e363d   \n",
       "\n",
       "                                                transaction_to_account_address  \\\n",
       "filename                                                                         \n",
       "NFT20_success12錢包補跑12.feather       0x7be8076f4ea4a4ad08075c2508e481d6c946d12b   \n",
       "coolcatsnft_A2.feather                                                     NaN   \n",
       "coolcatsnft_AA22.feather                                                   NaN   \n",
       "NFT20_success12錢包補跑12.feather       0x7be8076f4ea4a4ad08075c2508e481d6c946d12b   \n",
       "boredapeyachtclub_success1.feather                                         NaN   \n",
       "...                                                                        ...   \n",
       "NFT20_success12錢包補跑4.feather        0x7f268357a8c2552623316e2562d90e642bb538e5   \n",
       "NFT20_success12錢包補跑10.feather       0x7f268357a8c2552623316e2562d90e642bb538e5   \n",
       "NFT20_success12錢包補跑8.feather        0x7f268357a8c2552623316e2562d90e642bb538e5   \n",
       "NFT20_success12錢包補跑14.feather       0x7f268357a8c2552623316e2562d90e642bb538e5   \n",
       "NFT20_success12錢包補跑16.feather       0x7f268357a8c2552623316e2562d90e642bb538e5   \n",
       "\n",
       "                                                        winner_account_address  \n",
       "filename                                                                        \n",
       "NFT20_success12錢包補跑12.feather       0x0b742783bfac8d4b6d332e5d1b63f433fcd8c0a0  \n",
       "coolcatsnft_A2.feather                                                     NaN  \n",
       "coolcatsnft_AA22.feather                                                   NaN  \n",
       "NFT20_success12錢包補跑12.feather       0x0b742783bfac8d4b6d332e5d1b63f433fcd8c0a0  \n",
       "boredapeyachtclub_success1.feather                                         NaN  \n",
       "...                                                                        ...  \n",
       "NFT20_success12錢包補跑4.feather        0x8f46d017455920ecbf72d04d95505208aaf03581  \n",
       "NFT20_success12錢包補跑10.feather       0x0cc901998f14e88b7669e7a01863acc8f64905f7  \n",
       "NFT20_success12錢包補跑8.feather        0x0cc901998f14e88b7669e7a01863acc8f64905f7  \n",
       "NFT20_success12錢包補跑14.feather       0xbb0baa3ca39863a2a48c7d10fde5d166a60e363d  \n",
       "NFT20_success12錢包補跑16.feather       0xbb0baa3ca39863a2a48c7d10fde5d166a60e363d  \n",
       "\n",
       "[620277 rows x 35 columns]"
      ]
     },
     "execution_count": 14,
     "metadata": {},
     "output_type": "execute_result"
    }
   ],
   "source": [
    "nft20_wallets[bad].sort_values(['event_timestamp', 'winner_account_address']).set_index('filename')"
   ]
  },
  {
   "cell_type": "markdown",
   "id": "10406b54-454e-4e7d-95ac-28381105aa8d",
   "metadata": {},
   "source": [
    "### Remove duplicates\n",
    "\n",
    "according Fred's recommendation:\n",
    "\n",
    "1. subsetting the dataset should significantly reduces the duplicate event records\n",
    "2. and then follow by dropping any of the duplicate rows"
   ]
  },
  {
   "cell_type": "code",
   "execution_count": 15,
   "id": "dc59cfd2-ff52-4003-abb9-84e0b0c53f9d",
   "metadata": {
    "tags": []
   },
   "outputs": [],
   "source": [
    "wallet_addresses = pd.read_excel(os.path.join(os.getcwd(), 'data', '錢包整理_0617.xlsx'), sheet_name='20個項目的參與錢包')\n",
    "#wallet_addresses = pd.read_excel(os.path.join(os.getcwd(), 'data', '錢包整理_0617.xlsx'), sheet_name='20項目買方錢包winner_address')"
   ]
  },
  {
   "cell_type": "code",
   "execution_count": 16,
   "id": "109e33de-c99c-4c37-adf9-1df8612580c3",
   "metadata": {},
   "outputs": [
    {
     "data": {
      "text/plain": [
       "(257460, 3)"
      ]
     },
     "execution_count": 16,
     "metadata": {},
     "output_type": "execute_result"
    }
   ],
   "source": [
    "wallet_addresses.shape"
   ]
  },
  {
   "cell_type": "code",
   "execution_count": 17,
   "id": "c03cb094-8ac7-4fc9-8526-19ec7e3e9f4c",
   "metadata": {},
   "outputs": [
    {
     "data": {
      "text/plain": [
       "Index(['collection_slug', 'token_owner_address', '資料所存放的檔案'], dtype='object')"
      ]
     },
     "execution_count": 17,
     "metadata": {},
     "output_type": "execute_result"
    }
   ],
   "source": [
    "wallet_addresses.columns"
   ]
  },
  {
   "cell_type": "code",
   "execution_count": 18,
   "id": "2802bd99-1364-485a-927b-3655579b762e",
   "metadata": {},
   "outputs": [
    {
     "data": {
      "text/html": [
       "<div>\n",
       "<style scoped>\n",
       "    .dataframe tbody tr th:only-of-type {\n",
       "        vertical-align: middle;\n",
       "    }\n",
       "\n",
       "    .dataframe tbody tr th {\n",
       "        vertical-align: top;\n",
       "    }\n",
       "\n",
       "    .dataframe thead th {\n",
       "        text-align: right;\n",
       "    }\n",
       "</style>\n",
       "<table border=\"1\" class=\"dataframe\">\n",
       "  <thead>\n",
       "    <tr style=\"text-align: right;\">\n",
       "      <th></th>\n",
       "      <th>collection_slug</th>\n",
       "      <th>token_owner_address</th>\n",
       "      <th>資料所存放的檔案</th>\n",
       "    </tr>\n",
       "  </thead>\n",
       "  <tbody>\n",
       "    <tr>\n",
       "      <th>0</th>\n",
       "      <td>karafuru</td>\n",
       "      <td>0x24907c58e080f2a9d1f31f25d555aa3d5a5e3419</td>\n",
       "      <td>NFT20_success12錢包補跑9.xlsx</td>\n",
       "    </tr>\n",
       "    <tr>\n",
       "      <th>1</th>\n",
       "      <td>karafuru</td>\n",
       "      <td>0xf0e60ce560a7d7226369940e168bf00abd675467</td>\n",
       "      <td>NFT20_success12錢包補跑20.xlsx</td>\n",
       "    </tr>\n",
       "    <tr>\n",
       "      <th>2</th>\n",
       "      <td>karafuru</td>\n",
       "      <td>0x87cfdc4bfae569088bc1bcc0dd3c19f53da54193</td>\n",
       "      <td>NFT20_success12錢包補跑20.xlsx</td>\n",
       "    </tr>\n",
       "    <tr>\n",
       "      <th>3</th>\n",
       "      <td>karafuru</td>\n",
       "      <td>0x00167777e0daf9dc2d3a76195ab56e857ec67ab2</td>\n",
       "      <td>mekaverse_success1.xlsx</td>\n",
       "    </tr>\n",
       "    <tr>\n",
       "      <th>4</th>\n",
       "      <td>karafuru</td>\n",
       "      <td>0x94f055731e8588cf434de1591dc922490a86cd4e</td>\n",
       "      <td>world-of-women-nft_success1.xlsx</td>\n",
       "    </tr>\n",
       "    <tr>\n",
       "      <th>...</th>\n",
       "      <td>...</td>\n",
       "      <td>...</td>\n",
       "      <td>...</td>\n",
       "    </tr>\n",
       "    <tr>\n",
       "      <th>257437</th>\n",
       "      <td>cyberkongz-vx</td>\n",
       "      <td>0x212859fb34f5dbd67df64ddf086ec802fbd03a7c</td>\n",
       "      <td>NaN</td>\n",
       "    </tr>\n",
       "    <tr>\n",
       "      <th>257443</th>\n",
       "      <td>cyberkongz-vx</td>\n",
       "      <td>0x714c3c5ff30a03f7a0aa4c891449fe331272775a</td>\n",
       "      <td>NaN</td>\n",
       "    </tr>\n",
       "    <tr>\n",
       "      <th>257451</th>\n",
       "      <td>cyberkongz-vx</td>\n",
       "      <td>0x0fc87896cd69c65a92ec169034b5e9af3a1998ba</td>\n",
       "      <td>NaN</td>\n",
       "    </tr>\n",
       "    <tr>\n",
       "      <th>257456</th>\n",
       "      <td>cyberkongz-vx</td>\n",
       "      <td>0x152a42d1382d213fa85a490cbf6c83f200468bee</td>\n",
       "      <td>NaN</td>\n",
       "    </tr>\n",
       "    <tr>\n",
       "      <th>257458</th>\n",
       "      <td>cyberkongz-vx</td>\n",
       "      <td>0x7abcd4133cdfef01d1fce4be7b7e1e81113a33d6</td>\n",
       "      <td>NaN</td>\n",
       "    </tr>\n",
       "  </tbody>\n",
       "</table>\n",
       "<p>145936 rows × 3 columns</p>\n",
       "</div>"
      ],
      "text/plain": [
       "       collection_slug                         token_owner_address  \\\n",
       "0             karafuru  0x24907c58e080f2a9d1f31f25d555aa3d5a5e3419   \n",
       "1             karafuru  0xf0e60ce560a7d7226369940e168bf00abd675467   \n",
       "2             karafuru  0x87cfdc4bfae569088bc1bcc0dd3c19f53da54193   \n",
       "3             karafuru  0x00167777e0daf9dc2d3a76195ab56e857ec67ab2   \n",
       "4             karafuru  0x94f055731e8588cf434de1591dc922490a86cd4e   \n",
       "...                ...                                         ...   \n",
       "257437   cyberkongz-vx  0x212859fb34f5dbd67df64ddf086ec802fbd03a7c   \n",
       "257443   cyberkongz-vx  0x714c3c5ff30a03f7a0aa4c891449fe331272775a   \n",
       "257451   cyberkongz-vx  0x0fc87896cd69c65a92ec169034b5e9af3a1998ba   \n",
       "257456   cyberkongz-vx  0x152a42d1382d213fa85a490cbf6c83f200468bee   \n",
       "257458   cyberkongz-vx  0x7abcd4133cdfef01d1fce4be7b7e1e81113a33d6   \n",
       "\n",
       "                                資料所存放的檔案  \n",
       "0              NFT20_success12錢包補跑9.xlsx  \n",
       "1             NFT20_success12錢包補跑20.xlsx  \n",
       "2             NFT20_success12錢包補跑20.xlsx  \n",
       "3                mekaverse_success1.xlsx  \n",
       "4       world-of-women-nft_success1.xlsx  \n",
       "...                                  ...  \n",
       "257437                               NaN  \n",
       "257443                               NaN  \n",
       "257451                               NaN  \n",
       "257456                               NaN  \n",
       "257458                               NaN  \n",
       "\n",
       "[145936 rows x 3 columns]"
      ]
     },
     "execution_count": 18,
     "metadata": {},
     "output_type": "execute_result"
    }
   ],
   "source": [
    "y = wallet_addresses.drop_duplicates(subset=['token_owner_address'])\n",
    "y"
   ]
  },
  {
   "cell_type": "markdown",
   "id": "fee2a8a5-848a-48e6-8238-f47f13fbb317",
   "metadata": {},
   "source": [
    "_\\* N.b._ remove duplicate token_owner_address from the table before joining"
   ]
  },
  {
   "cell_type": "code",
   "execution_count": 19,
   "id": "902cf828-d08a-420a-99ba-0fa5bfdf0272",
   "metadata": {},
   "outputs": [],
   "source": [
    "X = nft20_wallets.merge(y.loc[:, ['token_owner_address', '資料所存放的檔案']],\n",
    "                    left_on='wallet_address_input', right_on='token_owner_address')"
   ]
  },
  {
   "cell_type": "code",
   "execution_count": 20,
   "id": "a7257adf-bdec-4f40-8895-b33e79a99ef2",
   "metadata": {},
   "outputs": [
    {
     "data": {
      "text/plain": [
       "620277"
      ]
     },
     "execution_count": 20,
     "metadata": {},
     "output_type": "execute_result"
    }
   ],
   "source": [
    "bad = X.duplicated(['event_timestamp', 'collection_slug', 'token_id', 'wallet_address_input'], keep=False)\n",
    "sum(bad)"
   ]
  },
  {
   "cell_type": "code",
   "execution_count": 21,
   "id": "dd23dcae",
   "metadata": {},
   "outputs": [
    {
     "data": {
      "text/plain": [
       "620277"
      ]
     },
     "execution_count": 21,
     "metadata": {},
     "output_type": "execute_result"
    }
   ],
   "source": [
    "bad = nft20_wallets.duplicated(['event_timestamp', 'collection_slug', 'token_id', 'wallet_address_input'], keep=False)\n",
    "sum(bad)"
   ]
  },
  {
   "cell_type": "markdown",
   "id": "fce5178c-fecc-4246-9368-7ceeb2469905",
   "metadata": {},
   "source": [
    "_N.b._ The above step did not reduce the duplicates"
   ]
  },
  {
   "cell_type": "code",
   "execution_count": 22,
   "id": "a8a2b163-fbf9-45fb-b396-d7351ae0409c",
   "metadata": {},
   "outputs": [
    {
     "data": {
      "text/plain": [
       "620277"
      ]
     },
     "execution_count": 22,
     "metadata": {},
     "output_type": "execute_result"
    }
   ],
   "source": [
    "bad = nft20_wallets.duplicated(['event_timestamp', 'collection_slug', 'token_id', 'wallet_address_input'], keep=False)\n",
    "sum(bad)"
   ]
  },
  {
   "cell_type": "markdown",
   "id": "17644a74-9081-4a5c-82cc-0e34df720181",
   "metadata": {},
   "source": [
    "Sort the problem subset by `event_timestamp` and `winner_account_address` followed by dropping the duplicates while keeping only the first occurrence "
   ]
  },
  {
   "cell_type": "code",
   "execution_count": 23,
   "id": "609ea0aa-f297-4e4a-8847-e0af9119587c",
   "metadata": {},
   "outputs": [
    {
     "data": {
      "text/plain": [
       "(276182, 36)"
      ]
     },
     "execution_count": 23,
     "metadata": {},
     "output_type": "execute_result"
    }
   ],
   "source": [
    "good = nft20_wallets[bad].sort_values(['event_timestamp', 'winner_account_address']) \\\n",
    "    .drop_duplicates(subset=['event_timestamp', 'collection_slug', 'token_id', 'wallet_address_input'])\n",
    "good.shape"
   ]
  },
  {
   "cell_type": "code",
   "execution_count": 24,
   "id": "40f8720b-3cf5-4944-a509-6911200c4a75",
   "metadata": {},
   "outputs": [
    {
     "name": "stdout",
     "output_type": "stream",
     "text": [
      "Percentage of duplicates removed: 55.474409014037285\n"
     ]
    }
   ],
   "source": [
    "print('Percentage of duplicates removed:', (1 - good.shape[0] / sum(bad)) * 100)"
   ]
  },
  {
   "cell_type": "markdown",
   "id": "4d18eb48-1462-47a8-a3e9-7befc5adeab2",
   "metadata": {},
   "source": [
    "### Save the de-duped subset"
   ]
  },
  {
   "cell_type": "code",
   "execution_count": 25,
   "id": "82a889eb-fbdc-4e07-b3da-db6e1bc37334",
   "metadata": {},
   "outputs": [
    {
     "data": {
      "text/plain": [
       "(324674, 36)"
      ]
     },
     "execution_count": 25,
     "metadata": {},
     "output_type": "execute_result"
    }
   ],
   "source": [
    "nft20_wallets[~bad].shape"
   ]
  },
  {
   "cell_type": "code",
   "execution_count": 26,
   "id": "188d0083-914c-4b21-a4c6-784a5740255d",
   "metadata": {},
   "outputs": [
    {
     "data": {
      "text/plain": [
       "(600856, 36)"
      ]
     },
     "execution_count": 26,
     "metadata": {},
     "output_type": "execute_result"
    }
   ],
   "source": [
    "deduped = pd.concat([nft20_wallets[~bad], good])\n",
    "deduped.shape"
   ]
  },
  {
   "cell_type": "code",
   "execution_count": 27,
   "id": "220bd382-88e2-4f32-9946-6014279485be",
   "metadata": {},
   "outputs": [],
   "source": [
    "deduped.to_parquet(os.path.join(data_dir, 'nft20_success.parquet'), compression='lz4')"
   ]
  },
  {
   "cell_type": "markdown",
   "id": "65149237-3454-49e3-987f-344c587d6524",
   "metadata": {
    "tags": []
   },
   "source": [
    "_N.b._ parquet format performs nearly as fast as feather and is commonly used in Databricks environment."
   ]
  },
  {
   "cell_type": "code",
   "execution_count": 28,
   "id": "5e5832fe-ead8-415b-b25f-5470fe516026",
   "metadata": {
    "tags": []
   },
   "outputs": [
    {
     "name": "stdout",
     "output_type": "stream",
     "text": [
      "parquet file size: 0.15252696443349123\n"
     ]
    }
   ],
   "source": [
    "print('parquet file size:',\n",
    "      os.stat(os.path.join(data_dir, 'nft20_success.parquet')).st_size / 1024**3)"
   ]
  },
  {
   "cell_type": "code",
   "execution_count": null,
   "id": "26dbb3a8-a6f4-4ded-970d-96ee2887e8d5",
   "metadata": {},
   "outputs": [],
   "source": []
  }
 ],
 "metadata": {
  "interpreter": {
   "hash": "a2e2c9c8ba70ba32ce998cd76425027ed4ac02585ab022e2d9b85d1664cda574"
  },
  "kernelspec": {
   "display_name": "Python 3 (ipykernel)",
   "language": "python",
   "name": "python3"
  },
  "language_info": {
   "codemirror_mode": {
    "name": "ipython",
    "version": 3
   },
   "file_extension": ".py",
   "mimetype": "text/x-python",
   "name": "python",
   "nbconvert_exporter": "python",
   "pygments_lexer": "ipython3",
   "version": "3.9.12"
  },
  "toc-autonumbering": false,
  "toc-showcode": false,
  "toc-showmarkdowntxt": false,
  "toc-showtags": false
 },
 "nbformat": 4,
 "nbformat_minor": 5
}
