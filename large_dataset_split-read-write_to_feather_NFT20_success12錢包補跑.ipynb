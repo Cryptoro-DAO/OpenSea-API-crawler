{
 "cells": [
  {
   "cell_type": "markdown",
   "id": "2c2908f0-a8b1-4a85-af47-4f540be6b33a",
   "metadata": {},
   "source": [
    "# Split-Read 1.3 GB of XLSX and write to feather file format for faster subsequent read"
   ]
  },
  {
   "cell_type": "markdown",
   "id": "50230098-5eff-409d-a8fc-78ee10a585e3",
   "metadata": {
    "tags": []
   },
   "source": [
    "Separately reading 1.3 GB of large Excel files into pandas dataframe and\n",
    "write to feather with minimum post processing\n",
    "\n",
    "## Helper functions"
   ]
  },
  {
   "cell_type": "code",
   "execution_count": 1,
   "id": "7c90efe8-50f2-494d-8381-16e19cfd4470",
   "metadata": {
    "tags": []
   },
   "outputs": [],
   "source": [
    "import os\n",
    "import re\n",
    "import pandas as pd\n",
    "\n",
    "\n",
    "def read_combine(io):\n",
    "    \"\"\"\n",
    "    Read a list of Excel files and combine them into a panadas DataFrame\n",
    "    \n",
    "    Parameters\n",
    "    ----------\n",
    "        io (list): list of fully qualified filenames\n",
    "        \n",
    "    Returns\n",
    "    -------\n",
    "    DataFrame with filenames appended at the last column.\n",
    "    \"\"\"\n",
    "    list_df = []\n",
    "    for each in io:\n",
    "        # print(\"...reading\", os.path.basename(each)) \n",
    "        df = pd.read_excel(each)\n",
    "        df[\"filename\"] = os.path.basename(each)\n",
    "        list_df.append(df)\n",
    "    \n",
    "    return pd.concat(list_df)\n",
    "\n",
    "\n",
    "def get_abspath(path, pattern):\n",
    "    \"\"\"\n",
    "    Search directory non-recursively for filename by name patterns\n",
    "    \n",
    "    Parameters\n",
    "    ----------\n",
    "    path : \n",
    "    pattern : \n",
    "\n",
    "    Returns\n",
    "    -------\n",
    "    a list of absolute path, use os.path.basename to get the filename\n",
    "    \"\"\"\n",
    "    return [os.path.join(path, x) for x in os.listdir(path) if re.search(pattern, x)]\n",
    "\n",
    "\n",
    "def print_filesize(abspath):\n",
    "    df=pd.DataFrame({'filename': [os.path.basename(x) for x in abspath],\n",
    "                     'size': [os.stat(x).st_size for x in abspath]}) \\\n",
    "        .set_index('filename')\n",
    "    print(df)\n",
    "    return df\n",
    "\n",
    "data_dir = os.path.join(os.getcwd(), 'data', 'wallets successful event', 'NFT20_success12錢包補跑')"
   ]
  },
  {
   "cell_type": "markdown",
   "id": "670505e9-f15c-46ff-b2be-78d3927cb0e3",
   "metadata": {},
   "source": [
    "## Excel files"
   ]
  },
  {
   "cell_type": "code",
   "execution_count": 2,
   "id": "a3871e79",
   "metadata": {
    "tags": []
   },
   "outputs": [
    {
     "name": "stdout",
     "output_type": "stream",
     "text": [
      "                                 size\n",
      "filename                             \n",
      "NFT20_success12錢包補跑10.xlsx  116457078\n",
      "NFT20_success12錢包補跑11.xlsx   45945607\n",
      "NFT20_success12錢包補跑12.xlsx  208155032\n",
      "NFT20_success12錢包補跑13.xlsx   49759561\n",
      "NFT20_success12錢包補跑14.xlsx   17605926\n",
      "NFT20_success12錢包補跑15.xlsx   19959764\n",
      "NFT20_success12錢包補跑16.xlsx   42507839\n",
      "NFT20_success12錢包補跑3.xlsx    80994161\n",
      "NFT20_success12錢包補跑4.xlsx   187439764\n",
      "NFT20_success12錢包補跑5.xlsx   109275195\n",
      "NFT20_success12錢包補跑6.xlsx   180793046\n",
      "NFT20_success12錢包補跑7.xlsx   170969390\n",
      "NFT20_success12錢包補跑8.xlsx    97641792\n",
      "NFT20_success12錢包補跑9.xlsx    48691456\n",
      "total size: 1.28 gb\n"
     ]
    }
   ],
   "source": [
    "wallets_fn = get_abspath(data_dir, '\\.xlsx$')\n",
    "fsizes = print_filesize(wallets_fn)\n",
    "print(\"total size:\", round(sum(fsizes[\"size\"]) / 1024**3, 2), \"gb\")"
   ]
  },
  {
   "cell_type": "markdown",
   "id": "65df6491-b8de-42a4-a3f7-c9d5715f3c5a",
   "metadata": {
    "tags": []
   },
   "source": [
    "# Read Excel files into pandas.DataFrame and save as feather\n",
    "\n",
    "...read each Excel and save as feather individually before any post read processing"
   ]
  },
  {
   "cell_type": "code",
   "execution_count": 3,
   "id": "9e363998-a73e-4d3f-b7e4-7b9a89214d58",
   "metadata": {
    "tags": []
   },
   "outputs": [
    {
     "name": "stdout",
     "output_type": "stream",
     "text": [
      "... reading NFT20_success12錢包補跑10.xlsx 116457078\n",
      "... saving NFT20_success12錢包補跑10.xlsx 116457078\n",
      "... reading NFT20_success12錢包補跑11.xlsx 45945607\n",
      "... saving NFT20_success12錢包補跑11.xlsx 45945607\n",
      "... reading NFT20_success12錢包補跑12.xlsx 208155032\n",
      "... saving NFT20_success12錢包補跑12.xlsx 208155032\n",
      "... reading NFT20_success12錢包補跑13.xlsx 49759561\n",
      "... saving NFT20_success12錢包補跑13.xlsx 49759561\n",
      "... reading NFT20_success12錢包補跑14.xlsx 17605926\n",
      "... saving NFT20_success12錢包補跑14.xlsx 17605926\n",
      "... reading NFT20_success12錢包補跑15.xlsx 19959764\n",
      "... saving NFT20_success12錢包補跑15.xlsx 19959764\n",
      "... reading NFT20_success12錢包補跑16.xlsx 42507839\n",
      "... saving NFT20_success12錢包補跑16.xlsx 42507839\n",
      "... reading NFT20_success12錢包補跑3.xlsx 80994161\n",
      "... saving NFT20_success12錢包補跑3.xlsx 80994161\n",
      "... reading NFT20_success12錢包補跑4.xlsx 187439764\n",
      "... saving NFT20_success12錢包補跑4.xlsx 187439764\n",
      "... reading NFT20_success12錢包補跑5.xlsx 109275195\n",
      "... saving NFT20_success12錢包補跑5.xlsx 109275195\n",
      "... reading NFT20_success12錢包補跑6.xlsx 180793046\n",
      "... saving NFT20_success12錢包補跑6.xlsx 180793046\n",
      "... reading NFT20_success12錢包補跑7.xlsx 170969390\n",
      "... saving NFT20_success12錢包補跑7.xlsx 170969390\n",
      "... reading NFT20_success12錢包補跑8.xlsx 97641792\n",
      "... saving NFT20_success12錢包補跑8.xlsx 97641792\n",
      "... reading NFT20_success12錢包補跑9.xlsx 48691456\n",
      "... saving NFT20_success12錢包補跑9.xlsx 48691456\n"
     ]
    }
   ],
   "source": [
    "for fn in wallets_fn:\n",
    "    to_fn = os.path.join(data_dir, os.path.basename(fn)[:-4] + 'feather')\n",
    "\n",
    "    print(\"... reading\", os.path.basename(fn), os.stat(fn).st_size)\n",
    "    df = pd.read_excel(fn)\n",
    "    df[\"filename\"] = os.path.basename(fn)\n",
    "    df.reset_index(inplace=True)\n",
    "    print(\"... saving\", os.path.basename(fn), os.stat(fn).st_size)\n",
    "    df.to_feather(to_fn)"
   ]
  },
  {
   "cell_type": "markdown",
   "id": "89e34d3d",
   "metadata": {},
   "source": [
    "# Post Processing"
   ]
  },
  {
   "cell_type": "code",
   "execution_count": 4,
   "id": "984a74e5-3226-4002-bb43-b5720e0c9302",
   "metadata": {},
   "outputs": [],
   "source": [
    "fs = get_abspath(data_dir, '\\.feather$')\n",
    "lst = (pd.read_feather(each) for each in fs)"
   ]
  },
  {
   "cell_type": "code",
   "execution_count": 5,
   "id": "22c90098-ed23-4856-9023-55a8f4b00889",
   "metadata": {},
   "outputs": [],
   "source": [
    "df = pd.concat(lst)"
   ]
  },
  {
   "cell_type": "code",
   "execution_count": 6,
   "id": "a0405f41-d82e-4e74-bb2e-6952844a7b51",
   "metadata": {},
   "outputs": [
    {
     "name": "stdout",
     "output_type": "stream",
     "text": [
      "<class 'pandas.core.frame.DataFrame'>\n",
      "Int64Index: 5030747 entries, 0 to 164693\n",
      "Data columns (total 40 columns):\n",
      " #   Column                            Non-Null Count    Dtype  \n",
      "---  ------                            --------------    -----  \n",
      " 0   index                             5030747 non-null  int64  \n",
      " 1   Unnamed: 0                        5030747 non-null  int64  \n",
      " 2   event_timestamp                   5029616 non-null  object \n",
      " 3   event_type                        5029616 non-null  object \n",
      " 4   token_id                          4989545 non-null  object \n",
      " 5   num_sales                         4989545 non-null  float64\n",
      " 6   listing_time                      4667175 non-null  object \n",
      " 7   token_owner_address               4989545 non-null  object \n",
      " 8   token_seller_address              5016702 non-null  object \n",
      " 9   from_account_address              2519 non-null     object \n",
      " 10  deal_price                        5029609 non-null  float64\n",
      " 11  payment_token_symbol              5028062 non-null  object \n",
      " 12  payment_token_decimals            5028125 non-null  float64\n",
      " 13  payment_token_usdprice            5026160 non-null  float64\n",
      " 14  quantity                          5001063 non-null  object \n",
      " 15  starting_price                    0 non-null        float64\n",
      " 16  ending_price                      0 non-null        float64\n",
      " 17  approved_account                  0 non-null        float64\n",
      " 18  asset_bundle                      40121 non-null    object \n",
      " 19  auction_type                      150117 non-null   object \n",
      " 20  bid_amount                        0 non-null        float64\n",
      " 21  transaction_hash                  5029616 non-null  object \n",
      " 22  block_hash                        5029354 non-null  object \n",
      " 23  block_number                      5029334 non-null  float64\n",
      " 24  is_private                        4667175 non-null  float64\n",
      " 25  duration                          0 non-null        float64\n",
      " 26  created_date                      5029616 non-null  object \n",
      " 27  custom_event_name                 21 non-null       object \n",
      " 28  dev_fee_payment_event             4236004 non-null  object \n",
      " 29  dev_seller_fee_basis_points       4404747 non-null  float64\n",
      " 30  transaction_from_account_address  4559673 non-null  object \n",
      " 31  transaction_to_account_address    4559673 non-null  object \n",
      " 32  winner_account_address            4559678 non-null  object \n",
      " 33  collection_slug                   5028482 non-null  object \n",
      " 34  contract_address                  5029000 non-null  object \n",
      " 35  wallet_address_input              5030747 non-null  object \n",
      " 36  pages                             5030747 non-null  int64  \n",
      " 37  msg                               5030747 non-null  object \n",
      " 38  next_param                        4744007 non-null  object \n",
      " 39  filename                          5030747 non-null  object \n",
      "dtypes: float64(12), int64(3), object(25)\n",
      "memory usage: 1.5+ GB\n"
     ]
    }
   ],
   "source": [
    "df.info(show_counts=True)"
   ]
  },
  {
   "cell_type": "code",
   "execution_count": 8,
   "id": "ce855398-96c8-4761-af17-c86160106672",
   "metadata": {},
   "outputs": [],
   "source": [
    "df = df[df.msg == \"success\"]\n",
    "df.drop([\"index\", \"Unnamed: 0\", \"pages\", \"msg\", \"next_param\"], axis=1, inplace=True)"
   ]
  },
  {
   "cell_type": "code",
   "execution_count": 9,
   "id": "98c87854-d78a-4e1f-b967-3f5869718aac",
   "metadata": {},
   "outputs": [],
   "source": [
    "df.event_timestamp = pd.to_datetime(df.event_timestamp)\n",
    "df.listing_time = pd.to_datetime(df.listing_time)\n",
    "df.quantity = pd.to_numeric(df.quantity, errors='coerce')"
   ]
  },
  {
   "cell_type": "code",
   "execution_count": 10,
   "id": "628c9325-e5d9-4829-befb-b3f5dda9a0b9",
   "metadata": {},
   "outputs": [
    {
     "name": "stdout",
     "output_type": "stream",
     "text": [
      "<class 'pandas.core.frame.DataFrame'>\n",
      "Int64Index: 5029616 entries, 0 to 164693\n",
      "Data columns (total 35 columns):\n",
      " #   Column                            Non-Null Count    Dtype         \n",
      "---  ------                            --------------    -----         \n",
      " 0   event_timestamp                   5029616 non-null  datetime64[ns]\n",
      " 1   event_type                        5029616 non-null  object        \n",
      " 2   token_id                          4989545 non-null  object        \n",
      " 3   num_sales                         4989545 non-null  float64       \n",
      " 4   listing_time                      4667175 non-null  datetime64[ns]\n",
      " 5   token_owner_address               4989545 non-null  object        \n",
      " 6   token_seller_address              5016702 non-null  object        \n",
      " 7   from_account_address              2519 non-null     object        \n",
      " 8   deal_price                        5029609 non-null  float64       \n",
      " 9   payment_token_symbol              5028062 non-null  object        \n",
      " 10  payment_token_decimals            5028125 non-null  float64       \n",
      " 11  payment_token_usdprice            5026160 non-null  float64       \n",
      " 12  quantity                          4999959 non-null  float64       \n",
      " 13  starting_price                    0 non-null        float64       \n",
      " 14  ending_price                      0 non-null        float64       \n",
      " 15  approved_account                  0 non-null        float64       \n",
      " 16  asset_bundle                      40121 non-null    object        \n",
      " 17  auction_type                      150117 non-null   object        \n",
      " 18  bid_amount                        0 non-null        float64       \n",
      " 19  transaction_hash                  5029616 non-null  object        \n",
      " 20  block_hash                        5029354 non-null  object        \n",
      " 21  block_number                      5029334 non-null  float64       \n",
      " 22  is_private                        4667175 non-null  float64       \n",
      " 23  duration                          0 non-null        float64       \n",
      " 24  created_date                      5029616 non-null  object        \n",
      " 25  custom_event_name                 21 non-null       object        \n",
      " 26  dev_fee_payment_event             4236004 non-null  object        \n",
      " 27  dev_seller_fee_basis_points       4404747 non-null  float64       \n",
      " 28  transaction_from_account_address  4559673 non-null  object        \n",
      " 29  transaction_to_account_address    4559673 non-null  object        \n",
      " 30  winner_account_address            4559678 non-null  object        \n",
      " 31  collection_slug                   5028482 non-null  object        \n",
      " 32  contract_address                  5029000 non-null  object        \n",
      " 33  wallet_address_input              5029616 non-null  object        \n",
      " 34  filename                          5029616 non-null  object        \n",
      "dtypes: datetime64[ns](2), float64(13), object(20)\n",
      "memory usage: 1.3+ GB\n"
     ]
    }
   ],
   "source": [
    "df.info(show_counts=True)"
   ]
  },
  {
   "cell_type": "markdown",
   "id": "02fefb7c-f2ea-42d9-8b01-3e720c941f5f",
   "metadata": {},
   "source": [
    "# Split and write to feather"
   ]
  },
  {
   "cell_type": "code",
   "execution_count": 11,
   "id": "324ba8af-2b2b-402a-b823-8f9153dcc83f",
   "metadata": {},
   "outputs": [
    {
     "name": "stdout",
     "output_type": "stream",
     "text": [
      "NFT20_success12錢包補跑10.xlsx\n",
      "NFT20_success12錢包補跑11.xlsx\n",
      "NFT20_success12錢包補跑12.xlsx\n",
      "NFT20_success12錢包補跑13.xlsx\n",
      "NFT20_success12錢包補跑14.xlsx\n",
      "NFT20_success12錢包補跑15.xlsx\n",
      "NFT20_success12錢包補跑16.xlsx\n",
      "NFT20_success12錢包補跑3.xlsx\n",
      "NFT20_success12錢包補跑4.xlsx\n",
      "NFT20_success12錢包補跑5.xlsx\n",
      "NFT20_success12錢包補跑6.xlsx\n",
      "NFT20_success12錢包補跑7.xlsx\n",
      "NFT20_success12錢包補跑8.xlsx\n",
      "NFT20_success12錢包補跑9.xlsx\n"
     ]
    }
   ],
   "source": [
    "grp = df.groupby(\"filename\")\n",
    "\n",
    "for name, group in grp:\n",
    "    print(name)\n",
    "    g=group.reset_index().drop(\"filename\", axis=1)\n",
    "    g.to_feather(os.path.join(data_dir, 'feather', os.path.basename(name)[:-4] + 'feather'), compression='zstd')"
   ]
  },
  {
   "cell_type": "markdown",
   "id": "3beb58f1-3b4a-4e4d-88fe-97cc473934d3",
   "metadata": {},
   "source": [
    "# Checking out the data"
   ]
  },
  {
   "cell_type": "code",
   "execution_count": 12,
   "id": "8d687d2a",
   "metadata": {},
   "outputs": [
    {
     "data": {
      "text/html": [
       "<div>\n",
       "<style scoped>\n",
       "    .dataframe tbody tr th:only-of-type {\n",
       "        vertical-align: middle;\n",
       "    }\n",
       "\n",
       "    .dataframe tbody tr th {\n",
       "        vertical-align: top;\n",
       "    }\n",
       "\n",
       "    .dataframe thead th {\n",
       "        text-align: right;\n",
       "    }\n",
       "</style>\n",
       "<table border=\"1\" class=\"dataframe\">\n",
       "  <thead>\n",
       "    <tr style=\"text-align: right;\">\n",
       "      <th></th>\n",
       "      <th>collection_slug</th>\n",
       "      <th>size</th>\n",
       "    </tr>\n",
       "  </thead>\n",
       "  <tbody>\n",
       "    <tr>\n",
       "      <th>7978</th>\n",
       "      <td>cryptokitties</td>\n",
       "      <td>54789</td>\n",
       "    </tr>\n",
       "    <tr>\n",
       "      <th>18018</th>\n",
       "      <td>lazy-lions</td>\n",
       "      <td>41189</td>\n",
       "    </tr>\n",
       "    <tr>\n",
       "      <th>26328</th>\n",
       "      <td>rarible</td>\n",
       "      <td>32799</td>\n",
       "    </tr>\n",
       "    <tr>\n",
       "      <th>23917</th>\n",
       "      <td>parallelalpha</td>\n",
       "      <td>29807</td>\n",
       "    </tr>\n",
       "    <tr>\n",
       "      <th>34954</th>\n",
       "      <td>world-of-women-nft</td>\n",
       "      <td>28703</td>\n",
       "    </tr>\n",
       "    <tr>\n",
       "      <th>24278</th>\n",
       "      <td>phantabear</td>\n",
       "      <td>27144</td>\n",
       "    </tr>\n",
       "    <tr>\n",
       "      <th>2965</th>\n",
       "      <td>axie</td>\n",
       "      <td>26667</td>\n",
       "    </tr>\n",
       "    <tr>\n",
       "      <th>4728</th>\n",
       "      <td>boredapeyachtclub</td>\n",
       "      <td>24912</td>\n",
       "    </tr>\n",
       "    <tr>\n",
       "      <th>4598</th>\n",
       "      <td>bored-ape-kennel-club</td>\n",
       "      <td>23312</td>\n",
       "    </tr>\n",
       "    <tr>\n",
       "      <th>6656</th>\n",
       "      <td>cool-cats-nft</td>\n",
       "      <td>23249</td>\n",
       "    </tr>\n",
       "    <tr>\n",
       "      <th>25669</th>\n",
       "      <td>pudgypenguins</td>\n",
       "      <td>21169</td>\n",
       "    </tr>\n",
       "    <tr>\n",
       "      <th>32162</th>\n",
       "      <td>thewickedcraniums</td>\n",
       "      <td>16252</td>\n",
       "    </tr>\n",
       "    <tr>\n",
       "      <th>2136</th>\n",
       "      <td>ape-gang-old</td>\n",
       "      <td>15834</td>\n",
       "    </tr>\n",
       "    <tr>\n",
       "      <th>12029</th>\n",
       "      <td>fameladysquad</td>\n",
       "      <td>14652</td>\n",
       "    </tr>\n",
       "    <tr>\n",
       "      <th>21356</th>\n",
       "      <td>mutant-ape-yacht-club</td>\n",
       "      <td>14553</td>\n",
       "    </tr>\n",
       "    <tr>\n",
       "      <th>26880</th>\n",
       "      <td>robotos-official</td>\n",
       "      <td>14521</td>\n",
       "    </tr>\n",
       "    <tr>\n",
       "      <th>1105</th>\n",
       "      <td>adam-bomb-squad</td>\n",
       "      <td>14198</td>\n",
       "    </tr>\n",
       "    <tr>\n",
       "      <th>9216</th>\n",
       "      <td>deadfellaz</td>\n",
       "      <td>13725</td>\n",
       "    </tr>\n",
       "    <tr>\n",
       "      <th>7540</th>\n",
       "      <td>cryptoadz-by-gremplin</td>\n",
       "      <td>13307</td>\n",
       "    </tr>\n",
       "    <tr>\n",
       "      <th>7011</th>\n",
       "      <td>creatureworld</td>\n",
       "      <td>13119</td>\n",
       "    </tr>\n",
       "  </tbody>\n",
       "</table>\n",
       "</div>"
      ],
      "text/plain": [
       "             collection_slug   size\n",
       "7978           cryptokitties  54789\n",
       "18018             lazy-lions  41189\n",
       "26328                rarible  32799\n",
       "23917          parallelalpha  29807\n",
       "34954     world-of-women-nft  28703\n",
       "24278             phantabear  27144\n",
       "2965                    axie  26667\n",
       "4728       boredapeyachtclub  24912\n",
       "4598   bored-ape-kennel-club  23312\n",
       "6656           cool-cats-nft  23249\n",
       "25669          pudgypenguins  21169\n",
       "32162      thewickedcraniums  16252\n",
       "2136            ape-gang-old  15834\n",
       "12029          fameladysquad  14652\n",
       "21356  mutant-ape-yacht-club  14553\n",
       "26880       robotos-official  14521\n",
       "1105         adam-bomb-squad  14198\n",
       "9216              deadfellaz  13725\n",
       "7540   cryptoadz-by-gremplin  13307\n",
       "7011           creatureworld  13119"
      ]
     },
     "execution_count": 12,
     "metadata": {},
     "output_type": "execute_result"
    }
   ],
   "source": [
    "df.groupby(by=\"collection_slug\", as_index=False).size().sort_values(by=\"size\", ascending=False).head(20)"
   ]
  },
  {
   "cell_type": "code",
   "execution_count": 13,
   "id": "456f5134",
   "metadata": {},
   "outputs": [
    {
     "data": {
      "text/plain": [
       "Index(['cryptokitties', 'lazy-lions', 'rarible', 'parallelalpha',\n",
       "       'world-of-women-nft', 'phantabear', 'axie', 'boredapeyachtclub',\n",
       "       'bored-ape-kennel-club', 'cool-cats-nft', 'pudgypenguins',\n",
       "       'thewickedcraniums', 'ape-gang-old', 'fameladysquad',\n",
       "       'mutant-ape-yacht-club', 'robotos-official', 'adam-bomb-squad',\n",
       "       'deadfellaz', 'cryptoadz-by-gremplin', 'creatureworld'],\n",
       "      dtype='object', name='collection_slug')"
      ]
     },
     "execution_count": 13,
     "metadata": {},
     "output_type": "execute_result"
    }
   ],
   "source": [
    "top20_nft = df.groupby(by=\"collection_slug\").size().sort_values(ascending=False).iloc[:20].index\n",
    "top20_nft"
   ]
  },
  {
   "cell_type": "raw",
   "id": "a8ce2086",
   "metadata": {},
   "source": [
    "# compared to the cool-cats-nft.feather dataset\n",
    "\n",
    "Index(['cool-cats-nft', 'parallelalpha', 'pudgypenguins', 'deadfellaz',\n",
    "       'robotos-official', 'boredapeyachtclub', 'rarible',\n",
    "       'mutant-ape-yacht-club', 'thewickedcraniums', 'cryptoadz-by-gremplin',\n",
    "       'ape-gang-old', 'creatureworld', 'coolpetsnft', 'bored-ape-kennel-club',\n",
    "       'supducks', 'doodles-official', 'animetas', 'adam-bomb-squad',\n",
    "       'world-of-women-nft', 'cyberkongz-vx'],\n",
    "      dtype='object', name='collection_slug')"
   ]
  }
 ],
 "metadata": {
  "interpreter": {
   "hash": "a2e2c9c8ba70ba32ce998cd76425027ed4ac02585ab022e2d9b85d1664cda574"
  },
  "kernelspec": {
   "display_name": "Python 3 (ipykernel)",
   "language": "python",
   "name": "python3"
  },
  "language_info": {
   "codemirror_mode": {
    "name": "ipython",
    "version": 3
   },
   "file_extension": ".py",
   "mimetype": "text/x-python",
   "name": "python",
   "nbconvert_exporter": "python",
   "pygments_lexer": "ipython3",
   "version": "3.9.12"
  },
  "toc-autonumbering": false,
  "toc-showcode": false,
  "toc-showmarkdowntxt": false,
  "toc-showtags": false
 },
 "nbformat": 4,
 "nbformat_minor": 5
}
