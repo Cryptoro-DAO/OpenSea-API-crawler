{
 "cells": [
  {
   "cell_type": "markdown",
   "id": "4ad62163-2061-4067-af7e-f043a40a25ee",
   "metadata": {},
   "source": [
    "# Read and combine feather files into a dataframe"
   ]
  },
  {
   "cell_type": "markdown",
   "id": "34704823-789d-48d8-a08a-7ce0f104423a",
   "metadata": {
    "tags": []
   },
   "source": [
    "__Motivation:__ "
   ]
  },
  {
   "cell_type": "markdown",
   "id": "7c714f21-e7fb-4bd7-9321-9a63cd64c60e",
   "metadata": {},
   "source": [
    "## Read feather files into pandas.DataFrame "
   ]
  },
  {
   "cell_type": "code",
   "execution_count": 1,
   "id": "7c90efe8-50f2-494d-8381-16e19cfd4470",
   "metadata": {},
   "outputs": [],
   "source": [
    "# Helper functions\n",
    "\n",
    "import os\n",
    "import re\n",
    "import pandas as pd\n",
    "\n",
    "\n",
    "def get_abspath(path, pattern):\n",
    "    \"\"\"\n",
    "    Search directory non-recursively for filename by name patterns\n",
    "    \n",
    "    Parameters\n",
    "    ----------\n",
    "    path : \n",
    "    pattern : \n",
    "\n",
    "    Returns\n",
    "    -------\n",
    "    a list of absolute path, use os.path.basename to get the filename\n",
    "    \"\"\"\n",
    "    return [os.path.join(path, x) for x in os.listdir(path) if re.search(pattern, x)]\n",
    "\n",
    "\n",
    "def print_filesize(abspath):\n",
    "    df=pd.DataFrame({'filename': [os.path.basename(x) for x in abspath],\n",
    "                     'size': [os.stat(x).st_size for x in abspath]}) \\\n",
    "        .set_index('filename')\n",
    "    print(df)\n",
    "    return df\n",
    "\n",
    "data_dir = os.path.join(os.getcwd(), 'data', 'wallets successful event')"
   ]
  },
  {
   "cell_type": "code",
   "execution_count": 2,
   "id": "a3871e79",
   "metadata": {},
   "outputs": [
    {
     "name": "stdout",
     "output_type": "stream",
     "text": [
      "                                                         size\n",
      "filename                                                     \n",
      "alien-frens-evolution_success1.feather               46287690\n",
      "boredapekennelclub_success1.feather                 102316282\n",
      "boredapeyachtclub_success1.feather                   43145602\n",
      "clonex_success1.feather                              31176802\n",
      "coolcatsnft_A1.feather                              162405530\n",
      "coolcatsnft_A2.feather                              161271826\n",
      "coolcatsnft_A3.feather                               65333498\n",
      "coolcatsnft_AA1.feather                              81152522\n",
      "coolcatsnft_AA11.feather                             81240850\n",
      "coolcatsnft_AA2.feather                              80436530\n",
      "coolcatsnft_AA22.feather                             80853482\n",
      "coolcatsnft_補跑B.feather                                506650\n",
      "coolcatsnft_補跑E.feather                               1263210\n",
      "cryptoadz-by-gremplin_success1.feather               64466754\n",
      "cryptoskulls_success1.feather                        42334994\n",
      "cyberkongz-vx_success1.feather                       20655922\n",
      "doodlesofficial_success1.feather                    125894730\n",
      "hapeprime_success1.feather                           61072090\n",
      "kaiju-kingz_success1.feather                         53237586\n",
      "karafuru_success1.feather                            34163354\n",
      "lazy-lions_success1.feather                          62001762\n",
      "mekaverse_success1.feather                           49724250\n",
      "mfers_success1.feather                               74029434\n",
      "mutant-ape-yacht-club_success1.feather              101037154\n",
      "phantabear_success1.feather                          77904050\n",
      "proof-moonbirds_success1.feather                     55596786\n",
      "rektguy_rarelandnft_pieceofshit_ivedoneit_succe...   50513818\n",
      "world-of-women-nft_success1.feather                  54929618\n"
     ]
    }
   ],
   "source": [
    "wallets_fn = get_abspath(data_dir, '\\.feather$')\n",
    "fsize = print_filesize(wallets_fn)"
   ]
  },
  {
   "cell_type": "code",
   "execution_count": null,
   "id": "66446038-f64e-46af-b500-74641abaa85f",
   "metadata": {},
   "outputs": [],
   "source": []
  },
  {
   "cell_type": "markdown",
   "id": "2347290d",
   "metadata": {
    "jp-MarkdownHeadingCollapsed": true,
    "tags": []
   },
   "source": [
    "## Write `DataFrame` to parquet format and read it (WIP)"
   ]
  },
  {
   "cell_type": "markdown",
   "id": "7609ce79",
   "metadata": {},
   "source": []
  }
 ],
 "metadata": {
  "interpreter": {
   "hash": "a2e2c9c8ba70ba32ce998cd76425027ed4ac02585ab022e2d9b85d1664cda574"
  },
  "kernelspec": {
   "display_name": "Python 3 (ipykernel)",
   "language": "python",
   "name": "python3"
  },
  "language_info": {
   "codemirror_mode": {
    "name": "ipython",
    "version": 3
   },
   "file_extension": ".py",
   "mimetype": "text/x-python",
   "name": "python",
   "nbconvert_exporter": "python",
   "pygments_lexer": "ipython3",
   "version": "3.9.12"
  },
  "toc-autonumbering": false,
  "toc-showcode": false,
  "toc-showmarkdowntxt": false,
  "toc-showtags": false
 },
 "nbformat": 4,
 "nbformat_minor": 5
}
