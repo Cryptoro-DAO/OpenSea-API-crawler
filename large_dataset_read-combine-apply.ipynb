{
 "cells": [
  {
   "cell_type": "markdown",
   "id": "4ad62163-2061-4067-af7e-f043a40a25ee",
   "metadata": {},
   "source": [
    "# Read and combine feather files into a dataframe"
   ]
  },
  {
   "cell_type": "markdown",
   "id": "34704823-789d-48d8-a08a-7ce0f104423a",
   "metadata": {
    "tags": []
   },
   "source": [
    "__Motivation:__ "
   ]
  },
  {
   "cell_type": "markdown",
   "id": "7c714f21-e7fb-4bd7-9321-9a63cd64c60e",
   "metadata": {},
   "source": [
    "## Read feather files into pandas.DataFrame "
   ]
  },
  {
   "cell_type": "code",
   "execution_count": 1,
   "id": "7c90efe8-50f2-494d-8381-16e19cfd4470",
   "metadata": {},
   "outputs": [],
   "source": [
    "# Helper functions\n",
    "\n",
    "import os\n",
    "import re\n",
    "import pandas as pd\n",
    "\n",
    "\n",
    "def get_abspath(path, pattern):\n",
    "    \"\"\"\n",
    "    Search directory non-recursively for filename by name patterns\n",
    "    \n",
    "    Parameters\n",
    "    ----------\n",
    "    path : \n",
    "    pattern : \n",
    "\n",
    "    Returns\n",
    "    -------\n",
    "    a list of absolute path, use os.path.basename to get the filename\n",
    "    \"\"\"\n",
    "    return [os.path.join(path, x) for x in os.listdir(path) if re.search(pattern, x)]\n",
    "\n",
    "\n",
    "def print_filesize(abspath):\n",
    "    df=pd.DataFrame({'filename': [os.path.basename(x) for x in abspath],\n",
    "                     'size': [os.stat(x).st_size for x in abspath]}) \\\n",
    "        .set_index('filename')\n",
    "    print(df)\n",
    "    return df\n",
    "\n",
    "data_dir = os.path.join(os.getcwd(), 'data', 'wallets successful event')"
   ]
  },
  {
   "cell_type": "code",
   "execution_count": 2,
   "id": "a3871e79",
   "metadata": {},
   "outputs": [
    {
     "name": "stdout",
     "output_type": "stream",
     "text": [
      "                                                         size\n",
      "filename                                                     \n",
      "alien-frens-evolution_success1.feather               46287690\n",
      "boredapekennelclub_success1.feather                 102316282\n",
      "boredapeyachtclub_success1.feather                   43145602\n",
      "clonex_success1.feather                              31176802\n",
      "coolcatsnft_A1.feather                              162405530\n",
      "coolcatsnft_A2.feather                              161271826\n",
      "coolcatsnft_A3.feather                               65333498\n",
      "coolcatsnft_AA1.feather                              81152522\n",
      "coolcatsnft_AA11.feather                             81240850\n",
      "coolcatsnft_AA2.feather                              80436530\n",
      "coolcatsnft_AA22.feather                             80853482\n",
      "coolcatsnft_補跑B.feather                                506650\n",
      "coolcatsnft_補跑E.feather                               1263210\n",
      "cryptoadz-by-gremplin_success1.feather               64466754\n",
      "cryptoskulls_success1.feather                        42334994\n",
      "cyberkongz-vx_success1.feather                       20655922\n",
      "doodlesofficial_success1.feather                    125894730\n",
      "hapeprime_success1.feather                           61072090\n",
      "kaiju-kingz_success1.feather                         53237586\n",
      "karafuru_success1.feather                            34163354\n",
      "lazy-lions_success1.feather                          62001762\n",
      "mekaverse_success1.feather                           49724250\n",
      "mfers_success1.feather                               74029434\n",
      "mutant-ape-yacht-club_success1.feather              101037154\n",
      "phantabear_success1.feather                          77904050\n",
      "proof-moonbirds_success1.feather                     55596786\n",
      "rektguy_rarelandnft_pieceofshit_ivedoneit_succe...   50513818\n",
      "world-of-women-nft_success1.feather                  54929618\n"
     ]
    }
   ],
   "source": [
    "wallets_fn = get_abspath(os.path.join(data_dir, 'feather'), '\\.feather$')\n",
    "fsize = print_filesize(wallets_fn)"
   ]
  },
  {
   "cell_type": "code",
   "execution_count": 7,
   "id": "66446038-f64e-46af-b500-74641abaa85f",
   "metadata": {},
   "outputs": [],
   "source": [
    "lst = (pd.read_feather(each).assign(filename=os.path.basename(each)) for each in wallets_fn)\n",
    "df = pd.concat(lst).drop(\"index\", axis=1)"
   ]
  },
  {
   "cell_type": "code",
   "execution_count": 8,
   "id": "44bb62ed-51e2-4ebc-bcdb-71a3f08d72be",
   "metadata": {},
   "outputs": [
    {
     "name": "stdout",
     "output_type": "stream",
     "text": [
      "<class 'pandas.core.frame.DataFrame'>\n",
      "Int64Index: 11312039 entries, 0 to 332720\n",
      "Data columns (total 29 columns):\n",
      " #   Column                  Dtype         \n",
      "---  ------                  -----         \n",
      " 0   event_timestamp         datetime64[ns]\n",
      " 1   event_type              object        \n",
      " 2   token_id                object        \n",
      " 3   num_sales               float64       \n",
      " 4   listing_time            datetime64[ns]\n",
      " 5   token_owner_address     object        \n",
      " 6   token_seller_address    object        \n",
      " 7   from_account_address    object        \n",
      " 8   deal_price              float64       \n",
      " 9   payment_token_symbol    object        \n",
      " 10  payment_token_decimals  float64       \n",
      " 11  payment_token_usdprice  float64       \n",
      " 12  quantity                float64       \n",
      " 13  starting_price          float64       \n",
      " 14  ending_price            float64       \n",
      " 15  approved_account        float64       \n",
      " 16  asset_bundle            object        \n",
      " 17  auction_type            object        \n",
      " 18  bid_amount              float64       \n",
      " 19  transaction_hash        object        \n",
      " 20  block_hash              object        \n",
      " 21  block_number            float64       \n",
      " 22  is_private              float64       \n",
      " 23  duration                float64       \n",
      " 24  created_date            object        \n",
      " 25  collection_slug         object        \n",
      " 26  contract_address        object        \n",
      " 27  wallet_address_input    object        \n",
      " 28  filename                object        \n",
      "dtypes: datetime64[ns](2), float64(12), object(15)\n",
      "memory usage: 2.5+ GB\n"
     ]
    }
   ],
   "source": [
    "df.info()"
   ]
  },
  {
   "cell_type": "code",
   "execution_count": 18,
   "id": "422dd2e8-771c-4f86-88ea-41ae86139478",
   "metadata": {},
   "outputs": [
    {
     "data": {
      "text/plain": [
       "['boredapeyachtclub',\n",
       " 'mutant-ape-yacht-club',\n",
       " 'azuki',\n",
       " 'clonex',\n",
       " 'proof-moonbirds',\n",
       " 'doodles-official',\n",
       " 'meebits',\n",
       " 'cool-cats-nft',\n",
       " 'bored-ape-kennel-club',\n",
       " 'cryptoadz-by-gremplin',\n",
       " 'world-of-women-nft',\n",
       " 'hapeprime',\n",
       " 'mekaverse',\n",
       " 'karafuru',\n",
       " 'invisiblefriends',\n",
       " 'mfers',\n",
       " 'phantabear',\n",
       " 'cyberkongz-vx',\n",
       " 'coolpetsnft',\n",
       " 'lazy-lions',\n",
       " 'kaiju-kingz']"
      ]
     },
     "execution_count": 18,
     "metadata": {},
     "output_type": "execute_result"
    }
   ],
   "source": [
    "nft20 = pd.read_csv(os.path.join(os.getcwd(), 'NFT_20_list.csv'))\n",
    "nft20_collection_slug = [os.path.basename(url) for url in nft20.collection_url]\n",
    "nft20_collection_slug"
   ]
  },
  {
   "cell_type": "code",
   "execution_count": 19,
   "id": "a14c9545-fa29-434a-963f-5fac2ed9c6a5",
   "metadata": {},
   "outputs": [
    {
     "data": {
      "text/plain": [
       "21"
      ]
     },
     "execution_count": 19,
     "metadata": {},
     "output_type": "execute_result"
    }
   ],
   "source": [
    "len(nft20_collection_slug)"
   ]
  },
  {
   "cell_type": "markdown",
   "id": "4eda8bfc-c276-4b0f-8f0f-f949067c09b9",
   "metadata": {},
   "source": [
    "\\* _N.b._ The NFT_20 list contains 21 manually selected collections."
   ]
  },
  {
   "cell_type": "code",
   "execution_count": 24,
   "id": "1b6bf3b0-e26f-444c-95bc-d3093b1e8af8",
   "metadata": {},
   "outputs": [
    {
     "data": {
      "text/plain": [
       "collection_slug\n",
       "cryptokitties            87113\n",
       "cool-cats-nft            75452\n",
       "parallelalpha            72462\n",
       "rarible                  65798\n",
       "boredapeyachtclub        50417\n",
       "mutant-ape-yacht-club    50392\n",
       "lazy-lions               45897\n",
       "pudgypenguins            44149\n",
       "world-of-women-nft       41750\n",
       "cryptoadz-by-gremplin    38680\n",
       "deadfellaz               35854\n",
       "creatureworld            35487\n",
       "robotos-official         35063\n",
       "adam-bomb-squad          34632\n",
       "bored-ape-kennel-club    34503\n",
       "phantabear               32451\n",
       "thewickedcraniums        32349\n",
       "ape-gang-old             31988\n",
       "axie                     31580\n",
       "cyberkongz-vx            30596\n",
       "doodles-official         29697\n",
       "dtype: int64"
      ]
     },
     "execution_count": 24,
     "metadata": {},
     "output_type": "execute_result"
    }
   ],
   "source": [
    "df.groupby(\"collection_slug\").size().sort_values(ascending=False).head(21)"
   ]
  },
  {
   "cell_type": "code",
   "execution_count": 15,
   "id": "3b05393e-b2d9-47f2-8443-5dccacf9eaf3",
   "metadata": {},
   "outputs": [
    {
     "name": "stdout",
     "output_type": "stream",
     "text": [
      "<class 'pandas.core.frame.DataFrame'>\n",
      "Int64Index: 608899 entries, 214 to 332710\n",
      "Data columns (total 29 columns):\n",
      " #   Column                  Non-Null Count   Dtype         \n",
      "---  ------                  --------------   -----         \n",
      " 0   event_timestamp         608899 non-null  datetime64[ns]\n",
      " 1   event_type              608899 non-null  object        \n",
      " 2   token_id                608309 non-null  object        \n",
      " 3   num_sales               608309 non-null  float64       \n",
      " 4   listing_time            562462 non-null  datetime64[ns]\n",
      " 5   token_owner_address     608309 non-null  object        \n",
      " 6   token_seller_address    608899 non-null  object        \n",
      " 7   from_account_address    150 non-null     object        \n",
      " 8   deal_price              608899 non-null  float64       \n",
      " 9   payment_token_symbol    608777 non-null  object        \n",
      " 10  payment_token_decimals  608798 non-null  float64       \n",
      " 11  payment_token_usdprice  608777 non-null  float64       \n",
      " 12  quantity                608899 non-null  float64       \n",
      " 13  starting_price          0 non-null       float64       \n",
      " 14  ending_price            0 non-null       float64       \n",
      " 15  approved_account        0 non-null       float64       \n",
      " 16  asset_bundle            590 non-null     object        \n",
      " 17  auction_type            125 non-null     object        \n",
      " 18  bid_amount              0 non-null       float64       \n",
      " 19  transaction_hash        608899 non-null  object        \n",
      " 20  block_hash              608874 non-null  object        \n",
      " 21  block_number            608874 non-null  float64       \n",
      " 22  is_private              562462 non-null  float64       \n",
      " 23  duration                0 non-null       float64       \n",
      " 24  created_date            608899 non-null  object        \n",
      " 25  collection_slug         608899 non-null  object        \n",
      " 26  contract_address        608899 non-null  object        \n",
      " 27  wallet_address_input    608899 non-null  object        \n",
      " 28  filename                608899 non-null  object        \n",
      "dtypes: datetime64[ns](2), float64(12), object(15)\n",
      "memory usage: 139.4+ MB\n"
     ]
    }
   ],
   "source": [
    "nft20_wallets = df[df.collection_slug.isin(nft20_collection_slug)]\n",
    "nft20_wallets.info(show_counts=True)"
   ]
  },
  {
   "cell_type": "code",
   "execution_count": 26,
   "id": "62e7d968-b3f9-48fc-bb35-e51aa6cc8636",
   "metadata": {},
   "outputs": [
    {
     "data": {
      "text/plain": [
       "collection_slug\n",
       "cool-cats-nft            75452\n",
       "boredapeyachtclub        50417\n",
       "mutant-ape-yacht-club    50392\n",
       "lazy-lions               45897\n",
       "world-of-women-nft       41750\n",
       "cryptoadz-by-gremplin    38680\n",
       "bored-ape-kennel-club    34503\n",
       "phantabear               32451\n",
       "cyberkongz-vx            30596\n",
       "doodles-official         29697\n",
       "meebits                  23286\n",
       "mekaverse                22296\n",
       "clonex                   20165\n",
       "mfers                    19977\n",
       "coolpetsnft              18974\n",
       "azuki                    18741\n",
       "hapeprime                16552\n",
       "kaiju-kingz              14103\n",
       "karafuru                 12433\n",
       "proof-moonbirds           9042\n",
       "invisiblefriends          3495\n",
       "dtype: int64"
      ]
     },
     "execution_count": 26,
     "metadata": {},
     "output_type": "execute_result"
    }
   ],
   "source": [
    "nft20_wallets.groupby(\"collection_slug\").size().sort_values(ascending=False).head(21)"
   ]
  },
  {
   "cell_type": "code",
   "execution_count": 16,
   "id": "c0b5286e-cf7a-42a7-ba1a-edfc5339cc6f",
   "metadata": {},
   "outputs": [
    {
     "data": {
      "text/plain": [
       "84641"
      ]
     },
     "execution_count": 16,
     "metadata": {},
     "output_type": "execute_result"
    }
   ],
   "source": [
    "nft20_wallets.wallet_address_input.nunique()"
   ]
  },
  {
   "cell_type": "code",
   "execution_count": 25,
   "id": "335881bf-22b6-443c-b8fe-19a4ad6b977b",
   "metadata": {},
   "outputs": [
    {
     "data": {
      "text/plain": [
       "collection_slug\n",
       "mutant-ape-yacht-club    15838\n",
       "lazy-lions               10237\n",
       "cool-cats-nft             9346\n",
       "boredapeyachtclub         9170\n",
       "world-of-women-nft        8790\n",
       "phantabear                8767\n",
       "mekaverse                 8461\n",
       "cryptoadz-by-gremplin     7855\n",
       "hapeprime                 7759\n",
       "bored-ape-kennel-club     7751\n",
       "doodles-official          7662\n",
       "cyberkongz-vx             5428\n",
       "clonex                    5424\n",
       "kaiju-kingz               5157\n",
       "coolpetsnft               4873\n",
       "karafuru                  4644\n",
       "mfers                     4636\n",
       "meebits                   4378\n",
       "proof-moonbirds           4171\n",
       "azuki                     3577\n",
       "invisiblefriends          1514\n",
       "Name: wallet_address_input, dtype: int64"
      ]
     },
     "execution_count": 25,
     "metadata": {},
     "output_type": "execute_result"
    }
   ],
   "source": [
    "nft20_wallets.groupby(\"collection_slug\")[\"wallet_address_input\"].nunique().sort_values(ascending=False)"
   ]
  },
  {
   "cell_type": "markdown",
   "id": "2347290d",
   "metadata": {
    "tags": []
   },
   "source": [
    "## Write `DataFrame` to parquet format and read it (WIP)"
   ]
  },
  {
   "cell_type": "markdown",
   "id": "7609ce79",
   "metadata": {},
   "source": []
  }
 ],
 "metadata": {
  "interpreter": {
   "hash": "a2e2c9c8ba70ba32ce998cd76425027ed4ac02585ab022e2d9b85d1664cda574"
  },
  "kernelspec": {
   "display_name": "Python 3 (ipykernel)",
   "language": "python",
   "name": "python3"
  },
  "language_info": {
   "codemirror_mode": {
    "name": "ipython",
    "version": 3
   },
   "file_extension": ".py",
   "mimetype": "text/x-python",
   "name": "python",
   "nbconvert_exporter": "python",
   "pygments_lexer": "ipython3",
   "version": "3.9.12"
  },
  "toc-autonumbering": false,
  "toc-showcode": false,
  "toc-showmarkdowntxt": false,
  "toc-showtags": false
 },
 "nbformat": 4,
 "nbformat_minor": 5
}
