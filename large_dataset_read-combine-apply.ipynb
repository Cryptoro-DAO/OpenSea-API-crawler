{
 "cells": [
  {
   "cell_type": "markdown",
   "id": "4ad62163-2061-4067-af7e-f043a40a25ee",
   "metadata": {},
   "source": [
    "# Read and combine feather files into a dataframe"
   ]
  },
  {
   "cell_type": "markdown",
   "id": "34704823-789d-48d8-a08a-7ce0f104423a",
   "metadata": {
    "tags": []
   },
   "source": [
    "__Motivation:__ "
   ]
  },
  {
   "cell_type": "markdown",
   "id": "7c714f21-e7fb-4bd7-9321-9a63cd64c60e",
   "metadata": {},
   "source": [
    "## Helper functions"
   ]
  },
  {
   "cell_type": "code",
   "execution_count": 1,
   "id": "7c90efe8-50f2-494d-8381-16e19cfd4470",
   "metadata": {},
   "outputs": [],
   "source": [
    "import os\n",
    "import re\n",
    "import pandas as pd\n",
    "\n",
    "\n",
    "def get_abspath(path, pattern):\n",
    "    \"\"\"\n",
    "    Search directory non-recursively for filename by name patterns\n",
    "    \n",
    "    Parameters\n",
    "    ----------\n",
    "    path : \n",
    "    pattern : \n",
    "\n",
    "    Returns\n",
    "    -------\n",
    "    a list of absolute path, use os.path.basename to get the filename\n",
    "    \"\"\"\n",
    "    return [os.path.join(path, x) for x in os.listdir(path) if re.search(pattern, x)]\n",
    "\n",
    "\n",
    "def print_filesize(abspath):\n",
    "    df=pd.DataFrame({'filename': [os.path.basename(x) for x in abspath],\n",
    "                     'size': [os.stat(x).st_size for x in abspath]}) \\\n",
    "        .set_index('filename')\n",
    "    print(df)\n",
    "    print(\"total size:\", round(sum(df[\"size\"]) / 1024**3, 2), \"gb\")\n",
    "    return df\n",
    "\n",
    "data_dir = os.path.join(os.getcwd(), 'data', 'wallets successful event')"
   ]
  },
  {
   "cell_type": "code",
   "execution_count": 2,
   "id": "a3871e79",
   "metadata": {},
   "outputs": [
    {
     "name": "stdout",
     "output_type": "stream",
     "text": [
      "                                                         size\n",
      "filename                                                     \n",
      "alien-frens-evolution_success1.feather               46287690\n",
      "boredapekennelclub_success1.feather                 102316282\n",
      "boredapeyachtclub_success1.feather                   43145602\n",
      "clonex_success1.feather                              31176802\n",
      "coolcatsnft_A1.feather                              162405530\n",
      "coolcatsnft_A2.feather                              161271826\n",
      "coolcatsnft_A3.feather                               65333498\n",
      "coolcatsnft_AA1.feather                              81152522\n",
      "coolcatsnft_AA11.feather                             81240850\n",
      "coolcatsnft_AA2.feather                              80436530\n",
      "coolcatsnft_AA22.feather                             80853482\n",
      "coolcatsnft_補跑B.feather                                506650\n",
      "coolcatsnft_補跑E.feather                               1263210\n",
      "cryptoadz-by-gremplin_success1.feather               64466754\n",
      "cryptoskulls_success1.feather                        42334994\n",
      "cyberkongz-vx_success1.feather                       20655922\n",
      "doodlesofficial_success1.feather                    125894730\n",
      "hapeprime_success1.feather                           61072090\n",
      "kaiju-kingz_success1.feather                         53237586\n",
      "karafuru_success1.feather                            34163354\n",
      "lazy-lions_success1.feather                          62001762\n",
      "mekaverse_success1.feather                           49724250\n",
      "mfers_success1.feather                               74029434\n",
      "mutant-ape-yacht-club_success1.feather              101037154\n",
      "NFT20_success12錢包補跑10.feather                        98841826\n",
      "NFT20_success12錢包補跑11.feather                        37047362\n",
      "NFT20_success12錢包補跑12.feather                       183005874\n",
      "NFT20_success12錢包補跑13.feather                        41678906\n",
      "NFT20_success12錢包補跑14.feather                        13934570\n",
      "NFT20_success12錢包補跑15.feather                        15888090\n",
      "NFT20_success12錢包補跑16.feather                        35477058\n",
      "NFT20_success12錢包補跑17.feather                       113949610\n",
      "NFT20_success12錢包補跑18.feather                       111077962\n",
      "NFT20_success12錢包補跑19.feather                       161178226\n",
      "NFT20_success12錢包補跑20.feather                        45454434\n",
      "NFT20_success12錢包補跑3.feather                         67141434\n",
      "NFT20_success12錢包補跑4.feather                        160289322\n",
      "NFT20_success12錢包補跑5.feather                         79152090\n",
      "NFT20_success12錢包補跑6.feather                        155299970\n",
      "NFT20_success12錢包補跑7.feather                        147096602\n",
      "NFT20_success12錢包補跑8.feather                         81306034\n",
      "NFT20_success12錢包補跑9.feather                         40315906\n",
      "phantabear_success1.feather                          77904050\n",
      "proof-moonbirds_success1.feather                     55596786\n",
      "rektguy_rarelandnft_pieceofshit_ivedoneit_succe...   50513818\n",
      "world-of-women-nft_success1.feather                  54929618\n",
      "total size: 3.22 gb\n"
     ]
    }
   ],
   "source": [
    "wallets_fn = get_abspath(os.path.join(data_dir, 'feather'), '\\.feather$')\n",
    "fsize = print_filesize(wallets_fn)"
   ]
  },
  {
   "cell_type": "markdown",
   "id": "63960987",
   "metadata": {},
   "source": [
    "## Read feather files into pandas.DataFrame "
   ]
  },
  {
   "cell_type": "code",
   "execution_count": 3,
   "id": "66446038-f64e-46af-b500-74641abaa85f",
   "metadata": {},
   "outputs": [],
   "source": [
    "lst = (pd.read_feather(each).assign(filename=os.path.basename(each)) for each in wallets_fn)\n",
    "df = pd.concat(lst).drop(\"index\", axis=1)"
   ]
  },
  {
   "cell_type": "code",
   "execution_count": 4,
   "id": "44bb62ed-51e2-4ebc-bcdb-71a3f08d72be",
   "metadata": {},
   "outputs": [
    {
     "name": "stdout",
     "output_type": "stream",
     "text": [
      "<class 'pandas.core.frame.DataFrame'>\n",
      "Int64Index: 17357359 entries, 0 to 332720\n",
      "Data columns (total 35 columns):\n",
      " #   Column                            Dtype         \n",
      "---  ------                            -----         \n",
      " 0   event_timestamp                   datetime64[ns]\n",
      " 1   event_type                        object        \n",
      " 2   token_id                          object        \n",
      " 3   num_sales                         float64       \n",
      " 4   listing_time                      datetime64[ns]\n",
      " 5   token_owner_address               object        \n",
      " 6   token_seller_address              object        \n",
      " 7   from_account_address              object        \n",
      " 8   deal_price                        float64       \n",
      " 9   payment_token_symbol              object        \n",
      " 10  payment_token_decimals            float64       \n",
      " 11  payment_token_usdprice            float64       \n",
      " 12  quantity                          float64       \n",
      " 13  starting_price                    float64       \n",
      " 14  ending_price                      float64       \n",
      " 15  approved_account                  float64       \n",
      " 16  asset_bundle                      object        \n",
      " 17  auction_type                      object        \n",
      " 18  bid_amount                        float64       \n",
      " 19  transaction_hash                  object        \n",
      " 20  block_hash                        object        \n",
      " 21  block_number                      float64       \n",
      " 22  is_private                        float64       \n",
      " 23  duration                          float64       \n",
      " 24  created_date                      object        \n",
      " 25  collection_slug                   object        \n",
      " 26  contract_address                  object        \n",
      " 27  wallet_address_input              object        \n",
      " 28  filename                          object        \n",
      " 29  custom_event_name                 object        \n",
      " 30  dev_fee_payment_event             object        \n",
      " 31  dev_seller_fee_basis_points       float64       \n",
      " 32  transaction_from_account_address  object        \n",
      " 33  transaction_to_account_address    object        \n",
      " 34  winner_account_address            object        \n",
      "dtypes: datetime64[ns](2), float64(13), object(20)\n",
      "memory usage: 4.7+ GB\n"
     ]
    }
   ],
   "source": [
    "df.info()"
   ]
  },
  {
   "cell_type": "markdown",
   "id": "4eda8bfc-c276-4b0f-8f0f-f949067c09b9",
   "metadata": {},
   "source": [
    "\\* _N.b._ The NFT_20 list contains 21 manually selected collections."
   ]
  },
  {
   "cell_type": "code",
   "execution_count": 5,
   "id": "1b6bf3b0-e26f-444c-95bc-d3093b1e8af8",
   "metadata": {},
   "outputs": [
    {
     "data": {
      "text/plain": [
       "collection_slug\n",
       "cryptokitties            158632\n",
       "parallelalpha            109435\n",
       "rarible                  106216\n",
       "cool-cats-nft            102621\n",
       "lazy-lions                87793\n",
       "boredapeyachtclub         78261\n",
       "world-of-women-nft        71285\n",
       "mutant-ape-yacht-club     68643\n",
       "pudgypenguins             68488\n",
       "phantabear                63970\n",
       "axie                      60612\n",
       "bored-ape-kennel-club     59773\n",
       "cryptoadz-by-gremplin     53066\n",
       "adam-bomb-squad           51441\n",
       "deadfellaz                51336\n",
       "robotos-official          51056\n",
       "thewickedcraniums         50947\n",
       "ape-gang-old              50477\n",
       "creatureworld             50375\n",
       "meebits                   44634\n",
       "cyberkongz-vx             41851\n",
       "dtype: int64"
      ]
     },
     "execution_count": 5,
     "metadata": {},
     "output_type": "execute_result"
    }
   ],
   "source": [
    "df.groupby(\"collection_slug\").size().sort_values(ascending=False).head(21)"
   ]
  },
  {
   "cell_type": "markdown",
   "id": "63314511-1e0e-4d64-ab98-78ef1f3718b0",
   "metadata": {},
   "source": [
    "## Remove duplicates"
   ]
  },
  {
   "cell_type": "code",
   "execution_count": 6,
   "id": "dd23dcae",
   "metadata": {},
   "outputs": [
    {
     "data": {
      "text/plain": [
       "9545520"
      ]
     },
     "execution_count": 6,
     "metadata": {},
     "output_type": "execute_result"
    }
   ],
   "source": [
    "bad = df.duplicated(['event_timestamp', 'collection_slug', 'token_id', 'wallet_address_input'], keep=False)\n",
    "sum(bad)"
   ]
  },
  {
   "cell_type": "markdown",
   "id": "8c9daaed-abf7-42f0-90dc-9aada203c489",
   "metadata": {},
   "source": [
    "Sort the problem subset by `event_timestamp` and `winner_account_address` followed by dropping the duplicates while keeping only the first occurrence "
   ]
  },
  {
   "cell_type": "code",
   "execution_count": 8,
   "id": "609ea0aa-f297-4e4a-8847-e0af9119587c",
   "metadata": {},
   "outputs": [
    {
     "data": {
      "text/plain": [
       "(4305270, 35)"
      ]
     },
     "execution_count": 8,
     "metadata": {},
     "output_type": "execute_result"
    }
   ],
   "source": [
    "good = df[bad].sort_values(['event_timestamp', 'winner_account_address']) \\\n",
    "    .drop_duplicates(subset=['event_timestamp', 'collection_slug', 'token_id', 'wallet_address_input'])\n",
    "good.shape"
   ]
  },
  {
   "cell_type": "code",
   "execution_count": 9,
   "id": "40f8720b-3cf5-4944-a509-6911200c4a75",
   "metadata": {},
   "outputs": [
    {
     "name": "stdout",
     "output_type": "stream",
     "text": [
      "Percentage of duplicates removed: 54.89748070298946\n"
     ]
    }
   ],
   "source": [
    "print('Percentage of duplicates removed:', (1 - good.shape[0] / sum(bad)) * 100)"
   ]
  },
  {
   "cell_type": "markdown",
   "id": "f1174930-2732-479a-86a4-766420a20d8e",
   "metadata": {},
   "source": [
    "### Save the de-duped subset"
   ]
  },
  {
   "cell_type": "code",
   "execution_count": 10,
   "id": "8467ed1b-0d72-4a66-b57a-45f56da65cf9",
   "metadata": {},
   "outputs": [
    {
     "data": {
      "text/plain": [
       "(7811839, 35)"
      ]
     },
     "execution_count": 10,
     "metadata": {},
     "output_type": "execute_result"
    }
   ],
   "source": [
    "df[~bad].shape"
   ]
  },
  {
   "cell_type": "code",
   "execution_count": 11,
   "id": "188d0083-914c-4b21-a4c6-784a5740255d",
   "metadata": {},
   "outputs": [
    {
     "data": {
      "text/plain": [
       "(12117109, 35)"
      ]
     },
     "execution_count": 11,
     "metadata": {},
     "output_type": "execute_result"
    }
   ],
   "source": [
    "deduped = pd.concat([df[~bad], good])\n",
    "deduped.shape"
   ]
  },
  {
   "cell_type": "code",
   "execution_count": 12,
   "id": "220bd382-88e2-4f32-9946-6014279485be",
   "metadata": {},
   "outputs": [],
   "source": [
    "deduped.to_parquet(os.path.join(data_dir, 'wallets_successful_event.parquet'), compression='lz4')"
   ]
  },
  {
   "cell_type": "markdown",
   "id": "baf5ac0c-b8bb-4660-93ac-a837861b4519",
   "metadata": {
    "tags": []
   },
   "source": [
    "_N.b._ parquet format performs nearly as fast as feather and is commonly used in Databricks environment."
   ]
  },
  {
   "cell_type": "code",
   "execution_count": 13,
   "id": "5e5832fe-ead8-415b-b25f-5470fe516026",
   "metadata": {
    "tags": []
   },
   "outputs": [
    {
     "name": "stdout",
     "output_type": "stream",
     "text": [
      "parquet file size: 3.244157531298697\n"
     ]
    }
   ],
   "source": [
    "print('parquet file size:',\n",
    "      os.stat(os.path.join(data_dir, 'wallets_successful_event.parquet')).st_size / 1024**3)"
   ]
  },
  {
   "cell_type": "code",
   "execution_count": null,
   "id": "cfd50d30-1bcc-438a-bd25-a1a0452f62fb",
   "metadata": {},
   "outputs": [],
   "source": []
  }
 ],
 "metadata": {
  "interpreter": {
   "hash": "a2e2c9c8ba70ba32ce998cd76425027ed4ac02585ab022e2d9b85d1664cda574"
  },
  "kernelspec": {
   "display_name": "Python 3 (ipykernel)",
   "language": "python",
   "name": "python3"
  },
  "language_info": {
   "codemirror_mode": {
    "name": "ipython",
    "version": 3
   },
   "file_extension": ".py",
   "mimetype": "text/x-python",
   "name": "python",
   "nbconvert_exporter": "python",
   "pygments_lexer": "ipython3",
   "version": "3.9.12"
  },
  "toc-autonumbering": false,
  "toc-showcode": false,
  "toc-showmarkdowntxt": false,
  "toc-showtags": false
 },
 "nbformat": 4,
 "nbformat_minor": 5
}
