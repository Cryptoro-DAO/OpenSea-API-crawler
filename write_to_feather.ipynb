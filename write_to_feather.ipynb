{
 "cells": [
  {
   "cell_type": "markdown",
   "id": "4ad62163-2061-4067-af7e-f043a40a25ee",
   "metadata": {},
   "source": [
    "# Read XLSX and write to feather file format for faster subsequent read"
   ]
  },
  {
   "cell_type": "markdown",
   "id": "34704823-789d-48d8-a08a-7ce0f104423a",
   "metadata": {
    "tags": []
   },
   "source": [
    "__Motivation:__ Reading Excel files into pandas dataframe takes a long time.\n",
    "To speed up loading time for subsequent data processing and analysis,\n",
    "a faster method is to save the dataframe into feather format and\n",
    "read it for future sessions."
   ]
  },
  {
   "cell_type": "markdown",
   "id": "7c714f21-e7fb-4bd7-9321-9a63cd64c60e",
   "metadata": {},
   "source": [
    "## Read Excel files into pandas.DataFrame "
   ]
  },
  {
   "cell_type": "code",
   "execution_count": 6,
   "id": "ed2e1015-831e-4d0f-9c03-6815cc95d24d",
   "metadata": {
    "tags": []
   },
   "outputs": [],
   "source": [
    "import pandas as pd\n",
    "\n",
    "\n",
    "def read_combine(io):\n",
    "    \"\"\"\n",
    "    Read a list of Excel files and combine them into a panadas DataFrame\n",
    "    \n",
    "    Args:\n",
    "        io (list): list of fully qualified filenames\n",
    "        \n",
    "    Returns:\n",
    "        DataFrame\n",
    "    \"\"\"\n",
    "    \n",
    "    list_df = (pd.read_excel(each) for each in io)\n",
    "    return pd.concat(list_df)"
   ]
  },
  {
   "cell_type": "markdown",
   "id": "8ffe9659",
   "metadata": {},
   "source": [
    "Search directory non-recursively for filename patterns"
   ]
  },
  {
   "cell_type": "code",
   "execution_count": 11,
   "id": "d8515f92-32fc-4b88-8ee0-be20b01708bf",
   "metadata": {
    "tags": []
   },
   "outputs": [
    {
     "name": "stdout",
     "output_type": "stream",
     "text": [
      "['os_successful_events_A.xlsx', 'os_successful_events_B.xlsx']\n",
      "['coolcatsnft_A1.xlsx', 'coolcatsnft_A2.xlsx', 'coolcatsnft_A3.xlsx']\n"
     ]
    }
   ],
   "source": [
    "import os\n",
    "import re\n",
    "\n",
    "data_dir = os.path.join(os.getcwd(), 'data')\n",
    "cool_cats_nft_dir = os.path.join(data_dir, 'cool-cats-nft')\n",
    "\n",
    "successful_events = [x for x in os.listdir(data_dir) if re.search('^os_successful_events_[A-Z]\\.xlsx', x)]\n",
    "print(successful_events)\n",
    "coolcatsnft = [x for x in os.listdir(cool_cats_nft_dir) if re.search('^coolcatsnft_A\\d\\.xlsx', x)]\n",
    "print(coolcatsnft)"
   ]
  },
  {
   "cell_type": "markdown",
   "id": "9437cfd6",
   "metadata": {},
   "source": [
    "`successful_events`"
   ]
  },
  {
   "cell_type": "code",
   "execution_count": 7,
   "id": "7cbeb96c-e777-4df9-b9e8-8517e76b6f36",
   "metadata": {},
   "outputs": [
    {
     "name": "stdout",
     "output_type": "stream",
     "text": [
      "['c:\\\\Users\\\\lawrence\\\\GitHub\\\\OpenSea-API-crawler\\\\data\\\\os_successful_events_A.xlsx', 'c:\\\\Users\\\\lawrence\\\\GitHub\\\\OpenSea-API-crawler\\\\data\\\\os_successful_events_B.xlsx']\n",
      "total minutes to load: 17.273423171043397\n"
     ]
    }
   ],
   "source": [
    "import time\n",
    "\n",
    "files = [os.path.join(data_dir, x) for x in successful_events]\n",
    "start_time = time.time()\n",
    "successful_events = read_combine(files)\n",
    "total_time = time.time() - start_time\n",
    "print(\"total minutes to load:\", total_time / 60)"
   ]
  },
  {
   "cell_type": "code",
   "execution_count": null,
   "id": "95b15b28-4a97-41ce-974b-52f4309f45ed",
   "metadata": {},
   "outputs": [
    {
     "name": "stdout",
     "output_type": "stream",
     "text": [
      "<class 'pandas.core.frame.DataFrame'>\n",
      "Int64Index: 2399422 entries, 0 to 399421\n",
      "Data columns (total 32 columns):\n",
      " #   Column                  Non-Null Count    Dtype  \n",
      "---  ------                  --------------    -----  \n",
      " 0   Unnamed: 0              2399422 non-null  int64  \n",
      " 1   Unnamed: 1              2399422 non-null  int64  \n",
      " 2   event_timestamp         2398450 non-null  object \n",
      " 3   event_type              2398450 non-null  object \n",
      " 4   token_id                2382796 non-null  object \n",
      " 5   num_sales               2382796 non-null  float64\n",
      " 6   listing_time            2268796 non-null  object \n",
      " 7   token_owner_address     2382796 non-null  object \n",
      " 8   token_seller_address    2395806 non-null  object \n",
      " 9   deal_price              2398450 non-null  float64\n",
      " 10  payment_token_symbol    2398411 non-null  object \n",
      " 11  payment_token_decimals  2398445 non-null  float64\n",
      " 12  payment_token_usdprice  2397937 non-null  float64\n",
      " 13  quantity                2394188 non-null  object \n",
      " 14  starting_price          0 non-null        float64\n",
      " 15  ending_price            0 non-null        float64\n",
      " 16  approved_account        0 non-null        float64\n",
      " 17  asset_bundle            15675 non-null    object \n",
      " 18  auction_type            28121 non-null    object \n",
      " 19  bid_amount              0 non-null        float64\n",
      " 20  transaction_hash        2398450 non-null  object \n",
      " 21  block_hash              2398330 non-null  object \n",
      " 22  block_number            2398330 non-null  float64\n",
      " 23  is_private              2268796 non-null  float64\n",
      " 24  duration                0 non-null        float64\n",
      " 25  created_date            2398450 non-null  object \n",
      " 26  collection_slug         2397913 non-null  object \n",
      " 27  contract_address        2398425 non-null  object \n",
      " 28  wallet_address_input    2399422 non-null  object \n",
      " 29  pages                   2399422 non-null  int64  \n",
      " 30  msg                     2399422 non-null  object \n",
      " 31  FILTER                  0 non-null        float64\n",
      "dtypes: float64(12), int64(3), object(17)\n",
      "memory usage: 604.1+ MB\n"
     ]
    }
   ],
   "source": [
    "successful_events.info(show_counts=True)"
   ]
  },
  {
   "cell_type": "markdown",
   "id": "6cd2c7aa",
   "metadata": {},
   "source": [
    "`coolcatsnft`"
   ]
  },
  {
   "cell_type": "code",
   "execution_count": null,
   "id": "7cbeb96c-e777-4df9-b9e8-8517e76b6f36",
   "metadata": {},
   "outputs": [
    {
     "name": "stdout",
     "output_type": "stream",
     "text": [
      "total minutes to load: 22.441298762957256\n"
     ]
    }
   ],
   "source": [
    "import time\n",
    "\n",
    "files = [os.path.join(cool_cats_nft_dir, x) for x in coolcatsnft]\n",
    "start_time = time.time()\n",
    "coolcatsnft = read_combine(files)\n",
    "total_time = time.time() - start_time\n",
    "print(\"total minutes to load:\", total_time / 60)"
   ]
  },
  {
   "cell_type": "code",
   "execution_count": 4,
   "id": "95b15b28-4a97-41ce-974b-52f4309f45ed",
   "metadata": {},
   "outputs": [
    {
     "name": "stdout",
     "output_type": "stream",
     "text": [
      "<class 'pandas.core.frame.DataFrame'>\n",
      "Int64Index: 2399422 entries, 0 to 399421\n",
      "Data columns (total 32 columns):\n",
      " #   Column                  Non-Null Count    Dtype  \n",
      "---  ------                  --------------    -----  \n",
      " 0   Unnamed: 0              2399422 non-null  int64  \n",
      " 1   Unnamed: 1              2399422 non-null  int64  \n",
      " 2   event_timestamp         2398450 non-null  object \n",
      " 3   event_type              2398450 non-null  object \n",
      " 4   token_id                2382796 non-null  object \n",
      " 5   num_sales               2382796 non-null  float64\n",
      " 6   listing_time            2268796 non-null  object \n",
      " 7   token_owner_address     2382796 non-null  object \n",
      " 8   token_seller_address    2395806 non-null  object \n",
      " 9   deal_price              2398450 non-null  float64\n",
      " 10  payment_token_symbol    2398411 non-null  object \n",
      " 11  payment_token_decimals  2398445 non-null  float64\n",
      " 12  payment_token_usdprice  2397937 non-null  float64\n",
      " 13  quantity                2394188 non-null  object \n",
      " 14  starting_price          0 non-null        float64\n",
      " 15  ending_price            0 non-null        float64\n",
      " 16  approved_account        0 non-null        float64\n",
      " 17  asset_bundle            15675 non-null    object \n",
      " 18  auction_type            28121 non-null    object \n",
      " 19  bid_amount              0 non-null        float64\n",
      " 20  transaction_hash        2398450 non-null  object \n",
      " 21  block_hash              2398330 non-null  object \n",
      " 22  block_number            2398330 non-null  float64\n",
      " 23  is_private              2268796 non-null  float64\n",
      " 24  duration                0 non-null        float64\n",
      " 25  created_date            2398450 non-null  object \n",
      " 26  collection_slug         2397913 non-null  object \n",
      " 27  contract_address        2398425 non-null  object \n",
      " 28  wallet_address_input    2399422 non-null  object \n",
      " 29  pages                   2399422 non-null  int64  \n",
      " 30  msg                     2399422 non-null  object \n",
      " 31  FILTER                  0 non-null        float64\n",
      "dtypes: float64(12), int64(3), object(17)\n",
      "memory usage: 604.1+ MB\n"
     ]
    }
   ],
   "source": [
    "coolcatsnft.info(show_counts=True)"
   ]
  },
  {
   "cell_type": "code",
   "execution_count": 5,
   "id": "fa85e884-4fb4-4cff-8601-58539c0d01e0",
   "metadata": {},
   "outputs": [],
   "source": [
    "coolcatsnft = coolcatsnft[coolcatsnft.msg == \"success\"]\n",
    "coolcatsnft.drop([\"Unnamed: 0\", \"Unnamed: 1\", \"msg\", \"FILTER\"], axis=1, inplace=True)"
   ]
  },
  {
   "cell_type": "code",
   "execution_count": 6,
   "id": "a4db87a1-6994-4f23-959d-99f568f3cabd",
   "metadata": {},
   "outputs": [],
   "source": [
    "coolcatsnft.event_timestamp = pd.to_datetime(coolcatsnft.event_timestamp)\n",
    "coolcatsnft.listing_time = pd.to_datetime(coolcatsnft.listing_time)\n",
    "coolcatsnft.quantity = pd.to_numeric(coolcatsnft.quantity, errors='coerce')"
   ]
  },
  {
   "cell_type": "markdown",
   "id": "d762c845-6290-4e6e-a28a-c7bc4ae811d0",
   "metadata": {
    "tags": []
   },
   "source": [
    "## Write `DataFrame` to feather format and read it"
   ]
  },
  {
   "cell_type": "code",
   "execution_count": 7,
   "id": "73f40b0c-eeab-43f2-b7c4-ce3f30fc9f6d",
   "metadata": {
    "tags": []
   },
   "outputs": [
    {
     "name": "stdout",
     "output_type": "stream",
     "text": [
      "total minutes to write feather file: 0.12054988543192545\n"
     ]
    }
   ],
   "source": [
    "start_time = time.time()\n",
    "df=coolcatsnft.reset_index()\n",
    "df.to_feather(os.path.join(data_dir, 'cool-cats-nft.feather'))\n",
    "total_time = time.time() - start_time\n",
    "print(\"total minutes to write feather file:\", total_time / 60)"
   ]
  },
  {
   "cell_type": "code",
   "execution_count": 8,
   "id": "f078804f-6644-4d62-8ffe-928c3116cfc8",
   "metadata": {},
   "outputs": [
    {
     "name": "stdout",
     "output_type": "stream",
     "text": [
      "total minutes to load feather file: 0.13761663834253948\n"
     ]
    }
   ],
   "source": [
    "start_time = time.time()\n",
    "df = pd.read_feather(os.path.join(data_dir, 'cool-cats-nft.feather'))\n",
    "total_time = time.time() - start_time\n",
    "print(\"total minutes to load feather file:\", total_time / 60)"
   ]
  },
  {
   "cell_type": "code",
   "execution_count": 9,
   "id": "3278dc6c-2378-46e7-95c3-75a45fe9ac29",
   "metadata": {},
   "outputs": [
    {
     "name": "stdout",
     "output_type": "stream",
     "text": [
      "<class 'pandas.core.frame.DataFrame'>\n",
      "RangeIndex: 2398450 entries, 0 to 2398449\n",
      "Data columns (total 29 columns):\n",
      " #   Column                  Dtype  \n",
      "---  ------                  -----  \n",
      " 0   index                   int64  \n",
      " 1   event_timestamp         object \n",
      " 2   event_type              object \n",
      " 3   token_id                object \n",
      " 4   num_sales               float64\n",
      " 5   listing_time            object \n",
      " 6   token_owner_address     object \n",
      " 7   token_seller_address    object \n",
      " 8   deal_price              float64\n",
      " 9   payment_token_symbol    object \n",
      " 10  payment_token_decimals  float64\n",
      " 11  payment_token_usdprice  float64\n",
      " 12  quantity                float64\n",
      " 13  starting_price          float64\n",
      " 14  ending_price            float64\n",
      " 15  approved_account        float64\n",
      " 16  asset_bundle            object \n",
      " 17  auction_type            object \n",
      " 18  bid_amount              float64\n",
      " 19  transaction_hash        object \n",
      " 20  block_hash              object \n",
      " 21  block_number            float64\n",
      " 22  is_private              float64\n",
      " 23  duration                float64\n",
      " 24  created_date            object \n",
      " 25  collection_slug         object \n",
      " 26  contract_address        object \n",
      " 27  wallet_address_input    object \n",
      " 28  pages                   int64  \n",
      "dtypes: float64(12), int64(2), object(15)\n",
      "memory usage: 530.7+ MB\n"
     ]
    }
   ],
   "source": [
    "df.info()"
   ]
  }
 ],
 "metadata": {
  "interpreter": {
   "hash": "a2e2c9c8ba70ba32ce998cd76425027ed4ac02585ab022e2d9b85d1664cda574"
  },
  "kernelspec": {
   "display_name": "Python 3.9.12 ('Blockchain')",
   "language": "python",
   "name": "python3"
  },
  "language_info": {
   "codemirror_mode": {
    "name": "ipython",
    "version": 3
   },
   "file_extension": ".py",
   "mimetype": "text/x-python",
   "name": "python",
   "nbconvert_exporter": "python",
   "pygments_lexer": "ipython3",
   "version": "3.9.12"
  },
  "toc-autonumbering": false,
  "toc-showcode": false,
  "toc-showmarkdowntxt": false,
  "toc-showtags": false
 },
 "nbformat": 4,
 "nbformat_minor": 5
}
