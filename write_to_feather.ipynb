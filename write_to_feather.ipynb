{
 "cells": [
  {
   "cell_type": "markdown",
   "id": "4ad62163-2061-4067-af7e-f043a40a25ee",
   "metadata": {},
   "source": [
    "# Read XLSX and write to feather file format for faster subsequent read"
   ]
  },
  {
   "cell_type": "markdown",
   "id": "34704823-789d-48d8-a08a-7ce0f104423a",
   "metadata": {
    "tags": []
   },
   "source": [
    "__Motivation:__ Reading large Excel files into pandas dataframe takes a long time.\n",
    "To speed up loading time for subsequent data processing and analysis,\n",
    "a faster method is to save the dataframe into binary file format like feather or\n",
    "parquet to read for future sessions."
   ]
  },
  {
   "cell_type": "markdown",
   "id": "7c714f21-e7fb-4bd7-9321-9a63cd64c60e",
   "metadata": {},
   "source": [
    "## Read Excel files into pandas.DataFrame "
   ]
  },
  {
   "cell_type": "code",
   "execution_count": null,
   "id": "7c90efe8-50f2-494d-8381-16e19cfd4470",
   "metadata": {},
   "outputs": [],
   "source": [
    "import os\n",
    "import re\n",
    "import pandas as pd\n",
    "\n",
    "\n",
    "def read_combine(io):\n",
    "    \"\"\"\n",
    "    Read a list of Excel files and combine them into a panadas DataFrame\n",
    "    \n",
    "    Args:\n",
    "        io (list): list of fully qualified filenames\n",
    "        \n",
    "    Returns:\n",
    "        DataFrame\n",
    "    \"\"\"\n",
    "    list_df = []\n",
    "    for each in io:\n",
    "        # print(\"...reading\", os.path.basename(each)) \n",
    "        df = pd.read_excel(each)\n",
    "        df[\"filename\"] = os.path.basename(each)\n",
    "        list_df.append(df)\n",
    "    \n",
    "    return pd.concat(list_df)\n",
    "\n",
    "\n",
    "def get_abspath(path, pattern):\n",
    "    \"\"\"\n",
    "    Search directory non-recursively for filename by name patterns\n",
    "    \n",
    "    Parameters\n",
    "    ----------\n",
    "    path : \n",
    "    patthern : \n",
    "\n",
    "    Returns\n",
    "    -------\n",
    "    a list of absolute path, use os.path.basename to get the filename\n",
    "    \"\"\"\n",
    "    return [os.path.join(path, x) for x in os.listdir(path) if re.search(pattern, x)]\n",
    "\n",
    "\n",
    "def print_filesize(abspath):\n",
    "    df=pd.DataFrame({'filename': [os.path.basename(x) for x in abspath],\n",
    "                     'size': [os.stat(x).st_size for x in abspath]}) \\\n",
    "        .set_index('filename')\n",
    "    print(df)\n",
    "\n",
    "data_dir = os.path.join(os.getcwd(), 'data')"
   ]
  },
  {
   "cell_type": "markdown",
   "id": "9437cfd6",
   "metadata": {},
   "source": [
    "`successful_events`"
   ]
  },
  {
   "cell_type": "raw",
   "id": "fa3b3701-eceb-4a1a-834f-5e5a2586c4a6",
   "metadata": {
    "jupyter": {
     "source_hidden": true
    },
    "tags": []
   },
   "source": [
    "%%timeit -r 1 -n 1 \n",
    "\n",
    "# for debugging\n",
    "debug_dir = os.path.join(data_dir, 'test')\n",
    "debug_fn = get_abspath(debug_dir, '\\.xlsx$')\n",
    "print_filesize(debug_fn)\n",
    "debug = read_combine(debug_fn)\n",
    "debug.info()"
   ]
  },
  {
   "cell_type": "code",
   "execution_count": null,
   "id": "7cbeb96c-e777-4df9-b9e8-8517e76b6f36",
   "metadata": {
    "tags": []
   },
   "outputs": [],
   "source": [
    "%%timeit -r 1 -n 1 \n",
    "successful_events_fn = get_abspath(data_dir, '^os_successful_events_[A-Z]\\.xlsx')\n",
    "print_filesize(successful_events_fn)\n",
    "\n",
    "successful_events = read_combine(successful_events_fn)"
   ]
  },
  {
   "cell_type": "code",
   "execution_count": null,
   "id": "95b15b28-4a97-41ce-974b-52f4309f45ed",
   "metadata": {},
   "outputs": [],
   "source": [
    "successful_events.info(show_counts=True)"
   ]
  },
  {
   "cell_type": "code",
   "execution_count": null,
   "id": "9c52ec47",
   "metadata": {},
   "outputs": [],
   "source": [
    "successful_events.drop([\"Unnamed: 0\"], axis=1, inplace=True)"
   ]
  },
  {
   "cell_type": "code",
   "execution_count": null,
   "id": "a4db87a1-6994-4f23-959d-99f568f3cabd",
   "metadata": {},
   "outputs": [],
   "source": [
    "successful_events.event_timestamp = pd.to_datetime(successful_events.event_timestamp)\n",
    "successful_events.listing_time = pd.to_datetime(successful_events.listing_time)\n",
    "successful_events.quantity = pd.to_numeric(successful_events.quantity, errors='coerce')"
   ]
  },
  {
   "cell_type": "markdown",
   "id": "6cd2c7aa",
   "metadata": {},
   "source": [
    "`coolcatsnft`"
   ]
  },
  {
   "cell_type": "code",
   "execution_count": null,
   "id": "1c8b9769",
   "metadata": {},
   "outputs": [],
   "source": [
    "%%timeit -r 1 -n 1\n",
    "\n",
    "cool_cats_nft_dir = os.path.join(data_dir, 'cool-cats-nft')\n",
    "coolcatsnft_fn = get_abspath(cool_cats_nft_dir, '^coolcatsnft_A\\d\\.xlsx')\n",
    "print_filesize(coolcatsnft_fn)\n",
    "\n",
    "coolcatsnft = read_combine(coolcatsnft_fn)"
   ]
  },
  {
   "cell_type": "code",
   "execution_count": null,
   "id": "35724447",
   "metadata": {},
   "outputs": [],
   "source": [
    "coolcatsnft.info(show_counts=True)"
   ]
  },
  {
   "cell_type": "code",
   "execution_count": null,
   "id": "fa85e884-4fb4-4cff-8601-58539c0d01e0",
   "metadata": {},
   "outputs": [],
   "source": [
    "coolcatsnft = coolcatsnft[coolcatsnft.msg == \"success\"]\n",
    "coolcatsnft.drop([\"Unnamed: 0\", \"Unnamed: 1\", \"msg\", \"FILTER\"], axis=1, inplace=True)"
   ]
  },
  {
   "cell_type": "code",
   "execution_count": null,
   "id": "d16daee6",
   "metadata": {},
   "outputs": [],
   "source": [
    "coolcatsnft.event_timestamp = pd.to_datetime(coolcatsnft.event_timestamp)\n",
    "coolcatsnft.listing_time = pd.to_datetime(coolcatsnft.listing_time)\n",
    "coolcatsnft.quantity = pd.to_numeric(coolcatsnft.quantity, errors='coerce')"
   ]
  },
  {
   "cell_type": "markdown",
   "id": "c6b049ad-e0e7-4c22-8803-0127be718049",
   "metadata": {},
   "source": [
    "`wallets_successful_events`"
   ]
  },
  {
   "cell_type": "code",
   "execution_count": null,
   "id": "f8cfa249-011d-48a2-a2d3-abb560688a89",
   "metadata": {},
   "outputs": [],
   "source": [
    "%%timeit -r 1 -n 1\n",
    "\n",
    "wallets_successful_event_dir = os.path.join(data_dir, 'wallets successful event')\n",
    "wallets_successful_event_fn = get_abspath(wallets_successful_event_dir, '\\.xlsx$')\n",
    "print_filesize(wallets_successful_event_fn)\n",
    "wallets_successful_event = read_combine(wallets_successful_event_fn)"
   ]
  },
  {
   "cell_type": "markdown",
   "id": "d762c845-6290-4e6e-a28a-c7bc4ae811d0",
   "metadata": {
    "tags": []
   },
   "source": [
    "## Write `DataFrame` to feather format and read it"
   ]
  },
  {
   "cell_type": "markdown",
   "id": "57940161",
   "metadata": {},
   "source": [
    "`successful_events`"
   ]
  },
  {
   "cell_type": "code",
   "execution_count": null,
   "id": "6ba2b244",
   "metadata": {},
   "outputs": [],
   "source": [
    "start_time = time.time()\n",
    "df=successful_events.reset_index()\n",
    "df.to_feather(os.path.join(data_dir, 'os_successful_events.feather'))\n",
    "total_time = time.time() - start_time\n",
    "print(\"total minutes to write feather file:\", total_time / 60)"
   ]
  },
  {
   "cell_type": "code",
   "execution_count": null,
   "id": "f078804f-6644-4d62-8ffe-928c3116cfc8",
   "metadata": {},
   "outputs": [],
   "source": [
    "start_time = time.time()\n",
    "df = pd.read_feather(os.path.join(data_dir, 'os_successful_events.feather'))\n",
    "total_time = time.time() - start_time\n",
    "print(\"total minutes to load feather file:\", total_time / 60)"
   ]
  },
  {
   "cell_type": "code",
   "execution_count": null,
   "id": "477f163e",
   "metadata": {},
   "outputs": [],
   "source": [
    "df.info()"
   ]
  },
  {
   "cell_type": "markdown",
   "id": "d434dab2",
   "metadata": {},
   "source": [
    "`coolcatsnft`"
   ]
  },
  {
   "cell_type": "code",
   "execution_count": null,
   "id": "73f40b0c-eeab-43f2-b7c4-ce3f30fc9f6d",
   "metadata": {
    "tags": []
   },
   "outputs": [],
   "source": [
    "start_time = time.time()\n",
    "df=coolcatsnft.reset_index()\n",
    "df.to_feather(os.path.join(data_dir, 'cool-cats-nft.feather'))\n",
    "total_time = time.time() - start_time\n",
    "print(\"total minutes to write feather file:\", total_time / 60)"
   ]
  },
  {
   "cell_type": "code",
   "execution_count": null,
   "id": "e3a66c61",
   "metadata": {},
   "outputs": [],
   "source": [
    "start_time = time.time()\n",
    "df = pd.read_feather(os.path.join(data_dir, 'cool-cats-nft.feather'))\n",
    "total_time = time.time() - start_time\n",
    "print(\"total minutes to load feather file:\", total_time / 60)"
   ]
  },
  {
   "cell_type": "code",
   "execution_count": null,
   "id": "3278dc6c-2378-46e7-95c3-75a45fe9ac29",
   "metadata": {},
   "outputs": [],
   "source": [
    "df.info()"
   ]
  },
  {
   "cell_type": "markdown",
   "id": "2347290d",
   "metadata": {
    "tags": []
   },
   "source": [
    "## Write `DataFrame` to parquet format and read it (WIP)"
   ]
  },
  {
   "cell_type": "markdown",
   "id": "7609ce79",
   "metadata": {},
   "source": []
  }
 ],
 "metadata": {
  "interpreter": {
   "hash": "a2e2c9c8ba70ba32ce998cd76425027ed4ac02585ab022e2d9b85d1664cda574"
  },
  "kernelspec": {
   "display_name": "Python 3 (ipykernel)",
   "language": "python",
   "name": "python3"
  },
  "language_info": {
   "codemirror_mode": {
    "name": "ipython",
    "version": 3
   },
   "file_extension": ".py",
   "mimetype": "text/x-python",
   "name": "python",
   "nbconvert_exporter": "python",
   "pygments_lexer": "ipython3",
   "version": "3.9.12"
  },
  "toc-autonumbering": false,
  "toc-showcode": false,
  "toc-showmarkdowntxt": false,
  "toc-showtags": false
 },
 "nbformat": 4,
 "nbformat_minor": 5
}
