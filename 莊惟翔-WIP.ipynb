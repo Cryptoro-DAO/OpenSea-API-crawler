{
 "cells": [
  {
   "cell_type": "markdown",
   "id": "f356b044-6cc1-422b-bf34-413454bc990a",
   "metadata": {
    "jp-MarkdownHeadingCollapsed": true,
    "tags": []
   },
   "source": [
    "## 莊惟翔 WIP\n",
    "\n",
    "1. 限定數量為一(不算bundle) 2022/6/09\n",
    "\n",
    "2. 將錢包地址分組\n",
    "\n",
    "3. 暫時給定任一個錢包地址來進行以下特徵計算 (最後再用迴圈串起來)\n",
    "\n",
    "_*Note to Fred:*_ 'quantity' has already been converted to float during the initial data load."
   ]
  },
  {
   "cell_type": "raw",
   "id": "7bcf4903",
   "metadata": {},
   "source": [
    "#2022/6/09\n",
    "df_temp2 = wallets.drop(columns=[\"payment_token_usdprice\", \"asset_bundle\",\"auction_type\",\"transaction_hash\", \\\n",
    "                       \"block_hash\",\"block_number\",\"is_private\",\"duration\"])\n",
    "\n",
    "#限定數量為一(不算bundle) 2022/6/09\n",
    "df_temp2 = df_temp2[df_temp2['quantity'] == 1]\n",
    "#將錢包地址分組\n",
    "sectors = df_temp2.groupby(\"wallet_address_input\")\n",
    "\n",
    "#暫時給定任一個錢包地址來進行以下特徵計算 (最後再用迴圈串起來)\n",
    "df_temp3 = sectors.get_group(\"0x5338035c008ea8c4b850052bc8dad6a33dc2206c\")\n",
    "df_temp3.reset_index(drop = True, inplace=True)\n",
    "df_temp3.info()"
   ]
  },
  {
   "cell_type": "raw",
   "id": "b2dda3bd",
   "metadata": {
    "tags": []
   },
   "source": [
    "#買入價格，給定以太鏈。Eth = deal_price/(10**18)\n",
    "#df_temp3[\"cost\"] = np.where(df_temp3[\"wallet_address_input\"][0]==df_temp3[\"token_seller_address\"], 0,df_temp3[\"deal_price\"]/10**18)\n",
    "df_temp3[\"cost\"] = np.where(df_temp3[\"wallet_address_input\"]==df_temp3[\"token_seller_address\"], 0, df_temp3[\"deal_price\"])\n",
    "#賣出價格\n",
    "#df_temp3[\"sellprice\"] = np.where(df_temp3[\"wallet_address_input\"][0]==df_temp3[\"token_seller_address\"], df_temp3[\"deal_price\"]/10**18, 0)\n",
    "df_temp3[\"sellprice\"] = np.where(df_temp3[\"wallet_address_input\"]==df_temp3[\"token_seller_address\"], df_temp3[\"deal_price\"], 0)\n",
    "\n",
    "## cost and sellprice probably aren't necessary since it can be infer from 'Buy_Sell' created below\n",
    "## a deal_price_usd is recommended\n",
    "\n",
    "#日期轉換\n",
    "df_temp3[\"Datetime\"] = pd.to_datetime(df_temp3[\"event_timestamp\"]) # this can be stored in event_timestamp instead of a new column\n",
    "#買賣戳記\n",
    "# Consider overwriting event_type column\n",
    "df_temp3[\"Buy_Sell\"] = np.where(df_temp3[\"wallet_address_input\"]==df_temp3[\"token_seller_address\"], \"S\", 'B')\n",
    "#投資組合(庫存) << what do we plan to store here?\n",
    "df_temp3[\"Profolio\"] = np.NaN\n",
    "#損益 << Profit? How do we plan to calculate this for each row of event?\n",
    "df_temp3[\"PL\"] = 0\n",
    "#token持有數量 << \n",
    "df_temp3[\"NFT_total_num\"] = 0\n",
    "#用collection_slug和tokenid組一個獨立欄位，用以紀錄錢包所持有的token\n",
    "df_temp3[\"collection_slug_tokenid\"] = df_temp3[\"collection_slug\"] + df_temp3[\"token_id\"]\n",
    "#token從二級買進到賣出所持有的時間\n",
    "df_temp3[\"HoldPeriod\"] = np.NaN\n",
    "df_temp3[\"Position\"] = 0\n",
    "df_temp3[\"Sell\"] = 0"
   ]
  },
  {
   "cell_type": "markdown",
   "id": "885459e1-dd71-4e3c-ada8-3f25ec13d883",
   "metadata": {
    "tags": []
   },
   "source": [
    "Is the code block below attempting to calculate the _current cumulative stat_ of each wallet?"
   ]
  },
  {
   "cell_type": "raw",
   "id": "eaf2f781",
   "metadata": {
    "tags": []
   },
   "source": [
    "porfolio_dict = {}#紀錄持有的NFT集合\n",
    "porfolio_costdict = {}#紀錄買入成本\n",
    "porfolio_datedict = {}#紀錄買入時間\n",
    "count = 0\n",
    "error = []\n",
    "#資料時間是從新到舊，計算時要倒序，從舊到新去累計上來。\n",
    "for i in range(len(df_temp3)-1,-1,-1):\n",
    "    #初次買進NFT項目\n",
    "    if df_temp3[\"collection_slug\"][i] not in porfolio_dict.keys():\n",
    "        if df_temp3[\"Buy_Sell\"][i]==\"B\":\n",
    "            #庫存加一\n",
    "            count = count+1\n",
    "            porfolio_dict[df_temp3[\"collection_slug\"][i]] = [df_temp3[\"token_id\"][i]]\n",
    "            df_temp3.loc[i, \"Profolio\"] = [porfolio_dict]\n",
    "            df_temp3.loc[i, \"NFT_total_num\"] = count\n",
    "            #NFT成本\n",
    "            porfolio_costdict[df_temp3[\"collection_slug_tokenid\"][i]] = df_temp3[\"cost\"][i]\n",
    "            #NFT買進時間\n",
    "            porfolio_datedict[df_temp3[\"collection_slug_tokenid\"][i]] = df_temp3[\"Datetime\"][i]\n",
    "            #position\n",
    "            df_temp3.loc[i, \"Position\"] = sum(porfolio_costdict.values())\n",
    "            \n",
    "        else:\n",
    "            #賣出代表過去有可能發生來自於其他錢包轉移，但無法計算到先前持有的成本。\n",
    "            df_temp3.loc[i, \"NFT_total_num\"] = count\n",
    "            df_temp3.loc[i, \"Position\"] = sum(porfolio_costdict.values())\n",
    "    else:\n",
    "        #手上持有此項目的NFT\n",
    "        if df_temp3[\"token_id\"][i] not in porfolio_dict[df_temp3[\"collection_slug\"][i]]:\n",
    "            if df_temp3[\"Buy_Sell\"][i]==\"B\":\n",
    "                #買進加碼\n",
    "                porfolio_dict[df_temp3[\"collection_slug\"][i]].append(df_temp3[\"token_id\"][i])\n",
    "                df_temp3.loc[i, \"Profolio\"] = [porfolio_dict]\n",
    "                #庫存加一\n",
    "                count = count+1\n",
    "                df_temp3.loc[i, \"NFT_total_num\"] = count\n",
    "                #NFT成本\n",
    "                porfolio_costdict[df_temp3[\"collection_slug_tokenid\"][i]] = df_temp3[\"cost\"][i]\n",
    "                #NFT買進時間\n",
    "                porfolio_datedict[df_temp3[\"collection_slug_tokenid\"][i]] = df_temp3[\"Datetime\"][i]\n",
    "                #position\n",
    "                df_temp3.loc[i, \"Position\"] = sum(porfolio_costdict.values())\n",
    "                \n",
    "            else:\n",
    "                #賣出。有可能發生來自於其他錢包轉移，但無法計算到先前持有的成本。\n",
    "                df_temp3.loc[i, \"NFT_total_num\"] = count\n",
    "                df_temp3.loc[i, \"Profolio\"] = [porfolio_dict]\n",
    "                df_temp3.loc[i, \"Position\"] = sum(porfolio_costdict.values())\n",
    "        else:\n",
    "            if df_temp3[\"Buy_Sell\"][i]==\"B\":\n",
    "                #不可能發生，因為tokenid是唯一的?\n",
    "                df_temp3.loc[i, \"NFT_total_num\"] = count\n",
    "                df_temp3.loc[i, \"Profolio\"] = [porfolio_dict]\n",
    "                df_temp3.loc[i, \"Position\"] = sum(porfolio_costdict.values())\n",
    "            else:\n",
    "                #損益發生點，完成一次買入跟賣出\n",
    "                #庫存減一\n",
    "                count = count-1\n",
    "                df_temp3.loc[i, \"NFT_total_num\"] = count\n",
    "                #將token從porfolio移除\n",
    "                porfolio_dict[df_temp3[\"collection_slug\"][i]].remove(df_temp3[\"token_id\"][i])\n",
    "                df_temp3.loc[i, \"Profolio\"] = [porfolio_dict]\n",
    "                if df_temp3[\"collection_slug_tokenid\"][i] in porfolio_costdict.keys():\n",
    "                    profit = df_temp3[\"sellprice\"][i] - porfolio_costdict[df_temp3[\"collection_slug_tokenid\"][i]]\n",
    "                    df_temp3.loc[i, \"PL\"] =  profit        \n",
    "                    #丟棄key and value因為賣出了\n",
    "                    porfolio_costdict.pop(df_temp3[\"collection_slug_tokenid\"][i])\n",
    "                    df_temp3.loc[i, \"Position\"] = sum(porfolio_costdict.values())\n",
    "                    #TOKEN從買入到賣出持有間隔時間\n",
    "                    date_substrate = df_temp3[\"Datetime\"][i] - porfolio_datedict[df_temp3[\"collection_slug_tokenid\"][i]]\n",
    "                    df_temp3.loc[i, \"HoldPeriod\"] =  date_substrate\n",
    "                    #賣出戳記\n",
    "                    df_temp3.loc[i, \"Sell\"] =  1\n",
    "                    \n",
    "                else:\n",
    "                    #通常不會到這裡\n",
    "                    error.append([df_temp3[\"wallet_address_input\"][0],df_temp3[\"collection_slug_tokenid\"][i]])\n",
    "                    df_temp3.loc[i, \"Profolio\"] = [porfolio_dict]\n",
    "                    df_temp3.loc[i, \"Position\"] = sum(porfolio_costdict.values())"
   ]
  },
  {
   "cell_type": "raw",
   "id": "3c9f667d",
   "metadata": {
    "tags": []
   },
   "source": [
    "#損益為正\n",
    "def positive_SIGN(row):\n",
    "    if row['PL_sign'] == 1:\n",
    "        return 1\n",
    "    return 0\n",
    "\n",
    "#損益為負\n",
    "def negative_SIGN(row):\n",
    "    if row['PL_sign'] == -1 :\n",
    "        return 1\n",
    "    return 0"
   ]
  },
  {
   "cell_type": "raw",
   "id": "9803a1e5",
   "metadata": {
    "tags": []
   },
   "source": [
    "#累計損益是在一個錢包裡完成完整的買進賣出動作所累計的。\n",
    "df_temp3['cum_PL'] = df_temp3.loc[::-1, 'PL'].cumsum()[::-1]\n",
    "#總利潤\n",
    "df_temp3['TotalRevenue'] = df_temp3['cum_PL'] - df_temp3[\"Position\"]\n",
    "#損益正負符號\n",
    "df_temp3[\"PL_sign\"] = np.sign(list(df_temp3[\"PL\"].values))\n",
    "#累計賣出數量\n",
    "df_temp3[\"cum_Sell\"] = df_temp3.loc[::-1, 'Sell'].cumsum()[::-1]\n",
    "#損益為正做記號\n",
    "df_temp3[\"positive_sign\"] = df_temp3.apply(lambda row: positive_SIGN(row), axis=1)\n",
    "#損益為負做記號\n",
    "df_temp3[\"negative_sign\"] = df_temp3.apply(lambda row: negative_SIGN(row), axis=1)\n",
    "#累積正損益數\n",
    "df_temp3[\"cum_positive_sign\"] = df_temp3.loc[::-1, 'positive_sign'].cumsum()[::-1]\n",
    "#累積負損益數\n",
    "df_temp3[\"cum_negative_sign\"] = df_temp3.loc[::-1, 'negative_sign'].cumsum()[::-1]\n",
    "#勝率\n",
    "df_temp3[\"winrate\"] = df_temp3[\"cum_positive_sign\"] / df_temp3['cum_Sell']\n",
    "#輸錢率\n",
    "df_temp3[\"lossrate\"] = df_temp3[\"cum_negative_sign\"] / df_temp3['cum_Sell']\n",
    "#用0填補缺值\n",
    "df_temp3[\"winrate\"] = df_temp3[\"winrate\"].fillna(0)\n",
    "df_temp3[\"lossrate\"] = df_temp3[\"lossrate\"].fillna(0)\n",
    "#接受問價而賣出做紀號\n",
    "df_temp3[\"Bid_sell\"] = np.where((df_temp3[\"payment_token_symbol\"]==\"WETH\")&(df_temp3[\"Buy_Sell\"]==\"S\"), 1,0)\n",
    "#透過問價而買入做紀號\n",
    "df_temp3[\"Bid_buy\"] = np.where((df_temp3[\"payment_token_symbol\"]==\"WETH\")&(df_temp3[\"Buy_Sell\"]==\"B\"), 1,0)\n",
    "#累計問價買入數\n",
    "df_temp3[\"cum_Bid_buy\"] = df_temp3.loc[::-1, 'Bid_buy'].cumsum()[::-1]\n",
    "#累計接受問價賣出數\n",
    "df_temp3[\"cum_Bid_sell\"] = df_temp3.loc[::-1, 'Bid_sell'].cumsum()[::-1]\n",
    "\n",
    "#勝率(透過問價而買入&接受問價而賣出)前者代表很會釣魚，後者代表失去信心或是無法抵抗高價誘惑\n",
    "df_temp3[\"Bid_sell_rate\"] = df_temp3[\"cum_Bid_sell\"] / df_temp3[\"cum_Sell\"]\n",
    "df_temp3[\"Bid_sell_rate\"] = df_temp3[\"Bid_sell_rate\"].fillna(0)\n",
    "df_temp3[\"Bid_buy_rate\"] = df_temp3[\"cum_Bid_buy\"] / df_temp3[\"NFT_total_num\"]\n",
    "df_temp3[\"Bid_buy_rate\"] = df_temp3[\"Bid_buy_rate\"].fillna(0) #2022/06/09\n",
    "#TOKEN賣出數/手上TOKEN持有數\n",
    "df_temp3[\"sellposition_rate\"] = df_temp3[\"cum_Sell\"]/df_temp3[\"NFT_total_num\"]"
   ]
  },
  {
   "cell_type": "raw",
   "id": "3815ed16-eb45-4d36-93cb-2c0fea3c6dbe",
   "metadata": {
    "tags": []
   },
   "source": [
    "df_temp3.describe().loc[\"mean\"]"
   ]
  },
  {
   "cell_type": "raw",
   "id": "96d8d77a",
   "metadata": {},
   "source": []
  }
 ],
 "metadata": {
  "kernelspec": {
   "display_name": "Python 3.9.12 ('Blockchain')",
   "language": "python",
   "name": "python3"
  },
  "language_info": {
   "name": "python",
   "version": "3.9.12"
  },
  "orig_nbformat": 4,
  "vscode": {
   "interpreter": {
    "hash": "a2e2c9c8ba70ba32ce998cd76425027ed4ac02585ab022e2d9b85d1664cda574"
   }
  }
 },
 "nbformat": 4,
 "nbformat_minor": 2
}
