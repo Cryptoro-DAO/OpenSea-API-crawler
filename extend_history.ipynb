{
 "cells": [
  {
   "cell_type": "markdown",
   "id": "41919d19-528f-4d70-acca-1b94a8ef2a6d",
   "metadata": {},
   "source": [
    "# Retrieving More Asset Event History via Previous or Next Cursor"
   ]
  },
  {
   "cell_type": "code",
   "execution_count": null,
   "id": "19251769-3df1-4ddd-a7df-6813d529d4d9",
   "metadata": {},
   "outputs": [],
   "source": [
    "import os\n",
    "import re\n",
    "import json\n",
    "import pandas as pd\n",
    "\n",
    "\n",
    "data_dir = os.path.join(os.getcwd(), 'data', 'asset_events', 't')\n",
    "# get full paths to directories; excluding files\n",
    "addr_dir = (os.path.join(data_dir, each_subdir) for each_subdir in os.listdir(data_dir))\n",
    "addr_dir = (e for e in addr_dir if os.path.isdir(e))"
   ]
  },
  {
   "cell_type": "code",
   "execution_count": null,
   "id": "5cfb8612-f980-4cd8-9957-ffc6d6992c74",
   "metadata": {},
   "outputs": [],
   "source": [
    "asset_contracts = os.listdir(data_dir)\n",
    "asset_contracts"
   ]
  },
  {
   "cell_type": "code",
   "execution_count": null,
   "id": "e9c9d517-fddd-485e-b631-c1df2160a25b",
   "metadata": {},
   "outputs": [],
   "source": [
    "lst = []\n",
    "for each_dir in addr_dir:\n",
    "    ix = sorted([int(each_json[:-5]) for each_json in os.listdir(each_dir) if re.search('\\.json', each_json)])\n",
    "    fn = [os.path.join(each_dir, f'{i}.json') for i in ix]\n",
    "\n",
    "    # with open(fn[-1], 'r') as fr:\n",
    "    #     # tail must have a previous, if not go to the one before\n",
    "    #     tail_1 = json.load(fr)\n",
    "    #     prv, nxt = retrieve_cursors(tail_1)\n",
    "    #     print('{}, previous{}, next:{}'.format('tail_1', prv, nxt))\n",
    "    # with open(fn[0], 'r') as fr:\n",
    "    #     head = json.load(fr)\n",
    "    #     print('{},previous:{},next:{}'.format('head', head['previous'], head['next']))\n",
    "\n",
    "    # checking for cursor anomaly: should only be 1 previous == None and 1 next == None if the list is complete\n",
    "    for each_fn in fn:\n",
    "        with open(each_fn, 'r') as fr:\n",
    "            events = json.load(fr)\n",
    "            prv, nxt = events['previous'], events['next']\n",
    "            lst.append({'previous': prv, 'next': nxt, 'fn': os.path.basename(each_fn), 'addr': os.path.basename(each_dir)})\n",
    "\n",
    "df = pd.DataFrame(lst)"
   ]
  },
  {
   "cell_type": "code",
   "execution_count": null,
   "id": "0cf3fba2-7472-4b4e-b8c9-a0ec11350dd7",
   "metadata": {},
   "outputs": [],
   "source": [
    "fn = os.path.join(data_dir, '0x60E4d786628Fea6478F785A6d7e704777c86a7c6', '1.json')\n",
    "with open(fn, 'r') as fr:\n",
    "    events = json.load(fr)"
   ]
  },
  {
   "cell_type": "code",
   "execution_count": null,
   "id": "d4671409-a5b8-4524-aee5-aa701ee01884",
   "metadata": {},
   "outputs": [],
   "source": [
    "prv, nxt, addr = events['previous'], events['next'], '0x60E4d786628Fea6478F785A6d7e704777c86a7c6'"
   ]
  },
  {
   "cell_type": "code",
   "execution_count": null,
   "id": "ac38456c-470f-4223-8ce7-05237c875d0a",
   "metadata": {},
   "outputs": [],
   "source": [
    "print(f'previous:{prv}, next:{nxt}, address:{addr}')"
   ]
  },
  {
   "cell_type": "code",
   "execution_count": null,
   "id": "39bb7230-ce17-4a7e-a73b-226e0686f56d",
   "metadata": {},
   "outputs": [],
   "source": [
    "fn = os.path.join(data_dir, '0x60E4d786628Fea6478F785A6d7e704777c86a7c6', '14567.json')\n",
    "with open(fn, 'r') as fr:\n",
    "    events = json.load(fr)\n",
    "prv, nxt, addr = events['previous'], events['next'], '0x60E4d786628Fea6478F785A6d7e704777c86a7c6'\n",
    "print(f'previous:{prv}, next:{nxt}, address:{addr}')"
   ]
  },
  {
   "cell_type": "code",
   "execution_count": null,
   "id": "5199985c-9ad6-4d1b-be02-7361c3c8e351",
   "metadata": {},
   "outputs": [],
   "source": [
    "fn = os.path.join(data_dir, '0x60E4d786628Fea6478F785A6d7e704777c86a7c6', '14566.json')\n",
    "with open(fn, 'r') as fr:\n",
    "    events = json.load(fr)\n",
    "prv, nxt, addr = events['previous'], events['next'], '0x60E4d786628Fea6478F785A6d7e704777c86a7c6'\n",
    "print(f'previous:{prv}, next:{nxt}, address:{addr}')"
   ]
  },
  {
   "cell_type": "code",
   "execution_count": null,
   "id": "f5d37aa9-358f-4ec0-980a-c8f809710287",
   "metadata": {},
   "outputs": [],
   "source": [
    "# read API keys from file\n",
    "# each line in file is a key value pair separated by `=`\n",
    "#   key=key_value\n",
    "secrets = {}\n",
    "with open(os.path.join(os.getcwd(), 'OpenSea.key')) as f:\n",
    "    for line in f:\n",
    "        (k, v) = line.rstrip().split('=')\n",
    "        secrets[k] = v\n",
    "    api_key1 = secrets['api_key1']\n",
    "    api_key2 = secrets['api_key2']"
   ]
  },
  {
   "cell_type": "code",
   "execution_count": null,
   "id": "21fef535-a6ae-44b4-988f-fe8bcdf9f856",
   "metadata": {},
   "outputs": [],
   "source": [
    "fn = os.path.join(data_dir, '0x60E4d786628Fea6478F785A6d7e704777c86a7c6', '14565.json')\n",
    "with open(fn, 'r') as fr:\n",
    "    events = json.load(fr)\n",
    "prv, nxt, addr = events['previous'], events['next'], '0x60E4d786628Fea6478F785A6d7e704777c86a7c6'\n",
    "print(f'previous:{prv}, next:{nxt}, address:{addr}')"
   ]
  },
  {
   "cell_type": "code",
   "execution_count": null,
   "id": "94f902b0-77e9-4001-bda8-8d1dfbf54ae7",
   "metadata": {
    "tags": []
   },
   "outputs": [],
   "source": [
    "events['asset_events'][0]['id']"
   ]
  },
  {
   "cell_type": "code",
   "execution_count": null,
   "id": "d6039828-60e2-437a-8cda-80dd6d603333",
   "metadata": {},
   "outputs": [],
   "source": [
    "import data_crawler as crawler"
   ]
  },
  {
   "cell_type": "code",
   "execution_count": null,
   "id": "06e4edbe-763f-4017-9cd3-c6a3abfcfa32",
   "metadata": {},
   "outputs": [],
   "source": [
    "rspn = crawler.retrieve_events(api_key1, asset_contract_address=addr, cursor=nxt)"
   ]
  },
  {
   "cell_type": "code",
   "execution_count": null,
   "id": "88617b81-e0c5-475c-9f3f-4db5fb4bfad5",
   "metadata": {
    "tags": []
   },
   "outputs": [],
   "source": [
    "rspn.json()['asset_events'][0]['id']"
   ]
  },
  {
   "cell_type": "code",
   "execution_count": null,
   "id": "719d42a6-ea10-4dd7-9e22-a26fce80c435",
   "metadata": {
    "tags": []
   },
   "outputs": [],
   "source": [
    "fn = os.path.join(data_dir, '0x60E4d786628Fea6478F785A6d7e704777c86a7c6', '14566.json')\n",
    "with open(fn, 'r') as fr:\n",
    "    events = json.load(fr)\n",
    "prv, nxt, addr = events['previous'], events['next'], '0x60E4d786628Fea6478F785A6d7e704777c86a7c6'\n",
    "print(f'previous:{prv}, next:{nxt}, address:{addr}')"
   ]
  },
  {
   "cell_type": "code",
   "execution_count": null,
   "id": "746bde46-eb89-444c-af7e-86d3a09bf080",
   "metadata": {
    "tags": []
   },
   "outputs": [],
   "source": [
    "events['asset_events'][0]['id']"
   ]
  },
  {
   "cell_type": "code",
   "execution_count": null,
   "id": "90a7e03a-faea-49d0-91d4-736cd2c9a5ce",
   "metadata": {
    "tags": []
   },
   "outputs": [],
   "source": [
    "rspn = crawler.retrieve_events(api_key1, asset_contract_address=addr, cursor=nxt)"
   ]
  },
  {
   "cell_type": "code",
   "execution_count": null,
   "id": "1dc54819-e603-4adf-b23b-11d5bebdfada",
   "metadata": {
    "tags": []
   },
   "outputs": [],
   "source": [
    "rspn.json()['asset_events'][0]['id']"
   ]
  },
  {
   "cell_type": "code",
   "execution_count": null,
   "id": "f697eede-7e89-4734-b17c-d73be11b51cf",
   "metadata": {},
   "outputs": [],
   "source": [
    "fn = os.path.join(data_dir, '0x60E4d786628Fea6478F785A6d7e704777c86a7c6', '14567.json')\n",
    "with open(fn, 'r') as fr:\n",
    "    events = json.load(fr)\n",
    "prv, nxt, addr = events['previous'], events['next'], '0x60E4d786628Fea6478F785A6d7e704777c86a7c6'\n",
    "print(f'previous:{prv}, next:{nxt}, address:{addr}')"
   ]
  },
  {
   "cell_type": "code",
   "execution_count": null,
   "id": "4a0fc806-8def-4567-9197-402575df0976",
   "metadata": {},
   "outputs": [],
   "source": [
    "events['asset_events'][4]['id']"
   ]
  },
  {
   "cell_type": "code",
   "execution_count": null,
   "id": "dbdfafd8-0c46-4fa3-b5ce-b5f33e84305c",
   "metadata": {},
   "outputs": [],
   "source": [
    "fn = os.path.join(data_dir, '0x60E4d786628Fea6478F785A6d7e704777c86a7c6', '1.json')\n",
    "with open(fn, 'r') as fr:\n",
    "    events = json.load(fr)\n",
    "prv, nxt, addr = events['previous'], events['next'], '0x60E4d786628Fea6478F785A6d7e704777c86a7c6'\n",
    "print(f'previous:{prv}, next:{nxt}, address:{addr}')"
   ]
  },
  {
   "cell_type": "code",
   "execution_count": null,
   "id": "b55b1b12-1c51-4e96-987c-6a1aba2cac30",
   "metadata": {
    "tags": []
   },
   "outputs": [],
   "source": [
    "events['asset_events'][0]['id']"
   ]
  },
  {
   "cell_type": "code",
   "execution_count": null,
   "id": "6a3bfdd9-4a0b-46c6-a79f-f0d47f4a38db",
   "metadata": {},
   "outputs": [],
   "source": [
    "fn = os.path.join(data_dir, '0x60E4d786628Fea6478F785A6d7e704777c86a7c6', '2.json')\n",
    "with open(fn, 'r') as fr:\n",
    "    events = json.load(fr)\n",
    "prv, nxt, addr = events['previous'], events['next'], '0x60E4d786628Fea6478F785A6d7e704777c86a7c6'\n",
    "print(f'previous:{prv}, next:{nxt}, address:{addr}')"
   ]
  },
  {
   "cell_type": "code",
   "execution_count": null,
   "id": "d39ea8f8-366f-4744-9a2f-3a9f9c068b91",
   "metadata": {
    "tags": []
   },
   "outputs": [],
   "source": [
    "events['asset_events'][0]['id']"
   ]
  },
  {
   "cell_type": "code",
   "execution_count": null,
   "id": "7b12fe0c-4b81-42b0-8c31-a2ad15e2fefc",
   "metadata": {
    "tags": []
   },
   "outputs": [],
   "source": [
    "rspn = crawler.retrieve_events(api_key1, asset_contract_address=addr, cursor=prv, limit='100')\n",
    "rspn.json()['asset_events'][0]['id']"
   ]
  },
  {
   "cell_type": "code",
   "execution_count": null,
   "id": "06a1d4ae-3bf3-4436-a145-f35eb9431bc3",
   "metadata": {},
   "outputs": [],
   "source": [
    "evt = rspn.json()\n",
    "\n",
    "prv, nxt = evt['previous'], evt['next']"
   ]
  },
  {
   "cell_type": "code",
   "execution_count": null,
   "id": "6a7ba533-3955-415a-b2bb-93303095b30f",
   "metadata": {},
   "outputs": [],
   "source": [
    "prv, nxt"
   ]
  },
  {
   "cell_type": "code",
   "execution_count": null,
   "id": "1506b01b-baf3-4f61-a98b-75ac0e0ac4e8",
   "metadata": {},
   "outputs": [],
   "source": [
    "rspn = crawler.retrieve_events(api_key1, asset_contract_address=addr, cursor=prv, limit='100')\n",
    "rspn.json()['asset_events'][0]['id']"
   ]
  },
  {
   "cell_type": "code",
   "execution_count": null,
   "id": "14fa55f0-c880-4a3f-8311-0f909fa86546",
   "metadata": {},
   "outputs": [],
   "source": [
    "evt = rspn.json()\n",
    "\n",
    "prv, nxt = evt['previous'], evt['next']"
   ]
  },
  {
   "cell_type": "code",
   "execution_count": null,
   "id": "6e0c2541-9552-466f-8bfb-00c8356c1386",
   "metadata": {},
   "outputs": [],
   "source": [
    "rspn = crawler.retrieve_events(api_key1, asset_contract_address=addr, cursor=prv, limit='100')\n",
    "rspn.json()['asset_events'][0]['id']"
   ]
  },
  {
   "cell_type": "code",
   "execution_count": null,
   "id": "87f37523-b7a5-423a-9d34-e7838df353c3",
   "metadata": {},
   "outputs": [],
   "source": [
    "x = [i for i in range(10)]"
   ]
  },
  {
   "cell_type": "code",
   "execution_count": null,
   "id": "eaa64be5-8ff5-4ec5-903e-69e50a08a8ee",
   "metadata": {},
   "outputs": [],
   "source": [
    "x[2:-5]"
   ]
  },
  {
   "cell_type": "code",
   "execution_count": null,
   "id": "a5646b39-8e67-489a-8e8a-23f8f2ee7e64",
   "metadata": {},
   "outputs": [],
   "source": [
    "len(evt['asset_events'])"
   ]
  },
  {
   "cell_type": "code",
   "execution_count": null,
   "id": "2f7f2525-5fe7-46ea-9741-032d627c653b",
   "metadata": {},
   "outputs": [],
   "source": []
  }
 ],
 "metadata": {
  "kernelspec": {
   "display_name": "Python 3 (ipykernel)",
   "language": "python",
   "name": "python3"
  },
  "language_info": {
   "codemirror_mode": {
    "name": "ipython",
    "version": 3
   },
   "file_extension": ".py",
   "mimetype": "text/x-python",
   "name": "python",
   "nbconvert_exporter": "python",
   "pygments_lexer": "ipython3",
   "version": "3.9.12"
  }
 },
 "nbformat": 4,
 "nbformat_minor": 5
}
